{
 "cells": [
  {
   "cell_type": "markdown",
   "metadata": {},
   "source": [
    "# Phillip Tan: k-NN Strikes Back!"
   ]
  },
  {
   "cell_type": "code",
   "execution_count": 1,
   "metadata": {
    "collapsed": true
   },
   "outputs": [],
   "source": [
    "#habitual imports\n",
    "from __future__ import print_function, division\n",
    "import pandas as pd\n",
    "import numpy as np\n",
    "\n",
    "pd.set_option('display.max_columns', None) \n",
    "pd.set_option('display.max_rows', 25) \n",
    "pd.set_option('display.precision', 3) "
   ]
  },
  {
   "cell_type": "code",
   "execution_count": 2,
   "metadata": {
    "collapsed": true
   },
   "outputs": [],
   "source": [
    "import matplotlib.pyplot as plt\n",
    "%matplotlib inline\n",
    "import seaborn as sns\n",
    "plt.style.use('fivethirtyeight')"
   ]
  },
  {
   "cell_type": "code",
   "execution_count": 3,
   "metadata": {
    "collapsed": true
   },
   "outputs": [],
   "source": [
    "import time\n",
    "from datetime import datetime as dt"
   ]
  },
  {
   "cell_type": "markdown",
   "metadata": {},
   "source": [
    "## Data gathering"
   ]
  },
  {
   "cell_type": "code",
   "execution_count": 4,
   "metadata": {
    "collapsed": true
   },
   "outputs": [],
   "source": [
    "df = pd.read_csv('data.csv')"
   ]
  },
  {
   "cell_type": "code",
   "execution_count": 5,
   "metadata": {
    "collapsed": false
   },
   "outputs": [
    {
     "name": "stdout",
     "output_type": "stream",
     "text": [
      "<class 'pandas.core.frame.DataFrame'>\n",
      "RangeIndex: 88042 entries, 0 to 88041\n",
      "Data columns (total 4 columns):\n",
      "latitude       88042 non-null float64\n",
      "longitude      88042 non-null float64\n",
      "close_date     88042 non-null object\n",
      "close_price    88042 non-null float64\n",
      "dtypes: float64(3), object(1)\n",
      "memory usage: 2.7+ MB\n"
     ]
    }
   ],
   "source": [
    "df.info()"
   ]
  },
  {
   "cell_type": "code",
   "execution_count": 6,
   "metadata": {
    "collapsed": false
   },
   "outputs": [
    {
     "data": {
      "text/html": [
       "<div>\n",
       "<table border=\"1\" class=\"dataframe\">\n",
       "  <thead>\n",
       "    <tr style=\"text-align: right;\">\n",
       "      <th></th>\n",
       "      <th>latitude</th>\n",
       "      <th>longitude</th>\n",
       "      <th>close_date</th>\n",
       "      <th>close_price</th>\n",
       "    </tr>\n",
       "  </thead>\n",
       "  <tbody>\n",
       "    <tr>\n",
       "      <th>0</th>\n",
       "      <td>1.502</td>\n",
       "      <td>86.351</td>\n",
       "      <td>2014-08-16 22:25:31.925431</td>\n",
       "      <td>1.302e+06</td>\n",
       "    </tr>\n",
       "    <tr>\n",
       "      <th>1</th>\n",
       "      <td>36.367</td>\n",
       "      <td>-98.664</td>\n",
       "      <td>2014-08-05 06:34:00.165876</td>\n",
       "      <td>1.475e+05</td>\n",
       "    </tr>\n",
       "    <tr>\n",
       "      <th>2</th>\n",
       "      <td>36.599</td>\n",
       "      <td>-97.925</td>\n",
       "      <td>2014-08-12 23:48:00.887510</td>\n",
       "      <td>1.374e+05</td>\n",
       "    </tr>\n",
       "    <tr>\n",
       "      <th>3</th>\n",
       "      <td>67.995</td>\n",
       "      <td>64.689</td>\n",
       "      <td>2014-08-17 05:27:01.404296</td>\n",
       "      <td>-1.411e+04</td>\n",
       "    </tr>\n",
       "    <tr>\n",
       "      <th>4</th>\n",
       "      <td>36.648</td>\n",
       "      <td>-97.866</td>\n",
       "      <td>2014-08-09 04:00:40.358242</td>\n",
       "      <td>2.391e+05</td>\n",
       "    </tr>\n",
       "  </tbody>\n",
       "</table>\n",
       "</div>"
      ],
      "text/plain": [
       "   latitude  longitude                  close_date  close_price\n",
       "0     1.502     86.351  2014-08-16 22:25:31.925431    1.302e+06\n",
       "1    36.367    -98.664  2014-08-05 06:34:00.165876    1.475e+05\n",
       "2    36.599    -97.925  2014-08-12 23:48:00.887510    1.374e+05\n",
       "3    67.995     64.689  2014-08-17 05:27:01.404296   -1.411e+04\n",
       "4    36.648    -97.866  2014-08-09 04:00:40.358242    2.391e+05"
      ]
     },
     "execution_count": 6,
     "metadata": {},
     "output_type": "execute_result"
    }
   ],
   "source": [
    "df.head()"
   ]
  },
  {
   "cell_type": "code",
   "execution_count": 7,
   "metadata": {
    "collapsed": true
   },
   "outputs": [],
   "source": [
    "df['close_date'] = pd.to_datetime(df.close_date, format='%Y-%m-%d %H:%M:%S') "
   ]
  },
  {
   "cell_type": "code",
   "execution_count": 8,
   "metadata": {
    "collapsed": false,
    "scrolled": true
   },
   "outputs": [
    {
     "name": "stdout",
     "output_type": "stream",
     "text": [
      "<class 'pandas.core.frame.DataFrame'>\n",
      "RangeIndex: 88042 entries, 0 to 88041\n",
      "Data columns (total 4 columns):\n",
      "latitude       88042 non-null float64\n",
      "longitude      88042 non-null float64\n",
      "close_date     88042 non-null datetime64[ns]\n",
      "close_price    88042 non-null float64\n",
      "dtypes: datetime64[ns](1), float64(3)\n",
      "memory usage: 2.7 MB\n"
     ]
    }
   ],
   "source": [
    "df.info() #sanity check"
   ]
  },
  {
   "cell_type": "markdown",
   "metadata": {},
   "source": [
    "## Explore the data"
   ]
  },
  {
   "cell_type": "code",
   "execution_count": 9,
   "metadata": {
    "collapsed": false
   },
   "outputs": [
    {
     "data": {
      "image/png": "[encoded data removed]",
      "text/plain": [
       "<matplotlib.figure.Figure at 0x1109dfc50>"
      ]
     },
     "metadata": {},
     "output_type": "display_data"
    }
   ],
   "source": [
    "plt.hist(df['close_price'])\n",
    "plt.title('Distribution of Raw Data')\n",
    "plt.xlabel('Closing Prices')\n",
    "plt.ylabel('frequency');\n",
    "\n",
    "#it's evident that there are some negative values.\n",
    "#most of the data falls within a given range\n",
    "#there's another subset of data away from the majority"
   ]
  },
  {
   "cell_type": "code",
   "execution_count": 10,
   "metadata": {
    "collapsed": false
   },
   "outputs": [
    {
     "name": "stdout",
     "output_type": "stream",
     "text": [
      "Total Datapoints: 88042\n",
      "Negative Close Prices: 2174\n",
      "Outlier Close Prices: 3197\n"
     ]
    }
   ],
   "source": [
    "print('Total Datapoints: ' + str(len(df)))\n",
    "print('Negative Close Prices: ' + str(len(df[df.close_price < 0])))\n",
    "print('Outlier Close Prices: ' + str(len(df[df.close_price > 1000000])))"
   ]
  },
  {
   "cell_type": "code",
   "execution_count": 11,
   "metadata": {
    "collapsed": true
   },
   "outputs": [],
   "source": [
    "cleaned_df = df[(df.close_price > 0) & (df.close_price < 1000000)].reset_index(drop=True)"
   ]
  },
  {
   "cell_type": "code",
   "execution_count": 12,
   "metadata": {
    "collapsed": false
   },
   "outputs": [
    {
     "name": "stdout",
     "output_type": "stream",
     "text": [
      "Total Usable Datapoints: 82671\n"
     ]
    }
   ],
   "source": [
    "print('Total Usable Datapoints: ' + str(len(cleaned_df)))"
   ]
  },
  {
   "cell_type": "code",
   "execution_count": 13,
   "metadata": {
    "collapsed": false
   },
   "outputs": [
    {
     "data": {
      "text/html": [
       "<div>\n",
       "<table border=\"1\" class=\"dataframe\">\n",
       "  <thead>\n",
       "    <tr style=\"text-align: right;\">\n",
       "      <th></th>\n",
       "      <th>latitude</th>\n",
       "      <th>longitude</th>\n",
       "      <th>close_date</th>\n",
       "      <th>close_price</th>\n",
       "    </tr>\n",
       "  </thead>\n",
       "  <tbody>\n",
       "    <tr>\n",
       "      <th>82666</th>\n",
       "      <td>36.705</td>\n",
       "      <td>-98.158</td>\n",
       "      <td>2015-08-26 16:32:40.090264</td>\n",
       "      <td>242780.987</td>\n",
       "    </tr>\n",
       "    <tr>\n",
       "      <th>82667</th>\n",
       "      <td>36.212</td>\n",
       "      <td>-98.059</td>\n",
       "      <td>2014-09-16 10:56:59.521584</td>\n",
       "      <td>29364.461</td>\n",
       "    </tr>\n",
       "    <tr>\n",
       "      <th>82668</th>\n",
       "      <td>36.393</td>\n",
       "      <td>-98.629</td>\n",
       "      <td>2014-08-13 00:18:38.736704</td>\n",
       "      <td>193464.551</td>\n",
       "    </tr>\n",
       "    <tr>\n",
       "      <th>82669</th>\n",
       "      <td>36.499</td>\n",
       "      <td>-97.882</td>\n",
       "      <td>2015-02-21 15:48:06.541742</td>\n",
       "      <td>237266.003</td>\n",
       "    </tr>\n",
       "    <tr>\n",
       "      <th>82670</th>\n",
       "      <td>36.131</td>\n",
       "      <td>-98.223</td>\n",
       "      <td>2015-01-05 18:41:34.073452</td>\n",
       "      <td>168470.365</td>\n",
       "    </tr>\n",
       "  </tbody>\n",
       "</table>\n",
       "</div>"
      ],
      "text/plain": [
       "       latitude  longitude                 close_date  close_price\n",
       "82666    36.705    -98.158 2015-08-26 16:32:40.090264   242780.987\n",
       "82667    36.212    -98.059 2014-09-16 10:56:59.521584    29364.461\n",
       "82668    36.393    -98.629 2014-08-13 00:18:38.736704   193464.551\n",
       "82669    36.499    -97.882 2015-02-21 15:48:06.541742   237266.003\n",
       "82670    36.131    -98.223 2015-01-05 18:41:34.073452   168470.365"
      ]
     },
     "execution_count": 13,
     "metadata": {},
     "output_type": "execute_result"
    }
   ],
   "source": [
    "cleaned_df.tail()"
   ]
  },
  {
   "cell_type": "code",
   "execution_count": 14,
   "metadata": {
    "collapsed": false
   },
   "outputs": [
    {
     "data": {
      "image/png": "[encoded data removed]",
      "text/plain": [
       "<matplotlib.figure.Figure at 0x111e7ed90>"
      ]
     },
     "metadata": {},
     "output_type": "display_data"
    }
   ],
   "source": [
    "plt.hist(cleaned_df.close_price)\n",
    "plt.title('Distribution of Cleaned Data')\n",
    "plt.xlabel('Closing Prices')\n",
    "plt.ylabel('frequency');"
   ]
  },
  {
   "cell_type": "code",
   "execution_count": 15,
   "metadata": {
    "collapsed": false,
    "scrolled": false
   },
   "outputs": [],
   "source": [
    "#sort by datetime so we can choose the newest homes as our testing set.\n",
    "dataframe = cleaned_df.sort_values(by='close_date').reset_index(drop=True)"
   ]
  },
  {
   "cell_type": "code",
   "execution_count": 16,
   "metadata": {
    "collapsed": false
   },
   "outputs": [
    {
     "data": {
      "text/html": [
       "<div>\n",
       "<table border=\"1\" class=\"dataframe\">\n",
       "  <thead>\n",
       "    <tr style=\"text-align: right;\">\n",
       "      <th></th>\n",
       "      <th>latitude</th>\n",
       "      <th>longitude</th>\n",
       "      <th>close_date</th>\n",
       "      <th>close_price</th>\n",
       "    </tr>\n",
       "  </thead>\n",
       "  <tbody>\n",
       "    <tr>\n",
       "      <th>0</th>\n",
       "      <td>36.162</td>\n",
       "      <td>-98.123</td>\n",
       "      <td>2013-12-31 04:47:10.005660</td>\n",
       "      <td>56935.085</td>\n",
       "    </tr>\n",
       "    <tr>\n",
       "      <th>1</th>\n",
       "      <td>36.482</td>\n",
       "      <td>-98.051</td>\n",
       "      <td>2014-01-01 01:58:30.098593</td>\n",
       "      <td>481654.393</td>\n",
       "    </tr>\n",
       "    <tr>\n",
       "      <th>2</th>\n",
       "      <td>36.278</td>\n",
       "      <td>-98.958</td>\n",
       "      <td>2014-01-04 01:13:42.187433</td>\n",
       "      <td>169432.247</td>\n",
       "    </tr>\n",
       "    <tr>\n",
       "      <th>3</th>\n",
       "      <td>-86.328</td>\n",
       "      <td>139.709</td>\n",
       "      <td>2014-01-05 13:29:17.311107</td>\n",
       "      <td>261704.565</td>\n",
       "    </tr>\n",
       "    <tr>\n",
       "      <th>4</th>\n",
       "      <td>36.727</td>\n",
       "      <td>-98.415</td>\n",
       "      <td>2014-01-05 20:11:02.713740</td>\n",
       "      <td>130798.555</td>\n",
       "    </tr>\n",
       "  </tbody>\n",
       "</table>\n",
       "</div>"
      ],
      "text/plain": [
       "   latitude  longitude                 close_date  close_price\n",
       "0    36.162    -98.123 2013-12-31 04:47:10.005660    56935.085\n",
       "1    36.482    -98.051 2014-01-01 01:58:30.098593   481654.393\n",
       "2    36.278    -98.958 2014-01-04 01:13:42.187433   169432.247\n",
       "3   -86.328    139.709 2014-01-05 13:29:17.311107   261704.565\n",
       "4    36.727    -98.415 2014-01-05 20:11:02.713740   130798.555"
      ]
     },
     "execution_count": 16,
     "metadata": {},
     "output_type": "execute_result"
    }
   ],
   "source": [
    "dataframe.head()"
   ]
  },
  {
   "cell_type": "code",
   "execution_count": 17,
   "metadata": {
    "collapsed": false
   },
   "outputs": [
    {
     "data": {
      "text/html": [
       "<div>\n",
       "<table border=\"1\" class=\"dataframe\">\n",
       "  <thead>\n",
       "    <tr style=\"text-align: right;\">\n",
       "      <th></th>\n",
       "      <th>latitude</th>\n",
       "      <th>longitude</th>\n",
       "      <th>close_date</th>\n",
       "      <th>close_price</th>\n",
       "    </tr>\n",
       "  </thead>\n",
       "  <tbody>\n",
       "    <tr>\n",
       "      <th>82666</th>\n",
       "      <td>36.691</td>\n",
       "      <td>-98.267</td>\n",
       "      <td>2015-12-31 13:52:56.792281</td>\n",
       "      <td>187080.636</td>\n",
       "    </tr>\n",
       "    <tr>\n",
       "      <th>82667</th>\n",
       "      <td>35.720</td>\n",
       "      <td>-99.479</td>\n",
       "      <td>2016-01-01 19:46:09.393633</td>\n",
       "      <td>76330.016</td>\n",
       "    </tr>\n",
       "    <tr>\n",
       "      <th>82668</th>\n",
       "      <td>36.373</td>\n",
       "      <td>-99.786</td>\n",
       "      <td>2016-01-01 23:18:10.342554</td>\n",
       "      <td>149902.445</td>\n",
       "    </tr>\n",
       "    <tr>\n",
       "      <th>82669</th>\n",
       "      <td>36.223</td>\n",
       "      <td>-98.407</td>\n",
       "      <td>2016-01-03 12:15:47.651509</td>\n",
       "      <td>117513.374</td>\n",
       "    </tr>\n",
       "    <tr>\n",
       "      <th>82670</th>\n",
       "      <td>35.939</td>\n",
       "      <td>-101.050</td>\n",
       "      <td>2016-01-05 21:09:11.879628</td>\n",
       "      <td>80348.212</td>\n",
       "    </tr>\n",
       "  </tbody>\n",
       "</table>\n",
       "</div>"
      ],
      "text/plain": [
       "       latitude  longitude                 close_date  close_price\n",
       "82666    36.691    -98.267 2015-12-31 13:52:56.792281   187080.636\n",
       "82667    35.720    -99.479 2016-01-01 19:46:09.393633    76330.016\n",
       "82668    36.373    -99.786 2016-01-01 23:18:10.342554   149902.445\n",
       "82669    36.223    -98.407 2016-01-03 12:15:47.651509   117513.374\n",
       "82670    35.939   -101.050 2016-01-05 21:09:11.879628    80348.212"
      ]
     },
     "execution_count": 17,
     "metadata": {},
     "output_type": "execute_result"
    }
   ],
   "source": [
    "dataframe.tail()"
   ]
  },
  {
   "cell_type": "code",
   "execution_count": 18,
   "metadata": {
    "collapsed": true
   },
   "outputs": [],
   "source": [
    "def data_prep(csv_file, lower_limit, upper_limit):\n",
    "    df = pd.read_csv(str(csv_file))\n",
    "    \n",
    "    df['close_date'] = pd.to_datetime(df.close_date, format='%Y-%m-%d %H:%M:%S') \n",
    "    \n",
    "    dataframe = df[(df.close_price > lower_limit) & \n",
    "                    (df.close_price < upper_limit)].sort_values(by='close_date').reset_index(drop=True)\n",
    "    \n",
    "    return dataframe"
   ]
  },
  {
   "cell_type": "code",
   "execution_count": 19,
   "metadata": {
    "collapsed": false
   },
   "outputs": [],
   "source": [
    "dataframe = data_prep('data.csv', 0, 1000000)"
   ]
  },
  {
   "cell_type": "markdown",
   "metadata": {},
   "source": [
    "# 1. Build a k-NN model for k=4 that avoids time leakage."
   ]
  },
  {
   "cell_type": "markdown",
   "metadata": {},
   "source": [
    "## Choose Testing Set"
   ]
  },
  {
   "cell_type": "code",
   "execution_count": 20,
   "metadata": {
    "collapsed": false
   },
   "outputs": [
    {
     "data": {
      "text/html": [
       "<div>\n",
       "<table border=\"1\" class=\"dataframe\">\n",
       "  <thead>\n",
       "    <tr style=\"text-align: right;\">\n",
       "      <th></th>\n",
       "      <th>latitude</th>\n",
       "      <th>longitude</th>\n",
       "      <th>close_date</th>\n",
       "      <th>close_price</th>\n",
       "    </tr>\n",
       "  </thead>\n",
       "  <tbody>\n",
       "    <tr>\n",
       "      <th>0</th>\n",
       "      <td>36.162</td>\n",
       "      <td>-98.123</td>\n",
       "      <td>2013-12-31 04:47:10.005660</td>\n",
       "      <td>56935.085</td>\n",
       "    </tr>\n",
       "    <tr>\n",
       "      <th>1</th>\n",
       "      <td>36.482</td>\n",
       "      <td>-98.051</td>\n",
       "      <td>2014-01-01 01:58:30.098593</td>\n",
       "      <td>481654.393</td>\n",
       "    </tr>\n",
       "    <tr>\n",
       "      <th>2</th>\n",
       "      <td>36.278</td>\n",
       "      <td>-98.958</td>\n",
       "      <td>2014-01-04 01:13:42.187433</td>\n",
       "      <td>169432.247</td>\n",
       "    </tr>\n",
       "    <tr>\n",
       "      <th>3</th>\n",
       "      <td>-86.328</td>\n",
       "      <td>139.709</td>\n",
       "      <td>2014-01-05 13:29:17.311107</td>\n",
       "      <td>261704.565</td>\n",
       "    </tr>\n",
       "    <tr>\n",
       "      <th>4</th>\n",
       "      <td>36.727</td>\n",
       "      <td>-98.415</td>\n",
       "      <td>2014-01-05 20:11:02.713740</td>\n",
       "      <td>130798.555</td>\n",
       "    </tr>\n",
       "  </tbody>\n",
       "</table>\n",
       "</div>"
      ],
      "text/plain": [
       "   latitude  longitude                 close_date  close_price\n",
       "0    36.162    -98.123 2013-12-31 04:47:10.005660    56935.085\n",
       "1    36.482    -98.051 2014-01-01 01:58:30.098593   481654.393\n",
       "2    36.278    -98.958 2014-01-04 01:13:42.187433   169432.247\n",
       "3   -86.328    139.709 2014-01-05 13:29:17.311107   261704.565\n",
       "4    36.727    -98.415 2014-01-05 20:11:02.713740   130798.555"
      ]
     },
     "execution_count": 20,
     "metadata": {},
     "output_type": "execute_result"
    }
   ],
   "source": [
    "dataframe.head()"
   ]
  },
  {
   "cell_type": "code",
   "execution_count": 21,
   "metadata": {
    "collapsed": true
   },
   "outputs": [],
   "source": [
    "def train_test_split(dataframe, validation_percent):\n",
    "    slicer = int(len(dataframe) - (len(dataframe) * validation_percent))\n",
    "    df_testing = dataframe.iloc[slicer:, :]\n",
    "    \n",
    "    return df_testing"
   ]
  },
  {
   "cell_type": "code",
   "execution_count": 22,
   "metadata": {
    "collapsed": false
   },
   "outputs": [
    {
     "data": {
      "text/plain": [
       "16535"
      ]
     },
     "execution_count": 22,
     "metadata": {},
     "output_type": "execute_result"
    }
   ],
   "source": [
    "df_testing = train_test_split(dataframe, 0.2)\n",
    "len(df_testing) #testing data points, top 20% newest homes"
   ]
  },
  {
   "cell_type": "code",
   "execution_count": 23,
   "metadata": {
    "collapsed": false,
    "scrolled": true
   },
   "outputs": [
    {
     "data": {
      "text/html": [
       "<div>\n",
       "<table border=\"1\" class=\"dataframe\">\n",
       "  <thead>\n",
       "    <tr style=\"text-align: right;\">\n",
       "      <th></th>\n",
       "      <th>latitude</th>\n",
       "      <th>longitude</th>\n",
       "      <th>close_date</th>\n",
       "      <th>close_price</th>\n",
       "    </tr>\n",
       "  </thead>\n",
       "  <tbody>\n",
       "    <tr>\n",
       "      <th>66136</th>\n",
       "      <td>36.011</td>\n",
       "      <td>-96.728</td>\n",
       "      <td>2014-12-13 17:30:27.291045</td>\n",
       "      <td>287987.778</td>\n",
       "    </tr>\n",
       "    <tr>\n",
       "      <th>66137</th>\n",
       "      <td>36.865</td>\n",
       "      <td>-97.928</td>\n",
       "      <td>2014-12-13 17:34:01.737388</td>\n",
       "      <td>403187.949</td>\n",
       "    </tr>\n",
       "    <tr>\n",
       "      <th>66138</th>\n",
       "      <td>36.063</td>\n",
       "      <td>-98.340</td>\n",
       "      <td>2014-12-13 17:39:02.285931</td>\n",
       "      <td>207511.590</td>\n",
       "    </tr>\n",
       "    <tr>\n",
       "      <th>66139</th>\n",
       "      <td>36.103</td>\n",
       "      <td>-98.129</td>\n",
       "      <td>2014-12-13 17:52:38.344365</td>\n",
       "      <td>202840.598</td>\n",
       "    </tr>\n",
       "    <tr>\n",
       "      <th>66140</th>\n",
       "      <td>35.928</td>\n",
       "      <td>-101.033</td>\n",
       "      <td>2014-12-13 17:58:06.167303</td>\n",
       "      <td>86282.363</td>\n",
       "    </tr>\n",
       "  </tbody>\n",
       "</table>\n",
       "</div>"
      ],
      "text/plain": [
       "       latitude  longitude                 close_date  close_price\n",
       "66136    36.011    -96.728 2014-12-13 17:30:27.291045   287987.778\n",
       "66137    36.865    -97.928 2014-12-13 17:34:01.737388   403187.949\n",
       "66138    36.063    -98.340 2014-12-13 17:39:02.285931   207511.590\n",
       "66139    36.103    -98.129 2014-12-13 17:52:38.344365   202840.598\n",
       "66140    35.928   -101.033 2014-12-13 17:58:06.167303    86282.363"
      ]
     },
     "execution_count": 23,
     "metadata": {},
     "output_type": "execute_result"
    }
   ],
   "source": [
    "df_testing.head()"
   ]
  },
  {
   "cell_type": "markdown",
   "metadata": {},
   "source": [
    "## \"Training Phase\""
   ]
  },
  {
   "cell_type": "code",
   "execution_count": 24,
   "metadata": {
    "collapsed": true
   },
   "outputs": [],
   "source": [
    "#helper function, to calculate distances of geo points\n",
    "#**Credit to Michael Dunn on stackoverflow: Haversine Formula in Python (Bearing and Distance between two GPS points)**\n",
    "\n",
    "def haversine(long1, lat1, long2, lat2):\n",
    "\n",
    "    long1, lat1, long2, lat2 = map(np.radians, [long1, lat1, long2, lat2])\n",
    "\n",
    "    d_long = long2 - long1\n",
    "    d_lat = lat2 - lat1\n",
    "\n",
    "    a = np.sin(d_lat/2.0)**2 + np.cos(lat1) * np.cos(lat2) * np.sin(d_long/2.0)**2\n",
    "\n",
    "    c = 2 * np.arcsin(np.sqrt(a))\n",
    "    km = 6367 * c \n",
    "    return km"
   ]
  },
  {
   "cell_type": "code",
   "execution_count": 25,
   "metadata": {
    "collapsed": false
   },
   "outputs": [
    {
     "name": "stdout",
     "output_type": "stream",
     "text": [
      "(66136, 36.010510000000011, -96.727649999999997, Timestamp('2014-12-13 17:30:27.291045'), 287987.77778772212)\n"
     ]
    }
   ],
   "source": [
    "#tester, show format for dataframe iterations\n",
    "for input_home in df_testing.itertuples(name=None):\n",
    "    print(input_home)\n",
    "    break"
   ]
  },
  {
   "cell_type": "code",
   "execution_count": 26,
   "metadata": {
    "collapsed": true
   },
   "outputs": [],
   "source": [
    "def find_nearest_neighbors(dataframe, df_testing, k):\n",
    "    index = 0\n",
    "    latitude = 1\n",
    "    longitude = 2\n",
    "    \n",
    "    neighbor_prices = []\n",
    "    neighbor_distances = []\n",
    "        \n",
    "    #iterate through testing set\n",
    "    for input_home in df_testing.itertuples(name=None): \n",
    "        \n",
    "        #find k-smallest_distances using haversine with every home prior to the input home\n",
    "        k_smallest_distances = (haversine(input_home[longitude], input_home[latitude], \n",
    "         dataframe[:input_home[index]]['longitude'], dataframe[:input_home[index]]['latitude'])\n",
    "                    ).sort_values().head(k)\n",
    "        \n",
    "        neighbor_distances.append(k_smallest_distances.values)\n",
    "        \n",
    "        #find corresponding prices to nearest neighbors\n",
    "        prices = []\n",
    "        for idx in k_smallest_distances.index:\n",
    "            prices.append(dataframe.iloc[idx]['close_price'])\n",
    "    \n",
    "        neighbor_prices.append(prices)\n",
    "    \n",
    "    #add price(s) and distance(s) columns of k-neighbors to the original df\n",
    "    updated_df = pd.concat([df_testing.reset_index(),\n",
    "                           pd.DataFrame(neighbor_prices, columns=['price_' + str(n) for n in xrange(1, k+1)]),\n",
    "                            pd.DataFrame(neighbor_distances, columns=['distance_' + str(n) for n in xrange(1, k+1)])], \n",
    "                          axis=1)\n",
    "    \n",
    "    return updated_df"
   ]
  },
  {
   "cell_type": "code",
   "execution_count": 27,
   "metadata": {
    "collapsed": false
   },
   "outputs": [
    {
     "name": "stdout",
     "output_type": "stream",
     "text": [
      "Runtime: 6.28701586723mins\n"
     ]
    }
   ],
   "source": [
    "start = time.time()\n",
    "updated_df = find_nearest_neighbors(dataframe, df_testing, 4)\n",
    "end = time.time()\n",
    "print('Runtime: ' + str((end - start)/60) + 'mins')"
   ]
  },
  {
   "cell_type": "code",
   "execution_count": 28,
   "metadata": {
    "collapsed": false
   },
   "outputs": [
    {
     "data": {
      "text/html": [
       "<div>\n",
       "<table border=\"1\" class=\"dataframe\">\n",
       "  <thead>\n",
       "    <tr style=\"text-align: right;\">\n",
       "      <th></th>\n",
       "      <th>index</th>\n",
       "      <th>latitude</th>\n",
       "      <th>longitude</th>\n",
       "      <th>close_date</th>\n",
       "      <th>close_price</th>\n",
       "      <th>price_1</th>\n",
       "      <th>price_2</th>\n",
       "      <th>price_3</th>\n",
       "      <th>price_4</th>\n",
       "      <th>distance_1</th>\n",
       "      <th>distance_2</th>\n",
       "      <th>distance_3</th>\n",
       "      <th>distance_4</th>\n",
       "    </tr>\n",
       "  </thead>\n",
       "  <tbody>\n",
       "    <tr>\n",
       "      <th>0</th>\n",
       "      <td>66136</td>\n",
       "      <td>36.011</td>\n",
       "      <td>-96.728</td>\n",
       "      <td>2014-12-13 17:30:27.291045</td>\n",
       "      <td>287987.778</td>\n",
       "      <td>813493.524</td>\n",
       "      <td>76320.156</td>\n",
       "      <td>82132.115</td>\n",
       "      <td>143534.753</td>\n",
       "      <td>0.110</td>\n",
       "      <td>0.189</td>\n",
       "      <td>0.193</td>\n",
       "      <td>0.236</td>\n",
       "    </tr>\n",
       "    <tr>\n",
       "      <th>1</th>\n",
       "      <td>66137</td>\n",
       "      <td>36.865</td>\n",
       "      <td>-97.928</td>\n",
       "      <td>2014-12-13 17:34:01.737388</td>\n",
       "      <td>403187.949</td>\n",
       "      <td>247810.095</td>\n",
       "      <td>88383.350</td>\n",
       "      <td>422391.968</td>\n",
       "      <td>991678.788</td>\n",
       "      <td>0.632</td>\n",
       "      <td>1.689</td>\n",
       "      <td>2.053</td>\n",
       "      <td>3.298</td>\n",
       "    </tr>\n",
       "    <tr>\n",
       "      <th>2</th>\n",
       "      <td>66138</td>\n",
       "      <td>36.063</td>\n",
       "      <td>-98.340</td>\n",
       "      <td>2014-12-13 17:39:02.285931</td>\n",
       "      <td>207511.590</td>\n",
       "      <td>206843.271</td>\n",
       "      <td>303655.934</td>\n",
       "      <td>228330.068</td>\n",
       "      <td>234509.942</td>\n",
       "      <td>0.000</td>\n",
       "      <td>0.005</td>\n",
       "      <td>0.081</td>\n",
       "      <td>0.094</td>\n",
       "    </tr>\n",
       "    <tr>\n",
       "      <th>3</th>\n",
       "      <td>66139</td>\n",
       "      <td>36.103</td>\n",
       "      <td>-98.129</td>\n",
       "      <td>2014-12-13 17:52:38.344365</td>\n",
       "      <td>202840.598</td>\n",
       "      <td>110069.121</td>\n",
       "      <td>114859.294</td>\n",
       "      <td>85819.495</td>\n",
       "      <td>96661.878</td>\n",
       "      <td>0.355</td>\n",
       "      <td>0.375</td>\n",
       "      <td>0.375</td>\n",
       "      <td>0.456</td>\n",
       "    </tr>\n",
       "    <tr>\n",
       "      <th>4</th>\n",
       "      <td>66140</td>\n",
       "      <td>35.928</td>\n",
       "      <td>-101.033</td>\n",
       "      <td>2014-12-13 17:58:06.167303</td>\n",
       "      <td>86282.363</td>\n",
       "      <td>116737.963</td>\n",
       "      <td>105962.323</td>\n",
       "      <td>98637.085</td>\n",
       "      <td>139332.162</td>\n",
       "      <td>0.095</td>\n",
       "      <td>0.119</td>\n",
       "      <td>0.219</td>\n",
       "      <td>0.220</td>\n",
       "    </tr>\n",
       "  </tbody>\n",
       "</table>\n",
       "</div>"
      ],
      "text/plain": [
       "   index  latitude  longitude                 close_date  close_price  \\\n",
       "0  66136    36.011    -96.728 2014-12-13 17:30:27.291045   287987.778   \n",
       "1  66137    36.865    -97.928 2014-12-13 17:34:01.737388   403187.949   \n",
       "2  66138    36.063    -98.340 2014-12-13 17:39:02.285931   207511.590   \n",
       "3  66139    36.103    -98.129 2014-12-13 17:52:38.344365   202840.598   \n",
       "4  66140    35.928   -101.033 2014-12-13 17:58:06.167303    86282.363   \n",
       "\n",
       "      price_1     price_2     price_3     price_4  distance_1  distance_2  \\\n",
       "0  813493.524   76320.156   82132.115  143534.753       0.110       0.189   \n",
       "1  247810.095   88383.350  422391.968  991678.788       0.632       1.689   \n",
       "2  206843.271  303655.934  228330.068  234509.942       0.000       0.005   \n",
       "3  110069.121  114859.294   85819.495   96661.878       0.355       0.375   \n",
       "4  116737.963  105962.323   98637.085  139332.162       0.095       0.119   \n",
       "\n",
       "   distance_3  distance_4  \n",
       "0       0.193       0.236  \n",
       "1       2.053       3.298  \n",
       "2       0.081       0.094  \n",
       "3       0.375       0.456  \n",
       "4       0.219       0.220  "
      ]
     },
     "execution_count": 28,
     "metadata": {},
     "output_type": "execute_result"
    }
   ],
   "source": [
    "updated_df.head()"
   ]
  },
  {
   "cell_type": "code",
   "execution_count": 29,
   "metadata": {
    "collapsed": false
   },
   "outputs": [
    {
     "data": {
      "text/html": [
       "<div>\n",
       "<table border=\"1\" class=\"dataframe\">\n",
       "  <thead>\n",
       "    <tr style=\"text-align: right;\">\n",
       "      <th></th>\n",
       "      <th>index</th>\n",
       "      <th>latitude</th>\n",
       "      <th>longitude</th>\n",
       "      <th>close_date</th>\n",
       "      <th>close_price</th>\n",
       "      <th>price_1</th>\n",
       "      <th>price_2</th>\n",
       "      <th>price_3</th>\n",
       "      <th>price_4</th>\n",
       "      <th>distance_1</th>\n",
       "      <th>distance_2</th>\n",
       "      <th>distance_3</th>\n",
       "      <th>distance_4</th>\n",
       "    </tr>\n",
       "  </thead>\n",
       "  <tbody>\n",
       "    <tr>\n",
       "      <th>16530</th>\n",
       "      <td>82666</td>\n",
       "      <td>36.691</td>\n",
       "      <td>-98.267</td>\n",
       "      <td>2015-12-31 13:52:56.792281</td>\n",
       "      <td>187080.636</td>\n",
       "      <td>229095.426</td>\n",
       "      <td>173694.471</td>\n",
       "      <td>125975.323</td>\n",
       "      <td>189743.702</td>\n",
       "      <td>0.003</td>\n",
       "      <td>0.006</td>\n",
       "      <td>0.126</td>\n",
       "      <td>0.159</td>\n",
       "    </tr>\n",
       "    <tr>\n",
       "      <th>16531</th>\n",
       "      <td>82667</td>\n",
       "      <td>35.720</td>\n",
       "      <td>-99.479</td>\n",
       "      <td>2016-01-01 19:46:09.393633</td>\n",
       "      <td>76330.016</td>\n",
       "      <td>59859.514</td>\n",
       "      <td>52203.429</td>\n",
       "      <td>40458.442</td>\n",
       "      <td>39168.731</td>\n",
       "      <td>0.017</td>\n",
       "      <td>0.064</td>\n",
       "      <td>0.073</td>\n",
       "      <td>0.107</td>\n",
       "    </tr>\n",
       "    <tr>\n",
       "      <th>16532</th>\n",
       "      <td>82668</td>\n",
       "      <td>36.373</td>\n",
       "      <td>-99.786</td>\n",
       "      <td>2016-01-01 23:18:10.342554</td>\n",
       "      <td>149902.445</td>\n",
       "      <td>406088.127</td>\n",
       "      <td>422963.379</td>\n",
       "      <td>850936.717</td>\n",
       "      <td>786753.459</td>\n",
       "      <td>0.181</td>\n",
       "      <td>0.704</td>\n",
       "      <td>0.750</td>\n",
       "      <td>0.756</td>\n",
       "    </tr>\n",
       "    <tr>\n",
       "      <th>16533</th>\n",
       "      <td>82669</td>\n",
       "      <td>36.223</td>\n",
       "      <td>-98.407</td>\n",
       "      <td>2016-01-03 12:15:47.651509</td>\n",
       "      <td>117513.374</td>\n",
       "      <td>129216.888</td>\n",
       "      <td>78665.264</td>\n",
       "      <td>158719.806</td>\n",
       "      <td>96785.151</td>\n",
       "      <td>0.168</td>\n",
       "      <td>0.213</td>\n",
       "      <td>0.249</td>\n",
       "      <td>0.262</td>\n",
       "    </tr>\n",
       "    <tr>\n",
       "      <th>16534</th>\n",
       "      <td>82670</td>\n",
       "      <td>35.939</td>\n",
       "      <td>-101.050</td>\n",
       "      <td>2016-01-05 21:09:11.879628</td>\n",
       "      <td>80348.212</td>\n",
       "      <td>79167.851</td>\n",
       "      <td>65295.374</td>\n",
       "      <td>117905.416</td>\n",
       "      <td>66258.291</td>\n",
       "      <td>0.115</td>\n",
       "      <td>0.121</td>\n",
       "      <td>0.221</td>\n",
       "      <td>0.316</td>\n",
       "    </tr>\n",
       "  </tbody>\n",
       "</table>\n",
       "</div>"
      ],
      "text/plain": [
       "       index  latitude  longitude                 close_date  close_price  \\\n",
       "16530  82666    36.691    -98.267 2015-12-31 13:52:56.792281   187080.636   \n",
       "16531  82667    35.720    -99.479 2016-01-01 19:46:09.393633    76330.016   \n",
       "16532  82668    36.373    -99.786 2016-01-01 23:18:10.342554   149902.445   \n",
       "16533  82669    36.223    -98.407 2016-01-03 12:15:47.651509   117513.374   \n",
       "16534  82670    35.939   -101.050 2016-01-05 21:09:11.879628    80348.212   \n",
       "\n",
       "          price_1     price_2     price_3     price_4  distance_1  distance_2  \\\n",
       "16530  229095.426  173694.471  125975.323  189743.702       0.003       0.006   \n",
       "16531   59859.514   52203.429   40458.442   39168.731       0.017       0.064   \n",
       "16532  406088.127  422963.379  850936.717  786753.459       0.181       0.704   \n",
       "16533  129216.888   78665.264  158719.806   96785.151       0.168       0.213   \n",
       "16534   79167.851   65295.374  117905.416   66258.291       0.115       0.121   \n",
       "\n",
       "       distance_3  distance_4  \n",
       "16530       0.126       0.159  \n",
       "16531       0.073       0.107  \n",
       "16532       0.750       0.756  \n",
       "16533       0.249       0.262  \n",
       "16534       0.221       0.316  "
      ]
     },
     "execution_count": 29,
     "metadata": {},
     "output_type": "execute_result"
    }
   ],
   "source": [
    "updated_df.tail()"
   ]
  },
  {
   "cell_type": "markdown",
   "metadata": {},
   "source": [
    "## Price Predictions"
   ]
  },
  {
   "cell_type": "code",
   "execution_count": 30,
   "metadata": {
    "collapsed": false
   },
   "outputs": [],
   "source": [
    "def predict_price(updated_df, k):\n",
    "    \n",
    "    price_columns = ['price_' + str(n) for n in xrange(1, k+1)]\n",
    "    distance_columns = ['distance_' + str(n) for n in xrange(1, k+1)]\n",
    "    \n",
    "    #Inverse Distance Weighting w/Shepherd's formula: sigma 1/(distance)^2\n",
    "    #Add 1 to all distances to defend against homes that overlap \n",
    "    shepherds_formula = 1 / ((updated_df[distance_columns] + 1) **2) \n",
    "    total_distance = shepherds_formula.sum(axis=1) \n",
    "    \n",
    "    #sigma of weights equals 1\n",
    "    weights = shepherds_formula.div(total_distance, axis=0) \n",
    "    \n",
    "    #multiply weights by neighbor price, and sum for the predicted price.\n",
    "    updated_df['predicted_price'] = pd.DataFrame(weights.values * updated_df[price_columns].values).sum(axis=1)\n",
    "\n",
    "    return updated_df[['index', 'close_price', 'predicted_price']]"
   ]
  },
  {
   "cell_type": "code",
   "execution_count": 31,
   "metadata": {
    "collapsed": false,
    "scrolled": true
   },
   "outputs": [
    {
     "data": {
      "text/html": [
       "<div>\n",
       "<table border=\"1\" class=\"dataframe\">\n",
       "  <thead>\n",
       "    <tr style=\"text-align: right;\">\n",
       "      <th></th>\n",
       "      <th>index</th>\n",
       "      <th>close_price</th>\n",
       "      <th>predicted_price</th>\n",
       "    </tr>\n",
       "  </thead>\n",
       "  <tbody>\n",
       "    <tr>\n",
       "      <th>0</th>\n",
       "      <td>66136</td>\n",
       "      <td>287987.778</td>\n",
       "      <td>300972.443</td>\n",
       "    </tr>\n",
       "    <tr>\n",
       "      <th>1</th>\n",
       "      <td>66137</td>\n",
       "      <td>403187.949</td>\n",
       "      <td>302558.597</td>\n",
       "    </tr>\n",
       "    <tr>\n",
       "      <th>2</th>\n",
       "      <td>66138</td>\n",
       "      <td>207511.590</td>\n",
       "      <td>244154.328</td>\n",
       "    </tr>\n",
       "    <tr>\n",
       "      <th>3</th>\n",
       "      <td>66139</td>\n",
       "      <td>202840.598</td>\n",
       "      <td>102058.569</td>\n",
       "    </tr>\n",
       "    <tr>\n",
       "      <th>4</th>\n",
       "      <td>66140</td>\n",
       "      <td>86282.363</td>\n",
       "      <td>114847.040</td>\n",
       "    </tr>\n",
       "  </tbody>\n",
       "</table>\n",
       "</div>"
      ],
      "text/plain": [
       "   index  close_price  predicted_price\n",
       "0  66136   287987.778       300972.443\n",
       "1  66137   403187.949       302558.597\n",
       "2  66138   207511.590       244154.328\n",
       "3  66139   202840.598       102058.569\n",
       "4  66140    86282.363       114847.040"
      ]
     },
     "execution_count": 31,
     "metadata": {},
     "output_type": "execute_result"
    }
   ],
   "source": [
    "predicted_prices = predict_price(updated_df, 4)\n",
    "predicted_prices.head()"
   ]
  },
  {
   "cell_type": "code",
   "execution_count": 32,
   "metadata": {
    "collapsed": false
   },
   "outputs": [
    {
     "data": {
      "image/png": "[encoded data removed]",
      "text/plain": [
       "<matplotlib.figure.Figure at 0x110c5c750>"
      ]
     },
     "metadata": {},
     "output_type": "display_data"
    }
   ],
   "source": [
    "plt.scatter(predicted_prices.close_price, predicted_prices.predicted_price)\n",
    "plt.title('True Price v. Predicted Price')\n",
    "plt.xlabel('True Prices')\n",
    "plt.ylabel('Predicted Prices');"
   ]
  },
  {
   "cell_type": "markdown",
   "metadata": {},
   "source": [
    "# 2. Model Performance Measured in Median Relative Absolute Error"
   ]
  },
  {
   "cell_type": "code",
   "execution_count": 33,
   "metadata": {
    "collapsed": true
   },
   "outputs": [],
   "source": [
    "def median_relative_absolute_error(predicted_prices):\n",
    "    \n",
    "    #median of abs(predicted_price - close_price)/close_price\n",
    "    predicted_price = predicted_prices['predicted_price']\n",
    "    close_price = predicted_prices['close_price']\n",
    "    \n",
    "    MRAE = ((abs(predicted_price - close_price)) / close_price).median()\n",
    "    \n",
    "    return MRAE"
   ]
  },
  {
   "cell_type": "code",
   "execution_count": 34,
   "metadata": {
    "collapsed": false
   },
   "outputs": [
    {
     "data": {
      "text/plain": [
       "0.17501230431391318"
      ]
     },
     "execution_count": 34,
     "metadata": {},
     "output_type": "execute_result"
    }
   ],
   "source": [
    "median_relative_absolute_error(predicted_prices)"
   ]
  },
  {
   "cell_type": "markdown",
   "metadata": {
    "collapsed": true
   },
   "source": [
    "## kNN Pipeline"
   ]
  },
  {
   "cell_type": "code",
   "execution_count": 35,
   "metadata": {
    "collapsed": true
   },
   "outputs": [],
   "source": [
    "def kNN_model(csv_file, data_range, k, validation_percent): #string filename, list of ints, int, percent in decimal\n",
    "    \n",
    "    #prepare the data\n",
    "    dataframe = data_prep(csv_file, data_range[0], data_range[1])\n",
    "    \n",
    "    #split the data\n",
    "    df_testing = train_test_split(dataframe, validation_percent)\n",
    "    \n",
    "    #train the data\n",
    "    updated_df = find_nearest_neighbors(dataframe, df_testing, k)\n",
    "    \n",
    "    #predict housing prices\n",
    "    predicted_prices = predict_price(updated_df, k)\n",
    "    \n",
    "    print('Median Relative Aboslute Error: ' + str(median_relative_absolute_error(predicted_prices)))\n",
    "    \n",
    "    return predicted_prices"
   ]
  },
  {
   "cell_type": "code",
   "execution_count": 36,
   "metadata": {
    "collapsed": false
   },
   "outputs": [
    {
     "name": "stdout",
     "output_type": "stream",
     "text": [
      "Median Relative Aboslute Error: 0.175012304314\n"
     ]
    }
   ],
   "source": [
    "kNN_model = kNN_model('data.csv', [0,1000000], 4, .2)"
   ]
  },
  {
   "cell_type": "code",
   "execution_count": 37,
   "metadata": {
    "collapsed": false
   },
   "outputs": [
    {
     "data": {
      "text/html": [
       "<div>\n",
       "<table border=\"1\" class=\"dataframe\">\n",
       "  <thead>\n",
       "    <tr style=\"text-align: right;\">\n",
       "      <th></th>\n",
       "      <th>index</th>\n",
       "      <th>close_price</th>\n",
       "      <th>predicted_price</th>\n",
       "    </tr>\n",
       "  </thead>\n",
       "  <tbody>\n",
       "    <tr>\n",
       "      <th>0</th>\n",
       "      <td>66136</td>\n",
       "      <td>287987.778</td>\n",
       "      <td>300972.443</td>\n",
       "    </tr>\n",
       "    <tr>\n",
       "      <th>1</th>\n",
       "      <td>66137</td>\n",
       "      <td>403187.949</td>\n",
       "      <td>302558.597</td>\n",
       "    </tr>\n",
       "    <tr>\n",
       "      <th>2</th>\n",
       "      <td>66138</td>\n",
       "      <td>207511.590</td>\n",
       "      <td>244154.328</td>\n",
       "    </tr>\n",
       "    <tr>\n",
       "      <th>3</th>\n",
       "      <td>66139</td>\n",
       "      <td>202840.598</td>\n",
       "      <td>102058.569</td>\n",
       "    </tr>\n",
       "    <tr>\n",
       "      <th>4</th>\n",
       "      <td>66140</td>\n",
       "      <td>86282.363</td>\n",
       "      <td>114847.040</td>\n",
       "    </tr>\n",
       "  </tbody>\n",
       "</table>\n",
       "</div>"
      ],
      "text/plain": [
       "   index  close_price  predicted_price\n",
       "0  66136   287987.778       300972.443\n",
       "1  66137   403187.949       302558.597\n",
       "2  66138   207511.590       244154.328\n",
       "3  66139   202840.598       102058.569\n",
       "4  66140    86282.363       114847.040"
      ]
     },
     "execution_count": 37,
     "metadata": {},
     "output_type": "execute_result"
    }
   ],
   "source": [
    "kNN_model.head()"
   ]
  },
  {
   "cell_type": "code",
   "execution_count": 38,
   "metadata": {
    "collapsed": false
   },
   "outputs": [
    {
     "data": {
      "text/plain": [
       "16535"
      ]
     },
     "execution_count": 38,
     "metadata": {},
     "output_type": "execute_result"
    }
   ],
   "source": [
    "len(kNN_model) #sanity check"
   ]
  },
  {
   "cell_type": "code",
   "execution_count": 39,
   "metadata": {
    "collapsed": false
   },
   "outputs": [
    {
     "data": {
      "text/html": [
       "<div>\n",
       "<table border=\"1\" class=\"dataframe\">\n",
       "  <thead>\n",
       "    <tr style=\"text-align: right;\">\n",
       "      <th></th>\n",
       "      <th>index</th>\n",
       "      <th>close_price</th>\n",
       "      <th>predicted_price</th>\n",
       "    </tr>\n",
       "  </thead>\n",
       "  <tbody>\n",
       "    <tr>\n",
       "      <th>0</th>\n",
       "      <td>66136</td>\n",
       "      <td>287987.778</td>\n",
       "      <td>300972.443</td>\n",
       "    </tr>\n",
       "    <tr>\n",
       "      <th>1</th>\n",
       "      <td>66137</td>\n",
       "      <td>403187.949</td>\n",
       "      <td>302558.597</td>\n",
       "    </tr>\n",
       "    <tr>\n",
       "      <th>2</th>\n",
       "      <td>66138</td>\n",
       "      <td>207511.590</td>\n",
       "      <td>244154.328</td>\n",
       "    </tr>\n",
       "    <tr>\n",
       "      <th>3</th>\n",
       "      <td>66139</td>\n",
       "      <td>202840.598</td>\n",
       "      <td>102058.569</td>\n",
       "    </tr>\n",
       "    <tr>\n",
       "      <th>4</th>\n",
       "      <td>66140</td>\n",
       "      <td>86282.363</td>\n",
       "      <td>114847.040</td>\n",
       "    </tr>\n",
       "  </tbody>\n",
       "</table>\n",
       "</div>"
      ],
      "text/plain": [
       "   index  close_price  predicted_price\n",
       "0  66136   287987.778       300972.443\n",
       "1  66137   403187.949       302558.597\n",
       "2  66138   207511.590       244154.328\n",
       "3  66139   202840.598       102058.569\n",
       "4  66140    86282.363       114847.040"
      ]
     },
     "execution_count": 39,
     "metadata": {},
     "output_type": "execute_result"
    }
   ],
   "source": [
    "kNN_model.head()"
   ]
  },
  {
   "cell_type": "code",
   "execution_count": 40,
   "metadata": {
    "collapsed": false
   },
   "outputs": [
    {
     "data": {
      "text/html": [
       "<div>\n",
       "<table border=\"1\" class=\"dataframe\">\n",
       "  <thead>\n",
       "    <tr style=\"text-align: right;\">\n",
       "      <th></th>\n",
       "      <th>index</th>\n",
       "      <th>close_price</th>\n",
       "      <th>predicted_price</th>\n",
       "    </tr>\n",
       "  </thead>\n",
       "  <tbody>\n",
       "    <tr>\n",
       "      <th>16530</th>\n",
       "      <td>82666</td>\n",
       "      <td>187080.636</td>\n",
       "      <td>182039.742</td>\n",
       "    </tr>\n",
       "    <tr>\n",
       "      <th>16531</th>\n",
       "      <td>82667</td>\n",
       "      <td>76330.016</td>\n",
       "      <td>48403.165</td>\n",
       "    </tr>\n",
       "    <tr>\n",
       "      <th>16532</th>\n",
       "      <td>82668</td>\n",
       "      <td>149902.445</td>\n",
       "      <td>566460.263</td>\n",
       "    </tr>\n",
       "    <tr>\n",
       "      <th>16533</th>\n",
       "      <td>82669</td>\n",
       "      <td>117513.374</td>\n",
       "      <td>115846.796</td>\n",
       "    </tr>\n",
       "    <tr>\n",
       "      <th>16534</th>\n",
       "      <td>82670</td>\n",
       "      <td>80348.212</td>\n",
       "      <td>81789.646</td>\n",
       "    </tr>\n",
       "  </tbody>\n",
       "</table>\n",
       "</div>"
      ],
      "text/plain": [
       "       index  close_price  predicted_price\n",
       "16530  82666   187080.636       182039.742\n",
       "16531  82667    76330.016        48403.165\n",
       "16532  82668   149902.445       566460.263\n",
       "16533  82669   117513.374       115846.796\n",
       "16534  82670    80348.212        81789.646"
      ]
     },
     "execution_count": 40,
     "metadata": {},
     "output_type": "execute_result"
    }
   ],
   "source": [
    "kNN_model.tail()"
   ]
  },
  {
   "cell_type": "markdown",
   "metadata": {},
   "source": [
    "# 3. An appropriate methodology to determine optimal k\n",
    "1. One approach is to run this test set on a range of different values of k and graph the model performance based on MRAE to see which value of k is optimal. \n",
    "2. There could potentially be an approach that invovles cross-validation, but because each testing datapoint uses a different training set (the newer the home, the more training data), it wouldn't be as reliable. \n",
    "3. The first and simpler approach would work best, even in production."
   ]
  },
  {
   "cell_type": "markdown",
   "metadata": {},
   "source": [
    "# 4. Spatial or Temporal Trends in Error\n",
    "1. The raw data, not including the negative closing prices, has two ostensible clusters: homes both over and under a million dollars, with homes under a million being the overwhelming majority. Not specifying the price range in the data worsens the error. It's possible that the homes over a million dollars (some are ten and other a hundred million) represent a spatial trend, where the multi-million dollar homes are of a different location than the rest. \n",
    "2. To find out temporal trends, one would plot the datetime by its respective relative absolute error. To visualize, one could group the datetime by months or seasons to see how temporal trends affects the variance in closing prices.\n",
    "3. To visualize spatial trends in error, one would plot the geolocation data on a map graph and superimpose it with a color scale of respective errors."
   ]
  },
  {
   "cell_type": "markdown",
   "metadata": {},
   "source": [
    "# 5. Model Improvement\n",
    "1. K-D Tree. A k-d tree would be able to spatially store the training data for faster look-up times of nearest neighbors. In turn, this will decrease testing time. Especially given that the dimensionality of this problem is low, a k-d tree is ideal. \n",
    "2. Increase features and more data. As of now, the model is simply predicting based on geolocation data. For example, it's possible that the model is predicting the price of a shack next to four mansions. To improve it, there must be more information about the homes (i.e., square feet, bedrooms, school district ratings). It's worth noting that once dimensionality increases past about twenty, locality sensitive hashing (LHS) will temper the \"curse of dimensionality.\"\n",
    "3. If possible to create an efficient algorithm, one could try to improve the distance accuracy by using the great circle equation instead of the reduced haversine equation.\n",
    "4. One could explore alternatives to Shepherd's method of the inverse distance weighting scheme. For example, this model uses p=2 but it could be decided to put either a higher or lower penalty on neighbors that are further away. Other metrics for the IDW scheme would be the Łukaszyk-Karmowski metric or Modified Shepherd's method. The Modified Shepherd's method is ideal to combine with a k-d tree because this method searches for nearest neighbors within a certain sphere of the entire sample, and when coupled with a k-d tree the complexity becomes N*logN time. "
   ]
  },
  {
   "cell_type": "markdown",
   "metadata": {},
   "source": [
    "# 6. Productionizing this model\n",
    "1. Everything listed under \"Model Improvement.\"\n",
    "2. The productionized model should incorporate into its algorithm an additional weight for a particular home on its neighbors that were sold more recently. \n",
    "3. Assuming that in production there will be a lot more features, it's necessary to rescale the data for features that are in different metrics. For starters, scikit-learn has a normalize() method.\n",
    "4. Finally, this model should be able to handle live data. It could use an API that was written to query a database accordingly for new houses that are being added."
   ]
  }
 ],
 "metadata": {
  "anaconda-cloud": {},
  "kernelspec": {
   "display_name": "Python [conda root]",
   "language": "python",
   "name": "conda-root-py"
  },
  "language_info": {
   "codemirror_mode": {
    "name": "ipython",
    "version": 2
   },
   "file_extension": ".py",
   "mimetype": "text/x-python",
   "name": "python",
   "nbconvert_exporter": "python",
   "pygments_lexer": "ipython2",
   "version": "2.7.12"
  }
 },
 "nbformat": 4,
 "nbformat_minor": 1
}
