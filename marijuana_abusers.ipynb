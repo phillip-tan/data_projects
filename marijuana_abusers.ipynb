{
 "cells": [
  {
   "cell_type": "code",
   "execution_count": 1345,
   "metadata": {
    "collapsed": false
   },
   "outputs": [],
   "source": [
    "from __future__ import print_function, division\n",
    "\n",
    "import pandas as pd\n",
    "import numpy as np\n",
    "import matplotlib.pyplot as plt\n",
    "\n",
    "import seaborn as sns\n",
    "plt.style.use('fivethirtyeight')\n",
    "%matplotlib inline\n",
    "\n",
    "from sklearn.neighbors import KNeighborsClassifier\n",
    "from sklearn.linear_model import Lasso, Ridge, ElasticNet, LinearRegression\n",
    "from sklearn.model_selection import cross_val_score, train_test_split, KFold\n",
    "from sklearn.grid_search import GridSearchCV\n",
    "from sklearn import metrics"
   ]
  },
  {
   "cell_type": "code",
   "execution_count": 1346,
   "metadata": {
    "collapsed": false
   },
   "outputs": [],
   "source": [
    "df = pd.read_csv('~/desktop/2014_data.tsv', delimiter='\\t')"
   ]
  },
  {
   "cell_type": "code",
   "execution_count": 1347,
   "metadata": {
    "collapsed": false
   },
   "outputs": [
    {
     "name": "stdout",
     "output_type": "stream",
     "text": [
      "<class 'pandas.core.frame.DataFrame'>\n",
      "RangeIndex: 55271 entries, 0 to 55270\n",
      "Columns: 3148 entries, CASEID to GQTYPE2\n",
      "dtypes: float64(38), int64(3110)\n",
      "memory usage: 1.3 GB\n"
     ]
    }
   ],
   "source": [
    "df.info()"
   ]
  },
  {
   "cell_type": "code",
   "execution_count": 1348,
   "metadata": {
    "collapsed": false,
    "scrolled": true
   },
   "outputs": [
    {
     "data": {
      "text/html": [
       "<div>\n",
       "<table border=\"1\" class=\"dataframe\">\n",
       "  <thead>\n",
       "    <tr style=\"text-align: right;\">\n",
       "      <th></th>\n",
       "      <th>CASEID</th>\n",
       "      <th>QUESTID2</th>\n",
       "      <th>CIGEVER</th>\n",
       "      <th>CIGOFRSM</th>\n",
       "      <th>CIGWILYR</th>\n",
       "      <th>CIGTRY</th>\n",
       "      <th>CIGYFU</th>\n",
       "      <th>CIGMFU</th>\n",
       "      <th>CIGREC</th>\n",
       "      <th>CIG30USE</th>\n",
       "      <th>...</th>\n",
       "      <th>II2EMST4</th>\n",
       "      <th>PRXRETRY</th>\n",
       "      <th>PDEN10</th>\n",
       "      <th>COUTYP2</th>\n",
       "      <th>MAIIN102</th>\n",
       "      <th>AIIND102</th>\n",
       "      <th>ANALWT_C</th>\n",
       "      <th>VESTR</th>\n",
       "      <th>VEREP</th>\n",
       "      <th>GQTYPE2</th>\n",
       "    </tr>\n",
       "  </thead>\n",
       "  <tbody>\n",
       "    <tr>\n",
       "      <th>0</th>\n",
       "      <td>1</td>\n",
       "      <td>85314767</td>\n",
       "      <td>1</td>\n",
       "      <td>99</td>\n",
       "      <td>99</td>\n",
       "      <td>16</td>\n",
       "      <td>9999</td>\n",
       "      <td>99</td>\n",
       "      <td>4</td>\n",
       "      <td>93</td>\n",
       "      <td>...</td>\n",
       "      <td>1</td>\n",
       "      <td>99</td>\n",
       "      <td>2</td>\n",
       "      <td>2</td>\n",
       "      <td>2</td>\n",
       "      <td>2</td>\n",
       "      <td>8587.828634</td>\n",
       "      <td>40025</td>\n",
       "      <td>2</td>\n",
       "      <td>-9</td>\n",
       "    </tr>\n",
       "    <tr>\n",
       "      <th>1</th>\n",
       "      <td>2</td>\n",
       "      <td>16240983</td>\n",
       "      <td>1</td>\n",
       "      <td>99</td>\n",
       "      <td>99</td>\n",
       "      <td>16</td>\n",
       "      <td>9999</td>\n",
       "      <td>99</td>\n",
       "      <td>1</td>\n",
       "      <td>1</td>\n",
       "      <td>...</td>\n",
       "      <td>1</td>\n",
       "      <td>99</td>\n",
       "      <td>1</td>\n",
       "      <td>1</td>\n",
       "      <td>2</td>\n",
       "      <td>2</td>\n",
       "      <td>4260.686570</td>\n",
       "      <td>40041</td>\n",
       "      <td>1</td>\n",
       "      <td>-9</td>\n",
       "    </tr>\n",
       "    <tr>\n",
       "      <th>2</th>\n",
       "      <td>3</td>\n",
       "      <td>95206287</td>\n",
       "      <td>2</td>\n",
       "      <td>99</td>\n",
       "      <td>99</td>\n",
       "      <td>991</td>\n",
       "      <td>9991</td>\n",
       "      <td>91</td>\n",
       "      <td>91</td>\n",
       "      <td>91</td>\n",
       "      <td>...</td>\n",
       "      <td>1</td>\n",
       "      <td>99</td>\n",
       "      <td>2</td>\n",
       "      <td>2</td>\n",
       "      <td>2</td>\n",
       "      <td>2</td>\n",
       "      <td>874.478772</td>\n",
       "      <td>40010</td>\n",
       "      <td>1</td>\n",
       "      <td>-9</td>\n",
       "    </tr>\n",
       "    <tr>\n",
       "      <th>3</th>\n",
       "      <td>4</td>\n",
       "      <td>91546127</td>\n",
       "      <td>2</td>\n",
       "      <td>99</td>\n",
       "      <td>99</td>\n",
       "      <td>991</td>\n",
       "      <td>9991</td>\n",
       "      <td>91</td>\n",
       "      <td>91</td>\n",
       "      <td>91</td>\n",
       "      <td>...</td>\n",
       "      <td>1</td>\n",
       "      <td>99</td>\n",
       "      <td>1</td>\n",
       "      <td>1</td>\n",
       "      <td>2</td>\n",
       "      <td>2</td>\n",
       "      <td>4816.381147</td>\n",
       "      <td>40019</td>\n",
       "      <td>2</td>\n",
       "      <td>-9</td>\n",
       "    </tr>\n",
       "    <tr>\n",
       "      <th>4</th>\n",
       "      <td>5</td>\n",
       "      <td>43902390</td>\n",
       "      <td>2</td>\n",
       "      <td>99</td>\n",
       "      <td>99</td>\n",
       "      <td>991</td>\n",
       "      <td>9991</td>\n",
       "      <td>91</td>\n",
       "      <td>91</td>\n",
       "      <td>91</td>\n",
       "      <td>...</td>\n",
       "      <td>1</td>\n",
       "      <td>99</td>\n",
       "      <td>1</td>\n",
       "      <td>1</td>\n",
       "      <td>2</td>\n",
       "      <td>2</td>\n",
       "      <td>18967.391778</td>\n",
       "      <td>40016</td>\n",
       "      <td>2</td>\n",
       "      <td>-9</td>\n",
       "    </tr>\n",
       "  </tbody>\n",
       "</table>\n",
       "<p>5 rows × 3148 columns</p>\n",
       "</div>"
      ],
      "text/plain": [
       "   CASEID  QUESTID2  CIGEVER  CIGOFRSM  CIGWILYR  CIGTRY  CIGYFU  CIGMFU  \\\n",
       "0       1  85314767        1        99        99      16    9999      99   \n",
       "1       2  16240983        1        99        99      16    9999      99   \n",
       "2       3  95206287        2        99        99     991    9991      91   \n",
       "3       4  91546127        2        99        99     991    9991      91   \n",
       "4       5  43902390        2        99        99     991    9991      91   \n",
       "\n",
       "   CIGREC  CIG30USE   ...     II2EMST4  PRXRETRY  PDEN10  COUTYP2  MAIIN102  \\\n",
       "0       4        93   ...            1        99       2        2         2   \n",
       "1       1         1   ...            1        99       1        1         2   \n",
       "2      91        91   ...            1        99       2        2         2   \n",
       "3      91        91   ...            1        99       1        1         2   \n",
       "4      91        91   ...            1        99       1        1         2   \n",
       "\n",
       "   AIIND102      ANALWT_C  VESTR  VEREP  GQTYPE2  \n",
       "0         2   8587.828634  40025      2       -9  \n",
       "1         2   4260.686570  40041      1       -9  \n",
       "2         2    874.478772  40010      1       -9  \n",
       "3         2   4816.381147  40019      2       -9  \n",
       "4         2  18967.391778  40016      2       -9  \n",
       "\n",
       "[5 rows x 3148 columns]"
      ]
     },
     "execution_count": 1348,
     "metadata": {},
     "output_type": "execute_result"
    }
   ],
   "source": [
    "df.head()"
   ]
  },
  {
   "cell_type": "code",
   "execution_count": 1349,
   "metadata": {
    "collapsed": false,
    "scrolled": true
   },
   "outputs": [
    {
     "data": {
      "text/plain": [
       "Index([u'CASEID', u'QUESTID2', u'CIGEVER', u'CIGOFRSM', u'CIGWILYR', u'CIGTRY',\n",
       "       u'CIGYFU', u'CIGMFU', u'CIGREC', u'CIG30USE',\n",
       "       ...\n",
       "       u'II2EMST4', u'PRXRETRY', u'PDEN10', u'COUTYP2', u'MAIIN102',\n",
       "       u'AIIND102', u'ANALWT_C', u'VESTR', u'VEREP', u'GQTYPE2'],\n",
       "      dtype='object', length=3148)"
      ]
     },
     "execution_count": 1349,
     "metadata": {},
     "output_type": "execute_result"
    }
   ],
   "source": [
    "df.columns"
   ]
  },
  {
   "cell_type": "code",
   "execution_count": 1350,
   "metadata": {
    "collapsed": false
   },
   "outputs": [
    {
     "data": {
      "text/plain": [
       "(55271, 3148)"
      ]
     },
     "execution_count": 1350,
     "metadata": {},
     "output_type": "execute_result"
    }
   ],
   "source": [
    "df.shape"
   ]
  },
  {
   "cell_type": "markdown",
   "metadata": {},
   "source": [
    "# FEATURE ENGINEERING"
   ]
  },
  {
   "cell_type": "code",
   "execution_count": 1352,
   "metadata": {
    "collapsed": true
   },
   "outputs": [],
   "source": [
    "def age_first_used(val):\n",
    "    if val < 18:\n",
    "        return 1\n",
    "    elif val <= 21:\n",
    "        return 2\n",
    "    elif val <= 26:\n",
    "        return 3\n",
    "    elif val < 80:\n",
    "        return 4\n",
    "    else:\n",
    "        return 5\n",
    "    \n",
    "df['age_first_used'] = df['MJAGE'].apply(age_first_used)\n",
    "df['age_first_alc'] = df['ALCTRY'].apply(age_first_used)"
   ]
  },
  {
   "cell_type": "code",
   "execution_count": 1353,
   "metadata": {
    "collapsed": true
   },
   "outputs": [],
   "source": [
    "def days_past_year(val):\n",
    "    if val < 13:\n",
    "        return 4\n",
    "    elif val < 53:\n",
    "        return 3\n",
    "    elif val < 180:\n",
    "        return 2\n",
    "    elif val <= 365:\n",
    "        return 1\n",
    "    else: \n",
    "        return 5\n",
    "\n",
    "df['tot_days_past_year'] = df['MJYRTOT'].apply(days_past_year)"
   ]
  },
  {
   "cell_type": "code",
   "execution_count": 1354,
   "metadata": {
    "collapsed": false
   },
   "outputs": [],
   "source": [
    "def group_daypwk(val):\n",
    "    if val < 2:\n",
    "        return 3\n",
    "    elif val < 5:\n",
    "        return 2\n",
    "    elif val < 8:\n",
    "        return 1\n",
    "    else:\n",
    "        return 4\n",
    "\n",
    "df['days_per_week_past_year'] = df['MRDAYPWK'].apply(group_daypwk)\n",
    "df['days_per_week_alc'] = df['ALDAYPWK'].apply(group_daypwk)"
   ]
  },
  {
   "cell_type": "code",
   "execution_count": 1355,
   "metadata": {
    "collapsed": true
   },
   "outputs": [],
   "source": [
    "df['last_used'] = df['MJREC'].replace([11, 8, 9, 91, 97, 98], [1, 2, 3, 4, 4, 4])"
   ]
  },
  {
   "cell_type": "code",
   "execution_count": 1356,
   "metadata": {
    "collapsed": true
   },
   "outputs": [],
   "source": [
    "df['days_used_past_month'] = df['MR30EST'].replace([91,93,94,97,98,99],[7,7,7,7,7,7])"
   ]
  },
  {
   "cell_type": "code",
   "execution_count": 1357,
   "metadata": {
    "collapsed": true
   },
   "outputs": [],
   "source": [
    "df['religious_importance'] = df['SNRLGIMP'].replace([85, 94, 97, 98, 99], [5,5,5,5,5])"
   ]
  },
  {
   "cell_type": "code",
   "execution_count": 1358,
   "metadata": {
    "collapsed": false
   },
   "outputs": [],
   "source": [
    "def binge_drinking(val):\n",
    "    if val <= 2:\n",
    "        return 5\n",
    "    elif val <= 4:\n",
    "        return 4\n",
    "    elif val <= 7:\n",
    "        return 3\n",
    "    elif val <= 10: \n",
    "        return 2\n",
    "    else:\n",
    "        return 1 \n",
    "    \n",
    "df['days_5plusdrinks_past_mo'] = df['DR5DAY']    "
   ]
  },
  {
   "cell_type": "code",
   "execution_count": 1359,
   "metadata": {
    "collapsed": true
   },
   "outputs": [],
   "source": [
    "df['age'] = df['CATAG7']"
   ]
  },
  {
   "cell_type": "code",
   "execution_count": 1360,
   "metadata": {
    "collapsed": true
   },
   "outputs": [],
   "source": [
    "df['gender'] = df['IRSEX']"
   ]
  },
  {
   "cell_type": "code",
   "execution_count": 1361,
   "metadata": {
    "collapsed": true
   },
   "outputs": [],
   "source": [
    "df['race'] = df['NEWRACE2']"
   ]
  },
  {
   "cell_type": "code",
   "execution_count": 1362,
   "metadata": {
    "collapsed": true
   },
   "outputs": [],
   "source": [
    "df['education'] = df['EDUCCAT2']"
   ]
  },
  {
   "cell_type": "code",
   "execution_count": 1363,
   "metadata": {
    "collapsed": true
   },
   "outputs": [],
   "source": [
    "df['work_situation_past_wk'] = df['JBSTATR2']"
   ]
  },
  {
   "cell_type": "code",
   "execution_count": 1364,
   "metadata": {
    "collapsed": true
   },
   "outputs": [],
   "source": [
    "df['tot_fam_income'] = df['IRFAMIN3']"
   ]
  },
  {
   "cell_type": "markdown",
   "metadata": {},
   "source": [
    "## Check the value counts of features"
   ]
  },
  {
   "cell_type": "code",
   "execution_count": 1365,
   "metadata": {
    "collapsed": false
   },
   "outputs": [
    {
     "data": {
      "text/plain": [
       "Index([u'CASEID', u'QUESTID2', u'CIGEVER', u'CIGOFRSM', u'CIGWILYR', u'CIGTRY',\n",
       "       u'CIGYFU', u'CIGMFU', u'CIGREC', u'CIG30USE',\n",
       "       ...\n",
       "       u'last_used', u'days_used_past_month', u'religious_importance',\n",
       "       u'days_5plusdrinks_past_mo', u'age', u'gender', u'race', u'education',\n",
       "       u'work_situation_past_wk', u'tot_fam_income'],\n",
       "      dtype='object', length=3163)"
      ]
     },
     "execution_count": 1365,
     "metadata": {},
     "output_type": "execute_result"
    }
   ],
   "source": [
    "df.columns"
   ]
  },
  {
   "cell_type": "code",
   "execution_count": 1366,
   "metadata": {
    "collapsed": false
   },
   "outputs": [
    {
     "data": {
      "text/plain": [
       "1    25271\n",
       "5    15120\n",
       "2    12601\n",
       "3     1689\n",
       "4      590\n",
       "Name: age_first_alc, dtype: int64"
      ]
     },
     "execution_count": 1366,
     "metadata": {},
     "output_type": "execute_result"
    }
   ],
   "source": [
    "df['age_first_alc'].value_counts()"
   ]
  },
  {
   "cell_type": "code",
   "execution_count": 1367,
   "metadata": {
    "collapsed": false
   },
   "outputs": [
    {
     "data": {
      "text/plain": [
       "4    31810\n",
       "3    13925\n",
       "1     5835\n",
       "2     3701\n",
       "Name: last_used, dtype: int64"
      ]
     },
     "execution_count": 1367,
     "metadata": {},
     "output_type": "execute_result"
    }
   ],
   "source": [
    "df['last_used'].value_counts()"
   ]
  },
  {
   "cell_type": "code",
   "execution_count": 1368,
   "metadata": {
    "collapsed": false
   },
   "outputs": [
    {
     "data": {
      "text/plain": [
       "5    31990\n",
       "1    14776\n",
       "2     6258\n",
       "3     1485\n",
       "4      762\n",
       "Name: age_first_used, dtype: int64"
      ]
     },
     "execution_count": 1368,
     "metadata": {},
     "output_type": "execute_result"
    }
   ],
   "source": [
    "df['age_first_used'].value_counts()"
   ]
  },
  {
   "cell_type": "code",
   "execution_count": 1369,
   "metadata": {
    "collapsed": false
   },
   "outputs": [
    {
     "data": {
      "text/plain": [
       "5    45930\n",
       "4     3140\n",
       "1     2850\n",
       "3     1722\n",
       "2     1629\n",
       "Name: tot_days_past_year, dtype: int64"
      ]
     },
     "execution_count": 1369,
     "metadata": {},
     "output_type": "execute_result"
    }
   ],
   "source": [
    "df['tot_days_past_year'].value_counts()"
   ]
  },
  {
   "cell_type": "code",
   "execution_count": 1370,
   "metadata": {
    "collapsed": false
   },
   "outputs": [
    {
     "data": {
      "text/plain": [
       "4    51763\n",
       "1     1837\n",
       "2     1169\n",
       "3      502\n",
       "Name: days_per_week_past_year, dtype: int64"
      ]
     },
     "execution_count": 1370,
     "metadata": {},
     "output_type": "execute_result"
    }
   ],
   "source": [
    "df['days_per_week_past_year'].value_counts()"
   ]
  },
  {
   "cell_type": "code",
   "execution_count": 1371,
   "metadata": {
    "collapsed": false,
    "scrolled": true
   },
   "outputs": [
    {
     "data": {
      "text/plain": [
       "7    55213\n",
       "6       11\n",
       "1       11\n",
       "5       10\n",
       "2       10\n",
       "4        8\n",
       "3        8\n",
       "Name: days_used_past_month, dtype: int64"
      ]
     },
     "execution_count": 1371,
     "metadata": {},
     "output_type": "execute_result"
    }
   ],
   "source": [
    "df['days_used_past_month'].value_counts()"
   ]
  },
  {
   "cell_type": "markdown",
   "metadata": {},
   "source": [
    "## Define X vector(s) and y vector."
   ]
  },
  {
   "cell_type": "code",
   "execution_count": 1372,
   "metadata": {
    "collapsed": false
   },
   "outputs": [],
   "source": [
    "X = df[['age_first_used', 'age_first_alc', 'tot_days_past_year', 'days_per_week_past_year', 'days_per_week_alc', \n",
    "    'last_used', 'days_used_past_month', 'age', 'gender', 'race', 'education', 'work_situation_past_wk',\n",
    "       'days_5plusdrinks_past_mo', 'tot_fam_income', 'religious_importance']]"
   ]
  },
  {
   "cell_type": "code",
   "execution_count": 1373,
   "metadata": {
    "collapsed": false
   },
   "outputs": [
    {
     "data": {
      "text/plain": [
       "(55271, 15)"
      ]
     },
     "execution_count": 1373,
     "metadata": {},
     "output_type": "execute_result"
    }
   ],
   "source": [
    "X.shape"
   ]
  },
  {
   "cell_type": "code",
   "execution_count": 1374,
   "metadata": {
    "collapsed": true
   },
   "outputs": [],
   "source": [
    "problem = (df['MRJSERPB'] == 1) | (df['MRJNDMOR'] == 1) | (df['MRJEMCTD'] == 1) | (df['MRJLSACT'] == 1)\n",
    "no_problem = (df['MRJSERPB'] == 2) | (df['MRJNDMOR'] == 2) | (df['MRJEMCTD'] == 2) | (df['MRJLSACT'] == 2)\n",
    "df_responses = df[problem | no_problem]"
   ]
  },
  {
   "cell_type": "code",
   "execution_count": 1375,
   "metadata": {
    "collapsed": false
   },
   "outputs": [],
   "source": [
    "df_responses = df_responses.copy()"
   ]
  },
  {
   "cell_type": "code",
   "execution_count": 1376,
   "metadata": {
    "collapsed": false
   },
   "outputs": [],
   "source": [
    "df_responses['y'] = np.zeros(df_responses.shape[0])"
   ]
  },
  {
   "cell_type": "code",
   "execution_count": 1377,
   "metadata": {
    "collapsed": false
   },
   "outputs": [
    {
     "data": {
      "text/html": [
       "<div>\n",
       "<table border=\"1\" class=\"dataframe\">\n",
       "  <thead>\n",
       "    <tr style=\"text-align: right;\">\n",
       "      <th></th>\n",
       "      <th>CASEID</th>\n",
       "      <th>QUESTID2</th>\n",
       "      <th>CIGEVER</th>\n",
       "      <th>CIGOFRSM</th>\n",
       "      <th>CIGWILYR</th>\n",
       "      <th>CIGTRY</th>\n",
       "      <th>CIGYFU</th>\n",
       "      <th>CIGMFU</th>\n",
       "      <th>CIGREC</th>\n",
       "      <th>CIG30USE</th>\n",
       "      <th>...</th>\n",
       "      <th>days_used_past_month</th>\n",
       "      <th>religious_importance</th>\n",
       "      <th>days_5plusdrinks_past_mo</th>\n",
       "      <th>age</th>\n",
       "      <th>gender</th>\n",
       "      <th>race</th>\n",
       "      <th>education</th>\n",
       "      <th>work_situation_past_wk</th>\n",
       "      <th>tot_fam_income</th>\n",
       "      <th>y</th>\n",
       "    </tr>\n",
       "  </thead>\n",
       "  <tbody>\n",
       "    <tr>\n",
       "      <th>1</th>\n",
       "      <td>2</td>\n",
       "      <td>16240983</td>\n",
       "      <td>1</td>\n",
       "      <td>99</td>\n",
       "      <td>99</td>\n",
       "      <td>16</td>\n",
       "      <td>9999</td>\n",
       "      <td>99</td>\n",
       "      <td>1</td>\n",
       "      <td>1</td>\n",
       "      <td>...</td>\n",
       "      <td>7</td>\n",
       "      <td>3</td>\n",
       "      <td>1</td>\n",
       "      <td>4</td>\n",
       "      <td>1</td>\n",
       "      <td>1</td>\n",
       "      <td>3</td>\n",
       "      <td>2</td>\n",
       "      <td>2</td>\n",
       "      <td>0.0</td>\n",
       "    </tr>\n",
       "    <tr>\n",
       "      <th>8</th>\n",
       "      <td>9</td>\n",
       "      <td>45642490</td>\n",
       "      <td>2</td>\n",
       "      <td>99</td>\n",
       "      <td>99</td>\n",
       "      <td>991</td>\n",
       "      <td>9991</td>\n",
       "      <td>91</td>\n",
       "      <td>91</td>\n",
       "      <td>91</td>\n",
       "      <td>...</td>\n",
       "      <td>7</td>\n",
       "      <td>2</td>\n",
       "      <td>1</td>\n",
       "      <td>7</td>\n",
       "      <td>1</td>\n",
       "      <td>1</td>\n",
       "      <td>3</td>\n",
       "      <td>4</td>\n",
       "      <td>7</td>\n",
       "      <td>0.0</td>\n",
       "    </tr>\n",
       "    <tr>\n",
       "      <th>12</th>\n",
       "      <td>13</td>\n",
       "      <td>99692998</td>\n",
       "      <td>1</td>\n",
       "      <td>99</td>\n",
       "      <td>99</td>\n",
       "      <td>12</td>\n",
       "      <td>9999</td>\n",
       "      <td>99</td>\n",
       "      <td>3</td>\n",
       "      <td>93</td>\n",
       "      <td>...</td>\n",
       "      <td>7</td>\n",
       "      <td>3</td>\n",
       "      <td>1</td>\n",
       "      <td>5</td>\n",
       "      <td>1</td>\n",
       "      <td>1</td>\n",
       "      <td>2</td>\n",
       "      <td>1</td>\n",
       "      <td>6</td>\n",
       "      <td>0.0</td>\n",
       "    </tr>\n",
       "    <tr>\n",
       "      <th>17</th>\n",
       "      <td>18</td>\n",
       "      <td>67107154</td>\n",
       "      <td>1</td>\n",
       "      <td>99</td>\n",
       "      <td>99</td>\n",
       "      <td>15</td>\n",
       "      <td>9999</td>\n",
       "      <td>99</td>\n",
       "      <td>1</td>\n",
       "      <td>25</td>\n",
       "      <td>...</td>\n",
       "      <td>7</td>\n",
       "      <td>1</td>\n",
       "      <td>15</td>\n",
       "      <td>7</td>\n",
       "      <td>1</td>\n",
       "      <td>1</td>\n",
       "      <td>4</td>\n",
       "      <td>1</td>\n",
       "      <td>7</td>\n",
       "      <td>0.0</td>\n",
       "    </tr>\n",
       "    <tr>\n",
       "      <th>18</th>\n",
       "      <td>19</td>\n",
       "      <td>89015615</td>\n",
       "      <td>1</td>\n",
       "      <td>99</td>\n",
       "      <td>99</td>\n",
       "      <td>19</td>\n",
       "      <td>9999</td>\n",
       "      <td>99</td>\n",
       "      <td>1</td>\n",
       "      <td>30</td>\n",
       "      <td>...</td>\n",
       "      <td>7</td>\n",
       "      <td>1</td>\n",
       "      <td>8</td>\n",
       "      <td>7</td>\n",
       "      <td>1</td>\n",
       "      <td>7</td>\n",
       "      <td>3</td>\n",
       "      <td>1</td>\n",
       "      <td>5</td>\n",
       "      <td>0.0</td>\n",
       "    </tr>\n",
       "  </tbody>\n",
       "</table>\n",
       "<p>5 rows × 3164 columns</p>\n",
       "</div>"
      ],
      "text/plain": [
       "    CASEID  QUESTID2  CIGEVER  CIGOFRSM  CIGWILYR  CIGTRY  CIGYFU  CIGMFU  \\\n",
       "1        2  16240983        1        99        99      16    9999      99   \n",
       "8        9  45642490        2        99        99     991    9991      91   \n",
       "12      13  99692998        1        99        99      12    9999      99   \n",
       "17      18  67107154        1        99        99      15    9999      99   \n",
       "18      19  89015615        1        99        99      19    9999      99   \n",
       "\n",
       "    CIGREC  CIG30USE ...   days_used_past_month  religious_importance  \\\n",
       "1        1         1 ...                      7                     3   \n",
       "8       91        91 ...                      7                     2   \n",
       "12       3        93 ...                      7                     3   \n",
       "17       1        25 ...                      7                     1   \n",
       "18       1        30 ...                      7                     1   \n",
       "\n",
       "    days_5plusdrinks_past_mo  age  gender  race  education  \\\n",
       "1                          1    4       1     1          3   \n",
       "8                          1    7       1     1          3   \n",
       "12                         1    5       1     1          2   \n",
       "17                        15    7       1     1          4   \n",
       "18                         8    7       1     7          3   \n",
       "\n",
       "    work_situation_past_wk  tot_fam_income    y  \n",
       "1                        2               2  0.0  \n",
       "8                        4               7  0.0  \n",
       "12                       1               6  0.0  \n",
       "17                       1               7  0.0  \n",
       "18                       1               5  0.0  \n",
       "\n",
       "[5 rows x 3164 columns]"
      ]
     },
     "execution_count": 1377,
     "metadata": {},
     "output_type": "execute_result"
    }
   ],
   "source": [
    "df_responses.head()"
   ]
  },
  {
   "cell_type": "code",
   "execution_count": 1378,
   "metadata": {
    "collapsed": false,
    "scrolled": true
   },
   "outputs": [],
   "source": [
    "df_responses.loc[problem,'y'] = 1 #go to index row for 'problem' people and turn the zero into a one in column y"
   ]
  },
  {
   "cell_type": "code",
   "execution_count": 1379,
   "metadata": {
    "collapsed": false,
    "scrolled": true
   },
   "outputs": [
    {
     "data": {
      "text/html": [
       "<div>\n",
       "<table border=\"1\" class=\"dataframe\">\n",
       "  <thead>\n",
       "    <tr style=\"text-align: right;\">\n",
       "      <th></th>\n",
       "      <th>CASEID</th>\n",
       "      <th>QUESTID2</th>\n",
       "      <th>CIGEVER</th>\n",
       "      <th>CIGOFRSM</th>\n",
       "      <th>CIGWILYR</th>\n",
       "      <th>CIGTRY</th>\n",
       "      <th>CIGYFU</th>\n",
       "      <th>CIGMFU</th>\n",
       "      <th>CIGREC</th>\n",
       "      <th>CIG30USE</th>\n",
       "      <th>...</th>\n",
       "      <th>days_used_past_month</th>\n",
       "      <th>religious_importance</th>\n",
       "      <th>days_5plusdrinks_past_mo</th>\n",
       "      <th>age</th>\n",
       "      <th>gender</th>\n",
       "      <th>race</th>\n",
       "      <th>education</th>\n",
       "      <th>work_situation_past_wk</th>\n",
       "      <th>tot_fam_income</th>\n",
       "      <th>y</th>\n",
       "    </tr>\n",
       "  </thead>\n",
       "  <tbody>\n",
       "    <tr>\n",
       "      <th>1</th>\n",
       "      <td>2</td>\n",
       "      <td>16240983</td>\n",
       "      <td>1</td>\n",
       "      <td>99</td>\n",
       "      <td>99</td>\n",
       "      <td>16</td>\n",
       "      <td>9999</td>\n",
       "      <td>99</td>\n",
       "      <td>1</td>\n",
       "      <td>1</td>\n",
       "      <td>...</td>\n",
       "      <td>7</td>\n",
       "      <td>3</td>\n",
       "      <td>1</td>\n",
       "      <td>4</td>\n",
       "      <td>1</td>\n",
       "      <td>1</td>\n",
       "      <td>3</td>\n",
       "      <td>2</td>\n",
       "      <td>2</td>\n",
       "      <td>1.0</td>\n",
       "    </tr>\n",
       "    <tr>\n",
       "      <th>8</th>\n",
       "      <td>9</td>\n",
       "      <td>45642490</td>\n",
       "      <td>2</td>\n",
       "      <td>99</td>\n",
       "      <td>99</td>\n",
       "      <td>991</td>\n",
       "      <td>9991</td>\n",
       "      <td>91</td>\n",
       "      <td>91</td>\n",
       "      <td>91</td>\n",
       "      <td>...</td>\n",
       "      <td>7</td>\n",
       "      <td>2</td>\n",
       "      <td>1</td>\n",
       "      <td>7</td>\n",
       "      <td>1</td>\n",
       "      <td>1</td>\n",
       "      <td>3</td>\n",
       "      <td>4</td>\n",
       "      <td>7</td>\n",
       "      <td>1.0</td>\n",
       "    </tr>\n",
       "    <tr>\n",
       "      <th>12</th>\n",
       "      <td>13</td>\n",
       "      <td>99692998</td>\n",
       "      <td>1</td>\n",
       "      <td>99</td>\n",
       "      <td>99</td>\n",
       "      <td>12</td>\n",
       "      <td>9999</td>\n",
       "      <td>99</td>\n",
       "      <td>3</td>\n",
       "      <td>93</td>\n",
       "      <td>...</td>\n",
       "      <td>7</td>\n",
       "      <td>3</td>\n",
       "      <td>1</td>\n",
       "      <td>5</td>\n",
       "      <td>1</td>\n",
       "      <td>1</td>\n",
       "      <td>2</td>\n",
       "      <td>1</td>\n",
       "      <td>6</td>\n",
       "      <td>1.0</td>\n",
       "    </tr>\n",
       "    <tr>\n",
       "      <th>17</th>\n",
       "      <td>18</td>\n",
       "      <td>67107154</td>\n",
       "      <td>1</td>\n",
       "      <td>99</td>\n",
       "      <td>99</td>\n",
       "      <td>15</td>\n",
       "      <td>9999</td>\n",
       "      <td>99</td>\n",
       "      <td>1</td>\n",
       "      <td>25</td>\n",
       "      <td>...</td>\n",
       "      <td>7</td>\n",
       "      <td>1</td>\n",
       "      <td>15</td>\n",
       "      <td>7</td>\n",
       "      <td>1</td>\n",
       "      <td>1</td>\n",
       "      <td>4</td>\n",
       "      <td>1</td>\n",
       "      <td>7</td>\n",
       "      <td>0.0</td>\n",
       "    </tr>\n",
       "    <tr>\n",
       "      <th>18</th>\n",
       "      <td>19</td>\n",
       "      <td>89015615</td>\n",
       "      <td>1</td>\n",
       "      <td>99</td>\n",
       "      <td>99</td>\n",
       "      <td>19</td>\n",
       "      <td>9999</td>\n",
       "      <td>99</td>\n",
       "      <td>1</td>\n",
       "      <td>30</td>\n",
       "      <td>...</td>\n",
       "      <td>7</td>\n",
       "      <td>1</td>\n",
       "      <td>8</td>\n",
       "      <td>7</td>\n",
       "      <td>1</td>\n",
       "      <td>7</td>\n",
       "      <td>3</td>\n",
       "      <td>1</td>\n",
       "      <td>5</td>\n",
       "      <td>0.0</td>\n",
       "    </tr>\n",
       "  </tbody>\n",
       "</table>\n",
       "<p>5 rows × 3164 columns</p>\n",
       "</div>"
      ],
      "text/plain": [
       "    CASEID  QUESTID2  CIGEVER  CIGOFRSM  CIGWILYR  CIGTRY  CIGYFU  CIGMFU  \\\n",
       "1        2  16240983        1        99        99      16    9999      99   \n",
       "8        9  45642490        2        99        99     991    9991      91   \n",
       "12      13  99692998        1        99        99      12    9999      99   \n",
       "17      18  67107154        1        99        99      15    9999      99   \n",
       "18      19  89015615        1        99        99      19    9999      99   \n",
       "\n",
       "    CIGREC  CIG30USE ...   days_used_past_month  religious_importance  \\\n",
       "1        1         1 ...                      7                     3   \n",
       "8       91        91 ...                      7                     2   \n",
       "12       3        93 ...                      7                     3   \n",
       "17       1        25 ...                      7                     1   \n",
       "18       1        30 ...                      7                     1   \n",
       "\n",
       "    days_5plusdrinks_past_mo  age  gender  race  education  \\\n",
       "1                          1    4       1     1          3   \n",
       "8                          1    7       1     1          3   \n",
       "12                         1    5       1     1          2   \n",
       "17                        15    7       1     1          4   \n",
       "18                         8    7       1     7          3   \n",
       "\n",
       "    work_situation_past_wk  tot_fam_income    y  \n",
       "1                        2               2  1.0  \n",
       "8                        4               7  1.0  \n",
       "12                       1               6  1.0  \n",
       "17                       1               7  0.0  \n",
       "18                       1               5  0.0  \n",
       "\n",
       "[5 rows x 3164 columns]"
      ]
     },
     "execution_count": 1379,
     "metadata": {},
     "output_type": "execute_result"
    }
   ],
   "source": [
    "df_responses.head()"
   ]
  },
  {
   "cell_type": "code",
   "execution_count": 1380,
   "metadata": {
    "collapsed": false
   },
   "outputs": [
    {
     "data": {
      "text/plain": [
       "0.0    5166\n",
       "1.0    2150\n",
       "Name: y, dtype: int64"
      ]
     },
     "execution_count": 1380,
     "metadata": {},
     "output_type": "execute_result"
    }
   ],
   "source": [
    "df_responses['y'].value_counts()"
   ]
  },
  {
   "cell_type": "code",
   "execution_count": 1381,
   "metadata": {
    "collapsed": true
   },
   "outputs": [],
   "source": [
    "X = df_responses[['age_first_used', 'age_first_alc', 'tot_days_past_year', 'days_per_week_past_year', 'days_per_week_alc', \n",
    "    'last_used', 'days_used_past_month', 'age', 'gender', 'race', 'education', 'work_situation_past_wk',\n",
    "       'days_5plusdrinks_past_mo', 'tot_fam_income', 'religious_importance']]\n",
    "y = df_responses['y']\n",
    "df_final = pd.concat([X, y], axis=1)"
   ]
  },
  {
   "cell_type": "code",
   "execution_count": 1382,
   "metadata": {
    "collapsed": false,
    "scrolled": true
   },
   "outputs": [
    {
     "data": {
      "text/html": [
       "<div>\n",
       "<table border=\"1\" class=\"dataframe\">\n",
       "  <thead>\n",
       "    <tr style=\"text-align: right;\">\n",
       "      <th></th>\n",
       "      <th>age_first_used</th>\n",
       "      <th>age_first_alc</th>\n",
       "      <th>tot_days_past_year</th>\n",
       "      <th>days_per_week_past_year</th>\n",
       "      <th>days_per_week_alc</th>\n",
       "      <th>last_used</th>\n",
       "      <th>days_used_past_month</th>\n",
       "      <th>age</th>\n",
       "      <th>gender</th>\n",
       "      <th>race</th>\n",
       "      <th>education</th>\n",
       "      <th>work_situation_past_wk</th>\n",
       "      <th>days_5plusdrinks_past_mo</th>\n",
       "      <th>tot_fam_income</th>\n",
       "      <th>religious_importance</th>\n",
       "      <th>y</th>\n",
       "    </tr>\n",
       "  </thead>\n",
       "  <tbody>\n",
       "    <tr>\n",
       "      <th>1</th>\n",
       "      <td>1</td>\n",
       "      <td>1</td>\n",
       "      <td>2</td>\n",
       "      <td>2</td>\n",
       "      <td>4</td>\n",
       "      <td>1</td>\n",
       "      <td>7</td>\n",
       "      <td>4</td>\n",
       "      <td>1</td>\n",
       "      <td>1</td>\n",
       "      <td>3</td>\n",
       "      <td>2</td>\n",
       "      <td>1</td>\n",
       "      <td>2</td>\n",
       "      <td>3</td>\n",
       "      <td>1.0</td>\n",
       "    </tr>\n",
       "    <tr>\n",
       "      <th>8</th>\n",
       "      <td>2</td>\n",
       "      <td>2</td>\n",
       "      <td>1</td>\n",
       "      <td>1</td>\n",
       "      <td>2</td>\n",
       "      <td>1</td>\n",
       "      <td>7</td>\n",
       "      <td>7</td>\n",
       "      <td>1</td>\n",
       "      <td>1</td>\n",
       "      <td>3</td>\n",
       "      <td>4</td>\n",
       "      <td>1</td>\n",
       "      <td>7</td>\n",
       "      <td>2</td>\n",
       "      <td>1.0</td>\n",
       "    </tr>\n",
       "    <tr>\n",
       "      <th>12</th>\n",
       "      <td>1</td>\n",
       "      <td>1</td>\n",
       "      <td>1</td>\n",
       "      <td>4</td>\n",
       "      <td>2</td>\n",
       "      <td>1</td>\n",
       "      <td>7</td>\n",
       "      <td>5</td>\n",
       "      <td>1</td>\n",
       "      <td>1</td>\n",
       "      <td>2</td>\n",
       "      <td>1</td>\n",
       "      <td>1</td>\n",
       "      <td>6</td>\n",
       "      <td>3</td>\n",
       "      <td>1.0</td>\n",
       "    </tr>\n",
       "    <tr>\n",
       "      <th>17</th>\n",
       "      <td>1</td>\n",
       "      <td>1</td>\n",
       "      <td>2</td>\n",
       "      <td>4</td>\n",
       "      <td>4</td>\n",
       "      <td>1</td>\n",
       "      <td>7</td>\n",
       "      <td>7</td>\n",
       "      <td>1</td>\n",
       "      <td>1</td>\n",
       "      <td>4</td>\n",
       "      <td>1</td>\n",
       "      <td>15</td>\n",
       "      <td>7</td>\n",
       "      <td>1</td>\n",
       "      <td>0.0</td>\n",
       "    </tr>\n",
       "    <tr>\n",
       "      <th>18</th>\n",
       "      <td>1</td>\n",
       "      <td>1</td>\n",
       "      <td>4</td>\n",
       "      <td>4</td>\n",
       "      <td>2</td>\n",
       "      <td>1</td>\n",
       "      <td>7</td>\n",
       "      <td>7</td>\n",
       "      <td>1</td>\n",
       "      <td>7</td>\n",
       "      <td>3</td>\n",
       "      <td>1</td>\n",
       "      <td>8</td>\n",
       "      <td>5</td>\n",
       "      <td>1</td>\n",
       "      <td>0.0</td>\n",
       "    </tr>\n",
       "  </tbody>\n",
       "</table>\n",
       "</div>"
      ],
      "text/plain": [
       "    age_first_used  age_first_alc  tot_days_past_year  \\\n",
       "1                1              1                   2   \n",
       "8                2              2                   1   \n",
       "12               1              1                   1   \n",
       "17               1              1                   2   \n",
       "18               1              1                   4   \n",
       "\n",
       "    days_per_week_past_year  days_per_week_alc  last_used  \\\n",
       "1                         2                  4          1   \n",
       "8                         1                  2          1   \n",
       "12                        4                  2          1   \n",
       "17                        4                  4          1   \n",
       "18                        4                  2          1   \n",
       "\n",
       "    days_used_past_month  age  gender  race  education  \\\n",
       "1                      7    4       1     1          3   \n",
       "8                      7    7       1     1          3   \n",
       "12                     7    5       1     1          2   \n",
       "17                     7    7       1     1          4   \n",
       "18                     7    7       1     7          3   \n",
       "\n",
       "    work_situation_past_wk  days_5plusdrinks_past_mo  tot_fam_income  \\\n",
       "1                        2                         1               2   \n",
       "8                        4                         1               7   \n",
       "12                       1                         1               6   \n",
       "17                       1                        15               7   \n",
       "18                       1                         8               5   \n",
       "\n",
       "    religious_importance    y  \n",
       "1                      3  1.0  \n",
       "8                      2  1.0  \n",
       "12                     3  1.0  \n",
       "17                     1  0.0  \n",
       "18                     1  0.0  "
      ]
     },
     "execution_count": 1382,
     "metadata": {},
     "output_type": "execute_result"
    }
   ],
   "source": [
    "df_final.head()"
   ]
  },
  {
   "cell_type": "code",
   "execution_count": 1383,
   "metadata": {
    "collapsed": false,
    "scrolled": false
   },
   "outputs": [
    {
     "data": {
      "text/plain": [
       "(7316, 16)"
      ]
     },
     "execution_count": 1383,
     "metadata": {},
     "output_type": "execute_result"
    }
   ],
   "source": [
    "df_final.shape"
   ]
  },
  {
   "cell_type": "markdown",
   "metadata": {},
   "source": [
    "# STRATIFIED KFOLD"
   ]
  },
  {
   "cell_type": "code",
   "execution_count": 1384,
   "metadata": {
    "collapsed": false,
    "scrolled": true
   },
   "outputs": [
    {
     "name": "stdout",
     "output_type": "stream",
     "text": [
      "TRAIN: [1457 1459 1460 ..., 7313 7314 7315] TEST: [   0    1    2 ..., 1477 1478 1479]\n",
      "TRAIN: [   0    1    2 ..., 7313 7314 7315] TEST: [1457 1459 1460 ..., 2938 2939 2941]\n",
      "TRAIN: [   0    1    2 ..., 7313 7314 7315] TEST: [2890 2892 2901 ..., 4412 4414 4416]\n",
      "TRAIN: [   0    1    2 ..., 7313 7314 7315] TEST: [4318 4323 4324 ..., 5898 5901 5902]\n",
      "TRAIN: [   0    1    2 ..., 5898 5901 5902] TEST: [5775 5777 5782 ..., 7313 7314 7315]\n"
     ]
    }
   ],
   "source": [
    "from sklearn.model_selection import StratifiedKFold #splits it evenly do i don't lose valuable y vector.\n",
    "skf = StratifiedKFold(n_splits=5, random_state = 42)\n",
    "for train_index, test_index in skf.split(X, y):\n",
    "    print(\"TRAIN:\", train_index, \"TEST:\", test_index)\n",
    "    X_train, X_test = X.iloc[train_index], X.iloc[test_index]\n",
    "    y_train, y_test = y.iloc[train_index], y.iloc[test_index]"
   ]
  },
  {
   "cell_type": "markdown",
   "metadata": {},
   "source": [
    "# RANDOM FOREST"
   ]
  },
  {
   "cell_type": "code",
   "execution_count": 1385,
   "metadata": {
    "collapsed": true
   },
   "outputs": [],
   "source": [
    "from sklearn.ensemble import RandomForestClassifier"
   ]
  },
  {
   "cell_type": "code",
   "execution_count": 1386,
   "metadata": {
    "collapsed": false
   },
   "outputs": [],
   "source": [
    "rfmodel1 = RandomForestClassifier(n_estimators = 500, min_samples_leaf=1, max_features=2, n_jobs=-1, class_weight='balanced_subsample')\n",
    "rfmodel1.fit(X_train,y_train);"
   ]
  },
  {
   "cell_type": "code",
   "execution_count": 1387,
   "metadata": {
    "collapsed": false
   },
   "outputs": [],
   "source": [
    "rfmodel1_pred = rfmodel1.predict_proba(X_test)[:,1]"
   ]
  },
  {
   "cell_type": "code",
   "execution_count": 1388,
   "metadata": {
    "collapsed": false,
    "scrolled": false
   },
   "outputs": [
    {
     "data": {
      "text/plain": [
       "array([ 0.456,  0.326,  0.418, ...,  0.216,  0.116,  0.15 ])"
      ]
     },
     "execution_count": 1388,
     "metadata": {},
     "output_type": "execute_result"
    }
   ],
   "source": [
    "rfmodel1_pred"
   ]
  },
  {
   "cell_type": "code",
   "execution_count": 1389,
   "metadata": {
    "collapsed": false,
    "scrolled": true
   },
   "outputs": [
    {
     "data": {
      "text/plain": [
       "[(0.029792313814023783, 'age_first_used'),\n",
       " (0.030101539532630429, 'age_first_alc'),\n",
       " (0.10020538888679226, 'tot_days_past_year'),\n",
       " (0.059999195245236704, 'days_per_week_past_year'),\n",
       " (0.054041753064366489, 'days_per_week_alc'),\n",
       " (0.025543826762848554, 'last_used'),\n",
       " (0.0034159358762188268, 'days_used_past_month'),\n",
       " (0.091080144527866058, 'age'),\n",
       " (0.033695749906315083, 'gender'),\n",
       " (0.068764316476802631, 'race'),\n",
       " (0.072236141155532951, 'education'),\n",
       " (0.1004994910062212, 'work_situation_past_wk'),\n",
       " (0.13691386235035508, 'days_5plusdrinks_past_mo'),\n",
       " (0.11955619861044607, 'tot_fam_income'),\n",
       " (0.074154142784343832, 'religious_importance')]"
      ]
     },
     "execution_count": 1389,
     "metadata": {},
     "output_type": "execute_result"
    }
   ],
   "source": [
    "zip(rfmodel1.feature_importances_,X_train.columns)"
   ]
  },
  {
   "cell_type": "markdown",
   "metadata": {},
   "source": [
    "# PLOT IT"
   ]
  },
  {
   "cell_type": "code",
   "execution_count": 1390,
   "metadata": {
    "collapsed": false,
    "scrolled": false
   },
   "outputs": [
    {
     "data": {
      "text/plain": [
       "<matplotlib.legend.Legend at 0x16b44d0d0>"
      ]
     },
     "execution_count": 1390,
     "metadata": {},
     "output_type": "execute_result"
    },
    {
     "data": {
      "image/png": "[encoded data removed]",
      "text/plain": [
       "<matplotlib.figure.Figure at 0x13c07e350>"
      ]
     },
     "metadata": {},
     "output_type": "display_data"
    }
   ],
   "source": [
    "precision_rf, recall_rf, threshold_rf = metrics.precision_recall_curve(y_test,rfmodel1_pred)\n",
    "\n",
    "plt.plot(precision_rf, recall_rf, label='Random Forest')\n",
    "\n",
    "plt.xlabel('Precision')\n",
    "plt.ylabel('Recall')\n",
    "plt.title('Precision Recall Curve')\n",
    "plt.tight_layout();\n",
    "\n",
    "precision_gb, recall_gb, threshold_gb = metrics.precision_recall_curve(y_test,gb1_test_pred)\n",
    "\n",
    "plt.plot(precision_gb[:-1], recall_gb[:-1], label='Gradient Boosting')\n",
    "# is number of ones - recall you are leaving behind.\n",
    "plt.xlim([0,1])\n",
    "plt.ylim([0,1])\n",
    "plt.xlabel('Precision')\n",
    "plt.ylabel('Recall')\n",
    "plt.title('Precision Recall Curve')\n",
    "plt.tight_layout();\n",
    "\n",
    "plt.legend(loc=1)"
   ]
  },
  {
   "cell_type": "code",
   "execution_count": 1391,
   "metadata": {
    "collapsed": true
   },
   "outputs": [],
   "source": [
    "#increasing recall means i am catching more people who are not necessarily addicts (yet) but has the potential, because\n",
    "#it is misclassifying people. people who have no predisposition to addiction but model is being conservative to say yes.\n",
    "#higher precision means i am catching all the addicts."
   ]
  },
  {
   "cell_type": "code",
   "execution_count": 1392,
   "metadata": {
    "collapsed": false
   },
   "outputs": [
    {
     "data": {
      "text/plain": [
       "array([ 0.29634735,  0.29606625,  0.29627072,  0.29647547,  0.29709141,\n",
       "        0.29770992,  0.29742877,  0.29846583,  0.2993007 ,  0.29971989,\n",
       "        0.30014025,  0.30119634,  0.30140845,  0.30162086,  0.30204658,\n",
       "        0.30225989,  0.3024735 ,  0.30333097,  0.30369844,  0.30456491,\n",
       "        0.3047823 ,  0.30587393,  0.30741541,  0.30763689,  0.30852601,\n",
       "        0.30824891,  0.30836364,  0.30948905,  0.30994152,  0.3110785 ,\n",
       "        0.31153564,  0.31222386,  0.31407407,  0.31430689,  0.31524164,\n",
       "        0.31547619,  0.31641791,  0.31661677,  0.31685393,  0.31756757,\n",
       "        0.3185241 ,  0.31924528,  0.32216299,  0.32186544,  0.32359723,\n",
       "        0.32434515,  0.32534776,  0.32559938,  0.32762646,  0.32788162,\n",
       "        0.32813718,  0.32942097,  0.32967894,  0.33019608,  0.33045526,\n",
       "        0.33175729,  0.33123028,  0.33200953,  0.33227345,  0.33306709,\n",
       "        0.33333333,  0.33413849,  0.33440774,  0.33467742,  0.33522267,\n",
       "        0.33549433,  0.33549959,  0.33577832,  0.33743842,  0.33800495,\n",
       "        0.33828383,  0.33746898,  0.33858921,  0.34      ,  0.34031852,\n",
       "        0.34060403,  0.34263959,  0.34268707,  0.34297872,  0.34329633,\n",
       "        0.34302823,  0.34332192,  0.34361611,  0.34364261,  0.34542314,\n",
       "        0.34572169,  0.34722222,  0.34786399,  0.34816754,  0.34847162,\n",
       "        0.34885764,  0.35075288,  0.35262689,  0.35483871,  0.35521583,\n",
       "        0.35553555,  0.356301  ,  0.35989011,  0.36121324,  0.360519  ,\n",
       "        0.36126629,  0.36160298,  0.36168224,  0.36202058,  0.36235955,\n",
       "        0.36269916,  0.3630394 ,  0.36312324,  0.36346516,  0.3637227 ,\n",
       "        0.36311787,  0.36251189,  0.36398467,  0.36547734,  0.36699029,\n",
       "        0.36734694,  0.36852395,  0.36888454,  0.36982249,  0.37128713,\n",
       "        0.37037037,  0.37074148,  0.37111334,  0.37134208,  0.37372709,\n",
       "        0.37242798,  0.37525988,  0.37460978,  0.37382199,  0.37421384,\n",
       "        0.37671958,  0.37645811,  0.37685775,  0.37713675,  0.37754011,\n",
       "        0.37687366,  0.37674919,  0.37867247,  0.37908497,  0.37991266,\n",
       "        0.38032787,  0.38063806,  0.3820598 ,  0.38248337,  0.381798  ,\n",
       "        0.38496072,  0.38539326,  0.38582677,  0.38626126,  0.38819523,\n",
       "        0.38971429,  0.39195402,  0.3926097 ,  0.39327146,  0.39372822,\n",
       "        0.3950762 ,  0.39716312,  0.39763314,  0.40023895,  0.4007177 ,\n",
       "        0.4011976 ,  0.40291262,  0.40340219,  0.40389294,  0.40316687,\n",
       "        0.40365854,  0.40740741,  0.407911  ,  0.41044776,  0.4109589 ,\n",
       "        0.41147132,  0.41176471,  0.40960809,  0.41012658,  0.41064639,\n",
       "        0.41304348,  0.41357234,  0.41410256,  0.41463415,  0.41494845,\n",
       "        0.41634241,  0.41775457,  0.41699346,  0.41753927,  0.41688654,\n",
       "        0.41611625,  0.41689008,  0.41744966,  0.41756757,  0.420191  ,\n",
       "        0.42076503,  0.4217033 ,  0.42228336,  0.42265193,  0.42185339,\n",
       "        0.42002782,  0.42061281,  0.42112676,  0.42209632,  0.42120344,\n",
       "        0.42180775,  0.42485549,  0.42402315,  0.42627737,  0.42983752,\n",
       "        0.43005952,  0.43070045,  0.43134328,  0.43263473,  0.43178411,\n",
       "        0.43093093,  0.43137255,  0.43202417,  0.43161094,  0.43226788,\n",
       "        0.43140244,  0.43605547,  0.4367284 ,  0.4363354 ,  0.43887147,\n",
       "        0.4414557 ,  0.44126984,  0.44197138,  0.44019139,  0.44089457,\n",
       "        0.44301766,  0.44212219,  0.44498382,  0.44535073,  0.44663383,\n",
       "        0.44719472,  0.44628099,  0.45210084,  0.45286195,  0.45423729,\n",
       "        0.45611015,  0.45689655,  0.45595855,  0.45580589,  0.45659722,\n",
       "        0.4573913 ,  0.45818815,  0.46059545,  0.46140351,  0.46045694,\n",
       "        0.45950704,  0.46031746,  0.4619469 ,  0.46276596,  0.46181172,\n",
       "        0.46167558,  0.46071429,  0.45931284,  0.46014493,  0.4606947 ,\n",
       "        0.46153846,  0.46025878,  0.46111111,  0.46011132,  0.46240602,\n",
       "        0.46327684,  0.46502836,  0.46590909,  0.46755725,  0.4665392 ,\n",
       "        0.46551724,  0.46820809,  0.46718147,  0.46899225,  0.46796117,\n",
       "        0.47070312,  0.47347741,  0.47233202,  0.47117296,  0.47590361,\n",
       "        0.47686117,  0.47782258,  0.47878788,  0.47959184,  0.48155738,\n",
       "        0.4825462 ,  0.48347107,  0.48240166,  0.48427673,  0.48529412,\n",
       "        0.48631579,  0.48516949,  0.48400853,  0.48504274,  0.48712446,\n",
       "        0.48366013,  0.48471616,  0.48571429,  0.4845815 ,  0.48565121,\n",
       "        0.48660714,  0.48878924,  0.48988764,  0.48873874,  0.49206349,\n",
       "        0.49885057,  0.49883991,  0.5       ,  0.5       ,  0.50117647,\n",
       "        0.50235849,  0.5047619 ,  0.50717703,  0.50843373,  0.50970874,\n",
       "        0.51100244,  0.50985222,  0.51111111,  0.50990099,  0.51262626,\n",
       "        0.52051282,  0.5218509 ,  0.52061856,  0.52196382,  0.5234375 ,\n",
       "        0.52230971,  0.52368421,  0.52506596,  0.52519894,  0.52533333,\n",
       "        0.52673797,  0.52845528,  0.52717391,  0.52472527,  0.52341598,\n",
       "        0.52380952,  0.5252809 ,  0.52394366,  0.52      ,  0.52034884,\n",
       "        0.51895044,  0.52238806,  0.52095808,  0.52409639,  0.52599388,\n",
       "        0.52760736,  0.52615385,  0.5310559 ,  0.53271028,  0.53144654,\n",
       "        0.53312303,  0.53333333,  0.53548387,  0.53721683,  0.53745928,\n",
       "        0.53770492,  0.53618421,  0.53642384,  0.53820598,  0.54026846,\n",
       "        0.54081633,  0.54266212,  0.54109589,  0.5432526 ,  0.54513889,\n",
       "        0.54736842,  0.54929577,  0.55197133,  0.55035971,  0.54710145,\n",
       "        0.54578755,  0.54779412,  0.55018587,  0.55471698,  0.55681818,\n",
       "        0.55725191,  0.55555556,  0.55984556,  0.55813953,  0.56078431,\n",
       "        0.56126482,  0.56349206,  0.56573705,  0.568     ,  0.56451613,\n",
       "        0.56326531,  0.56557377,  0.57024793,  0.57383966,  0.5720339 ,\n",
       "        0.57264957,  0.57081545,  0.57142857,  0.56956522,  0.56828194,\n",
       "        0.57079646,  0.56950673,  0.56756757,  0.57272727,  0.57534247,\n",
       "        0.57142857,  0.57407407,  0.57674419,  0.58293839,  0.58095238,\n",
       "        0.57971014,  0.5862069 ,  0.58291457,  0.58585859,  0.58974359,\n",
       "        0.58762887,  0.58549223,  0.58333333,  0.58115183,  0.57894737,\n",
       "        0.58201058,  0.57978723,  0.58602151,  0.58918919,  0.58695652,\n",
       "        0.59016393,  0.58791209,  0.59116022,  0.59776536,  0.59550562,\n",
       "        0.59322034,  0.59659091,  0.59428571,  0.59770115,  0.60115607,\n",
       "        0.60465116,  0.60233918,  0.60714286,  0.60479042,  0.60843373,\n",
       "        0.61111111,  0.60869565,  0.60126582,  0.6       ,  0.60784314,\n",
       "        0.60526316,  0.60264901,  0.60666667,  0.61073826,  0.61643836,\n",
       "        0.61805556,  0.61538462,  0.61971831,  0.61702128,  0.61428571,\n",
       "        0.61151079,  0.61764706,  0.62222222,  0.62878788,  0.6259542 ,\n",
       "        0.62307692,  0.616     ,  0.62096774,  0.61788618,  0.6147541 ,\n",
       "        0.61157025,  0.60833333,  0.61016949,  0.61538462,  0.62280702,\n",
       "        0.61946903,  0.61607143,  0.61261261,  0.60909091,  0.61320755,\n",
       "        0.60952381,  0.61538462,  0.60784314,  0.6       ,  0.59183673,\n",
       "        0.58333333,  0.57894737,  0.56989247,  0.56521739,  0.57142857,\n",
       "        0.56179775,  0.56976744,  0.56470588,  0.55421687,  0.56097561,\n",
       "        0.55696203,  0.55128205,  0.55844156,  0.56      ,  0.56756757,\n",
       "        0.56164384,  0.55555556,  0.54285714,  0.55072464,  0.55882353,\n",
       "        0.56716418,  0.56060606,  0.58730159,  0.58064516,  0.59016393,\n",
       "        0.58333333,  0.5862069 ,  0.57894737,  0.57142857,  0.56363636,\n",
       "        0.57407407,  0.56603774,  0.55769231,  0.54901961,  0.54      ,\n",
       "        0.55102041,  0.54166667,  0.53191489,  0.54347826,  0.54545455,\n",
       "        0.52380952,  0.51219512,  0.48717949,  0.5       ,  0.48648649,\n",
       "        0.47222222,  0.48571429,  0.5       ,  0.51515152,  0.53125   ,\n",
       "        0.56666667,  0.55172414,  0.57142857,  0.55555556,  0.53846154,\n",
       "        0.56      ,  0.54166667,  0.52173913,  0.55      ,  0.57894737,\n",
       "        0.61111111,  0.58823529,  0.5625    ,  0.6       ,  0.64285714,\n",
       "        0.61538462,  0.66666667,  0.63636364,  0.7       ,  0.66666667,\n",
       "        0.75      ,  0.71428571,  0.83333333,  0.8       ,  0.75      ,\n",
       "        0.66666667,  1.        ,  1.        ,  1.        ])"
      ]
     },
     "execution_count": 1392,
     "metadata": {},
     "output_type": "execute_result"
    }
   ],
   "source": [
    "precision_rf"
   ]
  },
  {
   "cell_type": "code",
   "execution_count": 1393,
   "metadata": {
    "collapsed": false
   },
   "outputs": [
    {
     "data": {
      "text/plain": [
       "1.0"
      ]
     },
     "execution_count": 1393,
     "metadata": {},
     "output_type": "execute_result"
    }
   ],
   "source": [
    "np.max(precision_rf[:-2])"
   ]
  },
  {
   "cell_type": "code",
   "execution_count": 1394,
   "metadata": {
    "collapsed": false
   },
   "outputs": [
    {
     "data": {
      "text/plain": [
       "array([ 1.        ,  0.99767442,  0.99767442,  0.99767442,  0.99767442,\n",
       "        0.99767442,  0.99534884,  0.99534884,  0.99534884,  0.99534884,\n",
       "        0.99534884,  0.99534884,  0.99534884,  0.99534884,  0.99534884,\n",
       "        0.99534884,  0.99534884,  0.99534884,  0.99302326,  0.99302326,\n",
       "        0.99302326,  0.99302326,  0.99302326,  0.99302326,  0.99302326,\n",
       "        0.99069767,  0.98604651,  0.98604651,  0.98604651,  0.98604651,\n",
       "        0.98604651,  0.98604651,  0.98604651,  0.98604651,  0.98604651,\n",
       "        0.98604651,  0.98604651,  0.98372093,  0.98372093,  0.98372093,\n",
       "        0.98372093,  0.98372093,  0.98372093,  0.97906977,  0.97906977,\n",
       "        0.97906977,  0.97906977,  0.97906977,  0.97906977,  0.97906977,\n",
       "        0.97906977,  0.97906977,  0.97906977,  0.97906977,  0.97906977,\n",
       "        0.97906977,  0.97674419,  0.97209302,  0.97209302,  0.96976744,\n",
       "        0.96976744,  0.96511628,  0.96511628,  0.96511628,  0.9627907 ,\n",
       "        0.9627907 ,  0.96046512,  0.95813953,  0.95581395,  0.95348837,\n",
       "        0.95348837,  0.94883721,  0.94883721,  0.94883721,  0.94418605,\n",
       "        0.94418605,  0.94186047,  0.9372093 ,  0.9372093 ,  0.93488372,\n",
       "        0.93255814,  0.93255814,  0.93255814,  0.93023256,  0.93023256,\n",
       "        0.93023256,  0.93023256,  0.92790698,  0.92790698,  0.92790698,\n",
       "        0.92325581,  0.92093023,  0.92093023,  0.92093023,  0.91860465,\n",
       "        0.91860465,  0.91395349,  0.91395349,  0.91395349,  0.90465116,\n",
       "        0.90232558,  0.90232558,  0.9       ,  0.9       ,  0.9       ,\n",
       "        0.9       ,  0.9       ,  0.89767442,  0.89767442,  0.89069767,\n",
       "        0.88837209,  0.88604651,  0.88372093,  0.88139535,  0.87906977,\n",
       "        0.87906977,  0.87674419,  0.87674419,  0.87209302,  0.87209302,\n",
       "        0.86046512,  0.86046512,  0.86046512,  0.85581395,  0.85348837,\n",
       "        0.84186047,  0.83953488,  0.8372093 ,  0.83023256,  0.83023256,\n",
       "        0.82790698,  0.8255814 ,  0.8255814 ,  0.82093023,  0.82093023,\n",
       "        0.81860465,  0.81395349,  0.80930233,  0.80930233,  0.80930233,\n",
       "        0.80930233,  0.80465116,  0.80232558,  0.80232558,  0.8       ,\n",
       "        0.79767442,  0.79767442,  0.79767442,  0.79767442,  0.79534884,\n",
       "        0.79302326,  0.79302326,  0.79069767,  0.78837209,  0.78837209,\n",
       "        0.78372093,  0.78139535,  0.78139535,  0.77906977,  0.77906977,\n",
       "        0.77906977,  0.77209302,  0.77209302,  0.77209302,  0.76976744,\n",
       "        0.76976744,  0.76744186,  0.76744186,  0.76744186,  0.76744186,\n",
       "        0.76744186,  0.76511628,  0.75348837,  0.75348837,  0.75348837,\n",
       "        0.75116279,  0.75116279,  0.75116279,  0.75116279,  0.74883721,\n",
       "        0.74651163,  0.74418605,  0.74186047,  0.74186047,  0.73488372,\n",
       "        0.73255814,  0.72325581,  0.72325581,  0.71860465,  0.71627907,\n",
       "        0.71627907,  0.71395349,  0.71395349,  0.71162791,  0.70930233,\n",
       "        0.70232558,  0.70232558,  0.69534884,  0.69302326,  0.68372093,\n",
       "        0.68372093,  0.68372093,  0.68139535,  0.67906977,  0.67674419,\n",
       "        0.67209302,  0.67209302,  0.67209302,  0.67209302,  0.66976744,\n",
       "        0.66744186,  0.66511628,  0.66511628,  0.66046512,  0.66046512,\n",
       "        0.65813953,  0.65813953,  0.65813953,  0.65348837,  0.65116279,\n",
       "        0.64883721,  0.64651163,  0.64651163,  0.64186047,  0.64186047,\n",
       "        0.64186047,  0.63953488,  0.63953488,  0.63488372,  0.63255814,\n",
       "        0.63023256,  0.62790698,  0.6255814 ,  0.6255814 ,  0.62325581,\n",
       "        0.61627907,  0.61627907,  0.61395349,  0.61162791,  0.61162791,\n",
       "        0.61162791,  0.61162791,  0.61162791,  0.61162791,  0.60930233,\n",
       "        0.60697674,  0.60697674,  0.60697674,  0.60697674,  0.60465116,\n",
       "        0.60232558,  0.6       ,  0.59069767,  0.59069767,  0.58604651,\n",
       "        0.58604651,  0.57906977,  0.57906977,  0.57674419,  0.57209302,\n",
       "        0.57209302,  0.57209302,  0.57209302,  0.56976744,  0.56744186,\n",
       "        0.56511628,  0.56511628,  0.5627907 ,  0.5627907 ,  0.56046512,\n",
       "        0.56046512,  0.56046512,  0.55581395,  0.55116279,  0.55116279,\n",
       "        0.55116279,  0.55116279,  0.55116279,  0.54651163,  0.54651163,\n",
       "        0.54651163,  0.54418605,  0.54186047,  0.5372093 ,  0.5372093 ,\n",
       "        0.5372093 ,  0.53255814,  0.52790698,  0.52790698,  0.52790698,\n",
       "        0.51627907,  0.51627907,  0.51395349,  0.51162791,  0.51162791,\n",
       "        0.50697674,  0.50697674,  0.50697674,  0.50465116,  0.50465116,\n",
       "        0.50465116,  0.5       ,  0.5       ,  0.49534884,  0.49534884,\n",
       "        0.49534884,  0.49302326,  0.49302326,  0.49069767,  0.48837209,\n",
       "        0.48604651,  0.48139535,  0.48139535,  0.47906977,  0.47209302,\n",
       "        0.47209302,  0.47209302,  0.46976744,  0.46976744,  0.46744186,\n",
       "        0.4627907 ,  0.4627907 ,  0.4627907 ,  0.46046512,  0.45813953,\n",
       "        0.45813953,  0.45348837,  0.45116279,  0.44418605,  0.44186047,\n",
       "        0.43488372,  0.43488372,  0.43255814,  0.42325581,  0.41627907,\n",
       "        0.41395349,  0.40697674,  0.40465116,  0.40465116,  0.4       ,\n",
       "        0.4       ,  0.39767442,  0.39767442,  0.39767442,  0.39302326,\n",
       "        0.39302326,  0.39069767,  0.38604651,  0.38604651,  0.38372093,\n",
       "        0.38139535,  0.37906977,  0.37674419,  0.37674419,  0.3744186 ,\n",
       "        0.36976744,  0.36976744,  0.36744186,  0.36511628,  0.36511628,\n",
       "        0.3627907 ,  0.3627907 ,  0.35813953,  0.35581395,  0.35116279,\n",
       "        0.34651163,  0.34651163,  0.34418605,  0.34186047,  0.34186047,\n",
       "        0.33953488,  0.3372093 ,  0.3372093 ,  0.33488372,  0.33255814,\n",
       "        0.33023256,  0.33023256,  0.33023256,  0.33023256,  0.3255814 ,\n",
       "        0.32093023,  0.32093023,  0.32093023,  0.31627907,  0.31395349,\n",
       "        0.31162791,  0.30930233,  0.30697674,  0.30465116,  0.3       ,\n",
       "        0.3       ,  0.29534884,  0.29302326,  0.29302326,  0.29302326,\n",
       "        0.28837209,  0.28837209,  0.28837209,  0.28604651,  0.28372093,\n",
       "        0.27906977,  0.27674419,  0.26976744,  0.26976744,  0.26744186,\n",
       "        0.26511628,  0.2627907 ,  0.26046512,  0.25813953,  0.25581395,\n",
       "        0.25581395,  0.25348837,  0.25348837,  0.25348837,  0.25116279,\n",
       "        0.25116279,  0.24883721,  0.24883721,  0.24883721,  0.24651163,\n",
       "        0.24418605,  0.24418605,  0.24186047,  0.24186047,  0.24186047,\n",
       "        0.24186047,  0.23953488,  0.2372093 ,  0.23488372,  0.23488372,\n",
       "        0.23023256,  0.22790698,  0.22093023,  0.21627907,  0.21627907,\n",
       "        0.21395349,  0.21162791,  0.21162791,  0.21162791,  0.20930233,\n",
       "        0.20697674,  0.20465116,  0.20465116,  0.20232558,  0.2       ,\n",
       "        0.19767442,  0.19534884,  0.19534884,  0.19302326,  0.19069767,\n",
       "        0.18837209,  0.17906977,  0.17906977,  0.17674419,  0.1744186 ,\n",
       "        0.17209302,  0.16976744,  0.16744186,  0.16744186,  0.16511628,\n",
       "        0.1627907 ,  0.16046512,  0.15813953,  0.15581395,  0.15116279,\n",
       "        0.14883721,  0.14883721,  0.14418605,  0.13953488,  0.13488372,\n",
       "        0.13023256,  0.12790698,  0.12325581,  0.12093023,  0.12093023,\n",
       "        0.11627907,  0.11395349,  0.11162791,  0.10697674,  0.10697674,\n",
       "        0.10232558,  0.1       ,  0.1       ,  0.09767442,  0.09767442,\n",
       "        0.09534884,  0.09302326,  0.08837209,  0.08837209,  0.08837209,\n",
       "        0.08837209,  0.08604651,  0.08604651,  0.08372093,  0.08372093,\n",
       "        0.08139535,  0.07906977,  0.07674419,  0.0744186 ,  0.07209302,\n",
       "        0.07209302,  0.06976744,  0.06744186,  0.06511628,  0.0627907 ,\n",
       "        0.0627907 ,  0.06046512,  0.05813953,  0.05813953,  0.05581395,\n",
       "        0.05116279,  0.04883721,  0.04418605,  0.04418605,  0.04186047,\n",
       "        0.03953488,  0.03953488,  0.03953488,  0.03953488,  0.03953488,\n",
       "        0.03953488,  0.0372093 ,  0.0372093 ,  0.03488372,  0.03255814,\n",
       "        0.03255814,  0.03023256,  0.02790698,  0.0255814 ,  0.0255814 ,\n",
       "        0.0255814 ,  0.02325581,  0.02093023,  0.02093023,  0.02093023,\n",
       "        0.01860465,  0.01860465,  0.01627907,  0.01627907,  0.01395349,\n",
       "        0.01395349,  0.01162791,  0.01162791,  0.00930233,  0.00697674,\n",
       "        0.00465116,  0.00465116,  0.00232558,  0.        ])"
      ]
     },
     "execution_count": 1394,
     "metadata": {},
     "output_type": "execute_result"
    }
   ],
   "source": [
    "recall_rf"
   ]
  },
  {
   "cell_type": "code",
   "execution_count": 1395,
   "metadata": {
    "collapsed": false
   },
   "outputs": [
    {
     "data": {
      "text/plain": [
       "array([ 0.016     ,  0.018     ,  0.02175583,  0.022     ,  0.024     ,\n",
       "        0.026     ,  0.028     ,  0.03      ,  0.032     ,  0.034     ,\n",
       "        0.036     ,  0.038     ,  0.03914989,  0.04      ,  0.042     ,\n",
       "        0.04209877,  0.044     ,  0.046     ,  0.05      ,  0.0514383 ,\n",
       "        0.052     ,  0.054     ,  0.05406979,  0.056     ,  0.058     ,\n",
       "        0.06      ,  0.062     ,  0.064     ,  0.066     ,  0.068     ,\n",
       "        0.07      ,  0.072     ,  0.07341978,  0.074     ,  0.07540407,\n",
       "        0.076     ,  0.078     ,  0.07911703,  0.08      ,  0.082     ,\n",
       "        0.084     ,  0.086     ,  0.088     ,  0.09      ,  0.092     ,\n",
       "        0.094     ,  0.09457397,  0.096     ,  0.09652814,  0.09742389,\n",
       "        0.098     ,  0.09840809,  0.1       ,  0.10079891,  0.102     ,\n",
       "        0.10339938,  0.104     ,  0.10520498,  0.106     ,  0.10765763,\n",
       "        0.108     ,  0.10882932,  0.10897443,  0.11      ,  0.11110545,\n",
       "        0.112     ,  0.114     ,  0.116     ,  0.118     ,  0.11907397,\n",
       "        0.12      ,  0.122     ,  0.124     ,  0.126     ,  0.12740646,\n",
       "        0.128     ,  0.13      ,  0.13116999,  0.132     ,  0.134     ,\n",
       "        0.13446045,  0.13482112,  0.136     ,  0.138     ,  0.13852032,\n",
       "        0.14      ,  0.142     ,  0.14249823,  0.14266266,  0.144     ,\n",
       "        0.146     ,  0.148     ,  0.15      ,  0.152     ,  0.15290589,\n",
       "        0.154     ,  0.156     ,  0.158     ,  0.16      ,  0.162     ,\n",
       "        0.16344644,  0.164     ,  0.16405783,  0.16409619,  0.16511703,\n",
       "        0.16583878,  0.166     ,  0.16742628,  0.168     ,  0.16920498,\n",
       "        0.16935835,  0.17      ,  0.172     ,  0.174     ,  0.17576409,\n",
       "        0.176     ,  0.17776714,  0.178     ,  0.18      ,  0.182     ,\n",
       "        0.18209649,  0.1828826 ,  0.184     ,  0.186     ,  0.188     ,\n",
       "        0.19      ,  0.19123017,  0.192     ,  0.19381946,  0.194     ,\n",
       "        0.196     ,  0.19740953,  0.198     ,  0.19805596,  0.19941261,\n",
       "        0.2       ,  0.202     ,  0.20341193,  0.204     ,  0.20576441,\n",
       "        0.206     ,  0.208     ,  0.20908215,  0.2094118 ,  0.21      ,\n",
       "        0.21105512,  0.21111703,  0.21175653,  0.212     ,  0.214     ,\n",
       "        0.216     ,  0.218     ,  0.22      ,  0.22008597,  0.222     ,\n",
       "        0.224     ,  0.22441417,  0.226     ,  0.22769667,  0.22788661,\n",
       "        0.228     ,  0.2287022 ,  0.22911812,  0.22980686,  0.23      ,\n",
       "        0.232     ,  0.23365528,  0.234     ,  0.23430598,  0.23569426,\n",
       "        0.236     ,  0.238     ,  0.23856156,  0.23954866,  0.24      ,\n",
       "        0.24108296,  0.24138247,  0.24165857,  0.242     ,  0.244     ,\n",
       "        0.246     ,  0.24768918,  0.24777103,  0.248     ,  0.2495575 ,\n",
       "        0.25      ,  0.25124545,  0.252     ,  0.254     ,  0.25580569,\n",
       "        0.256     ,  0.25728113,  0.258     ,  0.25941239,  0.26      ,\n",
       "        0.26140133,  0.262     ,  0.264     ,  0.266     ,  0.26740646,\n",
       "        0.268     ,  0.26985266,  0.27      ,  0.272     ,  0.274     ,\n",
       "        0.27475476,  0.27538083,  0.276     ,  0.27651265,  0.27680574,\n",
       "        0.278     ,  0.27815845,  0.28      ,  0.28035379,  0.28140031,\n",
       "        0.282     ,  0.28299655,  0.284     ,  0.286     ,  0.288     ,\n",
       "        0.29      ,  0.29184999,  0.292     ,  0.29367192,  0.294     ,\n",
       "        0.29511578,  0.296     ,  0.298     ,  0.3       ,  0.302     ,\n",
       "        0.303756  ,  0.304     ,  0.30542594,  0.306     ,  0.308     ,\n",
       "        0.30800286,  0.30966441,  0.31      ,  0.31050659,  0.31083759,\n",
       "        0.311415  ,  0.312     ,  0.31339826,  0.31373941,  0.314     ,\n",
       "        0.31540333,  0.316     ,  0.318     ,  0.31940441,  0.32      ,\n",
       "        0.32150701,  0.322     ,  0.32396449,  0.324     ,  0.32566417,\n",
       "        0.326     ,  0.32723572,  0.328     ,  0.33      ,  0.33109437,\n",
       "        0.332     ,  0.33221835,  0.334     ,  0.336     ,  0.33651258,\n",
       "        0.338     ,  0.33953498,  0.34      ,  0.34111994,  0.342     ,\n",
       "        0.344     ,  0.346     ,  0.348     ,  0.35      ,  0.35140202,\n",
       "        0.352     ,  0.354     ,  0.356     ,  0.35663012,  0.35739826,\n",
       "        0.358     ,  0.35800189,  0.36      ,  0.36143243,  0.36165528,\n",
       "        0.362     ,  0.364     ,  0.36543209,  0.366     ,  0.368     ,\n",
       "        0.36898967,  0.37      ,  0.37108621,  0.37141773,  0.372     ,\n",
       "        0.374     ,  0.37441032,  0.37539997,  0.376     ,  0.378     ,\n",
       "        0.38      ,  0.3806709 ,  0.382     ,  0.38325601,  0.38336044,\n",
       "        0.384     ,  0.386     ,  0.388     ,  0.392     ,  0.394     ,\n",
       "        0.396     ,  0.39731976,  0.39765716,  0.398     ,  0.4       ,\n",
       "        0.4010026 ,  0.40105687,  0.40141705,  0.402     ,  0.404     ,\n",
       "        0.40432341,  0.40565505,  0.406     ,  0.408     ,  0.40917864,\n",
       "        0.41      ,  0.41140031,  0.412     ,  0.41215368,  0.414     ,\n",
       "        0.41541022,  0.41592263,  0.416     ,  0.418     ,  0.41943482,\n",
       "        0.422     ,  0.42339757,  0.424     ,  0.426     ,  0.42742183,\n",
       "        0.428     ,  0.43      ,  0.43107009,  0.432     ,  0.4321188 ,\n",
       "        0.434     ,  0.436     ,  0.43650486,  0.438     ,  0.44      ,\n",
       "        0.44088462,  0.442     ,  0.44211511,  0.444     ,  0.446     ,\n",
       "        0.44610073,  0.44737286,  0.448     ,  0.44964609,  0.45      ,\n",
       "        0.45013775,  0.452     ,  0.454     ,  0.456     ,  0.458     ,\n",
       "        0.45941637,  0.46      ,  0.462     ,  0.46341466,  0.464     ,\n",
       "        0.46576162,  0.466     ,  0.46755368,  0.468     ,  0.47      ,\n",
       "        0.47009498,  0.472     ,  0.47297118,  0.474     ,  0.478     ,\n",
       "        0.47886841,  0.48      ,  0.482     ,  0.48365693,  0.484     ,\n",
       "        0.48565317,  0.486     ,  0.48775548,  0.488     ,  0.49      ,\n",
       "        0.492     ,  0.49272022,  0.494     ,  0.49524188,  0.496     ,\n",
       "        0.49720453,  0.49728249,  0.498     ,  0.49888462,  0.5       ,\n",
       "        0.502     ,  0.504     ,  0.50591108,  0.506     ,  0.5065937 ,\n",
       "        0.508     ,  0.50918662,  0.51      ,  0.51111537,  0.51141603,\n",
       "        0.51175353,  0.512     ,  0.51210813,  0.51357569,  0.514     ,\n",
       "        0.51405816,  0.51457975,  0.516     ,  0.51635419,  0.51710052,\n",
       "        0.51741193,  0.518     ,  0.51935734,  0.51951376,  0.52      ,\n",
       "        0.52155451,  0.522     ,  0.524     ,  0.52523548,  0.526     ,\n",
       "        0.52740646,  0.528     ,  0.53      ,  0.532     ,  0.53375548,\n",
       "        0.534     ,  0.53539552,  0.53639063,  0.54      ,  0.542     ,\n",
       "        0.54340133,  0.54375812,  0.54376104,  0.548     ,  0.54801118,\n",
       "        0.55      ,  0.552     ,  0.554     ,  0.55418098,  0.55774874,\n",
       "        0.558     ,  0.55941671,  0.56      ,  0.562     ,  0.56429456,\n",
       "        0.56483603,  0.566     ,  0.56876881,  0.57      ,  0.57075845,\n",
       "        0.5716581 ,  0.57211169,  0.5727498 ,  0.578     ,  0.58340509,\n",
       "        0.584     ,  0.586     ,  0.588     ,  0.59      ,  0.592     ,\n",
       "        0.59392183,  0.594     ,  0.596     ,  0.59850646,  0.6       ,\n",
       "        0.602     ,  0.604     ,  0.606     ,  0.60907243,  0.61      ,\n",
       "        0.61187897,  0.612     ,  0.614     ,  0.616     ,  0.618     ,\n",
       "        0.62      ,  0.622     ,  0.626     ,  0.62623783,  0.628     ,\n",
       "        0.63      ,  0.632     ,  0.6322698 ,  0.63309724,  0.63341398,\n",
       "        0.636     ,  0.63946455,  0.64140851,  0.642     ,  0.65      ,\n",
       "        0.654     ,  0.65941637,  0.66064492,  0.662     ,  0.67      ,\n",
       "        0.67288502,  0.67567987,  0.676     ,  0.682     ,  0.692     ,\n",
       "        0.69575548,  0.706     ,  0.708     ,  0.71      ,  0.71289234,\n",
       "        0.72752634,  0.72766262,  0.73      ,  0.734     ,  0.736     ,\n",
       "        0.738     ,  0.746     ,  0.74838599,  0.75140031,  0.756     ,\n",
       "        0.7605954 ,  0.764     ,  0.772     ,  0.774     ,  0.776     ,\n",
       "        0.77624514,  0.778     ,  0.78180899,  0.784     ,  0.79      ,\n",
       "        0.792     ,  0.79490053,  0.798     ,  0.82328923,  0.828     ,\n",
       "        0.838     ,  0.84082078,  0.844     ,  0.85175016,  0.854     ,\n",
       "        0.87976788,  0.8865567 ,  0.91479115])"
      ]
     },
     "execution_count": 1395,
     "metadata": {},
     "output_type": "execute_result"
    }
   ],
   "source": [
    "threshold_rf"
   ]
  },
  {
   "cell_type": "markdown",
   "metadata": {},
   "source": [
    "# SCORE IT"
   ]
  },
  {
   "cell_type": "code",
   "execution_count": 1396,
   "metadata": {
    "collapsed": false
   },
   "outputs": [],
   "source": [
    "fscores = []\n",
    "for t in threshold_rf:\n",
    "    fscores.append(f1_score(y_test,np.greater(rfmodel1_pred,t)))"
   ]
  },
  {
   "cell_type": "code",
   "execution_count": 1397,
   "metadata": {
    "collapsed": false
   },
   "outputs": [
    {
     "data": {
      "text/plain": [
       "0.23569425870495417"
      ]
     },
     "execution_count": 1397,
     "metadata": {},
     "output_type": "execute_result"
    },
    {
     "data": {
      "image/png": "[encoded data removed]",
      "text/plain": [
       "<matplotlib.figure.Figure at 0x13b38a210>"
      ]
     },
     "metadata": {},
     "output_type": "display_data"
    }
   ],
   "source": [
    "plt.plot(threshold_rf, fscores)\n",
    "plt.xlabel('threshold value')\n",
    "plt.xlim(0,1)\n",
    "plt.ylim(0,1)\n",
    "plt.ylabel('f1-score')\n",
    "plt.title('Random Forest: Threshold versus F1-scores')\n",
    "threshold_rf[fscores.index(max(fscores))]"
   ]
  },
  {
   "cell_type": "code",
   "execution_count": 1398,
   "metadata": {
    "collapsed": false,
    "scrolled": true
   },
   "outputs": [
    {
     "data": {
      "text/plain": [
       "0.42120343839541546"
      ]
     },
     "execution_count": 1398,
     "metadata": {},
     "output_type": "execute_result"
    }
   ],
   "source": [
    "precision_score(y_test,np.greater(rfmodel1_pred,0.266))"
   ]
  },
  {
   "cell_type": "code",
   "execution_count": 1399,
   "metadata": {
    "collapsed": false
   },
   "outputs": [
    {
     "data": {
      "text/plain": [
       "0.68372093023255809"
      ]
     },
     "execution_count": 1399,
     "metadata": {},
     "output_type": "execute_result"
    }
   ],
   "source": [
    "recall_score(y_test,np.greater(rfmodel1_pred,0.266))"
   ]
  },
  {
   "cell_type": "code",
   "execution_count": 1400,
   "metadata": {
    "collapsed": false
   },
   "outputs": [
    {
     "data": {
      "text/plain": [
       "0.52127659574468088"
      ]
     },
     "execution_count": 1400,
     "metadata": {},
     "output_type": "execute_result"
    }
   ],
   "source": [
    "f1_score(y_test,np.greater(rfmodel1_pred,0.266))"
   ]
  },
  {
   "cell_type": "code",
   "execution_count": 1401,
   "metadata": {
    "collapsed": false
   },
   "outputs": [
    {
     "data": {
      "text/plain": [
       "0.64631351448704388"
      ]
     },
     "execution_count": 1401,
     "metadata": {},
     "output_type": "execute_result"
    }
   ],
   "source": [
    "roc_auc_score(y_test,np.greater(rfmodel1_pred,0.266))"
   ]
  },
  {
   "cell_type": "code",
   "execution_count": 1402,
   "metadata": {
    "collapsed": false
   },
   "outputs": [
    {
     "data": {
      "text/plain": [
       "array([ 0.456,  0.326,  0.418, ...,  0.216,  0.116,  0.15 ])"
      ]
     },
     "execution_count": 1402,
     "metadata": {},
     "output_type": "execute_result"
    }
   ],
   "source": [
    "rfmodel1_pred"
   ]
  },
  {
   "cell_type": "code",
   "execution_count": 1403,
   "metadata": {
    "collapsed": false,
    "scrolled": true
   },
   "outputs": [
    {
     "data": {
      "image/png": "[encoded data removed]",
      "text/plain": [
       "<matplotlib.figure.Figure at 0x119f039d0>"
      ]
     },
     "metadata": {},
     "output_type": "display_data"
    }
   ],
   "source": [
    "plt.hist(rfmodel1_pred)#proba likelihood model thinks someone is addict (0.08 this is low)\n",
    "plt.tight_layout();"
   ]
  },
  {
   "cell_type": "code",
   "execution_count": 1405,
   "metadata": {
    "collapsed": false,
    "scrolled": false
   },
   "outputs": [
    {
     "data": {
      "text/plain": [
       "0.42931751943350333"
      ]
     },
     "execution_count": 1405,
     "metadata": {},
     "output_type": "execute_result"
    }
   ],
   "source": [
    "np.sqrt(np.mean((rfmodel1_pred - y_test)**2))"
   ]
  },
  {
   "cell_type": "code",
   "execution_count": 1406,
   "metadata": {
    "collapsed": false,
    "scrolled": true
   },
   "outputs": [
    {
     "data": {
      "text/plain": [
       "array([ 0.456,  0.326,  0.418, ...,  0.216,  0.116,  0.15 ])"
      ]
     },
     "execution_count": 1406,
     "metadata": {},
     "output_type": "execute_result"
    }
   ],
   "source": [
    "rfmodel1_pred"
   ]
  },
  {
   "cell_type": "code",
   "execution_count": 1407,
   "metadata": {
    "collapsed": false
   },
   "outputs": [
    {
     "data": {
      "text/plain": [
       "array([[629, 404],\n",
       "       [136, 294]])"
      ]
     },
     "execution_count": 1407,
     "metadata": {},
     "output_type": "execute_result"
    }
   ],
   "source": [
    "confusion_matrix(y_test,np.greater(rfmodel1_pred,0.266))"
   ]
  },
  {
   "cell_type": "code",
   "execution_count": 1408,
   "metadata": {
    "collapsed": false
   },
   "outputs": [
    {
     "data": {
      "text/plain": [
       "[(0.0034159358762188268, 'days_used_past_month'),\n",
       " (0.025543826762848554, 'last_used'),\n",
       " (0.029792313814023783, 'age_first_used'),\n",
       " (0.030101539532630429, 'age_first_alc'),\n",
       " (0.033695749906315083, 'gender'),\n",
       " (0.054041753064366489, 'days_per_week_alc'),\n",
       " (0.059999195245236704, 'days_per_week_past_year'),\n",
       " (0.068764316476802631, 'race'),\n",
       " (0.072236141155532951, 'education'),\n",
       " (0.074154142784343832, 'religious_importance'),\n",
       " (0.091080144527866058, 'age'),\n",
       " (0.10020538888679226, 'tot_days_past_year'),\n",
       " (0.1004994910062212, 'work_situation_past_wk'),\n",
       " (0.11955619861044607, 'tot_fam_income'),\n",
       " (0.13691386235035508, 'days_5plusdrinks_past_mo')]"
      ]
     },
     "execution_count": 1408,
     "metadata": {},
     "output_type": "execute_result"
    }
   ],
   "source": [
    "sorted(zip(rfmodel1.feature_importances_,X_train.columns))"
   ]
  },
  {
   "cell_type": "code",
   "execution_count": 1409,
   "metadata": {
    "collapsed": false
   },
   "outputs": [
    {
     "data": {
      "text/plain": [
       "<matplotlib.text.Text at 0x13a73fd50>"
      ]
     },
     "execution_count": 1409,
     "metadata": {},
     "output_type": "execute_result"
    },
    {
     "data": {
      "image/png": "[encoded data removed]",
      "text/plain": [
       "<matplotlib.figure.Figure at 0x13b25d410>"
      ]
     },
     "metadata": {},
     "output_type": "display_data"
    }
   ],
   "source": [
    "plt.bar(range(15), sorted(rfmodel1.feature_importances_))\n",
    "plt.ylabel('Feature Importance %')\n",
    "plt.xlabel('Features')\n",
    "plt.title('Random Forest: Feature Importances')"
   ]
  },
  {
   "cell_type": "markdown",
   "metadata": {},
   "source": [
    "# GRADIENT BOOSTING TREE"
   ]
  },
  {
   "cell_type": "code",
   "execution_count": 1410,
   "metadata": {
    "collapsed": true
   },
   "outputs": [],
   "source": [
    "from sklearn.ensemble import GradientBoostingClassifier"
   ]
  },
  {
   "cell_type": "code",
   "execution_count": 1411,
   "metadata": {
    "collapsed": false
   },
   "outputs": [
    {
     "data": {
      "text/plain": [
       "GradientBoostingClassifier(criterion='friedman_mse', init=None,\n",
       "              learning_rate=0.001, loss='deviance', max_depth=3,\n",
       "              max_features=None, max_leaf_nodes=None,\n",
       "              min_impurity_split=1e-07, min_samples_leaf=1,\n",
       "              min_samples_split=2, min_weight_fraction_leaf=0.0,\n",
       "              n_estimators=1000, presort='auto', random_state=None,\n",
       "              subsample=0.8, verbose=0, warm_start=False)"
      ]
     },
     "execution_count": 1411,
     "metadata": {},
     "output_type": "execute_result"
    }
   ],
   "source": [
    "gbmodel1 = GradientBoostingClassifier(subsample=.8, n_estimators=1000, learning_rate=0.001, max_depth=3)\n",
    "gbmodel1.fit(X_train, y_train)"
   ]
  },
  {
   "cell_type": "code",
   "execution_count": 1412,
   "metadata": {
    "collapsed": false
   },
   "outputs": [],
   "source": [
    "gb1_test_pred = gbmodel1.predict_proba(X_test)[:,1]"
   ]
  },
  {
   "cell_type": "markdown",
   "metadata": {},
   "source": [
    "# PLOT IT"
   ]
  },
  {
   "cell_type": "code",
   "execution_count": 1414,
   "metadata": {
    "collapsed": false,
    "scrolled": true
   },
   "outputs": [
    {
     "data": {
      "image/png": "[encoded data removed]",
      "text/plain": [
       "<matplotlib.figure.Figure at 0x13a493890>"
      ]
     },
     "metadata": {},
     "output_type": "display_data"
    }
   ],
   "source": [
    "precision_gb, recall_gb, threshold_gb = metrics.precision_recall_curve(y_test,gb1_test_pred)\n",
    "\n",
    "plt.plot(precision_gb[:-1], recall_gb[:-1])\n",
    "# is number of ones - recall you are leaving behind.\n",
    "plt.xlim([0,1])\n",
    "plt.ylim([0,1])\n",
    "plt.xlabel('Precision')\n",
    "plt.ylabel('Recall')\n",
    "plt.title('Gradient Boosting: Precision Recall Curve')\n",
    "plt.tight_layout();"
   ]
  },
  {
   "cell_type": "code",
   "execution_count": 1415,
   "metadata": {
    "collapsed": true
   },
   "outputs": [],
   "source": [
    "fscores2 = []\n",
    "for t in threshold_gb:\n",
    "    fscores2.append(f1_score(y_test,np.greater(gb1_test_pred,t)))"
   ]
  },
  {
   "cell_type": "code",
   "execution_count": 1416,
   "metadata": {
    "collapsed": false,
    "scrolled": true
   },
   "outputs": [
    {
     "data": {
      "text/plain": [
       "0.56558139534883722"
      ]
     },
     "execution_count": 1416,
     "metadata": {},
     "output_type": "execute_result"
    }
   ],
   "source": [
    "max(fscores2)"
   ]
  },
  {
   "cell_type": "code",
   "execution_count": 1417,
   "metadata": {
    "collapsed": false,
    "scrolled": true
   },
   "outputs": [
    {
     "data": {
      "text/plain": [
       "0.29776032843716582"
      ]
     },
     "execution_count": 1417,
     "metadata": {},
     "output_type": "execute_result"
    },
    {
     "data": {
      "image/png": "[encoded data removed]",
      "text/plain": [
       "<matplotlib.figure.Figure at 0x13a4b32d0>"
      ]
     },
     "metadata": {},
     "output_type": "display_data"
    }
   ],
   "source": [
    "plt.plot(threshold_gb, fscores2)\n",
    "plt.tight_layout()\n",
    "\n",
    "plt.xlabel('threshold value')\n",
    "plt.xlim(0,1)\n",
    "plt.ylim(0,1)\n",
    "plt.ylabel('f1-score')\n",
    "plt.title('Gradient Boosting: Threshold versus F1-scores')\n",
    "threshold_gb[fscores2.index(max(fscores2))]\n",
    "plt.tight_layout();"
   ]
  },
  {
   "cell_type": "code",
   "execution_count": 1418,
   "metadata": {
    "collapsed": true
   },
   "outputs": [],
   "source": [
    "precision_scores = []\n",
    "for t in threshold_gb:\n",
    "    precision_scores.append(precision_score(y_test,np.greater(gb1_test_pred,t)))"
   ]
  },
  {
   "cell_type": "code",
   "execution_count": 1419,
   "metadata": {
    "collapsed": false
   },
   "outputs": [
    {
     "data": {
      "text/plain": [
       "0.4674155906548414"
      ]
     },
     "execution_count": 1419,
     "metadata": {},
     "output_type": "execute_result"
    },
    {
     "data": {
      "image/png": "[encoded data removed]",
      "text/plain": [
       "<matplotlib.figure.Figure at 0x13b3b5910>"
      ]
     },
     "metadata": {},
     "output_type": "display_data"
    }
   ],
   "source": [
    "plt.plot(threshold_gb, precision_scores)\n",
    "plt.xlabel('Threshold Values')\n",
    "plt.ylabel('Precision Score')\n",
    "plt.xlim(0,1)\n",
    "plt.ylim(0,1)\n",
    "threshold_gb[precision_scores.index(max(precision_scores))]"
   ]
  },
  {
   "cell_type": "markdown",
   "metadata": {},
   "source": [
    "# SCORE IT"
   ]
  },
  {
   "cell_type": "code",
   "execution_count": 1420,
   "metadata": {
    "collapsed": false,
    "scrolled": false
   },
   "outputs": [
    {
     "data": {
      "text/plain": [
       "0.42991218624467248"
      ]
     },
     "execution_count": 1420,
     "metadata": {},
     "output_type": "execute_result"
    }
   ],
   "source": [
    "np.sqrt(np.mean((gb1_test_pred-y_test)**2))"
   ]
  },
  {
   "cell_type": "code",
   "execution_count": 1421,
   "metadata": {
    "collapsed": false
   },
   "outputs": [
    {
     "data": {
      "text/plain": [
       "0.46074074074074073"
      ]
     },
     "execution_count": 1421,
     "metadata": {},
     "output_type": "execute_result"
    }
   ],
   "source": [
    "precision_score(y_test,np.greater(gb1_test_pred,0.266))"
   ]
  },
  {
   "cell_type": "code",
   "execution_count": 1422,
   "metadata": {
    "collapsed": false,
    "scrolled": true
   },
   "outputs": [
    {
     "data": {
      "text/plain": [
       "0.70930232558139539"
      ]
     },
     "execution_count": 1422,
     "metadata": {},
     "output_type": "execute_result"
    }
   ],
   "source": [
    "recall_score(y_test,np.greater(gb1_test_pred,0.29631065461709172))"
   ]
  },
  {
   "cell_type": "code",
   "execution_count": 1423,
   "metadata": {
    "collapsed": false
   },
   "outputs": [
    {
     "data": {
      "text/plain": [
       "0.5632502308402586"
      ]
     },
     "execution_count": 1423,
     "metadata": {},
     "output_type": "execute_result"
    }
   ],
   "source": [
    "f1_score(y_test,np.greater(gb1_test_pred,0.29631065461709172))"
   ]
  },
  {
   "cell_type": "code",
   "execution_count": 1424,
   "metadata": {
    "collapsed": false
   },
   "outputs": [
    {
     "data": {
      "text/plain": [
       "array([[685, 348],\n",
       "       [125, 305]])"
      ]
     },
     "execution_count": 1424,
     "metadata": {},
     "output_type": "execute_result"
    }
   ],
   "source": [
    "confusion_matrix(y_test,np.greater(gb1_test_pred,0.2963))"
   ]
  },
  {
   "cell_type": "code",
   "execution_count": 1425,
   "metadata": {
    "collapsed": false
   },
   "outputs": [
    {
     "data": {
      "text/plain": [
       "[(0.0013255693714926331, 'days_per_week_alc'),\n",
       " (0.0018527527414843601, 'days_used_past_month'),\n",
       " (0.0020604596413294489, 'age_first_used'),\n",
       " (0.0033570220197059104, 'race'),\n",
       " (0.0037316806905950306, 'gender'),\n",
       " (0.0039676089559495817, 'religious_importance'),\n",
       " (0.0041842364753968027, 'days_5plusdrinks_past_mo'),\n",
       " (0.0062943706742715445, 'last_used'),\n",
       " (0.009920551579355839, 'work_situation_past_wk'),\n",
       " (0.010108393109695107, 'age_first_alc'),\n",
       " (0.014404067126926956, 'tot_fam_income'),\n",
       " (0.020701402490837063, 'days_per_week_past_year'),\n",
       " (0.035986928960934854, 'education'),\n",
       " (0.33701910621018177, 'age'),\n",
       " (0.54508584995184273, 'tot_days_past_year')]"
      ]
     },
     "execution_count": 1425,
     "metadata": {},
     "output_type": "execute_result"
    }
   ],
   "source": [
    "sorted(zip(gbmodel1.feature_importances_,X_train.columns))"
   ]
  },
  {
   "cell_type": "markdown",
   "metadata": {},
   "source": [
    "# Feature Importances"
   ]
  },
  {
   "cell_type": "code",
   "execution_count": 1426,
   "metadata": {
    "collapsed": false
   },
   "outputs": [
    {
     "data": {
      "text/plain": [
       "<Container object of 15 artists>"
      ]
     },
     "execution_count": 1426,
     "metadata": {},
     "output_type": "execute_result"
    },
    {
     "data": {
      "image/png": "[encoded data removed]",
      "text/plain": [
       "<matplotlib.figure.Figure at 0x13ae72950>"
      ]
     },
     "metadata": {},
     "output_type": "display_data"
    }
   ],
   "source": [
    "plt.ylabel('Feature Importance %')\n",
    "plt.xlabel('Features')\n",
    "plt.title('Gradient Boosting: Feature Importances')\n",
    "plt.bar(range(15), sorted(gbmodel1.feature_importances_))"
   ]
  },
  {
   "cell_type": "code",
   "execution_count": 1427,
   "metadata": {
    "collapsed": false
   },
   "outputs": [
    {
     "data": {
      "text/plain": [
       "array([[629, 404],\n",
       "       [136, 294]])"
      ]
     },
     "execution_count": 1427,
     "metadata": {},
     "output_type": "execute_result"
    }
   ],
   "source": [
    "confusion_matrix(y_test,np.greater(rfmodel1_pred,0.266))"
   ]
  },
  {
   "cell_type": "code",
   "execution_count": 1428,
   "metadata": {
    "collapsed": false
   },
   "outputs": [
    {
     "data": {
      "text/plain": [
       "array([[683, 350],\n",
       "       [125, 305]])"
      ]
     },
     "execution_count": 1428,
     "metadata": {},
     "output_type": "execute_result"
    }
   ],
   "source": [
    "confusion_matrix(y_test,np.greater(gb1_test_pred,0.296))"
   ]
  }
 ],
 "metadata": {
  "anaconda-cloud": {},
  "kernelspec": {
   "display_name": "Python [conda root]",
   "language": "python",
   "name": "conda-root-py"
  },
  "language_info": {
   "codemirror_mode": {
    "name": "ipython",
    "version": 2
   },
   "file_extension": ".py",
   "mimetype": "text/x-python",
   "name": "python",
   "nbconvert_exporter": "python",
   "pygments_lexer": "ipython2",
   "version": "2.7.12"
  }
 },
 "nbformat": 4,
 "nbformat_minor": 1
}
