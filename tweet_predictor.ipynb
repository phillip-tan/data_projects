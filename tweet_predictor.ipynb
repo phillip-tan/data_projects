{
 "cells": [
  {
   "cell_type": "markdown",
   "metadata": {},
   "source": [
    "# TWEET CLASSIFICATION: NATURAL LANGUAGE PROCESSING"
   ]
  },
  {
   "cell_type": "markdown",
   "metadata": {},
   "source": [
    "### Preamble imports"
   ]
  },
  {
   "cell_type": "code",
   "execution_count": 1,
   "metadata": {
    "collapsed": true
   },
   "outputs": [],
   "source": [
    "from __future__ import print_function, division\n",
    "\n",
    "import pandas as pd\n",
    "import numpy as np\n",
    "import matplotlib.pyplot as plt\n",
    "import seaborn as sns\n",
    "%matplotlib inline\n",
    "plt.style.use('fivethirtyeight')"
   ]
  },
  {
   "cell_type": "markdown",
   "metadata": {},
   "source": [
    "### MongoDB"
   ]
  },
  {
   "cell_type": "code",
   "execution_count": 2,
   "metadata": {
    "collapsed": false,
    "scrolled": true
   },
   "outputs": [],
   "source": [
    "from pymongo import MongoClient #python to talk to Python server\n",
    "import requests\n",
    "import json\n",
    "from pprint import pprint"
   ]
  },
  {
   "cell_type": "code",
   "execution_count": 3,
   "metadata": {
    "collapsed": false
   },
   "outputs": [],
   "source": [
    "client = MongoClient() #starts mongo client to python\n",
    "db = client.tweetsdb #gets into the mongo server and use tweetsdb\n",
    "\n",
    "republicans = db.republicans #create collections\n",
    "democrats = db.democrats\n",
    "trump = db.trump\n",
    "obama = db.obama\n",
    " \n",
    "# republicans.delete_many({}); #delete all existing data\n",
    "# democrats.delete_many({});\n",
    "# trump.delete_many({});\n",
    "# obama.delete_many({});\n"
   ]
  },
  {
   "cell_type": "markdown",
   "metadata": {},
   "source": [
    "### Twitter API"
   ]
  },
  {
   "cell_type": "code",
   "execution_count": 4,
   "metadata": {
    "collapsed": false,
    "scrolled": true
   },
   "outputs": [],
   "source": [
    "with open('twitter_config') as twitter_file:\n",
    "    twitter_config = json.load(twitter_file)\n",
    "\n",
    "def twitter_api_url(screen_name, count, max_id=None):\n",
    "    twitter_url = 'https://api.twitter.com/1.1/statuses/user_timeline.json?' +\\\n",
    "    'screen_name=' + screen_name + '&count=' + str(count)\n",
    "        \n",
    "    if max_id is not None:\n",
    "        twitter_url += '&max_id=' + str(max_id) #add max ID\n",
    "\n",
    "    return twitter_url\n",
    "\n",
    "\n",
    "def get_twitter_json(screen_name, count, iterations, collection): #collection: republicans, democrats, others\n",
    "    results = []\n",
    "    max_id = None\n",
    "    \n",
    "    for _ in range(iterations):\n",
    "        \n",
    "        twitter_header = {'Authorization': 'Bearer ' + twitter_config['access_token']}\n",
    "        twitter_response = requests.get(twitter_api_url(screen_name, count, max_id), headers=twitter_header)\n",
    "        \n",
    "        json_tweets = twitter_response.json()\n",
    "#         print(len(json_tweets))\n",
    "\n",
    "        max_id = json_tweets[-1]['id'] #max will pass back up to twitter_api_url next iteration.\n",
    "#         print(max_id)\n",
    "\n",
    "#         print([tweet['id'] for tweet in json_tweets]) #this is to check that tweets are unique.\n",
    "        json_tweets.pop()   #pop off the last tweet since it will be added from then next iteration.\n",
    "\n",
    "        collection.insert_many(json_tweets) #now insert into collection tweets\n",
    "#         print(json_tweets) #show what you are adding to the mongoDB\n",
    "\n",
    "    return True"
   ]
  },
  {
   "cell_type": "code",
   "execution_count": 5,
   "metadata": {
    "collapsed": false
   },
   "outputs": [],
   "source": [
    "#Get info from specific twitter accounts\n",
    "def twitter_accounts(screen_names, collection):\n",
    "    for screen_name in screen_names:\n",
    "        get_twitter_json(screen_name, 200, 16, collection)\n",
    "    return True"
   ]
  },
  {
   "cell_type": "markdown",
   "metadata": {},
   "source": [
    "### Load in the Data"
   ]
  },
  {
   "cell_type": "code",
   "execution_count": 6,
   "metadata": {
    "collapsed": true
   },
   "outputs": [],
   "source": [
    "republican_accounts1 = ['GOP', 'Reince', 'seanhannity',\n",
    "                       'SenateGOP','HouseGOP', 'SenJohnMcCain', \n",
    "                       'AnnCoulter', 'SpeakerRyan', 'mike_pence', \n",
    "                      'marcorubio', 'JECRepublicans', 'RandPaul',\n",
    "                      'CRNC', 'SpeakerBoehner', 'HASCRepublicans']\n",
    "republican_accounts2 = ['yrnf', 'tedcruz', 'jasoninthehouse',\n",
    "                       'JohnCornyn', 'SarahPalinUSA', 'DanaPerino', \n",
    "                       'SenTedCruz', 'GovMikeHuckabee', 'SenAlexander', \n",
    "                       'senrobportman', 'newtgingrich', 'JoeNBC', \n",
    "                        'FoxNews', 'RepublicanStudy', 'KarlRove']\n",
    "republican_accounts3 = ['RealBenCarson', 'GovernorPerry', 'RJC', \n",
    "                       'RickSantorum', 'CR', 'GOPLeader', \n",
    "                       'MicheleBachmann', 'CarlyFiorina', 'IngrahamAngle',\n",
    "                      'oreillyfactor', 'foxheadlines', 'foxandfriends',\n",
    "                      'ericbolling', 'greta', 'KatrinaCampins']\n",
    "republican_accounts4 = ['foxnation', 'FoxNewsSunday', 'foxnewspolitics',\n",
    "                      'FoxNewsInsider', 'SenMikeLee', 'cathymcmorris', \n",
    "                       'foxnewsalert', 'LucasFoxNews', 'BretBaier', \n",
    "                       'MichelleMalkin', 'MichaelJohns', 'stuartayresmp',\n",
    "                       'BrielleMissNJ', 'JohnKasich', 'dbongino']"
   ]
  },
  {
   "cell_type": "code",
   "execution_count": 7,
   "metadata": {
    "collapsed": false
   },
   "outputs": [
    {
     "data": {
      "text/plain": [
       "15"
      ]
     },
     "execution_count": 7,
     "metadata": {},
     "output_type": "execute_result"
    }
   ],
   "source": [
    "len(republican_accounts2)"
   ]
  },
  {
   "cell_type": "code",
   "execution_count": 33,
   "metadata": {
    "collapsed": false
   },
   "outputs": [
    {
     "data": {
      "text/plain": [
       "True"
      ]
     },
     "execution_count": 33,
     "metadata": {},
     "output_type": "execute_result"
    }
   ],
   "source": [
    "# twitter_accounts(republican_accounts1, republicans) #get tweets from API"
   ]
  },
  {
   "cell_type": "code",
   "execution_count": 35,
   "metadata": {
    "collapsed": false
   },
   "outputs": [
    {
     "data": {
      "text/plain": [
       "True"
      ]
     },
     "execution_count": 35,
     "metadata": {},
     "output_type": "execute_result"
    }
   ],
   "source": [
    "# twitter_accounts(republican_accounts2, republicans)"
   ]
  },
  {
   "cell_type": "code",
   "execution_count": 36,
   "metadata": {
    "collapsed": false
   },
   "outputs": [
    {
     "data": {
      "text/plain": [
       "True"
      ]
     },
     "execution_count": 36,
     "metadata": {},
     "output_type": "execute_result"
    }
   ],
   "source": [
    "# twitter_accounts(republican_accounts3, republicans)"
   ]
  },
  {
   "cell_type": "code",
   "execution_count": 37,
   "metadata": {
    "collapsed": false
   },
   "outputs": [
    {
     "data": {
      "text/plain": [
       "True"
      ]
     },
     "execution_count": 37,
     "metadata": {},
     "output_type": "execute_result"
    }
   ],
   "source": [
    "# twitter_accounts(republican_accounts4, republicans)"
   ]
  },
  {
   "cell_type": "code",
   "execution_count": 8,
   "metadata": {
    "collapsed": true
   },
   "outputs": [],
   "source": [
    "democratic_accounts1 = ['HillaryClinton', 'TheDemocrats','ObamaWhiteHouse', \n",
    "                       'SenateDems', 'HouseDemocrats', 'VP44', \n",
    "                       'NancyPelosi', 'PressSec44', 'SenSanders', \n",
    "                       'FLOTUS44', 'CollegeDems', 'AlaskaDemocrats', \n",
    "                       'MichiganDems', 'SenatorReid', 'SenSchumer']\n",
    "democratic_accounts2 = ['texasdemocrats', 'washdems', 'DemsAbroad', \n",
    "                       'PADems', 'SenGillibrand', 'CNNMoney', \n",
    "                      'LADemos', 'WhipHoyer', 'keithellison',\n",
    "                       'billmaher', 'KeithOlbermann', 'maddow', \n",
    "                       'chrislhayes', 'CNN', 'CNNPolitics']\n",
    "democratic_accounts3 = ['CNNnewsroom', 'TheLeadCNN', 'danmericaCNN',\n",
    "                      'CNNPR', 'jaketapper', 'Acosta', \n",
    "                       'KilloughCNN', 'Deena_CNN', 'cnnbrk', \n",
    "                      'cnntech', 'mkraju', 'DylanByers', \n",
    "                        'Phil_Mattingly', 'jmoorheadcnn', \n",
    "                        'mj_lee', 'betsy_klein', 'NewDay']\n",
    "democratic_accounts4 = ['jeffzeleny', 'JDiamond1', 'jimsciutto', \n",
    "                        'tomlobianco', 'KateBennett_DC', 'DavidChalian', \n",
    "                        'SaraMurray', 'teddyschleifer', 'nowthised', \n",
    "                        'Arianedevogue', 'DHBerman', 'arwaCNN', \n",
    "                        'wolfblitzer','andersoncooper', 'GeorgeHowellCNN']"
   ]
  },
  {
   "cell_type": "code",
   "execution_count": 9,
   "metadata": {
    "collapsed": false
   },
   "outputs": [
    {
     "data": {
      "text/plain": [
       "15"
      ]
     },
     "execution_count": 9,
     "metadata": {},
     "output_type": "execute_result"
    }
   ],
   "source": [
    "len(democratic_accounts1)"
   ]
  },
  {
   "cell_type": "code",
   "execution_count": 20,
   "metadata": {
    "collapsed": false,
    "scrolled": true
   },
   "outputs": [
    {
     "data": {
      "text/plain": [
       "True"
      ]
     },
     "execution_count": 20,
     "metadata": {},
     "output_type": "execute_result"
    }
   ],
   "source": [
    "# twitter_accounts(democratic_accounts1, democrats) #get tweets from API"
   ]
  },
  {
   "cell_type": "code",
   "execution_count": 21,
   "metadata": {
    "collapsed": false
   },
   "outputs": [
    {
     "data": {
      "text/plain": [
       "True"
      ]
     },
     "execution_count": 21,
     "metadata": {},
     "output_type": "execute_result"
    }
   ],
   "source": [
    "# twitter_accounts(democratic_accounts2, democrats)"
   ]
  },
  {
   "cell_type": "code",
   "execution_count": 22,
   "metadata": {
    "collapsed": false,
    "scrolled": true
   },
   "outputs": [
    {
     "data": {
      "text/plain": [
       "True"
      ]
     },
     "execution_count": 22,
     "metadata": {},
     "output_type": "execute_result"
    }
   ],
   "source": [
    "# twitter_accounts(democratic_accounts3, democrats)"
   ]
  },
  {
   "cell_type": "code",
   "execution_count": 23,
   "metadata": {
    "collapsed": false,
    "scrolled": true
   },
   "outputs": [
    {
     "data": {
      "text/plain": [
       "True"
      ]
     },
     "execution_count": 23,
     "metadata": {},
     "output_type": "execute_result"
    }
   ],
   "source": [
    "# twitter_accounts(democratic_accounts4, democrats)"
   ]
  },
  {
   "cell_type": "code",
   "execution_count": 56,
   "metadata": {
    "collapsed": false,
    "scrolled": false
   },
   "outputs": [
    {
     "data": {
      "text/plain": [
       "True"
      ]
     },
     "execution_count": 56,
     "metadata": {},
     "output_type": "execute_result"
    }
   ],
   "source": [
    "# twitter_accounts(['realDonaldTrump'], trump)"
   ]
  },
  {
   "cell_type": "code",
   "execution_count": 57,
   "metadata": {
    "collapsed": false
   },
   "outputs": [
    {
     "data": {
      "text/plain": [
       "True"
      ]
     },
     "execution_count": 57,
     "metadata": {},
     "output_type": "execute_result"
    }
   ],
   "source": [
    "# twitter_accounts(['BarackObama'], obama)"
   ]
  },
  {
   "cell_type": "code",
   "execution_count": 5,
   "metadata": {
    "collapsed": false
   },
   "outputs": [],
   "source": [
    "republican_data = list(republicans.find({ }, { \"text\": 1, \"_id\": 0}))\n",
    "#query MongoDB"
   ]
  },
  {
   "cell_type": "code",
   "execution_count": 6,
   "metadata": {
    "collapsed": true
   },
   "outputs": [],
   "source": [
    "democrat_data = list(democrats.find({ }, { \"text\": 1, \"_id\": 0}))\n",
    "#query MongoDB"
   ]
  },
  {
   "cell_type": "code",
   "execution_count": 7,
   "metadata": {
    "collapsed": true
   },
   "outputs": [],
   "source": [
    "trump_data = list(trump.find({ }, { \"text\": 1, \"_id\": 0}))"
   ]
  },
  {
   "cell_type": "code",
   "execution_count": 8,
   "metadata": {
    "collapsed": true
   },
   "outputs": [],
   "source": [
    "obama_data = list(obama.find({ }, { \"text\": 1, \"_id\": 0}))"
   ]
  },
  {
   "cell_type": "code",
   "execution_count": 9,
   "metadata": {
    "collapsed": false
   },
   "outputs": [
    {
     "data": {
      "text/plain": [
       "{'text': '@stephen_lietz Best of luck on your venture, Stephen!'}"
      ]
     },
     "execution_count": 9,
     "metadata": {},
     "output_type": "execute_result"
    }
   ],
   "source": [
    "republican_data[0]"
   ]
  },
  {
   "cell_type": "code",
   "execution_count": 15,
   "metadata": {
    "collapsed": false,
    "scrolled": true
   },
   "outputs": [
    {
     "data": {
      "text/plain": [
       "190535"
      ]
     },
     "execution_count": 15,
     "metadata": {},
     "output_type": "execute_result"
    }
   ],
   "source": [
    "len(republican_data) #check how many tweets we have"
   ]
  },
  {
   "cell_type": "code",
   "execution_count": 16,
   "metadata": {
    "collapsed": false,
    "scrolled": false
   },
   "outputs": [
    {
     "data": {
      "text/plain": [
       "197255"
      ]
     },
     "execution_count": 16,
     "metadata": {},
     "output_type": "execute_result"
    }
   ],
   "source": [
    "len(democrat_data)"
   ]
  },
  {
   "cell_type": "code",
   "execution_count": 17,
   "metadata": {
    "collapsed": false
   },
   "outputs": [
    {
     "data": {
      "text/plain": [
       "3183"
      ]
     },
     "execution_count": 17,
     "metadata": {},
     "output_type": "execute_result"
    }
   ],
   "source": [
    "len(trump_data)"
   ]
  },
  {
   "cell_type": "code",
   "execution_count": 18,
   "metadata": {
    "collapsed": false
   },
   "outputs": [
    {
     "data": {
      "text/plain": [
       "3184"
      ]
     },
     "execution_count": 18,
     "metadata": {},
     "output_type": "execute_result"
    }
   ],
   "source": [
    "len(obama_data)"
   ]
  },
  {
   "cell_type": "markdown",
   "metadata": {},
   "source": [
    "### Create Pandas Data Frame"
   ]
  },
  {
   "cell_type": "code",
   "execution_count": 10,
   "metadata": {
    "collapsed": true
   },
   "outputs": [],
   "source": [
    "from pandas.io.json import json_normalize #put tweets into a DF"
   ]
  },
  {
   "cell_type": "code",
   "execution_count": 11,
   "metadata": {
    "collapsed": false
   },
   "outputs": [],
   "source": [
    "republican_df = json_normalize(republican_data) #normalize json to pandas DF"
   ]
  },
  {
   "cell_type": "code",
   "execution_count": 12,
   "metadata": {
    "collapsed": false,
    "scrolled": true
   },
   "outputs": [],
   "source": [
    "republican_df['party'] = 'republican' #make another column so I know what party\n",
    "republican_df['party_num'] = 1"
   ]
  },
  {
   "cell_type": "code",
   "execution_count": 13,
   "metadata": {
    "collapsed": true
   },
   "outputs": [],
   "source": [
    "democrat_df = json_normalize(democrat_data)"
   ]
  },
  {
   "cell_type": "code",
   "execution_count": 14,
   "metadata": {
    "collapsed": true
   },
   "outputs": [],
   "source": [
    "democrat_df['party'] = 'democratic'\n",
    "democrat_df['party_num'] = 0"
   ]
  },
  {
   "cell_type": "code",
   "execution_count": 15,
   "metadata": {
    "collapsed": true
   },
   "outputs": [],
   "source": [
    "trump_df = json_normalize(trump_data)\n",
    "trump_df['party'] = 'republican'\n",
    "trump_df['party_num'] = 1\n",
    "\n",
    "obama_df = json_normalize(obama_data)\n",
    "obama_df['party'] = 'democrat'\n",
    "obama_df['party_num'] = 0"
   ]
  },
  {
   "cell_type": "code",
   "execution_count": 16,
   "metadata": {
    "collapsed": false,
    "scrolled": false
   },
   "outputs": [
    {
     "data": {
      "text/html": [
       "<div>\n",
       "<table border=\"1\" class=\"dataframe\">\n",
       "  <thead>\n",
       "    <tr style=\"text-align: right;\">\n",
       "      <th></th>\n",
       "      <th>party_num</th>\n",
       "    </tr>\n",
       "  </thead>\n",
       "  <tbody>\n",
       "    <tr>\n",
       "      <th>count</th>\n",
       "      <td>190535.0</td>\n",
       "    </tr>\n",
       "    <tr>\n",
       "      <th>mean</th>\n",
       "      <td>1.0</td>\n",
       "    </tr>\n",
       "    <tr>\n",
       "      <th>std</th>\n",
       "      <td>0.0</td>\n",
       "    </tr>\n",
       "    <tr>\n",
       "      <th>min</th>\n",
       "      <td>1.0</td>\n",
       "    </tr>\n",
       "    <tr>\n",
       "      <th>25%</th>\n",
       "      <td>1.0</td>\n",
       "    </tr>\n",
       "    <tr>\n",
       "      <th>50%</th>\n",
       "      <td>1.0</td>\n",
       "    </tr>\n",
       "    <tr>\n",
       "      <th>75%</th>\n",
       "      <td>1.0</td>\n",
       "    </tr>\n",
       "    <tr>\n",
       "      <th>max</th>\n",
       "      <td>1.0</td>\n",
       "    </tr>\n",
       "  </tbody>\n",
       "</table>\n",
       "</div>"
      ],
      "text/plain": [
       "       party_num\n",
       "count   190535.0\n",
       "mean         1.0\n",
       "std          0.0\n",
       "min          1.0\n",
       "25%          1.0\n",
       "50%          1.0\n",
       "75%          1.0\n",
       "max          1.0"
      ]
     },
     "execution_count": 16,
     "metadata": {},
     "output_type": "execute_result"
    }
   ],
   "source": [
    "republican_df.describe() #let's see if it's entering the data properly"
   ]
  },
  {
   "cell_type": "code",
   "execution_count": 17,
   "metadata": {
    "collapsed": false,
    "scrolled": true
   },
   "outputs": [
    {
     "data": {
      "text/html": [
       "<div>\n",
       "<table border=\"1\" class=\"dataframe\">\n",
       "  <thead>\n",
       "    <tr style=\"text-align: right;\">\n",
       "      <th></th>\n",
       "      <th>party_num</th>\n",
       "    </tr>\n",
       "  </thead>\n",
       "  <tbody>\n",
       "    <tr>\n",
       "      <th>count</th>\n",
       "      <td>197255.0</td>\n",
       "    </tr>\n",
       "    <tr>\n",
       "      <th>mean</th>\n",
       "      <td>0.0</td>\n",
       "    </tr>\n",
       "    <tr>\n",
       "      <th>std</th>\n",
       "      <td>0.0</td>\n",
       "    </tr>\n",
       "    <tr>\n",
       "      <th>min</th>\n",
       "      <td>0.0</td>\n",
       "    </tr>\n",
       "    <tr>\n",
       "      <th>25%</th>\n",
       "      <td>0.0</td>\n",
       "    </tr>\n",
       "    <tr>\n",
       "      <th>50%</th>\n",
       "      <td>0.0</td>\n",
       "    </tr>\n",
       "    <tr>\n",
       "      <th>75%</th>\n",
       "      <td>0.0</td>\n",
       "    </tr>\n",
       "    <tr>\n",
       "      <th>max</th>\n",
       "      <td>0.0</td>\n",
       "    </tr>\n",
       "  </tbody>\n",
       "</table>\n",
       "</div>"
      ],
      "text/plain": [
       "       party_num\n",
       "count   197255.0\n",
       "mean         0.0\n",
       "std          0.0\n",
       "min          0.0\n",
       "25%          0.0\n",
       "50%          0.0\n",
       "75%          0.0\n",
       "max          0.0"
      ]
     },
     "execution_count": 17,
     "metadata": {},
     "output_type": "execute_result"
    }
   ],
   "source": [
    "democrat_df.describe()"
   ]
  },
  {
   "cell_type": "code",
   "execution_count": 18,
   "metadata": {
    "collapsed": false
   },
   "outputs": [
    {
     "data": {
      "text/html": [
       "<div>\n",
       "<table border=\"1\" class=\"dataframe\">\n",
       "  <thead>\n",
       "    <tr style=\"text-align: right;\">\n",
       "      <th></th>\n",
       "      <th>text</th>\n",
       "      <th>party</th>\n",
       "      <th>party_num</th>\n",
       "    </tr>\n",
       "  </thead>\n",
       "  <tbody>\n",
       "    <tr>\n",
       "      <th>0</th>\n",
       "      <td>@stephen_lietz Best of luck on your venture, S...</td>\n",
       "      <td>republican</td>\n",
       "      <td>1</td>\n",
       "    </tr>\n",
       "    <tr>\n",
       "      <th>1</th>\n",
       "      <td>@SmithHoke Thanks for your support!</td>\n",
       "      <td>republican</td>\n",
       "      <td>1</td>\n",
       "    </tr>\n",
       "    <tr>\n",
       "      <th>2</th>\n",
       "      <td>Big Ohio endorsement coming. Stay tuned...</td>\n",
       "      <td>republican</td>\n",
       "      <td>1</td>\n",
       "    </tr>\n",
       "    <tr>\n",
       "      <th>3</th>\n",
       "      <td>As Ohio goes, so goes the nation.</td>\n",
       "      <td>republican</td>\n",
       "      <td>1</td>\n",
       "    </tr>\n",
       "    <tr>\n",
       "      <th>4</th>\n",
       "      <td>Tune in to MSNBC NOW to see John Kasich's town...</td>\n",
       "      <td>republican</td>\n",
       "      <td>1</td>\n",
       "    </tr>\n",
       "  </tbody>\n",
       "</table>\n",
       "</div>"
      ],
      "text/plain": [
       "                                                text       party  party_num\n",
       "0  @stephen_lietz Best of luck on your venture, S...  republican          1\n",
       "1                @SmithHoke Thanks for your support!  republican          1\n",
       "2         Big Ohio endorsement coming. Stay tuned...  republican          1\n",
       "3                  As Ohio goes, so goes the nation.  republican          1\n",
       "4  Tune in to MSNBC NOW to see John Kasich's town...  republican          1"
      ]
     },
     "execution_count": 18,
     "metadata": {},
     "output_type": "execute_result"
    }
   ],
   "source": [
    "republican_df.head()"
   ]
  },
  {
   "cell_type": "code",
   "execution_count": 19,
   "metadata": {
    "collapsed": false,
    "scrolled": false
   },
   "outputs": [
    {
     "data": {
      "text/html": [
       "<div>\n",
       "<table border=\"1\" class=\"dataframe\">\n",
       "  <thead>\n",
       "    <tr style=\"text-align: right;\">\n",
       "      <th></th>\n",
       "      <th>text</th>\n",
       "      <th>party</th>\n",
       "      <th>party_num</th>\n",
       "    </tr>\n",
       "  </thead>\n",
       "  <tbody>\n",
       "    <tr>\n",
       "      <th>0</th>\n",
       "      <td>RT @KyungLahCNN: 5 years later, Fukushima via ...</td>\n",
       "      <td>democratic</td>\n",
       "      <td>0</td>\n",
       "    </tr>\n",
       "    <tr>\n",
       "      <th>1</th>\n",
       "      <td>RT @AshleyCodianni: We chatted w/ @HillaryClin...</td>\n",
       "      <td>democratic</td>\n",
       "      <td>0</td>\n",
       "    </tr>\n",
       "    <tr>\n",
       "      <th>2</th>\n",
       "      <td>RT @CNN: The crisis in Flint, Michigan, is not...</td>\n",
       "      <td>democratic</td>\n",
       "      <td>0</td>\n",
       "    </tr>\n",
       "    <tr>\n",
       "      <th>3</th>\n",
       "      <td>RT @moody: Let us all take a moment and rememb...</td>\n",
       "      <td>democratic</td>\n",
       "      <td>0</td>\n",
       "    </tr>\n",
       "    <tr>\n",
       "      <th>4</th>\n",
       "      <td>RT @JDiamond1: Wow. Will help @BernieSanders w...</td>\n",
       "      <td>democratic</td>\n",
       "      <td>0</td>\n",
       "    </tr>\n",
       "  </tbody>\n",
       "</table>\n",
       "</div>"
      ],
      "text/plain": [
       "                                                text       party  party_num\n",
       "0  RT @KyungLahCNN: 5 years later, Fukushima via ...  democratic          0\n",
       "1  RT @AshleyCodianni: We chatted w/ @HillaryClin...  democratic          0\n",
       "2  RT @CNN: The crisis in Flint, Michigan, is not...  democratic          0\n",
       "3  RT @moody: Let us all take a moment and rememb...  democratic          0\n",
       "4  RT @JDiamond1: Wow. Will help @BernieSanders w...  democratic          0"
      ]
     },
     "execution_count": 19,
     "metadata": {},
     "output_type": "execute_result"
    }
   ],
   "source": [
    "democrat_df.head()"
   ]
  },
  {
   "cell_type": "code",
   "execution_count": 20,
   "metadata": {
    "collapsed": false,
    "scrolled": true
   },
   "outputs": [
    {
     "data": {
      "text/html": [
       "<div>\n",
       "<table border=\"1\" class=\"dataframe\">\n",
       "  <thead>\n",
       "    <tr style=\"text-align: right;\">\n",
       "      <th></th>\n",
       "      <th>text</th>\n",
       "      <th>party</th>\n",
       "      <th>party_num</th>\n",
       "    </tr>\n",
       "  </thead>\n",
       "  <tbody>\n",
       "    <tr>\n",
       "      <th>0</th>\n",
       "      <td>@stephen_lietz Best of luck on your venture, S...</td>\n",
       "      <td>republican</td>\n",
       "      <td>1</td>\n",
       "    </tr>\n",
       "    <tr>\n",
       "      <th>1</th>\n",
       "      <td>@SmithHoke Thanks for your support!</td>\n",
       "      <td>republican</td>\n",
       "      <td>1</td>\n",
       "    </tr>\n",
       "    <tr>\n",
       "      <th>2</th>\n",
       "      <td>Big Ohio endorsement coming. Stay tuned...</td>\n",
       "      <td>republican</td>\n",
       "      <td>1</td>\n",
       "    </tr>\n",
       "    <tr>\n",
       "      <th>3</th>\n",
       "      <td>As Ohio goes, so goes the nation.</td>\n",
       "      <td>republican</td>\n",
       "      <td>1</td>\n",
       "    </tr>\n",
       "    <tr>\n",
       "      <th>4</th>\n",
       "      <td>Tune in to MSNBC NOW to see John Kasich's town...</td>\n",
       "      <td>republican</td>\n",
       "      <td>1</td>\n",
       "    </tr>\n",
       "  </tbody>\n",
       "</table>\n",
       "</div>"
      ],
      "text/plain": [
       "                                                text       party  party_num\n",
       "0  @stephen_lietz Best of luck on your venture, S...  republican          1\n",
       "1                @SmithHoke Thanks for your support!  republican          1\n",
       "2         Big Ohio endorsement coming. Stay tuned...  republican          1\n",
       "3                  As Ohio goes, so goes the nation.  republican          1\n",
       "4  Tune in to MSNBC NOW to see John Kasich's town...  republican          1"
      ]
     },
     "execution_count": 20,
     "metadata": {},
     "output_type": "execute_result"
    }
   ],
   "source": [
    "df = pd.concat([republican_df, democrat_df]).reset_index(drop=True) #bring them together.\n",
    "df.head() #bring the two parties together"
   ]
  },
  {
   "cell_type": "code",
   "execution_count": 21,
   "metadata": {
    "collapsed": false
   },
   "outputs": [
    {
     "data": {
      "text/html": [
       "<div>\n",
       "<table border=\"1\" class=\"dataframe\">\n",
       "  <thead>\n",
       "    <tr style=\"text-align: right;\">\n",
       "      <th></th>\n",
       "      <th>text</th>\n",
       "      <th>party</th>\n",
       "      <th>party_num</th>\n",
       "    </tr>\n",
       "  </thead>\n",
       "  <tbody>\n",
       "    <tr>\n",
       "      <th>0</th>\n",
       "      <td>@stephen_lietz Best of luck on your venture, S...</td>\n",
       "      <td>republican</td>\n",
       "      <td>1</td>\n",
       "    </tr>\n",
       "    <tr>\n",
       "      <th>1</th>\n",
       "      <td>@SmithHoke Thanks for your support!</td>\n",
       "      <td>republican</td>\n",
       "      <td>1</td>\n",
       "    </tr>\n",
       "    <tr>\n",
       "      <th>2</th>\n",
       "      <td>Big Ohio endorsement coming. Stay tuned...</td>\n",
       "      <td>republican</td>\n",
       "      <td>1</td>\n",
       "    </tr>\n",
       "    <tr>\n",
       "      <th>3</th>\n",
       "      <td>As Ohio goes, so goes the nation.</td>\n",
       "      <td>republican</td>\n",
       "      <td>1</td>\n",
       "    </tr>\n",
       "    <tr>\n",
       "      <th>4</th>\n",
       "      <td>Tune in to MSNBC NOW to see John Kasich's town...</td>\n",
       "      <td>republican</td>\n",
       "      <td>1</td>\n",
       "    </tr>\n",
       "  </tbody>\n",
       "</table>\n",
       "</div>"
      ],
      "text/plain": [
       "                                                text       party  party_num\n",
       "0  @stephen_lietz Best of luck on your venture, S...  republican          1\n",
       "1                @SmithHoke Thanks for your support!  republican          1\n",
       "2         Big Ohio endorsement coming. Stay tuned...  republican          1\n",
       "3                  As Ohio goes, so goes the nation.  republican          1\n",
       "4  Tune in to MSNBC NOW to see John Kasich's town...  republican          1"
      ]
     },
     "execution_count": 21,
     "metadata": {},
     "output_type": "execute_result"
    }
   ],
   "source": [
    "df_test = pd.concat([trump_df, obama_df]).reset_index(drop=True) #bring them together.\n",
    "df.head()"
   ]
  },
  {
   "cell_type": "code",
   "execution_count": 22,
   "metadata": {
    "collapsed": false,
    "scrolled": false
   },
   "outputs": [
    {
     "data": {
      "text/plain": [
       "'@stephen_lietz Best of luck on your venture, Stephen!'"
      ]
     },
     "execution_count": 22,
     "metadata": {},
     "output_type": "execute_result"
    }
   ],
   "source": [
    "republican_df.iloc[0]['text']"
   ]
  },
  {
   "cell_type": "markdown",
   "metadata": {},
   "source": [
    "### Text Processing"
   ]
  },
  {
   "cell_type": "code",
   "execution_count": 23,
   "metadata": {
    "collapsed": false,
    "scrolled": true
   },
   "outputs": [],
   "source": [
    "def to_string(data_frame_col): #append each row as a string to one list.\n",
    "    example = []\n",
    "    for row in data_frame_col:\n",
    "        example.append(str(row))\n",
    "    return example\n",
    "#this is because future vectorizers only take in a list of strings."
   ]
  },
  {
   "cell_type": "code",
   "execution_count": 24,
   "metadata": {
    "collapsed": false
   },
   "outputs": [],
   "source": [
    "stringed_tweets = to_string(df['text'])"
   ]
  },
  {
   "cell_type": "code",
   "execution_count": 25,
   "metadata": {
    "collapsed": true
   },
   "outputs": [],
   "source": [
    "stringed_tweets_test = to_string(df_test['text'])"
   ]
  },
  {
   "cell_type": "code",
   "execution_count": 26,
   "metadata": {
    "collapsed": false
   },
   "outputs": [
    {
     "data": {
      "text/plain": [
       "['@stephen_lietz Best of luck on your venture, Stephen!',\n",
       " '@SmithHoke Thanks for your support!',\n",
       " 'Big Ohio endorsement coming. Stay tuned...',\n",
       " 'As Ohio goes, so goes the nation.',\n",
       " \"Tune in to MSNBC NOW to see John Kasich's town hall from Lima.\"]"
      ]
     },
     "execution_count": 26,
     "metadata": {},
     "output_type": "execute_result"
    }
   ],
   "source": [
    "example = stringed_tweets[0:5] #sanity check.\n",
    "example"
   ]
  },
  {
   "cell_type": "code",
   "execution_count": 27,
   "metadata": {
    "collapsed": true
   },
   "outputs": [],
   "source": [
    "from sklearn.decomposition import TruncatedSVD, NMF\n",
    "from sklearn.feature_extraction.text import TfidfVectorizer\n",
    "from sklearn.preprocessing import Normalizer"
   ]
  },
  {
   "cell_type": "code",
   "execution_count": 28,
   "metadata": {
    "collapsed": true
   },
   "outputs": [],
   "source": [
    "tfidf = TfidfVectorizer(stop_words=\"english\", \n",
    "                        token_pattern=\"\\\\b[a-zA-Z][a-zA-Z]+\\\\b\", #regular expression, filter by two letters surrounded by word boundaries.\n",
    "                        min_df=10, \n",
    "                       max_df=10000) #minimum document frequency, ignores words that occur less than 10x"
   ]
  },
  {
   "cell_type": "code",
   "execution_count": 29,
   "metadata": {
    "collapsed": false,
    "scrolled": false
   },
   "outputs": [],
   "source": [
    "tfidf_mat = tfidf.fit_transform(stringed_tweets) #this is unsupervised training corpus.\n",
    "#fit_transform initializes the tfidfvectorizer function to count occurrences\n",
    "#of stringed_tweets; it then applies the transformation and stores as tfidf_vecs\n"
   ]
  },
  {
   "cell_type": "markdown",
   "metadata": {},
   "source": [
    "### Dimension Reduction/Feature Extraction"
   ]
  },
  {
   "cell_type": "code",
   "execution_count": 30,
   "metadata": {
    "collapsed": false
   },
   "outputs": [],
   "source": [
    "lsa = TruncatedSVD(50, algorithm='randomized')\n",
    "reduced_mat = lsa.fit_transform(tfidf_mat) #this fit_transform does:\n",
    "#1) it learns a reduced matrix that maps topics to words\n",
    "reduced_mat = Normalizer(copy=False).fit_transform(reduced_mat)\n",
    "#2) it then applies this transformation and stores it, by norm of 1\n",
    "#this is providing the TALL AND SKINNY MATRIX (docs by topics)"
   ]
  },
  {
   "cell_type": "code",
   "execution_count": null,
   "metadata": {
    "collapsed": true
   },
   "outputs": [],
   "source": [
    "#let's print out this TALL AND SKINNY matrix\n",
    "pd.DataFrame(reduced_mat.round(5), index = stringed_tweets, \n",
    "             columns = range(1,reduced_mat.shape[1]+1)).head(2)"
   ]
  },
  {
   "cell_type": "code",
   "execution_count": null,
   "metadata": {
    "collapsed": true
   },
   "outputs": [],
   "source": [
    "# let's show the SHORT AND WIDE matrix that is TOPICS BY FEATURE TERMS\n",
    "pd.DataFrame(lsa.components_.round(5), index = \n",
    "             range(1,reduced_mat.shape[1]+1), \n",
    "             columns=tfidf.get_feature_names()).head()"
   ]
  },
  {
   "cell_type": "code",
   "execution_count": 31,
   "metadata": {
    "collapsed": false,
    "scrolled": true
   },
   "outputs": [
    {
     "data": {
      "text/plain": [
       "((387790, 20990), (387790, 50))"
      ]
     },
     "execution_count": 31,
     "metadata": {},
     "output_type": "execute_result"
    }
   ],
   "source": [
    "tfidf_mat.shape, reduced_mat.shape\n",
    "#again, reduced_mat is the \"tall skinny\" matrix T"
   ]
  },
  {
   "cell_type": "code",
   "execution_count": 32,
   "metadata": {
    "collapsed": false,
    "scrolled": true
   },
   "outputs": [
    {
     "data": {
      "text/plain": [
       "(50, 20990)"
      ]
     },
     "execution_count": 32,
     "metadata": {},
     "output_type": "execute_result"
    }
   ],
   "source": [
    "lsa.components_.shape #this is \"short and wide\" matrix W"
   ]
  },
  {
   "cell_type": "code",
   "execution_count": 43,
   "metadata": {
    "collapsed": false,
    "scrolled": false
   },
   "outputs": [
    {
     "name": "stderr",
     "output_type": "stream",
     "text": [
      "/home/ubuntu/anaconda3/lib/python3.6/site-packages/matplotlib/font_manager.py:1297: UserWarning: findfont: Font family ['sans-serif'] not found. Falling back to DejaVu Sans\n",
      "  (prop.get_family(), self.defaultFamily[fontext]))\n"
     ]
    },
    {
     "data": {
      "image/png": "[encoded data removed]",
      "text/plain": [
       "<matplotlib.figure.Figure at 0x7fe0b7df46d8>"
      ]
     },
     "metadata": {},
     "output_type": "display_data"
    }
   ],
   "source": [
    "#let's create our eigenvalue plot (divided by sum of eigenvalues)\n",
    "plt.plot(lsa.explained_variance_ratio_, '.');\n",
    "plt.xlabel('Dimensions')\n",
    "plt.ylabel('Explained Variance')\n",
    "plt.title('Explained Variance Ratios')\n",
    "plt.tight_layout()"
   ]
  },
  {
   "cell_type": "markdown",
   "metadata": {},
   "source": [
    "### Exploring most important word in each topic."
   ]
  },
  {
   "cell_type": "code",
   "execution_count": 44,
   "metadata": {
    "collapsed": true
   },
   "outputs": [],
   "source": [
    "terms = np.array(tfidf.get_feature_names())\n",
    "#this tells us the column names that will be our terms"
   ]
  },
  {
   "cell_type": "code",
   "execution_count": 45,
   "metadata": {
    "collapsed": true
   },
   "outputs": [],
   "source": [
    "#let's check out what the highest valued word is for each topic.\n",
    "def get_topical_terms(topic_mat, topic_num, term_vec, num_terms=25):\n",
    "    return term_vec[np.argsort(-topic_mat[topic_num,:])][:num_terms]"
   ]
  },
  {
   "cell_type": "code",
   "execution_count": 46,
   "metadata": {
    "collapsed": false
   },
   "outputs": [
    {
     "name": "stdout",
     "output_type": "stream",
     "text": [
      "topic 0\n",
      "['great' 'thank' 'live' 'watch' 'tonight' 'thanks' 'house' 'time'\n",
      " 'realdonaldtrump' 'news' 'day' 'vote' 'et' 'gop' 'hillary' 'potus'\n",
      " 'america' 'don' 'll' 'make']\n",
      "topic 1\n",
      "['thank' 'great' 'support' 'thanks' 'happy' 'service' 'friend' 'birthday'\n",
      " 'watching' 'love' 'kind' 'appreciate' 'sir' 'work' 'god' 'katrinacampins'\n",
      " 'honor' 'words' 'amazing' 'having']\n",
      "topic 2\n",
      "['thanks' 'great' 'watching' 'support' 'having' 'good' 'listening' 'lot'\n",
      " 'work' 'happy' 'time' 'glad' 'coming' 'day' 'love' 'hope' 'birthday' 'fun'\n",
      " 'team' 'enjoyed']\n",
      "topic 3\n",
      "['live' 'watch' 'et' 'thanks' 'tonight' 'tune' 'll' 'thank' 'join'\n",
      " 'facebook' 'foxnews' 'discuss' 'joining' 'interview' 'pm' 'joins'\n",
      " 'morning' 'conference' 'debate' 'press']\n",
      "topic 4\n",
      "['great' 'day' 'america' 'happy' 'good' 'tonight' 'news' 'morning' 'time'\n",
      " 'birthday' 'make' 'realdonaldtrump' 'night' 'friend' 'meeting' 'join'\n",
      " 'meet' 'hope' 'tune' 'looking']\n",
      "topic 5\n",
      "['news' 'breaking' 'house' 'fox' 'white' 'good' 'fake' 'quiz' 'conference'\n",
      " 'great' 'dead' 'latest' 'report' 'campaign' 'thank' 'thanks' 'sunday'\n",
      " 'poll' 'shooting' 'press']\n",
      "topic 6\n",
      "['house' 'great' 'white' 'live' 'watch' 'obamacare' 'gop' 'health' 'senate'\n",
      " 'care' 'repeal' 'republicans' 'gt' 'press' 'act' 'plan' 'passed'\n",
      " 'congress' 'floor' 'americans']\n",
      "topic 7\n",
      "['gt' 'news' 'read' 'good' 'obamacare' 'things' 'facebook' 'video' 'help'\n",
      " 'icymi' 'housecommerce' 'media' 'breaking' 'fight' 'michellemalkin'\n",
      " 'thanks' 'lt' 'check' 'campaign' 'autismspeaks']\n",
      "topic 8\n",
      "['happy' 'day' 'birthday' 'good' 'vote' 'news' 'live' 'election' 'year'\n",
      " 'wishing' 'friend' 'thanksgiving' 'breaking' 'years' 'morning' 'watch'\n",
      " 'family' 'wish' 'days' 'early']\n",
      "topic 9\n",
      "['house' 'white' 'hillary' 'donald' 'vote' 'tonight' 'gt' 'great' 'day'\n",
      " 'realdonaldtrump' 'campaign' 'cnnpolitics' 'debate' 'hillaryclinton'\n",
      " 'election' 'win' 'did' 'press' 'days' 'presidential']\n"
     ]
    }
   ],
   "source": [
    "for i in range(10):\n",
    "    print(\"topic {}\".format(i))\n",
    "    print(get_topical_terms(lsa.components_,i,terms, 20))\n",
    "#somehow get rid of words like \"https\" and \"rt\""
   ]
  },
  {
   "cell_type": "code",
   "execution_count": 47,
   "metadata": {
    "collapsed": false
   },
   "outputs": [
    {
     "data": {
      "text/plain": [
       "'RT @bhweingarten: Solid use of critical national security resources https://t.co/AwheWbQYxY'"
      ]
     },
     "execution_count": 47,
     "metadata": {},
     "output_type": "execute_result"
    }
   ],
   "source": [
    "df['text'][123]"
   ]
  },
  {
   "cell_type": "code",
   "execution_count": 48,
   "metadata": {
    "collapsed": false
   },
   "outputs": [
    {
     "data": {
      "text/plain": [
       "(6367, 3)"
      ]
     },
     "execution_count": 48,
     "metadata": {},
     "output_type": "execute_result"
    }
   ],
   "source": [
    "df_test.shape #obama and trump test data"
   ]
  },
  {
   "cell_type": "markdown",
   "metadata": {},
   "source": [
    "### Predictive Modeling "
   ]
  },
  {
   "cell_type": "code",
   "execution_count": 33,
   "metadata": {
    "collapsed": true
   },
   "outputs": [],
   "source": [
    "#let's train our model with these two parties, and then predict new tweets.\n",
    "from sklearn.ensemble import RandomForestClassifier, GradientBoostingClassifier\n",
    "from sklearn.metrics import precision_recall_curve, accuracy_score, f1_score "
   ]
  },
  {
   "cell_type": "code",
   "execution_count": 34,
   "metadata": {
    "collapsed": false
   },
   "outputs": [
    {
     "data": {
      "text/plain": [
       "(387790, 50)"
      ]
     },
     "execution_count": 34,
     "metadata": {},
     "output_type": "execute_result"
    }
   ],
   "source": [
    "reduced_mat.shape"
   ]
  },
  {
   "cell_type": "code",
   "execution_count": 35,
   "metadata": {
    "collapsed": false
   },
   "outputs": [
    {
     "data": {
      "text/plain": [
       "(387790,)"
      ]
     },
     "execution_count": 35,
     "metadata": {},
     "output_type": "execute_result"
    }
   ],
   "source": [
    "df['party_num'].shape"
   ]
  },
  {
   "cell_type": "code",
   "execution_count": 36,
   "metadata": {
    "collapsed": true
   },
   "outputs": [],
   "source": [
    "y_train = df['party_num']"
   ]
  },
  {
   "cell_type": "code",
   "execution_count": 37,
   "metadata": {
    "collapsed": true
   },
   "outputs": [],
   "source": [
    "#use \"transform\" below to repeat the transform on the train text to get \n",
    "#new features that our model can use (since new tweets will change features)\n",
    "#we are not recomputing the SVD or \"rechoosing\" the words, just recalc\n",
    "#the IDF portion of TFIDF\n",
    "\n",
    "#LETS CREATE THE TEST MATRIX\n",
    "tfidf_mat_test = tfidf.transform(df_test['text'])\n",
    "reduced_mat_test = lsa.transform(tfidf_mat_test)\n",
    "\n",
    "#use a \"fit_transform\" for the Normalizer\n",
    "reduced_mat_test = Normalizer(copy=False).fit_transform(reduced_mat_test)"
   ]
  },
  {
   "cell_type": "code",
   "execution_count": 54,
   "metadata": {
    "collapsed": false
   },
   "outputs": [],
   "source": [
    "#train the model with our tweets thus far\n",
    "rf_model = RandomForestClassifier(n_estimators=500, #min_samples_leaf=1, \n",
    "                                  max_features='sqrt', n_jobs=-1)\n",
    "                                  #class_weight='balanced_subsample')\n",
    "rf_model.fit(reduced_mat, y_train); "
   ]
  },
  {
   "cell_type": "code",
   "execution_count": null,
   "metadata": {
    "collapsed": true
   },
   "outputs": [],
   "source": [
    "#THESE THREE LINES OF CODE ARE ALL THAT NEED TO BE CHANGED TO TEST ON NEW QUOTES\n",
    "# def new_tweet(tweet):\n",
    "#     tfidf_mat_test = tfidf.transform(df_test['text'])\n",
    "#     reduced_mat_test = lsa.transform(tfidf_mat_test)\n",
    "\n",
    "# #use a \"fit_transform\" for the Normalizer\n",
    "#     reduced_mat_test = Normalizer(copy=False).fit_transform(reduced_mat_test)"
   ]
  },
  {
   "cell_type": "code",
   "execution_count": 57,
   "metadata": {
    "collapsed": false,
    "scrolled": true
   },
   "outputs": [
    {
     "data": {
      "text/plain": [
       "array([ 0.01819497,  0.02038858,  0.01920229,  0.02218763,  0.02289386,\n",
       "        0.0197508 ,  0.02135545,  0.02255685,  0.01974543,  0.02055762,\n",
       "        0.02658414,  0.01898873,  0.01840372,  0.02278717,  0.01863246,\n",
       "        0.01852663,  0.0182405 ,  0.0201002 ,  0.01830289,  0.02581947,\n",
       "        0.01856798,  0.01755973,  0.02002052,  0.01945091,  0.01834773,\n",
       "        0.0179415 ,  0.0226775 ,  0.02110765,  0.02212917,  0.02836574,\n",
       "        0.01890141,  0.01904191,  0.02042271,  0.01828329,  0.01886617,\n",
       "        0.01907184,  0.01894778,  0.01792872,  0.01947642,  0.0231085 ,\n",
       "        0.01973151,  0.01819491,  0.01796908,  0.0191463 ,  0.0178867 ,\n",
       "        0.01791593,  0.0197132 ,  0.0184063 ,  0.01931006,  0.01828945])"
      ]
     },
     "execution_count": 57,
     "metadata": {},
     "output_type": "execute_result"
    }
   ],
   "source": [
    "rf_model.feature_importances_"
   ]
  },
  {
   "cell_type": "code",
   "execution_count": 58,
   "metadata": {
    "collapsed": true
   },
   "outputs": [],
   "source": [
    "rf_pred = rf_model.predict_proba(reduced_mat_test)[:,1]"
   ]
  },
  {
   "cell_type": "code",
   "execution_count": 59,
   "metadata": {
    "collapsed": false
   },
   "outputs": [],
   "source": [
    "gb_model = GradientBoostingClassifier(n_estimators=500, #min_samples_leaf=1, \n",
    "                                  max_features='sqrt')\n",
    "                                  #class_weight='balanced_subsample')\n",
    "gb_model.fit(reduced_mat, y_train); "
   ]
  },
  {
   "cell_type": "code",
   "execution_count": 60,
   "metadata": {
    "collapsed": false
   },
   "outputs": [],
   "source": [
    "gb_pred = gb_model.predict_proba(reduced_mat_test)[:,1]"
   ]
  },
  {
   "cell_type": "code",
   "execution_count": 61,
   "metadata": {
    "collapsed": false,
    "scrolled": false
   },
   "outputs": [
    {
     "data": {
      "text/plain": [
       "(6367,)"
      ]
     },
     "execution_count": 61,
     "metadata": {},
     "output_type": "execute_result"
    }
   ],
   "source": [
    "rf_pred.shape"
   ]
  },
  {
   "cell_type": "code",
   "execution_count": 62,
   "metadata": {
    "collapsed": false,
    "scrolled": true
   },
   "outputs": [
    {
     "data": {
      "text/plain": [
       "(6367,)"
      ]
     },
     "execution_count": 62,
     "metadata": {},
     "output_type": "execute_result"
    }
   ],
   "source": [
    "gb_pred.shape"
   ]
  },
  {
   "cell_type": "code",
   "execution_count": 43,
   "metadata": {
    "collapsed": false
   },
   "outputs": [],
   "source": [
    "y_test = df_test['party_num']"
   ]
  },
  {
   "cell_type": "code",
   "execution_count": 64,
   "metadata": {
    "collapsed": false
   },
   "outputs": [
    {
     "name": "stderr",
     "output_type": "stream",
     "text": [
      "/home/ubuntu/anaconda3/lib/python3.6/site-packages/matplotlib/font_manager.py:1297: UserWarning: findfont: Font family ['sans-serif'] not found. Falling back to DejaVu Sans\n",
      "  (prop.get_family(), self.defaultFamily[fontext]))\n"
     ]
    },
    {
     "data": {
      "text/plain": [
       "<matplotlib.legend.Legend at 0x7fe0b6b52668>"
      ]
     },
     "execution_count": 64,
     "metadata": {},
     "output_type": "execute_result"
    },
    {
     "data": {
      "image/png": "[encoded data removed]",
      "text/plain": [
       "<matplotlib.figure.Figure at 0x7fe0b6c81ef0>"
      ]
     },
     "metadata": {},
     "output_type": "display_data"
    }
   ],
   "source": [
    "precision_rf, recall_rf, threshold_rf = precision_recall_curve(y_test,\n",
    "                                                               rf_pred)\n",
    "\n",
    "plt.plot(precision_rf[:-1], recall_rf[:-1], label='Random Forest')\n",
    "\n",
    "plt.xlabel('Precision')\n",
    "plt.ylabel('Recall')\n",
    "plt.title('Precision Recall Curve')\n",
    "plt.tight_layout();\n",
    "\n",
    "precision_gb, recall_gb, threshold_gb = precision_recall_curve(y_test, \n",
    "                                                               gb_pred)\n",
    "\n",
    "plt.plot(precision_gb[:-1], recall_gb[:-1], label='Gradient Boosting')\n",
    "# is number of ones - recall you are leaving behind.\n",
    "plt.xlim([0,1])\n",
    "plt.ylim([0,1])\n",
    "plt.xlabel('Precision')\n",
    "plt.ylabel('Recall')\n",
    "plt.title('Precision Recall Curve')\n",
    "plt.tight_layout();\n",
    "\n",
    "plt.legend(loc=2)"
   ]
  },
  {
   "cell_type": "code",
   "execution_count": 65,
   "metadata": {
    "collapsed": false
   },
   "outputs": [
    {
     "data": {
      "text/plain": [
       "array([ 0.01739796,  0.01480213,  0.02061888,  0.02761202,  0.03700516,\n",
       "        0.02734664,  0.02073337,  0.03019862,  0.02154348,  0.01883238,\n",
       "        0.03851866,  0.01365964,  0.01463905,  0.03999557,  0.01324573,\n",
       "        0.01094941,  0.01796836,  0.0228301 ,  0.02319627,  0.03209777,\n",
       "        0.01410922,  0.00935193,  0.02727477,  0.01056785,  0.00707006,\n",
       "        0.00739574,  0.02879252,  0.02995295,  0.02861096,  0.03064487,\n",
       "        0.01522967,  0.01869939,  0.02519488,  0.02042349,  0.01781354,\n",
       "        0.0139044 ,  0.0172021 ,  0.00783189,  0.01874778,  0.02543878,\n",
       "        0.02098621,  0.01828699,  0.00910683,  0.01978577,  0.01326613,\n",
       "        0.01032789,  0.02046789,  0.01582418,  0.01951562,  0.01498451])"
      ]
     },
     "execution_count": 65,
     "metadata": {},
     "output_type": "execute_result"
    }
   ],
   "source": [
    "gb_model.feature_importances_"
   ]
  },
  {
   "cell_type": "code",
   "execution_count": 66,
   "metadata": {
    "collapsed": false
   },
   "outputs": [
    {
     "data": {
      "text/plain": [
       "0.57703785142139152"
      ]
     },
     "execution_count": 66,
     "metadata": {},
     "output_type": "execute_result"
    }
   ],
   "source": [
    "accuracy_score(y_test , rf_pred > 0.5)"
   ]
  },
  {
   "cell_type": "code",
   "execution_count": 69,
   "metadata": {
    "collapsed": false,
    "scrolled": true
   },
   "outputs": [
    {
     "data": {
      "text/plain": [
       "0.56887073975184543"
      ]
     },
     "execution_count": 69,
     "metadata": {},
     "output_type": "execute_result"
    }
   ],
   "source": [
    "accuracy_score(y_test, gb_pred > 0.5)"
   ]
  },
  {
   "cell_type": "markdown",
   "metadata": {},
   "source": [
    "### repeat this, but reduce the dimensions using the explained variance"
   ]
  },
  {
   "cell_type": "code",
   "execution_count": 38,
   "metadata": {
    "collapsed": false
   },
   "outputs": [],
   "source": [
    "rf_model_new = RandomForestClassifier(n_estimators=250, max_features='sqrt')\n",
    "rf_model_new.fit(reduced_mat[:,:10], y_train);"
   ]
  },
  {
   "cell_type": "code",
   "execution_count": 39,
   "metadata": {
    "collapsed": false,
    "scrolled": true
   },
   "outputs": [],
   "source": [
    "rf_pred_new = rf_model_new.predict_proba(reduced_mat_test[:,:10])[:,1]"
   ]
  },
  {
   "cell_type": "code",
   "execution_count": 40,
   "metadata": {
    "collapsed": true
   },
   "outputs": [],
   "source": [
    "gb_model_new = RandomForestClassifier(n_estimators=250, max_features='sqrt')\n",
    "gb_model_new.fit(reduced_mat[:,:10], y_train);"
   ]
  },
  {
   "cell_type": "code",
   "execution_count": 41,
   "metadata": {
    "collapsed": true
   },
   "outputs": [],
   "source": [
    "gb_pred_new = gb_model_new.predict_proba(reduced_mat_test[:,:10])[:,1]"
   ]
  },
  {
   "cell_type": "code",
   "execution_count": 44,
   "metadata": {
    "collapsed": false
   },
   "outputs": [
    {
     "name": "stderr",
     "output_type": "stream",
     "text": [
      "/home/ubuntu/anaconda3/lib/python3.6/site-packages/matplotlib/font_manager.py:1297: UserWarning: findfont: Font family ['sans-serif'] not found. Falling back to DejaVu Sans\n",
      "  (prop.get_family(), self.defaultFamily[fontext]))\n"
     ]
    },
    {
     "data": {
      "text/plain": [
       "<matplotlib.legend.Legend at 0x7fee1130a518>"
      ]
     },
     "execution_count": 44,
     "metadata": {},
     "output_type": "execute_result"
    },
    {
     "data": {
      "image/png": "[encoded data removed]",
      "text/plain": [
       "<matplotlib.figure.Figure at 0x7fee10998fd0>"
      ]
     },
     "metadata": {},
     "output_type": "display_data"
    }
   ],
   "source": [
    "precision_rf, recall_rf, threshold_rf = precision_recall_curve(y_test,\n",
    "                                                               rf_pred_new)\n",
    "\n",
    "plt.plot(precision_rf[:-1], recall_rf[:-1], label='Random Forest')\n",
    "\n",
    "plt.xlabel('Precision')\n",
    "plt.ylabel('Recall')\n",
    "plt.tight_layout();\n",
    "\n",
    "precision_gb, recall_gb, threshold_gb = precision_recall_curve(y_test, \n",
    "                                                               gb_pred_new)\n",
    "\n",
    "plt.plot(precision_gb[:-1], recall_gb[:-1], label='Gradient Boosting')\n",
    "# is number of ones - recall you are leaving behind.\n",
    "plt.xlim([0,1])\n",
    "plt.ylim([0,1])\n",
    "plt.xlabel('Precision')\n",
    "plt.ylabel('Recall')\n",
    "plt.title('Final Precision Recall Curve')\n",
    "plt.tight_layout();\n",
    "\n",
    "plt.legend(loc=2)"
   ]
  },
  {
   "cell_type": "code",
   "execution_count": 45,
   "metadata": {
    "collapsed": false,
    "scrolled": true
   },
   "outputs": [
    {
     "data": {
      "text/plain": [
       "0.55819067064551597"
      ]
     },
     "execution_count": 45,
     "metadata": {},
     "output_type": "execute_result"
    }
   ],
   "source": [
    "accuracy_score(y_test, rf_pred_new > 0.5)"
   ]
  },
  {
   "cell_type": "code",
   "execution_count": 46,
   "metadata": {
    "collapsed": false
   },
   "outputs": [
    {
     "data": {
      "text/plain": [
       "0.55929008952410864"
      ]
     },
     "execution_count": 46,
     "metadata": {},
     "output_type": "execute_result"
    }
   ],
   "source": [
    "accuracy_score(y_test, gb_pred_new > 0.5)"
   ]
  },
  {
   "cell_type": "code",
   "execution_count": null,
   "metadata": {
    "collapsed": true
   },
   "outputs": [],
   "source": [
    "rf_model.feature_importances_"
   ]
  },
  {
   "cell_type": "markdown",
   "metadata": {},
   "source": [
    "### Round 2"
   ]
  },
  {
   "cell_type": "code",
   "execution_count": 76,
   "metadata": {
    "collapsed": true
   },
   "outputs": [],
   "source": [
    "republican_accounts = ['realDonaldTrump', 'Reince', 'GOP', \n",
    "                       'seanhannity', 'tedcruz', 'SpeakerRyan', \n",
    "                       'AnnCoulter', 'oreillyfactor', 'FoxNews', \n",
    "                       'foxandfriends']\n",
    "democratic_accounts = ['BarackObama', 'TheDemocrats', 'HillaryClinton',\n",
    "                      'ObamaWhiteHouse', 'NancyPelosi', 'SenSanders',\n",
    "                      'FLOTUS44', 'billmaher', 'jaketapper', \n",
    "                       'CNNPolitics']"
   ]
  },
  {
   "cell_type": "code",
   "execution_count": 77,
   "metadata": {
    "collapsed": true
   },
   "outputs": [],
   "source": [
    "republicans_new = db.republicans_new #create collections\n",
    "democrats_new = db.democrats_new"
   ]
  },
  {
   "cell_type": "code",
   "execution_count": 78,
   "metadata": {
    "collapsed": false
   },
   "outputs": [
    {
     "data": {
      "text/plain": [
       "True"
      ]
     },
     "execution_count": 78,
     "metadata": {},
     "output_type": "execute_result"
    }
   ],
   "source": [
    "twitter_accounts(democratic_accounts, democrats_new)\n"
   ]
  },
  {
   "cell_type": "code",
   "execution_count": 80,
   "metadata": {
    "collapsed": false
   },
   "outputs": [
    {
     "data": {
      "text/plain": [
       "True"
      ]
     },
     "execution_count": 80,
     "metadata": {},
     "output_type": "execute_result"
    }
   ],
   "source": [
    "twitter_accounts(republican_accounts, republicans_new)"
   ]
  },
  {
   "cell_type": "code",
   "execution_count": 81,
   "metadata": {
    "collapsed": true
   },
   "outputs": [],
   "source": [
    "R_data = list(republicans_new.find({ }, { \"text\": 1, \"_id\": 0}))\n",
    "#query MongoDB\n",
    "D_data = list(democrats_new.find({ }, { \"text\": 1, \"_id\": 0}))\n",
    "#query MongoDB"
   ]
  },
  {
   "cell_type": "code",
   "execution_count": 82,
   "metadata": {
    "collapsed": true
   },
   "outputs": [],
   "source": [
    "R_df = json_normalize(R_data) #normalize json to pandas DF\n",
    "R_df['party'] = 'republican' #make another column so I know what party\n",
    "R_df['party_num'] = 1\n",
    "D_df = json_normalize(D_data) #normalize json to pandas DF\n",
    "D_df['party'] = 'democrat' #make another column so I know what party\n",
    "D_df['party_num'] = 0"
   ]
  },
  {
   "cell_type": "code",
   "execution_count": 83,
   "metadata": {
    "collapsed": false,
    "scrolled": false
   },
   "outputs": [
    {
     "data": {
      "text/html": [
       "<div>\n",
       "<table border=\"1\" class=\"dataframe\">\n",
       "  <thead>\n",
       "    <tr style=\"text-align: right;\">\n",
       "      <th></th>\n",
       "      <th>text</th>\n",
       "      <th>party</th>\n",
       "      <th>party_num</th>\n",
       "    </tr>\n",
       "  </thead>\n",
       "  <tbody>\n",
       "    <tr>\n",
       "      <th>0</th>\n",
       "      <td>Honored to meet this years @SenateYouth delega...</td>\n",
       "      <td>republican</td>\n",
       "      <td>1</td>\n",
       "    </tr>\n",
       "    <tr>\n",
       "      <th>1</th>\n",
       "      <td>Weekly Address - 11:00 A.M. at the @WhiteHouse...</td>\n",
       "      <td>republican</td>\n",
       "      <td>1</td>\n",
       "    </tr>\n",
       "    <tr>\n",
       "      <th>2</th>\n",
       "      <td>RT @DRUDGE_REPORT: GREAT AGAIN:  +235,000 http...</td>\n",
       "      <td>republican</td>\n",
       "      <td>1</td>\n",
       "    </tr>\n",
       "    <tr>\n",
       "      <th>3</th>\n",
       "      <td>RT @foxandfriends: \"Never give up....that's th...</td>\n",
       "      <td>republican</td>\n",
       "      <td>1</td>\n",
       "    </tr>\n",
       "    <tr>\n",
       "      <th>4</th>\n",
       "      <td>'U.S. Consumer Comfort Just Reached Its Highes...</td>\n",
       "      <td>republican</td>\n",
       "      <td>1</td>\n",
       "    </tr>\n",
       "  </tbody>\n",
       "</table>\n",
       "</div>"
      ],
      "text/plain": [
       "                                                text       party  party_num\n",
       "0  Honored to meet this years @SenateYouth delega...  republican          1\n",
       "1  Weekly Address - 11:00 A.M. at the @WhiteHouse...  republican          1\n",
       "2  RT @DRUDGE_REPORT: GREAT AGAIN:  +235,000 http...  republican          1\n",
       "3  RT @foxandfriends: \"Never give up....that's th...  republican          1\n",
       "4  'U.S. Consumer Comfort Just Reached Its Highes...  republican          1"
      ]
     },
     "execution_count": 83,
     "metadata": {},
     "output_type": "execute_result"
    }
   ],
   "source": [
    "df_new = pd.concat([R_df, D_df]).reset_index(drop=True) #bring them together.\n",
    "df_new.head() #bring the two parties together"
   ]
  },
  {
   "cell_type": "code",
   "execution_count": 88,
   "metadata": {
    "collapsed": false,
    "scrolled": false
   },
   "outputs": [
    {
     "data": {
      "text/plain": [
       "(63564, 3)"
      ]
     },
     "execution_count": 88,
     "metadata": {},
     "output_type": "execute_result"
    }
   ],
   "source": [
    "df_new.shape"
   ]
  },
  {
   "cell_type": "code",
   "execution_count": 127,
   "metadata": {
    "collapsed": true
   },
   "outputs": [],
   "source": [
    "from sklearn.utils import shuffle\n",
    "df_new = shuffle(df_new,random_state=42)\n",
    "df_new = df_new.reset_index(drop=True)"
   ]
  },
  {
   "cell_type": "code",
   "execution_count": 128,
   "metadata": {
    "collapsed": true
   },
   "outputs": [],
   "source": [
    "df_train = df_new.iloc[:45000,:]\n",
    "df_test = df_new.iloc[45000:,:].reset_index(drop=True)"
   ]
  },
  {
   "cell_type": "code",
   "execution_count": 129,
   "metadata": {
    "collapsed": false
   },
   "outputs": [
    {
     "data": {
      "text/plain": [
       "(18564, 3)"
      ]
     },
     "execution_count": 129,
     "metadata": {},
     "output_type": "execute_result"
    }
   ],
   "source": [
    "df_test.shape"
   ]
  },
  {
   "cell_type": "code",
   "execution_count": 130,
   "metadata": {
    "collapsed": true
   },
   "outputs": [],
   "source": [
    "stringed_tweets1 = to_string(df_train['text'])\n",
    "stringed_tweets2 = to_string(df_test['text'])"
   ]
  },
  {
   "cell_type": "code",
   "execution_count": 131,
   "metadata": {
    "collapsed": false
   },
   "outputs": [],
   "source": [
    "tfidf_mat_new = tfidf.fit_transform(stringed_tweets1)"
   ]
  },
  {
   "cell_type": "code",
   "execution_count": 132,
   "metadata": {
    "collapsed": true
   },
   "outputs": [],
   "source": [
    "lsa_new = TruncatedSVD(5, algorithm='randomized')\n",
    "reduced_mat_new = lsa_new.fit_transform(tfidf_mat_new) #this fit_transform does:\n",
    "#1) it learns a reduced matrix that maps topics to words\n",
    "reduced_mat_new = Normalizer(copy=False).fit_transform(reduced_mat_new)\n",
    "#2) it then applies this transformation and stores it, by norm of 1\n",
    "#this is providing the TALL AND SKINNY MATRIX (docs by topics)"
   ]
  },
  {
   "cell_type": "code",
   "execution_count": 133,
   "metadata": {
    "collapsed": false
   },
   "outputs": [
    {
     "data": {
      "text/plain": [
       "[<matplotlib.lines.Line2D at 0x7fe0b7f81b38>]"
      ]
     },
     "execution_count": 133,
     "metadata": {},
     "output_type": "execute_result"
    },
    {
     "name": "stderr",
     "output_type": "stream",
     "text": [
      "/home/ubuntu/anaconda3/lib/python3.6/site-packages/matplotlib/font_manager.py:1297: UserWarning: findfont: Font family ['sans-serif'] not found. Falling back to DejaVu Sans\n",
      "  (prop.get_family(), self.defaultFamily[fontext]))\n"
     ]
    },
    {
     "data": {
      "image/png": "[encoded data removed]",
      "text/plain": [
       "<matplotlib.figure.Figure at 0x7fe0b8326d68>"
      ]
     },
     "metadata": {},
     "output_type": "display_data"
    }
   ],
   "source": [
    "plt.plot(lsa_new.explained_variance_ratio_, '.')"
   ]
  },
  {
   "cell_type": "code",
   "execution_count": 134,
   "metadata": {
    "collapsed": false,
    "scrolled": true
   },
   "outputs": [
    {
     "name": "stdout",
     "output_type": "stream",
     "text": [
      "topic 0\n",
      "['http' 'president' 'trump' 'obama' 'amp' 'watch' 'hillary' 'tonight'\n",
      " 'clinton' 'america' 'donald' 'people' 'today' 'new' 'potus' 'time'\n",
      " 'americans' 'make' 'american' 'gop']\n",
      "topic 1\n",
      "['trump' 'president' 'donald' 'obama' 'people' 'potus' 'hannity' 'says'\n",
      " 'america' 'realdonaldtrump' 'just' 'house' 'make' 'american' 'ban' 'going'\n",
      " 'white' 'hillary' 'vote' 'travel']\n",
      "topic 2\n",
      "['trump' 'http' 'donald' 'tonight' 'points' 'president' 'memo' 'talking'\n",
      " 'transcript' 'rush' 'factor' 'watch' 'video' 'obama' 'clip' 'hbo' 'ban'\n",
      " 'travel' 'realtime' 'ly']\n",
      "topic 3\n",
      "['tonight' 'talking' 'points' 'memo' 'transcript' 'hillary' 'rush'\n",
      " 'clinton' 'factor' 'll' 'thank' 'amp' 'debate' 'potus' 'don' 'great'\n",
      " 'people' 'watch' 'vote' 'et']\n",
      "topic 4\n",
      "['president' 'obama' 'tonight' 'talking' 'points' 'memo' 'transcript'\n",
      " 'rush' 'watch' 'potus' 'live' 'america' 'et' 'tune' 'people' 'today'\n",
      " 'thank' 'great' 'american' 'address']\n"
     ]
    }
   ],
   "source": [
    "#let's check out what the highest valued word is for each topic.\n",
    "terms = np.array(tfidf.get_feature_names())\n",
    "\n",
    "def get_topical_terms(topic_mat, topic_num, term_vec, num_terms=25):\n",
    "    return term_vec[np.argsort(-topic_mat[topic_num,:])][:num_terms]\n",
    "for i in range(5):\n",
    "    print(\"topic {}\".format(i))\n",
    "    print(get_topical_terms(lsa_new.components_,i,terms, 20))\n",
    "#somehow get rid of words like \"https\" and \"rt\""
   ]
  },
  {
   "cell_type": "code",
   "execution_count": 135,
   "metadata": {
    "collapsed": false,
    "scrolled": true
   },
   "outputs": [
    {
     "data": {
      "text/plain": [
       "(45000, 5)"
      ]
     },
     "execution_count": 135,
     "metadata": {},
     "output_type": "execute_result"
    }
   ],
   "source": [
    "reduced_mat_new.shape"
   ]
  },
  {
   "cell_type": "code",
   "execution_count": 136,
   "metadata": {
    "collapsed": false
   },
   "outputs": [
    {
     "data": {
      "text/html": [
       "<div>\n",
       "<table border=\"1\" class=\"dataframe\">\n",
       "  <thead>\n",
       "    <tr style=\"text-align: right;\">\n",
       "      <th></th>\n",
       "      <th>text</th>\n",
       "      <th>party</th>\n",
       "      <th>party_num</th>\n",
       "    </tr>\n",
       "  </thead>\n",
       "  <tbody>\n",
       "    <tr>\n",
       "      <th>0</th>\n",
       "      <td>\"Tim has led on some of the most important iss...</td>\n",
       "      <td>democrat</td>\n",
       "      <td>0</td>\n",
       "    </tr>\n",
       "    <tr>\n",
       "      <th>1</th>\n",
       "      <td>ISIS has infiltrated countries all over Europe...</td>\n",
       "      <td>republican</td>\n",
       "      <td>1</td>\n",
       "    </tr>\n",
       "    <tr>\n",
       "      <th>2</th>\n",
       "      <td>RT @Denis44: Where Americans get their health ...</td>\n",
       "      <td>democrat</td>\n",
       "      <td>0</td>\n",
       "    </tr>\n",
       "    <tr>\n",
       "      <th>3</th>\n",
       "      <td>Unbelievable evening in Melbourne, Florida w/ ...</td>\n",
       "      <td>republican</td>\n",
       "      <td>1</td>\n",
       "    </tr>\n",
       "    <tr>\n",
       "      <th>4</th>\n",
       "      <td>Add your name to join the team fighting back a...</td>\n",
       "      <td>democrat</td>\n",
       "      <td>0</td>\n",
       "    </tr>\n",
       "    <tr>\n",
       "      <th>5</th>\n",
       "      <td>From crime to the economy, participants in the...</td>\n",
       "      <td>republican</td>\n",
       "      <td>1</td>\n",
       "    </tr>\n",
       "    <tr>\n",
       "      <th>6</th>\n",
       "      <td>We need an attorney general to stand up to the...</td>\n",
       "      <td>democrat</td>\n",
       "      <td>0</td>\n",
       "    </tr>\n",
       "    <tr>\n",
       "      <th>7</th>\n",
       "      <td>LIVE: The President is holding a town hall mee...</td>\n",
       "      <td>democrat</td>\n",
       "      <td>0</td>\n",
       "    </tr>\n",
       "    <tr>\n",
       "      <th>8</th>\n",
       "      <td>Mexican officials tell the US: We don't agree ...</td>\n",
       "      <td>democrat</td>\n",
       "      <td>0</td>\n",
       "    </tr>\n",
       "    <tr>\n",
       "      <th>9</th>\n",
       "      <td>RT @Hillary_esp: Según @NYTimes,Trump pudo hab...</td>\n",
       "      <td>democrat</td>\n",
       "      <td>0</td>\n",
       "    </tr>\n",
       "    <tr>\n",
       "      <th>10</th>\n",
       "      <td>Thank you to our amazing Wounded Warriors for ...</td>\n",
       "      <td>republican</td>\n",
       "      <td>1</td>\n",
       "    </tr>\n",
       "    <tr>\n",
       "      <th>11</th>\n",
       "      <td>Does the left's rage at Milo mean they're reco...</td>\n",
       "      <td>republican</td>\n",
       "      <td>1</td>\n",
       "    </tr>\n",
       "    <tr>\n",
       "      <th>12</th>\n",
       "      <td>.@GOP You’re gonna lose with Trump or Cruz: #P...</td>\n",
       "      <td>democrat</td>\n",
       "      <td>0</td>\n",
       "    </tr>\n",
       "    <tr>\n",
       "      <th>13</th>\n",
       "      <td>I’m ready to #MakeNYLaugh at @nycomedyfest jus...</td>\n",
       "      <td>democrat</td>\n",
       "      <td>0</td>\n",
       "    </tr>\n",
       "    <tr>\n",
       "      <th>14</th>\n",
       "      <td>RT @ScottAdamsSays: Obama is talking about his...</td>\n",
       "      <td>republican</td>\n",
       "      <td>1</td>\n",
       "    </tr>\n",
       "    <tr>\n",
       "      <th>15</th>\n",
       "      <td>A recent DHS assessment finds most foreign-bor...</td>\n",
       "      <td>democrat</td>\n",
       "      <td>0</td>\n",
       "    </tr>\n",
       "    <tr>\n",
       "      <th>16</th>\n",
       "      <td>\"We’ve restored more than 428,000 acres of tri...</td>\n",
       "      <td>democrat</td>\n",
       "      <td>0</td>\n",
       "    </tr>\n",
       "    <tr>\n",
       "      <th>17</th>\n",
       "      <td>\"One of the best measures of a nation's succes...</td>\n",
       "      <td>democrat</td>\n",
       "      <td>0</td>\n",
       "    </tr>\n",
       "    <tr>\n",
       "      <th>18</th>\n",
       "      <td>With Carol Leifer and Larry David at our annua...</td>\n",
       "      <td>democrat</td>\n",
       "      <td>0</td>\n",
       "    </tr>\n",
       "    <tr>\n",
       "      <th>19</th>\n",
       "      <td>Stand with Republicans &amp;amp; Support a lawsuit...</td>\n",
       "      <td>republican</td>\n",
       "      <td>1</td>\n",
       "    </tr>\n",
       "    <tr>\n",
       "      <th>20</th>\n",
       "      <td>RT @FreeBeacon: ICYMI: Trey Gowdy: Remember Hi...</td>\n",
       "      <td>republican</td>\n",
       "      <td>1</td>\n",
       "    </tr>\n",
       "    <tr>\n",
       "      <th>21</th>\n",
       "      <td>Was just surprise lecturer in PolySci class at...</td>\n",
       "      <td>democrat</td>\n",
       "      <td>0</td>\n",
       "    </tr>\n",
       "    <tr>\n",
       "      <th>22</th>\n",
       "      <td>ICYMI: Read why President Obama's plan to upda...</td>\n",
       "      <td>democrat</td>\n",
       "      <td>0</td>\n",
       "    </tr>\n",
       "    <tr>\n",
       "      <th>23</th>\n",
       "      <td>When Donald Trump goes low, we go high. #Debat...</td>\n",
       "      <td>democrat</td>\n",
       "      <td>0</td>\n",
       "    </tr>\n",
       "    <tr>\n",
       "      <th>24</th>\n",
       "      <td>Barack Obama was elected #otd 8 years ago. On ...</td>\n",
       "      <td>democrat</td>\n",
       "      <td>0</td>\n",
       "    </tr>\n",
       "    <tr>\n",
       "      <th>25</th>\n",
       "      <td>We cannot tolerate, whether it’s Deutsche Bank...</td>\n",
       "      <td>democrat</td>\n",
       "      <td>0</td>\n",
       "    </tr>\n",
       "    <tr>\n",
       "      <th>26</th>\n",
       "      <td>#DefundPP: Planned Parenthood has been respons...</td>\n",
       "      <td>republican</td>\n",
       "      <td>1</td>\n",
       "    </tr>\n",
       "    <tr>\n",
       "      <th>27</th>\n",
       "      <td>Loved this moment from last night. Thanks to @...</td>\n",
       "      <td>democrat</td>\n",
       "      <td>0</td>\n",
       "    </tr>\n",
       "    <tr>\n",
       "      <th>28</th>\n",
       "      <td>Thank you @greta. #ImWithYou https://t.co/SLdq...</td>\n",
       "      <td>republican</td>\n",
       "      <td>1</td>\n",
       "    </tr>\n",
       "    <tr>\n",
       "      <th>29</th>\n",
       "      <td>So many great things happening - new poll numb...</td>\n",
       "      <td>republican</td>\n",
       "      <td>1</td>\n",
       "    </tr>\n",
       "    <tr>\n",
       "      <th>...</th>\n",
       "      <td>...</td>\n",
       "      <td>...</td>\n",
       "      <td>...</td>\n",
       "    </tr>\n",
       "    <tr>\n",
       "      <th>44970</th>\n",
       "      <td>@hollyIve we read the full quote on air before...</td>\n",
       "      <td>democrat</td>\n",
       "      <td>0</td>\n",
       "    </tr>\n",
       "    <tr>\n",
       "      <th>44971</th>\n",
       "      <td>Tonight at 5pm ET → @USCapitol 🎄lighting. Watc...</td>\n",
       "      <td>republican</td>\n",
       "      <td>1</td>\n",
       "    </tr>\n",
       "    <tr>\n",
       "      <th>44972</th>\n",
       "      <td>The Supreme Court must remain above politics. ...</td>\n",
       "      <td>democrat</td>\n",
       "      <td>0</td>\n",
       "    </tr>\n",
       "    <tr>\n",
       "      <th>44973</th>\n",
       "      <td>.@Grimpola has had #EnoughClinton KILLING SMAL...</td>\n",
       "      <td>republican</td>\n",
       "      <td>1</td>\n",
       "    </tr>\n",
       "    <tr>\n",
       "      <th>44974</th>\n",
       "      <td>The heart of any real campaign finance reform ...</td>\n",
       "      <td>democrat</td>\n",
       "      <td>0</td>\n",
       "    </tr>\n",
       "    <tr>\n",
       "      <th>44975</th>\n",
       "      <td>To honor victims of the attack in Dallas, @POT...</td>\n",
       "      <td>democrat</td>\n",
       "      <td>0</td>\n",
       "    </tr>\n",
       "    <tr>\n",
       "      <th>44976</th>\n",
       "      <td>RT @FoxNews: .@newtgingrich: \"For some reason ...</td>\n",
       "      <td>republican</td>\n",
       "      <td>1</td>\n",
       "    </tr>\n",
       "    <tr>\n",
       "      <th>44977</th>\n",
       "      <td>RT @tomabrahams: .@KarlRove @tedcruz @JohnCorn...</td>\n",
       "      <td>republican</td>\n",
       "      <td>1</td>\n",
       "    </tr>\n",
       "    <tr>\n",
       "      <th>44978</th>\n",
       "      <td>It is imperative that we have the courage to s...</td>\n",
       "      <td>democrat</td>\n",
       "      <td>0</td>\n",
       "    </tr>\n",
       "    <tr>\n",
       "      <th>44979</th>\n",
       "      <td>Police: Toddler found near Texas creek, father...</td>\n",
       "      <td>republican</td>\n",
       "      <td>1</td>\n",
       "    </tr>\n",
       "    <tr>\n",
       "      <th>44980</th>\n",
       "      <td>Trump to call on Congress to expand access, lo...</td>\n",
       "      <td>republican</td>\n",
       "      <td>1</td>\n",
       "    </tr>\n",
       "    <tr>\n",
       "      <th>44981</th>\n",
       "      <td>RT @RepMcKinley: We are committed to offering ...</td>\n",
       "      <td>republican</td>\n",
       "      <td>1</td>\n",
       "    </tr>\n",
       "    <tr>\n",
       "      <th>44982</th>\n",
       "      <td>Election Day should be a national holiday so t...</td>\n",
       "      <td>democrat</td>\n",
       "      <td>0</td>\n",
       "    </tr>\n",
       "    <tr>\n",
       "      <th>44983</th>\n",
       "      <td>Ready to #MakeAmericaGreatAgain! https://t.co/...</td>\n",
       "      <td>republican</td>\n",
       "      <td>1</td>\n",
       "    </tr>\n",
       "    <tr>\n",
       "      <th>44984</th>\n",
       "      <td>President Donald Trump said in 2011 that he'd ...</td>\n",
       "      <td>democrat</td>\n",
       "      <td>0</td>\n",
       "    </tr>\n",
       "    <tr>\n",
       "      <th>44985</th>\n",
       "      <td>\"@JoiningForces is about one thing...it's abou...</td>\n",
       "      <td>democrat</td>\n",
       "      <td>0</td>\n",
       "    </tr>\n",
       "    <tr>\n",
       "      <th>44986</th>\n",
       "      <td>Seven down, one more to go. Make sure you tune...</td>\n",
       "      <td>democrat</td>\n",
       "      <td>0</td>\n",
       "    </tr>\n",
       "    <tr>\n",
       "      <th>44987</th>\n",
       "      <td>The @HouseGOP's mean-spirited vote to deport D...</td>\n",
       "      <td>democrat</td>\n",
       "      <td>0</td>\n",
       "    </tr>\n",
       "    <tr>\n",
       "      <th>44988</th>\n",
       "      <td>\"I've looked over the menu, and the food looks...</td>\n",
       "      <td>democrat</td>\n",
       "      <td>0</td>\n",
       "    </tr>\n",
       "    <tr>\n",
       "      <th>44989</th>\n",
       "      <td>RT @ChrisStigall: Finding an @AnnCoulter note ...</td>\n",
       "      <td>republican</td>\n",
       "      <td>1</td>\n",
       "    </tr>\n",
       "    <tr>\n",
       "      <th>44990</th>\n",
       "      <td>Aware of the cybersecurity threats, @HillaryCl...</td>\n",
       "      <td>republican</td>\n",
       "      <td>1</td>\n",
       "    </tr>\n",
       "    <tr>\n",
       "      <th>44991</th>\n",
       "      <td>RT @RRTIndustries: They murder people in Mexic...</td>\n",
       "      <td>republican</td>\n",
       "      <td>1</td>\n",
       "    </tr>\n",
       "    <tr>\n",
       "      <th>44992</th>\n",
       "      <td>We live in a country today that has a rigged e...</td>\n",
       "      <td>democrat</td>\n",
       "      <td>0</td>\n",
       "    </tr>\n",
       "    <tr>\n",
       "      <th>44993</th>\n",
       "      <td>RT @attn: Congress has no right to spread its ...</td>\n",
       "      <td>democrat</td>\n",
       "      <td>0</td>\n",
       "    </tr>\n",
       "    <tr>\n",
       "      <th>44994</th>\n",
       "      <td>Say you'll do your part to keep Trump out of t...</td>\n",
       "      <td>democrat</td>\n",
       "      <td>0</td>\n",
       "    </tr>\n",
       "    <tr>\n",
       "      <th>44995</th>\n",
       "      <td>We're gonna need a bigger vote: https://t.co/3...</td>\n",
       "      <td>democrat</td>\n",
       "      <td>0</td>\n",
       "    </tr>\n",
       "    <tr>\n",
       "      <th>44996</th>\n",
       "      <td>Another disturbing wave of threats against Jew...</td>\n",
       "      <td>republican</td>\n",
       "      <td>1</td>\n",
       "    </tr>\n",
       "    <tr>\n",
       "      <th>44997</th>\n",
       "      <td>We can't grow jobs if people don't have enough...</td>\n",
       "      <td>democrat</td>\n",
       "      <td>0</td>\n",
       "    </tr>\n",
       "    <tr>\n",
       "      <th>44998</th>\n",
       "      <td>Young people have the power and potential to c...</td>\n",
       "      <td>democrat</td>\n",
       "      <td>0</td>\n",
       "    </tr>\n",
       "    <tr>\n",
       "      <th>44999</th>\n",
       "      <td>4 Charts that Should Worry the Clinton Campaig...</td>\n",
       "      <td>republican</td>\n",
       "      <td>1</td>\n",
       "    </tr>\n",
       "  </tbody>\n",
       "</table>\n",
       "<p>45000 rows × 3 columns</p>\n",
       "</div>"
      ],
      "text/plain": [
       "                                                    text       party  \\\n",
       "0      \"Tim has led on some of the most important iss...    democrat   \n",
       "1      ISIS has infiltrated countries all over Europe...  republican   \n",
       "2      RT @Denis44: Where Americans get their health ...    democrat   \n",
       "3      Unbelievable evening in Melbourne, Florida w/ ...  republican   \n",
       "4      Add your name to join the team fighting back a...    democrat   \n",
       "5      From crime to the economy, participants in the...  republican   \n",
       "6      We need an attorney general to stand up to the...    democrat   \n",
       "7      LIVE: The President is holding a town hall mee...    democrat   \n",
       "8      Mexican officials tell the US: We don't agree ...    democrat   \n",
       "9      RT @Hillary_esp: Según @NYTimes,Trump pudo hab...    democrat   \n",
       "10     Thank you to our amazing Wounded Warriors for ...  republican   \n",
       "11     Does the left's rage at Milo mean they're reco...  republican   \n",
       "12     .@GOP You’re gonna lose with Trump or Cruz: #P...    democrat   \n",
       "13     I’m ready to #MakeNYLaugh at @nycomedyfest jus...    democrat   \n",
       "14     RT @ScottAdamsSays: Obama is talking about his...  republican   \n",
       "15     A recent DHS assessment finds most foreign-bor...    democrat   \n",
       "16     \"We’ve restored more than 428,000 acres of tri...    democrat   \n",
       "17     \"One of the best measures of a nation's succes...    democrat   \n",
       "18     With Carol Leifer and Larry David at our annua...    democrat   \n",
       "19     Stand with Republicans &amp; Support a lawsuit...  republican   \n",
       "20     RT @FreeBeacon: ICYMI: Trey Gowdy: Remember Hi...  republican   \n",
       "21     Was just surprise lecturer in PolySci class at...    democrat   \n",
       "22     ICYMI: Read why President Obama's plan to upda...    democrat   \n",
       "23     When Donald Trump goes low, we go high. #Debat...    democrat   \n",
       "24     Barack Obama was elected #otd 8 years ago. On ...    democrat   \n",
       "25     We cannot tolerate, whether it’s Deutsche Bank...    democrat   \n",
       "26     #DefundPP: Planned Parenthood has been respons...  republican   \n",
       "27     Loved this moment from last night. Thanks to @...    democrat   \n",
       "28     Thank you @greta. #ImWithYou https://t.co/SLdq...  republican   \n",
       "29     So many great things happening - new poll numb...  republican   \n",
       "...                                                  ...         ...   \n",
       "44970  @hollyIve we read the full quote on air before...    democrat   \n",
       "44971  Tonight at 5pm ET → @USCapitol 🎄lighting. Watc...  republican   \n",
       "44972  The Supreme Court must remain above politics. ...    democrat   \n",
       "44973  .@Grimpola has had #EnoughClinton KILLING SMAL...  republican   \n",
       "44974  The heart of any real campaign finance reform ...    democrat   \n",
       "44975  To honor victims of the attack in Dallas, @POT...    democrat   \n",
       "44976  RT @FoxNews: .@newtgingrich: \"For some reason ...  republican   \n",
       "44977  RT @tomabrahams: .@KarlRove @tedcruz @JohnCorn...  republican   \n",
       "44978  It is imperative that we have the courage to s...    democrat   \n",
       "44979  Police: Toddler found near Texas creek, father...  republican   \n",
       "44980  Trump to call on Congress to expand access, lo...  republican   \n",
       "44981  RT @RepMcKinley: We are committed to offering ...  republican   \n",
       "44982  Election Day should be a national holiday so t...    democrat   \n",
       "44983  Ready to #MakeAmericaGreatAgain! https://t.co/...  republican   \n",
       "44984  President Donald Trump said in 2011 that he'd ...    democrat   \n",
       "44985  \"@JoiningForces is about one thing...it's abou...    democrat   \n",
       "44986  Seven down, one more to go. Make sure you tune...    democrat   \n",
       "44987  The @HouseGOP's mean-spirited vote to deport D...    democrat   \n",
       "44988  \"I've looked over the menu, and the food looks...    democrat   \n",
       "44989  RT @ChrisStigall: Finding an @AnnCoulter note ...  republican   \n",
       "44990  Aware of the cybersecurity threats, @HillaryCl...  republican   \n",
       "44991  RT @RRTIndustries: They murder people in Mexic...  republican   \n",
       "44992  We live in a country today that has a rigged e...    democrat   \n",
       "44993  RT @attn: Congress has no right to spread its ...    democrat   \n",
       "44994  Say you'll do your part to keep Trump out of t...    democrat   \n",
       "44995  We're gonna need a bigger vote: https://t.co/3...    democrat   \n",
       "44996  Another disturbing wave of threats against Jew...  republican   \n",
       "44997  We can't grow jobs if people don't have enough...    democrat   \n",
       "44998  Young people have the power and potential to c...    democrat   \n",
       "44999  4 Charts that Should Worry the Clinton Campaig...  republican   \n",
       "\n",
       "       party_num  \n",
       "0              0  \n",
       "1              1  \n",
       "2              0  \n",
       "3              1  \n",
       "4              0  \n",
       "5              1  \n",
       "6              0  \n",
       "7              0  \n",
       "8              0  \n",
       "9              0  \n",
       "10             1  \n",
       "11             1  \n",
       "12             0  \n",
       "13             0  \n",
       "14             1  \n",
       "15             0  \n",
       "16             0  \n",
       "17             0  \n",
       "18             0  \n",
       "19             1  \n",
       "20             1  \n",
       "21             0  \n",
       "22             0  \n",
       "23             0  \n",
       "24             0  \n",
       "25             0  \n",
       "26             1  \n",
       "27             0  \n",
       "28             1  \n",
       "29             1  \n",
       "...          ...  \n",
       "44970          0  \n",
       "44971          1  \n",
       "44972          0  \n",
       "44973          1  \n",
       "44974          0  \n",
       "44975          0  \n",
       "44976          1  \n",
       "44977          1  \n",
       "44978          0  \n",
       "44979          1  \n",
       "44980          1  \n",
       "44981          1  \n",
       "44982          0  \n",
       "44983          1  \n",
       "44984          0  \n",
       "44985          0  \n",
       "44986          0  \n",
       "44987          0  \n",
       "44988          0  \n",
       "44989          1  \n",
       "44990          1  \n",
       "44991          1  \n",
       "44992          0  \n",
       "44993          0  \n",
       "44994          0  \n",
       "44995          0  \n",
       "44996          1  \n",
       "44997          0  \n",
       "44998          0  \n",
       "44999          1  \n",
       "\n",
       "[45000 rows x 3 columns]"
      ]
     },
     "execution_count": 136,
     "metadata": {},
     "output_type": "execute_result"
    }
   ],
   "source": [
    "df_train"
   ]
  },
  {
   "cell_type": "code",
   "execution_count": 137,
   "metadata": {
    "collapsed": false
   },
   "outputs": [],
   "source": [
    "rf1 = RandomForestClassifier(n_estimators=200, max_features='sqrt')\n",
    "rf1.fit(reduced_mat_new[:,:50], df_train['party_num']);"
   ]
  },
  {
   "cell_type": "code",
   "execution_count": 138,
   "metadata": {
    "collapsed": true
   },
   "outputs": [],
   "source": [
    "test_matrix = tfidf.transform(df_test['text'])\n",
    "reduced_test_matrix = lsa_new.transform(test_matrix)\n",
    "reduced_test_matrix = Normalizer(copy=False).fit_transform(reduced_test_matrix)\n"
   ]
  },
  {
   "cell_type": "code",
   "execution_count": 139,
   "metadata": {
    "collapsed": true
   },
   "outputs": [],
   "source": [
    "y_pred = rf1.predict_proba(reduced_test_matrix)[:,1]"
   ]
  },
  {
   "cell_type": "code",
   "execution_count": 140,
   "metadata": {
    "collapsed": false
   },
   "outputs": [
    {
     "data": {
      "text/plain": [
       "array([ 0.285 ,  0.645 ,  0.295 , ...,  0.38  ,  0.665 ,  0.6865])"
      ]
     },
     "execution_count": 140,
     "metadata": {},
     "output_type": "execute_result"
    }
   ],
   "source": [
    "y_pred"
   ]
  },
  {
   "cell_type": "code",
   "execution_count": 141,
   "metadata": {
    "collapsed": false
   },
   "outputs": [
    {
     "data": {
      "text/plain": [
       "count    18564.000000\n",
       "mean         0.505117\n",
       "std          0.499987\n",
       "min          0.000000\n",
       "25%          0.000000\n",
       "50%          1.000000\n",
       "75%          1.000000\n",
       "max          1.000000\n",
       "Name: party_num, dtype: float64"
      ]
     },
     "execution_count": 141,
     "metadata": {},
     "output_type": "execute_result"
    }
   ],
   "source": [
    "df_test['party_num'].describe()"
   ]
  },
  {
   "cell_type": "code",
   "execution_count": 147,
   "metadata": {
    "collapsed": false
   },
   "outputs": [
    {
     "name": "stderr",
     "output_type": "stream",
     "text": [
      "/home/ubuntu/anaconda3/lib/python3.6/site-packages/matplotlib/font_manager.py:1297: UserWarning: findfont: Font family ['sans-serif'] not found. Falling back to DejaVu Sans\n",
      "  (prop.get_family(), self.defaultFamily[fontext]))\n"
     ]
    },
    {
     "data": {
      "image/png": "[encoded data removed]",
      "text/plain": [
       "<matplotlib.figure.Figure at 0x7fe0b7ad3898>"
      ]
     },
     "metadata": {},
     "output_type": "display_data"
    }
   ],
   "source": [
    "precision_rf, recall_rf, threshold_rf = precision_recall_curve(df_test['party_num'], \n",
    "                                                               y_pred)\n",
    "                                                                       \n",
    "plt.plot(precision_rf[:-1], recall_rf[:-1], label='Random Forest')\n",
    "\n",
    "plt.xlabel('Precision')\n",
    "plt.ylabel('Recall')\n",
    "plt.title('Precision Recall Curve')\n",
    "plt.tight_layout();"
   ]
  },
  {
   "cell_type": "code",
   "execution_count": 148,
   "metadata": {
    "collapsed": false
   },
   "outputs": [
    {
     "data": {
      "text/plain": [
       "array([ 0.17999236,  0.19885109,  0.1916244 ,  0.22572906,  0.20380309])"
      ]
     },
     "execution_count": 148,
     "metadata": {},
     "output_type": "execute_result"
    }
   ],
   "source": [
    "rf1.feature_importances_\n"
   ]
  },
  {
   "cell_type": "code",
   "execution_count": 144,
   "metadata": {
    "collapsed": false
   },
   "outputs": [
    {
     "data": {
      "text/plain": [
       "0.66214177978883859"
      ]
     },
     "execution_count": 144,
     "metadata": {},
     "output_type": "execute_result"
    }
   ],
   "source": [
    "accuracy_score(df_test['party_num'], y_pred>.5)\n"
   ]
  },
  {
   "cell_type": "code",
   "execution_count": 161,
   "metadata": {
    "collapsed": false,
    "scrolled": true
   },
   "outputs": [
    {
     "data": {
      "text/plain": [
       "array([  5,  45,  57,  66,  75,  78, 109, 113, 125, 169, 172, 179, 192,\n",
       "       194, 221, 226, 248, 303, 326, 344, 356, 368, 413, 432, 449, 467,\n",
       "       484, 487, 513, 545, 548, 571, 577, 582, 599, 628, 631, 660, 665,\n",
       "       667, 671, 683, 686, 698, 757, 764, 768, 769, 771, 814])"
      ]
     },
     "execution_count": 161,
     "metadata": {},
     "output_type": "execute_result"
    }
   ],
   "source": [
    "np.where(y_pred>.9)[0][:50]"
   ]
  },
  {
   "cell_type": "code",
   "execution_count": 156,
   "metadata": {
    "collapsed": false,
    "scrolled": true
   },
   "outputs": [
    {
     "data": {
      "text/plain": [
       "('RT @FreeBeacon: Chuck Todd: Hillary Clinton Likely to Say ‘Server Was Very Secure’ Despite Contrary Reports http://t.co/BnQOUxjQWi http://t…',\n",
       " 1)"
      ]
     },
     "execution_count": 156,
     "metadata": {},
     "output_type": "execute_result"
    }
   ],
   "source": [
    "df_test.text[57], df_test.party_num[57]"
   ]
  },
  {
   "cell_type": "code",
   "execution_count": 170,
   "metadata": {
    "collapsed": false,
    "scrolled": true
   },
   "outputs": [
    {
     "data": {
      "text/plain": [
       "array([ 147,  255,  274,  289,  298,  377,  378,  416,  423,  517,  530,\n",
       "        576,  693,  885,  910,  990,  996, 1040, 1126, 1147, 1152, 1172,\n",
       "       1244, 1264, 1276, 1283, 1354, 1355, 1402, 1425, 1495, 1499, 1589,\n",
       "       1644, 1719, 1732, 1734, 1747, 1750, 1769, 1779, 1847, 1867, 1951,\n",
       "       1953, 1967, 1989, 2000, 2023, 2036])"
      ]
     },
     "execution_count": 170,
     "metadata": {},
     "output_type": "execute_result"
    }
   ],
   "source": [
    "np.where(y_pred<.05)[0][:50]"
   ]
  },
  {
   "cell_type": "code",
   "execution_count": 172,
   "metadata": {
    "collapsed": false,
    "scrolled": true
   },
   "outputs": [
    {
     "data": {
      "text/plain": [
       "('RT @PeaceCorpsDir: Excited to be at the #StateOfWomen Summit to talk about how @PeaceCorps is helping #LetGirlsLearn around the world https…',\n",
       " 0)"
      ]
     },
     "execution_count": 172,
     "metadata": {},
     "output_type": "execute_result"
    }
   ],
   "source": [
    "df_test.text[255], df_test.party_num[255]"
   ]
  },
  {
   "cell_type": "code",
   "execution_count": 186,
   "metadata": {
    "collapsed": false,
    "scrolled": false
   },
   "outputs": [
    {
     "data": {
      "text/plain": [
       "array([   57,   194,   221,   368,   449,   660,   859,  1091,  1281,\n",
       "        1358,  1426,  1476,  1657,  2024,  2155,  2279,  2291,  2615,\n",
       "        2790,  2897,  3308,  3375,  3482,  3670,  4248,  4287,  5029,\n",
       "        5252,  5451,  5540,  5676,  5924,  5967,  5981,  6155,  6431,\n",
       "        6699,  6889,  7283,  7325,  7491,  7503,  7698,  8019,  8167,\n",
       "        8474,  8545,  9191,  9412,  9583,  9632,  9765, 10249, 10830,\n",
       "       10861, 11041, 11142, 11212, 11274, 11603, 11716, 11853, 12201,\n",
       "       12208, 12358, 12597, 12722, 12779, 12930, 12999, 13223, 13260,\n",
       "       13281, 13602, 13678, 13783, 13863, 13941, 14011, 14411, 14525,\n",
       "       15237, 15252, 15502, 15520, 15681, 15939, 16576, 16703, 16737,\n",
       "       16908, 16957, 17124, 17336, 17337, 17458, 17608, 17680, 17939,\n",
       "       18135, 18140, 18181, 18449])"
      ]
     },
     "execution_count": 186,
     "metadata": {},
     "output_type": "execute_result"
    }
   ],
   "source": [
    "np.where((y_pred>.999) & (df_test.party_num==1))[0] #CORRECT"
   ]
  },
  {
   "cell_type": "code",
   "execution_count": 187,
   "metadata": {
    "collapsed": false
   },
   "outputs": [
    {
     "data": {
      "text/plain": [
       "('RT @FreeBeacon: Chuck Todd: Hillary Clinton Likely to Say ‘Server Was Very Secure’ Despite Contrary Reports http://t.co/BnQOUxjQWi http://t…',\n",
       " 1)"
      ]
     },
     "execution_count": 187,
     "metadata": {},
     "output_type": "execute_result"
    }
   ],
   "source": [
    "df_test.text[57], df_test.party_num[57] #WRONG"
   ]
  },
  {
   "cell_type": "code",
   "execution_count": 173,
   "metadata": {
    "collapsed": false
   },
   "outputs": [
    {
     "data": {
      "text/plain": [
       "array([10117, 14244, 14824, 17965])"
      ]
     },
     "execution_count": 173,
     "metadata": {},
     "output_type": "execute_result"
    }
   ],
   "source": [
    "np.where((y_pred<.01) & (df_test.party_num==1))[0]"
   ]
  },
  {
   "cell_type": "code",
   "execution_count": 182,
   "metadata": {
    "collapsed": false
   },
   "outputs": [
    {
     "data": {
      "text/plain": [
       "('President Obama blew threw another red line today, allowing Iranians to drag out talks over their nuclear program: http://t.co/2t24pjqhps',\n",
       " 1)"
      ]
     },
     "execution_count": 182,
     "metadata": {},
     "output_type": "execute_result"
    }
   ],
   "source": [
    "df_test.text[10117], df_test.party_num[10117] #WRONG"
   ]
  },
  {
   "cell_type": "code",
   "execution_count": 183,
   "metadata": {
    "collapsed": false
   },
   "outputs": [
    {
     "data": {
      "text/plain": [
       "'\"@HillaryClinton’s leaving a vacuum, and President Barack Obama’s going to try to fill it\" in hopes of a 3rd term http://t.co/aEmTElL7qk'"
      ]
     },
     "execution_count": 183,
     "metadata": {},
     "output_type": "execute_result"
    }
   ],
   "source": [
    "df_test.text[14244] #WRONG"
   ]
  }
 ],
 "metadata": {
  "anaconda-cloud": {},
  "kernelspec": {
   "display_name": "Python [conda root]",
   "language": "python",
   "name": "conda-root-py"
  },
  "language_info": {
   "codemirror_mode": {
    "name": "ipython",
    "version": 2
   },
   "file_extension": ".py",
   "mimetype": "text/x-python",
   "name": "python",
   "nbconvert_exporter": "python",
   "pygments_lexer": "ipython2",
   "version": "2.7.12"
  }
 },
 "nbformat": 4,
 "nbformat_minor": 2
}
