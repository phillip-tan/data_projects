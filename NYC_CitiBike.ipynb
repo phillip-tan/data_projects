{
 "cells": [
  {
   "cell_type": "markdown",
   "metadata": {},
   "source": [
    "# Metis Take Home Practice\n",
    "We will be using New York City CitiBike data for this analysis. CitiBike is New York City's public\n",
    "bike sharing program which opened in May 2013. Bicycles are rented and then returned to various stations located throughout Manhattan, Brooklyn, and Queens. Memberships and various time-limited passes are available for purchase.\n",
    "\n",
    "Python libraries should be used to answer all questions except the last one, where any tool(s) can be used. Your analysis should be performed and annotated so that it could easily be handed off to another data scientist in the group. This exercise is designed to require 4 – 8 hours to complete."
   ]
  },
  {
   "cell_type": "code",
   "execution_count": 13,
   "metadata": {
    "collapsed": false,
    "scrolled": true
   },
   "outputs": [],
   "source": [
    "from __future__ import print_function, division\n",
    "import pandas as pd\n",
    "import numpy as np\n",
    "\n",
    "import matplotlib.pyplot as plt\n",
    "%matplotlib inline\n",
    "plt.style.use('fivethirtyeight')\n",
    "import seaborn as sns\n",
    "\n",
    "# various options in pandas\n",
    "pd.set_option('display.max_columns', None) #does not print every single column, would be tedious\n",
    "pd.set_option('display.max_rows', 25) #how many rows, it truncates\n",
    "pd.set_option('display.precision', 3) #how many digits to print"
   ]
  },
  {
   "cell_type": "markdown",
   "metadata": {},
   "source": [
    "## Question 1\n",
    "• Programmatically acquire, load, and prepare CitiBike data for the year 2015\n",
    "\n",
    "• How many data points are there in the data used for analysis? **Answer: 9,937,969 entries**"
   ]
  },
  {
   "cell_type": "code",
   "execution_count": 3,
   "metadata": {
    "collapsed": false,
    "scrolled": true
   },
   "outputs": [
    {
     "name": "stdout",
     "output_type": "stream",
     "text": [
      "['201501-citibike-tripdata.csv', '201502-citibike-tripdata.csv', '201503-citibike-tripdata.csv', '201504-citibike-tripdata.csv', '201505-citibike-tripdata.csv', '201506-citibike-tripdata.csv', '201507-citibike-tripdata.csv', '201508-citibike-tripdata.csv', '201509-citibike-tripdata.csv', '201510-citibike-tripdata.csv', '201511-citibike-tripdata.csv', '201512-citibike-tripdata.csv']\n"
     ]
    }
   ],
   "source": [
    "import os\n",
    "print(os.listdir('CitiBike_2015'))"
   ]
  },
  {
   "cell_type": "code",
   "execution_count": 4,
   "metadata": {
    "collapsed": false
   },
   "outputs": [],
   "source": [
    "#make the dataframe by concat all the different excel files\n",
    "def concat_dfs(data_files_dir):\n",
    "    data_dir = os.listdir(data_files_dir)\n",
    "    dfs = []\n",
    "    for excel_sheet in data_dir:\n",
    "        print(excel_sheet)\n",
    "        dfs.append(pd.read_csv(data_files_dir + excel_sheet))\n",
    "    return pd.concat(dfs)\n",
    "#I could have used a pandas append data frame, after initializing the first data frame.\n",
    "#could have grabbed the urls from online"
   ]
  },
  {
   "cell_type": "code",
   "execution_count": 6,
   "metadata": {
    "collapsed": false
   },
   "outputs": [
    {
     "name": "stdout",
     "output_type": "stream",
     "text": [
      "201501-citibike-tripdata.csv\n",
      "201502-citibike-tripdata.csv\n",
      "201503-citibike-tripdata.csv\n",
      "201504-citibike-tripdata.csv\n",
      "201505-citibike-tripdata.csv\n",
      "201506-citibike-tripdata.csv\n",
      "201507-citibike-tripdata.csv\n",
      "201508-citibike-tripdata.csv\n",
      "201509-citibike-tripdata.csv\n",
      "201510-citibike-tripdata.csv\n",
      "201511-citibike-tripdata.csv\n",
      "201512-citibike-tripdata.csv\n"
     ]
    }
   ],
   "source": [
    "CitiBike_df = concat_dfs('CitiBike_2015/')"
   ]
  },
  {
   "cell_type": "code",
   "execution_count": 7,
   "metadata": {
    "collapsed": true
   },
   "outputs": [],
   "source": [
    "CitiBike_df = CitiBike_df.reset_index() #otherwise, it'll be as if you are stacking each df instead of true concat\n",
    "#could have done drop=True, so that you can drop the index column"
   ]
  },
  {
   "cell_type": "code",
   "execution_count": 8,
   "metadata": {
    "collapsed": false,
    "scrolled": true
   },
   "outputs": [
    {
     "data": {
      "text/html": [
       "<div>\n",
       "<table border=\"1\" class=\"dataframe\">\n",
       "  <thead>\n",
       "    <tr style=\"text-align: right;\">\n",
       "      <th></th>\n",
       "      <th>index</th>\n",
       "      <th>tripduration</th>\n",
       "      <th>starttime</th>\n",
       "      <th>stoptime</th>\n",
       "      <th>start station id</th>\n",
       "      <th>start station name</th>\n",
       "      <th>start station latitude</th>\n",
       "      <th>start station longitude</th>\n",
       "      <th>end station id</th>\n",
       "      <th>end station name</th>\n",
       "      <th>end station latitude</th>\n",
       "      <th>end station longitude</th>\n",
       "      <th>bikeid</th>\n",
       "      <th>usertype</th>\n",
       "      <th>birth year</th>\n",
       "      <th>gender</th>\n",
       "    </tr>\n",
       "  </thead>\n",
       "  <tbody>\n",
       "    <tr>\n",
       "      <th>0</th>\n",
       "      <td>0</td>\n",
       "      <td>1346</td>\n",
       "      <td>1/1/2015 0:01</td>\n",
       "      <td>1/1/2015 0:24</td>\n",
       "      <td>455</td>\n",
       "      <td>1 Ave &amp; E 44 St</td>\n",
       "      <td>40.750</td>\n",
       "      <td>-73.969</td>\n",
       "      <td>265</td>\n",
       "      <td>Stanton St &amp; Chrystie St</td>\n",
       "      <td>40.722</td>\n",
       "      <td>-73.991</td>\n",
       "      <td>18660</td>\n",
       "      <td>Subscriber</td>\n",
       "      <td>1960.0</td>\n",
       "      <td>2</td>\n",
       "    </tr>\n",
       "    <tr>\n",
       "      <th>1</th>\n",
       "      <td>1</td>\n",
       "      <td>363</td>\n",
       "      <td>1/1/2015 0:02</td>\n",
       "      <td>1/1/2015 0:08</td>\n",
       "      <td>434</td>\n",
       "      <td>9 Ave &amp; W 18 St</td>\n",
       "      <td>40.743</td>\n",
       "      <td>-74.004</td>\n",
       "      <td>482</td>\n",
       "      <td>W 15 St &amp; 7 Ave</td>\n",
       "      <td>40.739</td>\n",
       "      <td>-73.999</td>\n",
       "      <td>16085</td>\n",
       "      <td>Subscriber</td>\n",
       "      <td>1963.0</td>\n",
       "      <td>1</td>\n",
       "    </tr>\n",
       "    <tr>\n",
       "      <th>2</th>\n",
       "      <td>2</td>\n",
       "      <td>346</td>\n",
       "      <td>1/1/2015 0:04</td>\n",
       "      <td>1/1/2015 0:10</td>\n",
       "      <td>491</td>\n",
       "      <td>E 24 St &amp; Park Ave S</td>\n",
       "      <td>40.741</td>\n",
       "      <td>-73.986</td>\n",
       "      <td>505</td>\n",
       "      <td>6 Ave &amp; W 33 St</td>\n",
       "      <td>40.749</td>\n",
       "      <td>-73.988</td>\n",
       "      <td>20845</td>\n",
       "      <td>Subscriber</td>\n",
       "      <td>1974.0</td>\n",
       "      <td>1</td>\n",
       "    </tr>\n",
       "    <tr>\n",
       "      <th>3</th>\n",
       "      <td>3</td>\n",
       "      <td>182</td>\n",
       "      <td>1/1/2015 0:04</td>\n",
       "      <td>1/1/2015 0:07</td>\n",
       "      <td>384</td>\n",
       "      <td>Fulton St &amp; Waverly Ave</td>\n",
       "      <td>40.683</td>\n",
       "      <td>-73.966</td>\n",
       "      <td>399</td>\n",
       "      <td>Lafayette Ave &amp; St James Pl</td>\n",
       "      <td>40.689</td>\n",
       "      <td>-73.965</td>\n",
       "      <td>19610</td>\n",
       "      <td>Subscriber</td>\n",
       "      <td>1969.0</td>\n",
       "      <td>1</td>\n",
       "    </tr>\n",
       "    <tr>\n",
       "      <th>4</th>\n",
       "      <td>4</td>\n",
       "      <td>969</td>\n",
       "      <td>1/1/2015 0:05</td>\n",
       "      <td>1/1/2015 0:21</td>\n",
       "      <td>474</td>\n",
       "      <td>5 Ave &amp; E 29 St</td>\n",
       "      <td>40.745</td>\n",
       "      <td>-73.987</td>\n",
       "      <td>432</td>\n",
       "      <td>E 7 St &amp; Avenue A</td>\n",
       "      <td>40.726</td>\n",
       "      <td>-73.984</td>\n",
       "      <td>20197</td>\n",
       "      <td>Subscriber</td>\n",
       "      <td>1977.0</td>\n",
       "      <td>1</td>\n",
       "    </tr>\n",
       "  </tbody>\n",
       "</table>\n",
       "</div>"
      ],
      "text/plain": [
       "   index  tripduration      starttime       stoptime  start station id  \\\n",
       "0      0          1346  1/1/2015 0:01  1/1/2015 0:24               455   \n",
       "1      1           363  1/1/2015 0:02  1/1/2015 0:08               434   \n",
       "2      2           346  1/1/2015 0:04  1/1/2015 0:10               491   \n",
       "3      3           182  1/1/2015 0:04  1/1/2015 0:07               384   \n",
       "4      4           969  1/1/2015 0:05  1/1/2015 0:21               474   \n",
       "\n",
       "        start station name  start station latitude  start station longitude  \\\n",
       "0          1 Ave & E 44 St                  40.750                  -73.969   \n",
       "1          9 Ave & W 18 St                  40.743                  -74.004   \n",
       "2     E 24 St & Park Ave S                  40.741                  -73.986   \n",
       "3  Fulton St & Waverly Ave                  40.683                  -73.966   \n",
       "4          5 Ave & E 29 St                  40.745                  -73.987   \n",
       "\n",
       "   end station id             end station name  end station latitude  \\\n",
       "0             265     Stanton St & Chrystie St                40.722   \n",
       "1             482              W 15 St & 7 Ave                40.739   \n",
       "2             505              6 Ave & W 33 St                40.749   \n",
       "3             399  Lafayette Ave & St James Pl                40.689   \n",
       "4             432            E 7 St & Avenue A                40.726   \n",
       "\n",
       "   end station longitude  bikeid    usertype  birth year  gender  \n",
       "0                -73.991   18660  Subscriber      1960.0       2  \n",
       "1                -73.999   16085  Subscriber      1963.0       1  \n",
       "2                -73.988   20845  Subscriber      1974.0       1  \n",
       "3                -73.965   19610  Subscriber      1969.0       1  \n",
       "4                -73.984   20197  Subscriber      1977.0       1  "
      ]
     },
     "execution_count": 8,
     "metadata": {},
     "output_type": "execute_result"
    }
   ],
   "source": [
    "CitiBike_df.head()"
   ]
  },
  {
   "cell_type": "code",
   "execution_count": 9,
   "metadata": {
    "collapsed": false,
    "scrolled": true
   },
   "outputs": [
    {
     "data": {
      "text/html": [
       "<div>\n",
       "<table border=\"1\" class=\"dataframe\">\n",
       "  <thead>\n",
       "    <tr style=\"text-align: right;\">\n",
       "      <th></th>\n",
       "      <th>index</th>\n",
       "      <th>tripduration</th>\n",
       "      <th>starttime</th>\n",
       "      <th>stoptime</th>\n",
       "      <th>start station id</th>\n",
       "      <th>start station name</th>\n",
       "      <th>start station latitude</th>\n",
       "      <th>start station longitude</th>\n",
       "      <th>end station id</th>\n",
       "      <th>end station name</th>\n",
       "      <th>end station latitude</th>\n",
       "      <th>end station longitude</th>\n",
       "      <th>bikeid</th>\n",
       "      <th>usertype</th>\n",
       "      <th>birth year</th>\n",
       "      <th>gender</th>\n",
       "    </tr>\n",
       "  </thead>\n",
       "  <tbody>\n",
       "    <tr>\n",
       "      <th>9937964</th>\n",
       "      <td>804120</td>\n",
       "      <td>509</td>\n",
       "      <td>12/31/2015 16:50:17</td>\n",
       "      <td>12/31/2015 16:58:46</td>\n",
       "      <td>3242</td>\n",
       "      <td>Schermerhorn St &amp; Court St</td>\n",
       "      <td>40.691</td>\n",
       "      <td>-73.992</td>\n",
       "      <td>261</td>\n",
       "      <td>Johnson St &amp; Gold St</td>\n",
       "      <td>40.695</td>\n",
       "      <td>-73.984</td>\n",
       "      <td>22282</td>\n",
       "      <td>Subscriber</td>\n",
       "      <td>1957.0</td>\n",
       "      <td>1</td>\n",
       "    </tr>\n",
       "    <tr>\n",
       "      <th>9937965</th>\n",
       "      <td>804121</td>\n",
       "      <td>591</td>\n",
       "      <td>12/31/2015 17:17:52</td>\n",
       "      <td>12/31/2015 17:27:43</td>\n",
       "      <td>3242</td>\n",
       "      <td>Schermerhorn St &amp; Court St</td>\n",
       "      <td>40.691</td>\n",
       "      <td>-73.992</td>\n",
       "      <td>258</td>\n",
       "      <td>DeKalb Ave &amp; Vanderbilt Ave</td>\n",
       "      <td>40.689</td>\n",
       "      <td>-73.969</td>\n",
       "      <td>22366</td>\n",
       "      <td>Subscriber</td>\n",
       "      <td>1978.0</td>\n",
       "      <td>1</td>\n",
       "    </tr>\n",
       "    <tr>\n",
       "      <th>9937966</th>\n",
       "      <td>804122</td>\n",
       "      <td>197</td>\n",
       "      <td>12/31/2015 17:56:22</td>\n",
       "      <td>12/31/2015 17:59:39</td>\n",
       "      <td>3242</td>\n",
       "      <td>Schermerhorn St &amp; Court St</td>\n",
       "      <td>40.691</td>\n",
       "      <td>-73.992</td>\n",
       "      <td>157</td>\n",
       "      <td>Henry St &amp; Atlantic Ave</td>\n",
       "      <td>40.691</td>\n",
       "      <td>-73.996</td>\n",
       "      <td>20663</td>\n",
       "      <td>Subscriber</td>\n",
       "      <td>1959.0</td>\n",
       "      <td>1</td>\n",
       "    </tr>\n",
       "    <tr>\n",
       "      <th>9937967</th>\n",
       "      <td>804123</td>\n",
       "      <td>372</td>\n",
       "      <td>12/31/2015 21:20:38</td>\n",
       "      <td>12/31/2015 21:26:50</td>\n",
       "      <td>3242</td>\n",
       "      <td>Schermerhorn St &amp; Court St</td>\n",
       "      <td>40.691</td>\n",
       "      <td>-73.992</td>\n",
       "      <td>467</td>\n",
       "      <td>Dean St &amp; 4 Ave</td>\n",
       "      <td>40.683</td>\n",
       "      <td>-73.979</td>\n",
       "      <td>19782</td>\n",
       "      <td>Subscriber</td>\n",
       "      <td>1987.0</td>\n",
       "      <td>1</td>\n",
       "    </tr>\n",
       "    <tr>\n",
       "      <th>9937968</th>\n",
       "      <td>804124</td>\n",
       "      <td>395</td>\n",
       "      <td>12/31/2015 21:49:19</td>\n",
       "      <td>12/31/2015 21:55:55</td>\n",
       "      <td>3242</td>\n",
       "      <td>Schermerhorn St &amp; Court St</td>\n",
       "      <td>40.691</td>\n",
       "      <td>-73.992</td>\n",
       "      <td>418</td>\n",
       "      <td>Front St &amp; Gold St</td>\n",
       "      <td>40.702</td>\n",
       "      <td>-73.983</td>\n",
       "      <td>23411</td>\n",
       "      <td>Subscriber</td>\n",
       "      <td>1968.0</td>\n",
       "      <td>1</td>\n",
       "    </tr>\n",
       "  </tbody>\n",
       "</table>\n",
       "</div>"
      ],
      "text/plain": [
       "          index  tripduration            starttime             stoptime  \\\n",
       "9937964  804120           509  12/31/2015 16:50:17  12/31/2015 16:58:46   \n",
       "9937965  804121           591  12/31/2015 17:17:52  12/31/2015 17:27:43   \n",
       "9937966  804122           197  12/31/2015 17:56:22  12/31/2015 17:59:39   \n",
       "9937967  804123           372  12/31/2015 21:20:38  12/31/2015 21:26:50   \n",
       "9937968  804124           395  12/31/2015 21:49:19  12/31/2015 21:55:55   \n",
       "\n",
       "         start station id          start station name  start station latitude  \\\n",
       "9937964              3242  Schermerhorn St & Court St                  40.691   \n",
       "9937965              3242  Schermerhorn St & Court St                  40.691   \n",
       "9937966              3242  Schermerhorn St & Court St                  40.691   \n",
       "9937967              3242  Schermerhorn St & Court St                  40.691   \n",
       "9937968              3242  Schermerhorn St & Court St                  40.691   \n",
       "\n",
       "         start station longitude  end station id             end station name  \\\n",
       "9937964                  -73.992             261         Johnson St & Gold St   \n",
       "9937965                  -73.992             258  DeKalb Ave & Vanderbilt Ave   \n",
       "9937966                  -73.992             157      Henry St & Atlantic Ave   \n",
       "9937967                  -73.992             467              Dean St & 4 Ave   \n",
       "9937968                  -73.992             418           Front St & Gold St   \n",
       "\n",
       "         end station latitude  end station longitude  bikeid    usertype  \\\n",
       "9937964                40.695                -73.984   22282  Subscriber   \n",
       "9937965                40.689                -73.969   22366  Subscriber   \n",
       "9937966                40.691                -73.996   20663  Subscriber   \n",
       "9937967                40.683                -73.979   19782  Subscriber   \n",
       "9937968                40.702                -73.983   23411  Subscriber   \n",
       "\n",
       "         birth year  gender  \n",
       "9937964      1957.0       1  \n",
       "9937965      1978.0       1  \n",
       "9937966      1959.0       1  \n",
       "9937967      1987.0       1  \n",
       "9937968      1968.0       1  "
      ]
     },
     "execution_count": 9,
     "metadata": {},
     "output_type": "execute_result"
    }
   ],
   "source": [
    "CitiBike_df.tail()"
   ]
  },
  {
   "cell_type": "code",
   "execution_count": 10,
   "metadata": {
    "collapsed": false,
    "scrolled": false
   },
   "outputs": [
    {
     "name": "stdout",
     "output_type": "stream",
     "text": [
      "<class 'pandas.core.frame.DataFrame'>\n",
      "RangeIndex: 9937969 entries, 0 to 9937968\n",
      "Data columns (total 16 columns):\n",
      "index                      int64\n",
      "tripduration               int64\n",
      "starttime                  object\n",
      "stoptime                   object\n",
      "start station id           int64\n",
      "start station name         object\n",
      "start station latitude     float64\n",
      "start station longitude    float64\n",
      "end station id             int64\n",
      "end station name           object\n",
      "end station latitude       float64\n",
      "end station longitude      float64\n",
      "bikeid                     int64\n",
      "usertype                   object\n",
      "birth year                 float64\n",
      "gender                     int64\n",
      "dtypes: float64(5), int64(6), object(5)\n",
      "memory usage: 1.2+ GB\n"
     ]
    }
   ],
   "source": [
    "CitiBike_df.info() "
   ]
  },
  {
   "cell_type": "markdown",
   "metadata": {},
   "source": [
    "## Question 2\n",
    "• Plot the distribution of the trip duration. **Answer: Using Histogram**\n",
    "\n",
    "• Describe the structure and hypotheses you have about that structure. **Answer: Right-skewed distribution, and that most people are renting bikes for about or close to 370 seconds (mode) even though the average duration is 968 seconds (mean).**\n"
   ]
  },
  {
   "cell_type": "code",
   "execution_count": 11,
   "metadata": {
    "collapsed": false,
    "scrolled": true
   },
   "outputs": [
    {
     "name": "stdout",
     "output_type": "stream",
     "text": [
      "5864661\n"
     ]
    }
   ],
   "source": [
    "trip_duration = CitiBike_df['tripduration'] #select only the column we want\n",
    "print(max(trip_duration)) #this is clearly wrong! it's an outlier. must find reasonable range."
   ]
  },
  {
   "cell_type": "code",
   "execution_count": null,
   "metadata": {
    "collapsed": true
   },
   "outputs": [],
   "source": [
    "#should have included the original histogram with outliers."
   ]
  },
  {
   "cell_type": "code",
   "execution_count": 14,
   "metadata": {
    "collapsed": false,
    "scrolled": false
   },
   "outputs": [
    {
     "data": {
      "image/png": "[encoded data removed]",
      "text/plain": [
       "<matplotlib.figure.Figure at 0x18b68a790>"
      ]
     },
     "metadata": {},
     "output_type": "display_data"
    }
   ],
   "source": [
    "n, bins, patches = plt.hist(trip_duration, bins=300, range=(0,3000)) #n is y axis, bins is x axis!\n",
    "plt.title('Distribution of Trip Duration')\n",
    "plt.xlabel('time (s)')\n",
    "plt.ylabel('frequency')\n",
    "plt.tight_layout()"
   ]
  },
  {
   "cell_type": "code",
   "execution_count": 15,
   "metadata": {
    "collapsed": false
   },
   "outputs": [
    {
     "name": "stdout",
     "output_type": "stream",
     "text": [
      "Mean of Trip Duration: 968 seconds\n",
      "Max of Frequency: 116081 seconds\n"
     ]
    }
   ],
   "source": [
    "print('Mean of Trip Duration: ' + str(int(trip_duration.mean())) + ' seconds') #this is the mean of the frequency\n",
    "print('Max of Frequency: ' + str(int(n.max())))"
   ]
  },
  {
   "cell_type": "code",
   "execution_count": 16,
   "metadata": {
    "collapsed": false,
    "scrolled": true
   },
   "outputs": [
    {
     "name": "stdout",
     "output_type": "stream",
     "text": [
      "Mode of Trip Duration: 370 seconds\n"
     ]
    }
   ],
   "source": [
    "duration_mode = bins[np.argmax(n)] #argmax returns bin index with highest items inside\n",
    "print('Mode of Trip Duration: ' + str(int(duration_mode)) + ' seconds')"
   ]
  },
  {
   "cell_type": "markdown",
   "metadata": {},
   "source": [
    "## Question 3\n",
    "• Make a plot of the total number of trips per hour of the day. **Answer: line graph**\n",
    "\n",
    "• What does this plot look like if days are broken into weekdays vs weekends? What does this\n",
    "usage pattern tell you? **Answer: The weekdays plot takes the shape of the original graph. In the weekday graph, there is an increase during commuting hours, and decreases during working hours. For the weekend graph, there is a general increase towards afternoon hours and peaks between 1 to 3pm. In general, there is a significantly less usage on the weekends in comparison to the weekdays.**\n",
    "\n",
    "• Find another interesting way to segment all or some of the data. Discuss your findings. **Answer: Skipped**"
   ]
  },
  {
   "cell_type": "code",
   "execution_count": 17,
   "metadata": {
    "collapsed": true
   },
   "outputs": [],
   "source": [
    "from datetime import datetime as dt"
   ]
  },
  {
   "cell_type": "code",
   "execution_count": 18,
   "metadata": {
    "collapsed": false,
    "scrolled": true
   },
   "outputs": [
    {
     "data": {
      "text/html": [
       "<div>\n",
       "<table border=\"1\" class=\"dataframe\">\n",
       "  <thead>\n",
       "    <tr style=\"text-align: right;\">\n",
       "      <th></th>\n",
       "      <th>index</th>\n",
       "      <th>tripduration</th>\n",
       "      <th>starttime</th>\n",
       "      <th>stoptime</th>\n",
       "      <th>start station id</th>\n",
       "      <th>start station name</th>\n",
       "      <th>start station latitude</th>\n",
       "      <th>start station longitude</th>\n",
       "      <th>end station id</th>\n",
       "      <th>end station name</th>\n",
       "      <th>end station latitude</th>\n",
       "      <th>end station longitude</th>\n",
       "      <th>bikeid</th>\n",
       "      <th>usertype</th>\n",
       "      <th>birth year</th>\n",
       "      <th>gender</th>\n",
       "    </tr>\n",
       "  </thead>\n",
       "  <tbody>\n",
       "    <tr>\n",
       "      <th>0</th>\n",
       "      <td>0</td>\n",
       "      <td>1346</td>\n",
       "      <td>1/1/2015 0:01</td>\n",
       "      <td>1/1/2015 0:24</td>\n",
       "      <td>455</td>\n",
       "      <td>1 Ave &amp; E 44 St</td>\n",
       "      <td>40.750</td>\n",
       "      <td>-73.969</td>\n",
       "      <td>265</td>\n",
       "      <td>Stanton St &amp; Chrystie St</td>\n",
       "      <td>40.722</td>\n",
       "      <td>-73.991</td>\n",
       "      <td>18660</td>\n",
       "      <td>Subscriber</td>\n",
       "      <td>1960.0</td>\n",
       "      <td>2</td>\n",
       "    </tr>\n",
       "    <tr>\n",
       "      <th>1</th>\n",
       "      <td>1</td>\n",
       "      <td>363</td>\n",
       "      <td>1/1/2015 0:02</td>\n",
       "      <td>1/1/2015 0:08</td>\n",
       "      <td>434</td>\n",
       "      <td>9 Ave &amp; W 18 St</td>\n",
       "      <td>40.743</td>\n",
       "      <td>-74.004</td>\n",
       "      <td>482</td>\n",
       "      <td>W 15 St &amp; 7 Ave</td>\n",
       "      <td>40.739</td>\n",
       "      <td>-73.999</td>\n",
       "      <td>16085</td>\n",
       "      <td>Subscriber</td>\n",
       "      <td>1963.0</td>\n",
       "      <td>1</td>\n",
       "    </tr>\n",
       "    <tr>\n",
       "      <th>2</th>\n",
       "      <td>2</td>\n",
       "      <td>346</td>\n",
       "      <td>1/1/2015 0:04</td>\n",
       "      <td>1/1/2015 0:10</td>\n",
       "      <td>491</td>\n",
       "      <td>E 24 St &amp; Park Ave S</td>\n",
       "      <td>40.741</td>\n",
       "      <td>-73.986</td>\n",
       "      <td>505</td>\n",
       "      <td>6 Ave &amp; W 33 St</td>\n",
       "      <td>40.749</td>\n",
       "      <td>-73.988</td>\n",
       "      <td>20845</td>\n",
       "      <td>Subscriber</td>\n",
       "      <td>1974.0</td>\n",
       "      <td>1</td>\n",
       "    </tr>\n",
       "    <tr>\n",
       "      <th>3</th>\n",
       "      <td>3</td>\n",
       "      <td>182</td>\n",
       "      <td>1/1/2015 0:04</td>\n",
       "      <td>1/1/2015 0:07</td>\n",
       "      <td>384</td>\n",
       "      <td>Fulton St &amp; Waverly Ave</td>\n",
       "      <td>40.683</td>\n",
       "      <td>-73.966</td>\n",
       "      <td>399</td>\n",
       "      <td>Lafayette Ave &amp; St James Pl</td>\n",
       "      <td>40.689</td>\n",
       "      <td>-73.965</td>\n",
       "      <td>19610</td>\n",
       "      <td>Subscriber</td>\n",
       "      <td>1969.0</td>\n",
       "      <td>1</td>\n",
       "    </tr>\n",
       "    <tr>\n",
       "      <th>4</th>\n",
       "      <td>4</td>\n",
       "      <td>969</td>\n",
       "      <td>1/1/2015 0:05</td>\n",
       "      <td>1/1/2015 0:21</td>\n",
       "      <td>474</td>\n",
       "      <td>5 Ave &amp; E 29 St</td>\n",
       "      <td>40.745</td>\n",
       "      <td>-73.987</td>\n",
       "      <td>432</td>\n",
       "      <td>E 7 St &amp; Avenue A</td>\n",
       "      <td>40.726</td>\n",
       "      <td>-73.984</td>\n",
       "      <td>20197</td>\n",
       "      <td>Subscriber</td>\n",
       "      <td>1977.0</td>\n",
       "      <td>1</td>\n",
       "    </tr>\n",
       "  </tbody>\n",
       "</table>\n",
       "</div>"
      ],
      "text/plain": [
       "   index  tripduration      starttime       stoptime  start station id  \\\n",
       "0      0          1346  1/1/2015 0:01  1/1/2015 0:24               455   \n",
       "1      1           363  1/1/2015 0:02  1/1/2015 0:08               434   \n",
       "2      2           346  1/1/2015 0:04  1/1/2015 0:10               491   \n",
       "3      3           182  1/1/2015 0:04  1/1/2015 0:07               384   \n",
       "4      4           969  1/1/2015 0:05  1/1/2015 0:21               474   \n",
       "\n",
       "        start station name  start station latitude  start station longitude  \\\n",
       "0          1 Ave & E 44 St                  40.750                  -73.969   \n",
       "1          9 Ave & W 18 St                  40.743                  -74.004   \n",
       "2     E 24 St & Park Ave S                  40.741                  -73.986   \n",
       "3  Fulton St & Waverly Ave                  40.683                  -73.966   \n",
       "4          5 Ave & E 29 St                  40.745                  -73.987   \n",
       "\n",
       "   end station id             end station name  end station latitude  \\\n",
       "0             265     Stanton St & Chrystie St                40.722   \n",
       "1             482              W 15 St & 7 Ave                40.739   \n",
       "2             505              6 Ave & W 33 St                40.749   \n",
       "3             399  Lafayette Ave & St James Pl                40.689   \n",
       "4             432            E 7 St & Avenue A                40.726   \n",
       "\n",
       "   end station longitude  bikeid    usertype  birth year  gender  \n",
       "0                -73.991   18660  Subscriber      1960.0       2  \n",
       "1                -73.999   16085  Subscriber      1963.0       1  \n",
       "2                -73.988   20845  Subscriber      1974.0       1  \n",
       "3                -73.965   19610  Subscriber      1969.0       1  \n",
       "4                -73.984   20197  Subscriber      1977.0       1  "
      ]
     },
     "execution_count": 18,
     "metadata": {},
     "output_type": "execute_result"
    }
   ],
   "source": [
    "CitiBike_df.head()"
   ]
  },
  {
   "cell_type": "code",
   "execution_count": 34,
   "metadata": {
    "collapsed": false,
    "scrolled": true
   },
   "outputs": [],
   "source": [
    "CitiBike_df['DATE_TIME'] = pd.to_datetime(CitiBike_df.starttime, format='%m/%d/%Y %H:%M', exact=False)\n",
    "#exact must be set to False since some of the times are missing seconds\n",
    "#could have tried infer_datetime_format=True, apparently sometimes this makes it faster\n",
    "#pd.timestamp"
   ]
  },
  {
   "cell_type": "code",
   "execution_count": 60,
   "metadata": {
    "collapsed": false,
    "scrolled": false
   },
   "outputs": [
    {
     "data": {
      "text/plain": [
       "0   2015-01-01 00:01:00\n",
       "1   2015-01-01 00:02:00\n",
       "2   2015-01-01 00:04:00\n",
       "3   2015-01-01 00:04:00\n",
       "4   2015-01-01 00:05:00\n",
       "Name: DATE_TIME, dtype: datetime64[ns]"
      ]
     },
     "execution_count": 60,
     "metadata": {},
     "output_type": "execute_result"
    }
   ],
   "source": [
    "CitiBike_df['DATE_TIME'].head() #sample "
   ]
  },
  {
   "cell_type": "code",
   "execution_count": 88,
   "metadata": {
    "collapsed": false,
    "scrolled": false
   },
   "outputs": [],
   "source": [
    "trips_per_hour = CitiBike_df.groupby(CitiBike_df['DATE_TIME'].apply(lambda x: x.hour)).index.count()\n",
    "#here, I want to first extract the hour of day with an apply function, then groupby each hour and sum the count total.\n",
    "#I am grouping by index to shorten the df, since i only really care about the number of rows in each hour group"
   ]
  },
  {
   "cell_type": "code",
   "execution_count": 89,
   "metadata": {
    "collapsed": false,
    "scrolled": true
   },
   "outputs": [
    {
     "data": {
      "text/plain": [
       "9937969"
      ]
     },
     "execution_count": 89,
     "metadata": {},
     "output_type": "execute_result"
    }
   ],
   "source": [
    "trips_per_hour.sum() #sanity check, to make sure that the groupby count is counting the index properly"
   ]
  },
  {
   "cell_type": "code",
   "execution_count": 107,
   "metadata": {
    "collapsed": false,
    "scrolled": true
   },
   "outputs": [
    {
     "data": {
      "text/html": [
       "<div>\n",
       "<table border=\"1\" class=\"dataframe\">\n",
       "  <thead>\n",
       "    <tr style=\"text-align: right;\">\n",
       "      <th></th>\n",
       "      <th>hour</th>\n",
       "      <th>count</th>\n",
       "    </tr>\n",
       "  </thead>\n",
       "  <tbody>\n",
       "    <tr>\n",
       "      <th>0</th>\n",
       "      <td>0</td>\n",
       "      <td>95057</td>\n",
       "    </tr>\n",
       "    <tr>\n",
       "      <th>1</th>\n",
       "      <td>1</td>\n",
       "      <td>53664</td>\n",
       "    </tr>\n",
       "    <tr>\n",
       "      <th>2</th>\n",
       "      <td>2</td>\n",
       "      <td>31271</td>\n",
       "    </tr>\n",
       "    <tr>\n",
       "      <th>3</th>\n",
       "      <td>3</td>\n",
       "      <td>19409</td>\n",
       "    </tr>\n",
       "    <tr>\n",
       "      <th>4</th>\n",
       "      <td>4</td>\n",
       "      <td>17963</td>\n",
       "    </tr>\n",
       "    <tr>\n",
       "      <th>5</th>\n",
       "      <td>5</td>\n",
       "      <td>53928</td>\n",
       "    </tr>\n",
       "    <tr>\n",
       "      <th>6</th>\n",
       "      <td>6</td>\n",
       "      <td>213904</td>\n",
       "    </tr>\n",
       "    <tr>\n",
       "      <th>7</th>\n",
       "      <td>7</td>\n",
       "      <td>446922</td>\n",
       "    </tr>\n",
       "    <tr>\n",
       "      <th>8</th>\n",
       "      <td>8</td>\n",
       "      <td>796457</td>\n",
       "    </tr>\n",
       "    <tr>\n",
       "      <th>9</th>\n",
       "      <td>9</td>\n",
       "      <td>641339</td>\n",
       "    </tr>\n",
       "    <tr>\n",
       "      <th>10</th>\n",
       "      <td>10</td>\n",
       "      <td>442380</td>\n",
       "    </tr>\n",
       "    <tr>\n",
       "      <th>11</th>\n",
       "      <td>11</td>\n",
       "      <td>463833</td>\n",
       "    </tr>\n",
       "    <tr>\n",
       "      <th>12</th>\n",
       "      <td>12</td>\n",
       "      <td>536993</td>\n",
       "    </tr>\n",
       "    <tr>\n",
       "      <th>13</th>\n",
       "      <td>13</td>\n",
       "      <td>561993</td>\n",
       "    </tr>\n",
       "    <tr>\n",
       "      <th>14</th>\n",
       "      <td>14</td>\n",
       "      <td>580220</td>\n",
       "    </tr>\n",
       "    <tr>\n",
       "      <th>15</th>\n",
       "      <td>15</td>\n",
       "      <td>608600</td>\n",
       "    </tr>\n",
       "    <tr>\n",
       "      <th>16</th>\n",
       "      <td>16</td>\n",
       "      <td>706162</td>\n",
       "    </tr>\n",
       "    <tr>\n",
       "      <th>17</th>\n",
       "      <td>17</td>\n",
       "      <td>970198</td>\n",
       "    </tr>\n",
       "    <tr>\n",
       "      <th>18</th>\n",
       "      <td>18</td>\n",
       "      <td>926712</td>\n",
       "    </tr>\n",
       "    <tr>\n",
       "      <th>19</th>\n",
       "      <td>19</td>\n",
       "      <td>648164</td>\n",
       "    </tr>\n",
       "    <tr>\n",
       "      <th>20</th>\n",
       "      <td>20</td>\n",
       "      <td>429494</td>\n",
       "    </tr>\n",
       "    <tr>\n",
       "      <th>21</th>\n",
       "      <td>21</td>\n",
       "      <td>303970</td>\n",
       "    </tr>\n",
       "    <tr>\n",
       "      <th>22</th>\n",
       "      <td>22</td>\n",
       "      <td>231205</td>\n",
       "    </tr>\n",
       "    <tr>\n",
       "      <th>23</th>\n",
       "      <td>23</td>\n",
       "      <td>158131</td>\n",
       "    </tr>\n",
       "  </tbody>\n",
       "</table>\n",
       "</div>"
      ],
      "text/plain": [
       "    hour   count\n",
       "0      0   95057\n",
       "1      1   53664\n",
       "2      2   31271\n",
       "3      3   19409\n",
       "4      4   17963\n",
       "5      5   53928\n",
       "6      6  213904\n",
       "7      7  446922\n",
       "8      8  796457\n",
       "9      9  641339\n",
       "10    10  442380\n",
       "11    11  463833\n",
       "12    12  536993\n",
       "13    13  561993\n",
       "14    14  580220\n",
       "15    15  608600\n",
       "16    16  706162\n",
       "17    17  970198\n",
       "18    18  926712\n",
       "19    19  648164\n",
       "20    20  429494\n",
       "21    21  303970\n",
       "22    22  231205\n",
       "23    23  158131"
      ]
     },
     "execution_count": 107,
     "metadata": {},
     "output_type": "execute_result"
    }
   ],
   "source": [
    "trips_per_hour_df = pd.DataFrame(data=trips_per_hour).reset_index() #make a df of hour of day and count total per hour\n",
    "trips_per_hour_df.columns = ['hour', 'count'] #for sensibility\n",
    "trips_per_hour_df"
   ]
  },
  {
   "cell_type": "code",
   "execution_count": 113,
   "metadata": {
    "collapsed": false
   },
   "outputs": [
    {
     "data": {
      "image/png": "[encoded data removed]",
      "text/plain": [
       "<matplotlib.figure.Figure at 0x113e85a50>"
      ]
     },
     "metadata": {},
     "output_type": "display_data"
    }
   ],
   "source": [
    "plt.plot(trips_per_hour_df['hour'], trips_per_hour_df['count'])\n",
    "plt.title('Total Trips per Hour of Day')\n",
    "plt.xlabel('hour')\n",
    "plt.ylabel('Number of Trips')\n",
    "plt.xlim([0, 23])\n",
    "plt.xticks(range(24));"
   ]
  },
  {
   "cell_type": "code",
   "execution_count": 114,
   "metadata": {
    "collapsed": false
   },
   "outputs": [],
   "source": [
    "CitiBike_df['day_of_week'] = CitiBike_df['DATE_TIME'].apply(lambda x: x.weekday()) #0 Monday to 6 Sunday"
   ]
  },
  {
   "cell_type": "code",
   "execution_count": 115,
   "metadata": {
    "collapsed": false,
    "scrolled": false
   },
   "outputs": [
    {
     "data": {
      "text/plain": [
       "0    3\n",
       "1    3\n",
       "2    3\n",
       "3    3\n",
       "4    3\n",
       "Name: day_of_week, dtype: int64"
      ]
     },
     "execution_count": 115,
     "metadata": {},
     "output_type": "execute_result"
    }
   ],
   "source": [
    "CitiBike_df['day_of_week'].head()"
   ]
  },
  {
   "cell_type": "code",
   "execution_count": 55,
   "metadata": {
    "collapsed": true
   },
   "outputs": [],
   "source": [
    "weekdays = CitiBike_df[CitiBike_df['day_of_week'] < 5]\n",
    "weekends = CitiBike_df[CitiBike_df['day_of_week'] > 5] #5 and 6 are Saturday and Sunday."
   ]
  },
  {
   "cell_type": "code",
   "execution_count": 123,
   "metadata": {
    "collapsed": false
   },
   "outputs": [],
   "source": [
    "weekdays_trips_per_hour = weekdays.groupby(weekdays['DATE_TIME'].apply(lambda x: x.hour)).index.count()\n",
    "#the same method as above, but using a truncated df that only includes grouped weekdays\n",
    "weekdays_trips_per_hour_df = pd.DataFrame(data=weekdays_trips_per_hour).reset_index()\n",
    "weekdays_trips_per_hour_df.columns = ['hour', 'count']"
   ]
  },
  {
   "cell_type": "code",
   "execution_count": 124,
   "metadata": {
    "collapsed": false
   },
   "outputs": [],
   "source": [
    "#now, for weekends!\n",
    "weekends_trips_per_hour = weekends.groupby(weekends['DATE_TIME'].apply(lambda x: x.hour)).index.count()\n",
    "weekends_trips_per_hour_df = pd.DataFrame(data=weekends_trips_per_hour).reset_index()\n",
    "weekends_trips_per_hour_df.columns = ['hour', 'count']"
   ]
  },
  {
   "cell_type": "code",
   "execution_count": 125,
   "metadata": {
    "collapsed": false
   },
   "outputs": [
    {
     "data": {
      "image/png": "[encoded data removed]",
      "text/plain": [
       "<matplotlib.figure.Figure at 0x112d8c910>"
      ]
     },
     "metadata": {},
     "output_type": "display_data"
    }
   ],
   "source": [
    "#plot just the weekdays\n",
    "plt.plot(weekdays_trips_per_hour_df['hour'], weekdays_trips_per_hour_df['count'])\n",
    "plt.title('Total Trips per Hour of Day on WEEKDAYS')\n",
    "plt.xlabel('hour')\n",
    "plt.ylabel('Number of Trips')\n",
    "plt.xlim([0, 23])\n",
    "plt.xticks(range(24));"
   ]
  },
  {
   "cell_type": "code",
   "execution_count": 127,
   "metadata": {
    "collapsed": false,
    "scrolled": true
   },
   "outputs": [
    {
     "data": {
      "image/png": "[encoded data removed]",
      "text/plain": [
       "<matplotlib.figure.Figure at 0x116c0c550>"
      ]
     },
     "metadata": {},
     "output_type": "display_data"
    }
   ],
   "source": [
    "#plot just the weekends\n",
    "plt.plot(weekends_trips_per_hour_df['hour'], weekends_trips_per_hour_df['count'])\n",
    "plt.title('Total Trips per Hour of Day on WEEKENDS')\n",
    "plt.xlabel('hour')\n",
    "plt.ylabel('Number of Trips')\n",
    "plt.xlim([0, 23])\n",
    "plt.xticks(range(24));"
   ]
  },
  {
   "cell_type": "code",
   "execution_count": null,
   "metadata": {
    "collapsed": true
   },
   "outputs": [],
   "source": [
    "#could have divided counts by 5 for weekdays and weekends by 2 so we normalize counts"
   ]
  },
  {
   "cell_type": "markdown",
   "metadata": {},
   "source": [
    "## Question 4\n",
    "• There are instances where a bike's next trip originates from a different station than it was returned to for its most recent previous trip. What do you think causes this?\n",
    "\n",
    "• Explore this phenomenon."
   ]
  },
  {
   "cell_type": "code",
   "execution_count": 137,
   "metadata": {
    "collapsed": false
   },
   "outputs": [
    {
     "data": {
      "text/html": [
       "<div>\n",
       "<table border=\"1\" class=\"dataframe\">\n",
       "  <thead>\n",
       "    <tr style=\"text-align: right;\">\n",
       "      <th></th>\n",
       "      <th>index</th>\n",
       "      <th>tripduration</th>\n",
       "      <th>starttime</th>\n",
       "      <th>stoptime</th>\n",
       "      <th>start station id</th>\n",
       "      <th>start station name</th>\n",
       "      <th>start station latitude</th>\n",
       "      <th>start station longitude</th>\n",
       "      <th>end station id</th>\n",
       "      <th>end station name</th>\n",
       "      <th>end station latitude</th>\n",
       "      <th>end station longitude</th>\n",
       "      <th>bikeid</th>\n",
       "      <th>usertype</th>\n",
       "      <th>birth year</th>\n",
       "      <th>gender</th>\n",
       "      <th>DATE_TIME</th>\n",
       "      <th>day_of_week</th>\n",
       "    </tr>\n",
       "  </thead>\n",
       "  <tbody>\n",
       "    <tr>\n",
       "      <th>0</th>\n",
       "      <td>0</td>\n",
       "      <td>1346</td>\n",
       "      <td>1/1/2015 0:01</td>\n",
       "      <td>1/1/2015 0:24</td>\n",
       "      <td>455</td>\n",
       "      <td>1 Ave &amp; E 44 St</td>\n",
       "      <td>40.750</td>\n",
       "      <td>-73.969</td>\n",
       "      <td>265</td>\n",
       "      <td>Stanton St &amp; Chrystie St</td>\n",
       "      <td>40.722</td>\n",
       "      <td>-73.991</td>\n",
       "      <td>18660</td>\n",
       "      <td>Subscriber</td>\n",
       "      <td>1960.0</td>\n",
       "      <td>2</td>\n",
       "      <td>2015-01-01 00:01:00</td>\n",
       "      <td>3</td>\n",
       "    </tr>\n",
       "    <tr>\n",
       "      <th>1</th>\n",
       "      <td>1</td>\n",
       "      <td>363</td>\n",
       "      <td>1/1/2015 0:02</td>\n",
       "      <td>1/1/2015 0:08</td>\n",
       "      <td>434</td>\n",
       "      <td>9 Ave &amp; W 18 St</td>\n",
       "      <td>40.743</td>\n",
       "      <td>-74.004</td>\n",
       "      <td>482</td>\n",
       "      <td>W 15 St &amp; 7 Ave</td>\n",
       "      <td>40.739</td>\n",
       "      <td>-73.999</td>\n",
       "      <td>16085</td>\n",
       "      <td>Subscriber</td>\n",
       "      <td>1963.0</td>\n",
       "      <td>1</td>\n",
       "      <td>2015-01-01 00:02:00</td>\n",
       "      <td>3</td>\n",
       "    </tr>\n",
       "    <tr>\n",
       "      <th>2</th>\n",
       "      <td>2</td>\n",
       "      <td>346</td>\n",
       "      <td>1/1/2015 0:04</td>\n",
       "      <td>1/1/2015 0:10</td>\n",
       "      <td>491</td>\n",
       "      <td>E 24 St &amp; Park Ave S</td>\n",
       "      <td>40.741</td>\n",
       "      <td>-73.986</td>\n",
       "      <td>505</td>\n",
       "      <td>6 Ave &amp; W 33 St</td>\n",
       "      <td>40.749</td>\n",
       "      <td>-73.988</td>\n",
       "      <td>20845</td>\n",
       "      <td>Subscriber</td>\n",
       "      <td>1974.0</td>\n",
       "      <td>1</td>\n",
       "      <td>2015-01-01 00:04:00</td>\n",
       "      <td>3</td>\n",
       "    </tr>\n",
       "    <tr>\n",
       "      <th>3</th>\n",
       "      <td>3</td>\n",
       "      <td>182</td>\n",
       "      <td>1/1/2015 0:04</td>\n",
       "      <td>1/1/2015 0:07</td>\n",
       "      <td>384</td>\n",
       "      <td>Fulton St &amp; Waverly Ave</td>\n",
       "      <td>40.683</td>\n",
       "      <td>-73.966</td>\n",
       "      <td>399</td>\n",
       "      <td>Lafayette Ave &amp; St James Pl</td>\n",
       "      <td>40.689</td>\n",
       "      <td>-73.965</td>\n",
       "      <td>19610</td>\n",
       "      <td>Subscriber</td>\n",
       "      <td>1969.0</td>\n",
       "      <td>1</td>\n",
       "      <td>2015-01-01 00:04:00</td>\n",
       "      <td>3</td>\n",
       "    </tr>\n",
       "    <tr>\n",
       "      <th>4</th>\n",
       "      <td>4</td>\n",
       "      <td>969</td>\n",
       "      <td>1/1/2015 0:05</td>\n",
       "      <td>1/1/2015 0:21</td>\n",
       "      <td>474</td>\n",
       "      <td>5 Ave &amp; E 29 St</td>\n",
       "      <td>40.745</td>\n",
       "      <td>-73.987</td>\n",
       "      <td>432</td>\n",
       "      <td>E 7 St &amp; Avenue A</td>\n",
       "      <td>40.726</td>\n",
       "      <td>-73.984</td>\n",
       "      <td>20197</td>\n",
       "      <td>Subscriber</td>\n",
       "      <td>1977.0</td>\n",
       "      <td>1</td>\n",
       "      <td>2015-01-01 00:05:00</td>\n",
       "      <td>3</td>\n",
       "    </tr>\n",
       "  </tbody>\n",
       "</table>\n",
       "</div>"
      ],
      "text/plain": [
       "   index  tripduration      starttime       stoptime  start station id  \\\n",
       "0      0          1346  1/1/2015 0:01  1/1/2015 0:24               455   \n",
       "1      1           363  1/1/2015 0:02  1/1/2015 0:08               434   \n",
       "2      2           346  1/1/2015 0:04  1/1/2015 0:10               491   \n",
       "3      3           182  1/1/2015 0:04  1/1/2015 0:07               384   \n",
       "4      4           969  1/1/2015 0:05  1/1/2015 0:21               474   \n",
       "\n",
       "        start station name  start station latitude  start station longitude  \\\n",
       "0          1 Ave & E 44 St                  40.750                  -73.969   \n",
       "1          9 Ave & W 18 St                  40.743                  -74.004   \n",
       "2     E 24 St & Park Ave S                  40.741                  -73.986   \n",
       "3  Fulton St & Waverly Ave                  40.683                  -73.966   \n",
       "4          5 Ave & E 29 St                  40.745                  -73.987   \n",
       "\n",
       "   end station id             end station name  end station latitude  \\\n",
       "0             265     Stanton St & Chrystie St                40.722   \n",
       "1             482              W 15 St & 7 Ave                40.739   \n",
       "2             505              6 Ave & W 33 St                40.749   \n",
       "3             399  Lafayette Ave & St James Pl                40.689   \n",
       "4             432            E 7 St & Avenue A                40.726   \n",
       "\n",
       "   end station longitude  bikeid    usertype  birth year  gender  \\\n",
       "0                -73.991   18660  Subscriber      1960.0       2   \n",
       "1                -73.999   16085  Subscriber      1963.0       1   \n",
       "2                -73.988   20845  Subscriber      1974.0       1   \n",
       "3                -73.965   19610  Subscriber      1969.0       1   \n",
       "4                -73.984   20197  Subscriber      1977.0       1   \n",
       "\n",
       "            DATE_TIME  day_of_week  \n",
       "0 2015-01-01 00:01:00            3  \n",
       "1 2015-01-01 00:02:00            3  \n",
       "2 2015-01-01 00:04:00            3  \n",
       "3 2015-01-01 00:04:00            3  \n",
       "4 2015-01-01 00:05:00            3  "
      ]
     },
     "execution_count": 137,
     "metadata": {},
     "output_type": "execute_result"
    }
   ],
   "source": [
    "CitiBike_df.head() #let's remember what we have to work with."
   ]
  },
  {
   "cell_type": "code",
   "execution_count": 134,
   "metadata": {
    "collapsed": false,
    "scrolled": true
   },
   "outputs": [
    {
     "data": {
      "text/plain": [
       "Index([u'index', u'tripduration', u'starttime', u'stoptime',\n",
       "       u'start station id', u'start station name', u'start station latitude',\n",
       "       u'start station longitude', u'end station id', u'end station name',\n",
       "       u'end station latitude', u'end station longitude', u'bikeid',\n",
       "       u'usertype', u'birth year', u'gender', u'DATE_TIME', u'day_of_week'],\n",
       "      dtype='object')"
      ]
     },
     "execution_count": 134,
     "metadata": {},
     "output_type": "execute_result"
    }
   ],
   "source": [
    "CitiBike_df.columns"
   ]
  },
  {
   "cell_type": "code",
   "execution_count": 168,
   "metadata": {
    "collapsed": false,
    "scrolled": true
   },
   "outputs": [
    {
     "data": {
      "text/html": [
       "<div>\n",
       "<table border=\"1\" class=\"dataframe\">\n",
       "  <thead>\n",
       "    <tr style=\"text-align: right;\">\n",
       "      <th></th>\n",
       "      <th>bikeid</th>\n",
       "      <th>DATE_TIME</th>\n",
       "      <th>start_station_id</th>\n",
       "      <th>start_station_name</th>\n",
       "      <th>end_station_id</th>\n",
       "      <th>end_station_name</th>\n",
       "    </tr>\n",
       "  </thead>\n",
       "  <tbody>\n",
       "    <tr>\n",
       "      <th>0</th>\n",
       "      <td>18660</td>\n",
       "      <td>2015-01-01 00:01:00</td>\n",
       "      <td>455</td>\n",
       "      <td>1 Ave &amp; E 44 St</td>\n",
       "      <td>265</td>\n",
       "      <td>Stanton St &amp; Chrystie St</td>\n",
       "    </tr>\n",
       "    <tr>\n",
       "      <th>1</th>\n",
       "      <td>16085</td>\n",
       "      <td>2015-01-01 00:02:00</td>\n",
       "      <td>434</td>\n",
       "      <td>9 Ave &amp; W 18 St</td>\n",
       "      <td>482</td>\n",
       "      <td>W 15 St &amp; 7 Ave</td>\n",
       "    </tr>\n",
       "    <tr>\n",
       "      <th>2</th>\n",
       "      <td>20845</td>\n",
       "      <td>2015-01-01 00:04:00</td>\n",
       "      <td>491</td>\n",
       "      <td>E 24 St &amp; Park Ave S</td>\n",
       "      <td>505</td>\n",
       "      <td>6 Ave &amp; W 33 St</td>\n",
       "    </tr>\n",
       "    <tr>\n",
       "      <th>3</th>\n",
       "      <td>19610</td>\n",
       "      <td>2015-01-01 00:04:00</td>\n",
       "      <td>384</td>\n",
       "      <td>Fulton St &amp; Waverly Ave</td>\n",
       "      <td>399</td>\n",
       "      <td>Lafayette Ave &amp; St James Pl</td>\n",
       "    </tr>\n",
       "    <tr>\n",
       "      <th>4</th>\n",
       "      <td>20197</td>\n",
       "      <td>2015-01-01 00:05:00</td>\n",
       "      <td>474</td>\n",
       "      <td>5 Ave &amp; E 29 St</td>\n",
       "      <td>432</td>\n",
       "      <td>E 7 St &amp; Avenue A</td>\n",
       "    </tr>\n",
       "  </tbody>\n",
       "</table>\n",
       "</div>"
      ],
      "text/plain": [
       "   bikeid           DATE_TIME  start_station_id       start_station_name  \\\n",
       "0   18660 2015-01-01 00:01:00               455          1 Ave & E 44 St   \n",
       "1   16085 2015-01-01 00:02:00               434          9 Ave & W 18 St   \n",
       "2   20845 2015-01-01 00:04:00               491     E 24 St & Park Ave S   \n",
       "3   19610 2015-01-01 00:04:00               384  Fulton St & Waverly Ave   \n",
       "4   20197 2015-01-01 00:05:00               474          5 Ave & E 29 St   \n",
       "\n",
       "   end_station_id             end_station_name  \n",
       "0             265     Stanton St & Chrystie St  \n",
       "1             482              W 15 St & 7 Ave  \n",
       "2             505              6 Ave & W 33 St  \n",
       "3             399  Lafayette Ave & St James Pl  \n",
       "4             432            E 7 St & Avenue A  "
      ]
     },
     "execution_count": 168,
     "metadata": {},
     "output_type": "execute_result"
    }
   ],
   "source": [
    "next_trip_df = CitiBike_df[['bikeid', 'DATE_TIME', 'start station id', 'start station name', 'end station id', 'end station name']]\n",
    "next_trip_df.columns = ['bikeid', 'DATE_TIME', 'start_station_id', 'start_station_name', 'end_station_id', 'end_station_name']\n",
    "next_trip_df.head() #we want bikeid, time, and start/end station information\n",
    "#you want to groupby bike ID, and sort by time creating a new column for NEXT TRIP using a shift by one technique,\n",
    "#we want to see that every END station ID is the same as next station ID (next station ID using start station ID column\n",
    "#and shifting it up by one)\n",
    "#create a mask for a column that says TRUE or FALSE if it matches"
   ]
  },
  {
   "cell_type": "code",
   "execution_count": 198,
   "metadata": {
    "collapsed": false,
    "scrolled": true
   },
   "outputs": [
    {
     "data": {
      "text/html": [
       "<div>\n",
       "<table border=\"1\" class=\"dataframe\">\n",
       "  <thead>\n",
       "    <tr style=\"text-align: right;\">\n",
       "      <th></th>\n",
       "      <th>level_0</th>\n",
       "      <th>level_1</th>\n",
       "      <th>bikeid</th>\n",
       "      <th>DATE_TIME</th>\n",
       "      <th>start_station_id</th>\n",
       "      <th>start_station_name</th>\n",
       "      <th>end_station_id</th>\n",
       "      <th>end_station_name</th>\n",
       "    </tr>\n",
       "  </thead>\n",
       "  <tbody>\n",
       "    <tr>\n",
       "      <th>0</th>\n",
       "      <td>0</td>\n",
       "      <td>9937967</td>\n",
       "      <td>19782</td>\n",
       "      <td>2015-12-31 21:20:00</td>\n",
       "      <td>3242</td>\n",
       "      <td>Schermerhorn St &amp; Court St</td>\n",
       "      <td>467</td>\n",
       "      <td>Dean St &amp; 4 Ave</td>\n",
       "    </tr>\n",
       "    <tr>\n",
       "      <th>1</th>\n",
       "      <td>1</td>\n",
       "      <td>9937966</td>\n",
       "      <td>20663</td>\n",
       "      <td>2015-12-31 17:56:00</td>\n",
       "      <td>3242</td>\n",
       "      <td>Schermerhorn St &amp; Court St</td>\n",
       "      <td>157</td>\n",
       "      <td>Henry St &amp; Atlantic Ave</td>\n",
       "    </tr>\n",
       "    <tr>\n",
       "      <th>2</th>\n",
       "      <td>2</td>\n",
       "      <td>9937964</td>\n",
       "      <td>22282</td>\n",
       "      <td>2015-12-31 16:50:00</td>\n",
       "      <td>3242</td>\n",
       "      <td>Schermerhorn St &amp; Court St</td>\n",
       "      <td>261</td>\n",
       "      <td>Johnson St &amp; Gold St</td>\n",
       "    </tr>\n",
       "    <tr>\n",
       "      <th>3</th>\n",
       "      <td>3</td>\n",
       "      <td>9937965</td>\n",
       "      <td>22366</td>\n",
       "      <td>2015-12-31 17:17:00</td>\n",
       "      <td>3242</td>\n",
       "      <td>Schermerhorn St &amp; Court St</td>\n",
       "      <td>258</td>\n",
       "      <td>DeKalb Ave &amp; Vanderbilt Ave</td>\n",
       "    </tr>\n",
       "    <tr>\n",
       "      <th>4</th>\n",
       "      <td>4</td>\n",
       "      <td>9937968</td>\n",
       "      <td>23411</td>\n",
       "      <td>2015-12-31 21:49:00</td>\n",
       "      <td>3242</td>\n",
       "      <td>Schermerhorn St &amp; Court St</td>\n",
       "      <td>418</td>\n",
       "      <td>Front St &amp; Gold St</td>\n",
       "    </tr>\n",
       "  </tbody>\n",
       "</table>\n",
       "</div>"
      ],
      "text/plain": [
       "   level_0  level_1  bikeid           DATE_TIME  start_station_id  \\\n",
       "0        0  9937967   19782 2015-12-31 21:20:00              3242   \n",
       "1        1  9937966   20663 2015-12-31 17:56:00              3242   \n",
       "2        2  9937964   22282 2015-12-31 16:50:00              3242   \n",
       "3        3  9937965   22366 2015-12-31 17:17:00              3242   \n",
       "4        4  9937968   23411 2015-12-31 21:49:00              3242   \n",
       "\n",
       "           start_station_name  end_station_id             end_station_name  \n",
       "0  Schermerhorn St & Court St             467              Dean St & 4 Ave  \n",
       "1  Schermerhorn St & Court St             157      Henry St & Atlantic Ave  \n",
       "2  Schermerhorn St & Court St             261         Johnson St & Gold St  \n",
       "3  Schermerhorn St & Court St             258  DeKalb Ave & Vanderbilt Ave  \n",
       "4  Schermerhorn St & Court St             418           Front St & Gold St  "
      ]
     },
     "execution_count": 198,
     "metadata": {},
     "output_type": "execute_result"
    }
   ],
   "source": [
    "next_trip_df.tail().groupby('bikeid', as_index=False).apply(lambda x: x.sort_values('DATE_TIME')).reset_index(drop=True)"
   ]
  },
  {
   "cell_type": "code",
   "execution_count": 201,
   "metadata": {
    "collapsed": false
   },
   "outputs": [
    {
     "data": {
      "text/html": [
       "<div>\n",
       "<table border=\"1\" class=\"dataframe\">\n",
       "  <thead>\n",
       "    <tr style=\"text-align: right;\">\n",
       "      <th></th>\n",
       "      <th>bikeid</th>\n",
       "      <th>start_station_id</th>\n",
       "    </tr>\n",
       "  </thead>\n",
       "  <tbody>\n",
       "    <tr>\n",
       "      <th>0</th>\n",
       "      <td>14529</td>\n",
       "      <td>563.306</td>\n",
       "    </tr>\n",
       "    <tr>\n",
       "      <th>1</th>\n",
       "      <td>14530</td>\n",
       "      <td>724.291</td>\n",
       "    </tr>\n",
       "    <tr>\n",
       "      <th>2</th>\n",
       "      <td>14531</td>\n",
       "      <td>558.432</td>\n",
       "    </tr>\n",
       "    <tr>\n",
       "      <th>3</th>\n",
       "      <td>14532</td>\n",
       "      <td>609.596</td>\n",
       "    </tr>\n",
       "    <tr>\n",
       "      <th>4</th>\n",
       "      <td>14533</td>\n",
       "      <td>611.873</td>\n",
       "    </tr>\n",
       "  </tbody>\n",
       "</table>\n",
       "</div>"
      ],
      "text/plain": [
       "   bikeid  start_station_id\n",
       "0   14529           563.306\n",
       "1   14530           724.291\n",
       "2   14531           558.432\n",
       "3   14532           609.596\n",
       "4   14533           611.873"
      ]
     },
     "execution_count": 201,
     "metadata": {},
     "output_type": "execute_result"
    }
   ],
   "source": [
    "next_trip_df.groupby('bikeid', as_index=False).start_station_id.mean().head()\n",
    "#this is saying, for every bike(id), aggregate the total number of times "
   ]
  },
  {
   "cell_type": "code",
   "execution_count": null,
   "metadata": {
    "collapsed": true
   },
   "outputs": [],
   "source": []
  },
  {
   "cell_type": "code",
   "execution_count": 149,
   "metadata": {
    "collapsed": false,
    "scrolled": true
   },
   "outputs": [
    {
     "data": {
      "text/plain": [
       "[Timestamp('2015-01-01 00:01:00'),\n",
       " Timestamp('2015-01-01 00:02:00'),\n",
       " Timestamp('2015-01-01 00:04:00'),\n",
       " Timestamp('2015-01-01 00:04:00'),\n",
       " Timestamp('2015-01-01 00:05:00')]"
      ]
     },
     "execution_count": 149,
     "metadata": {},
     "output_type": "execute_result"
    }
   ],
   "source": [
    "sorted(CitiBike_df['DATE_TIME'].head())"
   ]
  },
  {
   "cell_type": "code",
   "execution_count": 162,
   "metadata": {
    "collapsed": false
   },
   "outputs": [],
   "source": [
    "next_trip_df = CitiBike_df.tail().groupby('bikeid').DATE_TIME.head()"
   ]
  },
  {
   "cell_type": "code",
   "execution_count": 165,
   "metadata": {
    "collapsed": false
   },
   "outputs": [
    {
     "data": {
      "text/plain": [
       "<bound method Series.count of 9937964   2015-12-31 16:50:00\n",
       "9937965   2015-12-31 17:17:00\n",
       "9937966   2015-12-31 17:56:00\n",
       "9937967   2015-12-31 21:20:00\n",
       "9937968   2015-12-31 21:49:00\n",
       "Name: DATE_TIME, dtype: datetime64[ns]>"
      ]
     },
     "execution_count": 165,
     "metadata": {},
     "output_type": "execute_result"
    }
   ],
   "source": [
    "next_trip_df.count"
   ]
  },
  {
   "cell_type": "markdown",
   "metadata": {},
   "source": [
    "## Question 5\n",
    "• Build a predictive model(s) for the total number of daily CitiBike trips. This model should include at least some features from an external data source, i.e. that is not included in the CitiBike data.\n",
    "\n",
    "• Evaluate your model(s), discuss pros/cons, and alternative approaches."
   ]
  },
  {
   "cell_type": "code",
   "execution_count": null,
   "metadata": {
    "collapsed": true
   },
   "outputs": [],
   "source": [
    "#use the weather data to compare times"
   ]
  },
  {
   "cell_type": "code",
   "execution_count": null,
   "metadata": {
    "collapsed": true
   },
   "outputs": [],
   "source": []
  },
  {
   "cell_type": "code",
   "execution_count": null,
   "metadata": {
    "collapsed": true
   },
   "outputs": [],
   "source": []
  },
  {
   "cell_type": "markdown",
   "metadata": {},
   "source": [
    "## Question 6\n",
    "• Using the tool of your preference, develop a visualization that displays something interesting about the data. **Answer: Skipped**"
   ]
  },
  {
   "cell_type": "code",
   "execution_count": null,
   "metadata": {
    "collapsed": false,
    "scrolled": true
   },
   "outputs": [],
   "source": []
  }
 ],
 "metadata": {
  "anaconda-cloud": {},
  "kernelspec": {
   "display_name": "Python [conda root]",
   "language": "python",
   "name": "conda-root-py"
  },
  "language_info": {
   "codemirror_mode": {
    "name": "ipython",
    "version": 2
   },
   "file_extension": ".py",
   "mimetype": "text/x-python",
   "name": "python",
   "nbconvert_exporter": "python",
   "pygments_lexer": "ipython2",
   "version": "2.7.12"
  }
 },
 "nbformat": 4,
 "nbformat_minor": 1
}
