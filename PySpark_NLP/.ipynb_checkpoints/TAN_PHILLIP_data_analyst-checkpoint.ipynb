{
 "cells": [
  {
   "cell_type": "markdown",
   "metadata": {},
   "source": [
    "# Tubular Labs - Data Analyst"
   ]
  },
  {
   "cell_type": "markdown",
   "metadata": {},
   "source": [
    "### Import Dependencies"
   ]
  },
  {
   "cell_type": "code",
   "execution_count": 1,
   "metadata": {
    "collapsed": false
   },
   "outputs": [],
   "source": [
    "import pyspark\n",
    "spark = pyspark.sql.SparkSession.builder.getOrCreate()\n",
    "sc = spark.sparkContext\n",
    "%matplotlib inline"
   ]
  },
  {
   "cell_type": "code",
   "execution_count": 2,
   "metadata": {
    "collapsed": true
   },
   "outputs": [],
   "source": [
    "#to avoid NameError: name 'sqlContext' is not defined\n",
    "from pyspark.sql import SQLContext\n",
    "sqlContext = SQLContext(sc)"
   ]
  },
  {
   "cell_type": "markdown",
   "metadata": {},
   "source": [
    "## Question 2\n",
    "Load the two files into spark and join them by user_id"
   ]
  },
  {
   "cell_type": "code",
   "execution_count": 4,
   "metadata": {
    "collapsed": false,
    "scrolled": true
   },
   "outputs": [],
   "source": [
    "file1 = 'solutions_test_file1.csv'\n",
    "file2 = 'solutions_test_file2.csv'"
   ]
  },
  {
   "cell_type": "code",
   "execution_count": 5,
   "metadata": {
    "collapsed": false,
    "scrolled": true
   },
   "outputs": [],
   "source": [
    "df1 = sqlContext.read.format(\"csv\").option(\"header\", \"true\").load(file1)\n",
    "df2 = sqlContext.read.format(\"csv\").option(\"header\", \"true\").load(file2)"
   ]
  },
  {
   "cell_type": "code",
   "execution_count": 6,
   "metadata": {
    "collapsed": false
   },
   "outputs": [
    {
     "data": {
      "text/plain": [
       "[('user_id', 'string'),\n",
       " ('gender', 'string'),\n",
       " ('age_bin', 'string'),\n",
       " ('country', 'string')]"
      ]
     },
     "execution_count": 6,
     "metadata": {},
     "output_type": "execute_result"
    }
   ],
   "source": [
    "df1.dtypes"
   ]
  },
  {
   "cell_type": "code",
   "execution_count": 7,
   "metadata": {
    "collapsed": false
   },
   "outputs": [
    {
     "name": "stdout",
     "output_type": "stream",
     "text": [
      "+-------+--------------------+------+-------+-------+\n",
      "|summary|             user_id|gender|age_bin|country|\n",
      "+-------+--------------------+------+-------+-------+\n",
      "|  count|                1000|  1000|   1000|    998|\n",
      "|   mean|                null|  null|   null|   null|\n",
      "| stddev|                null|  null|   null|   null|\n",
      "|    min|008cb933c2aa86289...|     f|  18-24|     AE|\n",
      "|    max|ffda6ceb4eb81af81...|     m|  65-74|     ZA|\n",
      "+-------+--------------------+------+-------+-------+\n",
      "\n"
     ]
    }
   ],
   "source": [
    "df1.describe().show()\n",
    "#there are 2 missing values for country\n",
    "#values are strings, hence 'null' for mean/stddev\n",
    "#the min age_bin is ages 18-24 and max age_bin is 65-74\n",
    "#country names range from AE to ZA"
   ]
  },
  {
   "cell_type": "code",
   "execution_count": 8,
   "metadata": {
    "collapsed": false
   },
   "outputs": [
    {
     "data": {
      "text/html": [
       "<div>\n",
       "<table border=\"1\" class=\"dataframe\">\n",
       "  <thead>\n",
       "    <tr style=\"text-align: right;\">\n",
       "      <th></th>\n",
       "      <th>user_id</th>\n",
       "      <th>gender</th>\n",
       "      <th>age_bin</th>\n",
       "      <th>country</th>\n",
       "    </tr>\n",
       "  </thead>\n",
       "  <tbody>\n",
       "    <tr>\n",
       "      <th>count</th>\n",
       "      <td>1000</td>\n",
       "      <td>1000</td>\n",
       "      <td>1000</td>\n",
       "      <td>998</td>\n",
       "    </tr>\n",
       "    <tr>\n",
       "      <th>unique</th>\n",
       "      <td>1000</td>\n",
       "      <td>2</td>\n",
       "      <td>6</td>\n",
       "      <td>79</td>\n",
       "    </tr>\n",
       "    <tr>\n",
       "      <th>top</th>\n",
       "      <td>e019065843ce8ef0f62b76a139ff8e97</td>\n",
       "      <td>m</td>\n",
       "      <td>25-34</td>\n",
       "      <td>US</td>\n",
       "    </tr>\n",
       "    <tr>\n",
       "      <th>freq</th>\n",
       "      <td>1</td>\n",
       "      <td>826</td>\n",
       "      <td>492</td>\n",
       "      <td>542</td>\n",
       "    </tr>\n",
       "  </tbody>\n",
       "</table>\n",
       "</div>"
      ],
      "text/plain": [
       "                                 user_id gender age_bin country\n",
       "count                               1000   1000    1000     998\n",
       "unique                              1000      2       6      79\n",
       "top     e019065843ce8ef0f62b76a139ff8e97      m   25-34      US\n",
       "freq                                   1    826     492     542"
      ]
     },
     "execution_count": 8,
     "metadata": {},
     "output_type": "execute_result"
    }
   ],
   "source": [
    "#this allows me to get more statistics\n",
    "df1.toPandas().describe()\n",
    "#every user_id is unique, only m/f options, 6 different age categories, and 79 country options\n",
    "#826/1000 are males, 492/1000 times 25-34 age_group, and 542/998 countries are US"
   ]
  },
  {
   "cell_type": "code",
   "execution_count": 9,
   "metadata": {
    "collapsed": false
   },
   "outputs": [
    {
     "name": "stdout",
     "output_type": "stream",
     "text": [
      "+--------------------+------+-------+-------+\n",
      "|             user_id|gender|age_bin|country|\n",
      "+--------------------+------+-------+-------+\n",
      "|1445876f62cd03a0d...|     m|  35-44|     US|\n",
      "|eaadfa19afdb902d0...|     m|  25-34|     NO|\n",
      "|8681d7a8a7306c4cf...|     m|  25-34|     US|\n",
      "|a57ada75aa3915176...|     m|  18-24|     US|\n",
      "|c886447376b8c88c4...|     m|  25-34|     US|\n",
      "+--------------------+------+-------+-------+\n",
      "only showing top 5 rows\n",
      "\n"
     ]
    }
   ],
   "source": [
    "df1.show(5)"
   ]
  },
  {
   "cell_type": "code",
   "execution_count": 10,
   "metadata": {
    "collapsed": false,
    "scrolled": true
   },
   "outputs": [
    {
     "data": {
      "text/plain": [
       "[('user_id', 'string'),\n",
       " ('category', 'string'),\n",
       " ('language', 'string'),\n",
       " ('creator_country', 'string'),\n",
       " ('comment_text', 'string'),\n",
       " ('_c5', 'string'),\n",
       " ('_c6', 'string'),\n",
       " ('_c7', 'string'),\n",
       " ('_c8', 'string'),\n",
       " ('_c9', 'string'),\n",
       " ('_c10', 'string'),\n",
       " ('_c11', 'string')]"
      ]
     },
     "execution_count": 10,
     "metadata": {},
     "output_type": "execute_result"
    }
   ],
   "source": [
    "df2.dtypes\n",
    "#there seems to be columns from _c5 to _c11 that do not have a specific name"
   ]
  },
  {
   "cell_type": "code",
   "execution_count": 11,
   "metadata": {
    "collapsed": false
   },
   "outputs": [
    {
     "name": "stdout",
     "output_type": "stream",
     "text": [
      "+-------+--------------------+---------------+--------+---------------+--------------------+--------------+--------------------+--------------------+--------------------+--------------------+--------------------+--------------------+\n",
      "|summary|             user_id|       category|language|creator_country|        comment_text|           _c5|                 _c6|                 _c7|                 _c8|                 _c9|                _c10|                _c11|\n",
      "+-------+--------------------+---------------+--------+---------------+--------------------+--------------+--------------------+--------------------+--------------------+--------------------+--------------------+--------------------+\n",
      "|  count|                1710|           1160|    1029|           1000|                1004|            18|                   8|                   5|                   4|                   3|                   2|                   1|\n",
      "|   mean|                null|          757.0|    null|           null|                null|          null|                null|                null|                null|                null|                null|                null|\n",
      "| stddev|                null|            NaN|    null|           null|                null|          null|                null|                null|                null|                null|                null|                null|\n",
      "|    min|             -No ...|               |        |               | and a hint of na...|              |     and the road.\"\"| auch bei Fallout...| an Wertungen und...| but he likely kn...|\" because there I...| it's pretty damn...|\n",
      "|    max|   �����_�����_���_\"|Travel & Events|      un|             ZA|���㯣�ɯ����� �ɯ���...|\"\"\" but again\"|\" is it? It looks...|\" and most of all...| we found the clu...|    right or center.|\" if he learned p...| it's pretty damn...|\n",
      "+-------+--------------------+---------------+--------+---------------+--------------------+--------------+--------------------+--------------------+--------------------+--------------------+--------------------+--------------------+\n",
      "\n"
     ]
    }
   ],
   "source": [
    "df2.describe().show()\n",
    "#hard to read, Spark is not meant to be print"
   ]
  },
  {
   "cell_type": "code",
   "execution_count": 12,
   "metadata": {
    "collapsed": false
   },
   "outputs": [
    {
     "data": {
      "text/html": [
       "<div>\n",
       "<table border=\"1\" class=\"dataframe\">\n",
       "  <thead>\n",
       "    <tr style=\"text-align: right;\">\n",
       "      <th></th>\n",
       "      <th>user_id</th>\n",
       "      <th>category</th>\n",
       "      <th>language</th>\n",
       "      <th>creator_country</th>\n",
       "      <th>comment_text</th>\n",
       "      <th>_c5</th>\n",
       "      <th>_c6</th>\n",
       "      <th>_c7</th>\n",
       "      <th>_c8</th>\n",
       "      <th>_c9</th>\n",
       "      <th>_c10</th>\n",
       "      <th>_c11</th>\n",
       "    </tr>\n",
       "  </thead>\n",
       "  <tbody>\n",
       "    <tr>\n",
       "      <th>count</th>\n",
       "      <td>1710</td>\n",
       "      <td>1160</td>\n",
       "      <td>1029</td>\n",
       "      <td>1000</td>\n",
       "      <td>1004</td>\n",
       "      <td>18</td>\n",
       "      <td>8</td>\n",
       "      <td>5</td>\n",
       "      <td>4</td>\n",
       "      <td>3</td>\n",
       "      <td>2</td>\n",
       "      <td>1</td>\n",
       "    </tr>\n",
       "    <tr>\n",
       "      <th>unique</th>\n",
       "      <td>1706</td>\n",
       "      <td>176</td>\n",
       "      <td>52</td>\n",
       "      <td>40</td>\n",
       "      <td>1004</td>\n",
       "      <td>18</td>\n",
       "      <td>8</td>\n",
       "      <td>5</td>\n",
       "      <td>4</td>\n",
       "      <td>3</td>\n",
       "      <td>2</td>\n",
       "      <td>1</td>\n",
       "    </tr>\n",
       "    <tr>\n",
       "      <th>top</th>\n",
       "      <td>Baby all I</td>\n",
       "      <td>Entertainment</td>\n",
       "      <td>en</td>\n",
       "      <td>US</td>\n",
       "      <td>Dude you don't know how the iDubbbz channel wo...</td>\n",
       "      <td>\"\"\" but again\"</td>\n",
       "      <td>and the road.\"\"</td>\n",
       "      <td>\" and most of all simple\"\". \"</td>\n",
       "      <td>but he actually ended up better than I expect...</td>\n",
       "      <td>but the atmosphere and style of each game is ...</td>\n",
       "      <td>\" because there IS no \"\"true story\\\"\". And whi...</td>\n",
       "      <td>it's pretty damn genius.\"\"</td>\n",
       "    </tr>\n",
       "    <tr>\n",
       "      <th>freq</th>\n",
       "      <td>2</td>\n",
       "      <td>233</td>\n",
       "      <td>908</td>\n",
       "      <td>723</td>\n",
       "      <td>1</td>\n",
       "      <td>1</td>\n",
       "      <td>1</td>\n",
       "      <td>1</td>\n",
       "      <td>1</td>\n",
       "      <td>1</td>\n",
       "      <td>1</td>\n",
       "      <td>1</td>\n",
       "    </tr>\n",
       "  </tbody>\n",
       "</table>\n",
       "</div>"
      ],
      "text/plain": [
       "           user_id       category language creator_country  \\\n",
       "count         1710           1160     1029            1000   \n",
       "unique        1706            176       52              40   \n",
       "top     Baby all I  Entertainment       en              US   \n",
       "freq             2            233      908             723   \n",
       "\n",
       "                                             comment_text             _c5  \\\n",
       "count                                                1004              18   \n",
       "unique                                               1004              18   \n",
       "top     Dude you don't know how the iDubbbz channel wo...  \"\"\" but again\"   \n",
       "freq                                                    1               1   \n",
       "\n",
       "                     _c6                            _c7  \\\n",
       "count                  8                              5   \n",
       "unique                 8                              5   \n",
       "top      and the road.\"\"  \" and most of all simple\"\". \"   \n",
       "freq                   1                              1   \n",
       "\n",
       "                                                      _c8  \\\n",
       "count                                                   4   \n",
       "unique                                                  4   \n",
       "top      but he actually ended up better than I expect...   \n",
       "freq                                                    1   \n",
       "\n",
       "                                                      _c9  \\\n",
       "count                                                   3   \n",
       "unique                                                  3   \n",
       "top      but the atmosphere and style of each game is ...   \n",
       "freq                                                    1   \n",
       "\n",
       "                                                     _c10  \\\n",
       "count                                                   2   \n",
       "unique                                                  2   \n",
       "top     \" because there IS no \"\"true story\\\"\". And whi...   \n",
       "freq                                                    1   \n",
       "\n",
       "                               _c11  \n",
       "count                             1  \n",
       "unique                            1  \n",
       "top      it's pretty damn genius.\"\"  \n",
       "freq                              1  "
      ]
     },
     "execution_count": 12,
     "metadata": {},
     "output_type": "execute_result"
    }
   ],
   "source": [
    "#show table using pandas to allow for scrolling left to right due to many columns\n",
    "df2.toPandas().describe()\n",
    "#1706/1710 user_ids are unique and 4 are not (Baby all I oddly is a user_id that occurs twice)\n",
    "#only 176/1160 categories are unique, the rest are the same (Entertainment is the most common category with 223/1160)\n",
    "#only 52/1029 languages are unique with English being 908/1029\n",
    "#not all user_ids have comment_text (only 1004 of them do) and every comment_text is unique\n",
    "#_c5 to _c11 are very disproprotionately small in count, they might be continuation comments\n",
    "#every item in the \"_c#\" columns are unique, and seem to be text quotes"
   ]
  },
  {
   "cell_type": "code",
   "execution_count": 13,
   "metadata": {
    "collapsed": false
   },
   "outputs": [
    {
     "data": {
      "text/html": [
       "<div>\n",
       "<table border=\"1\" class=\"dataframe\">\n",
       "  <thead>\n",
       "    <tr style=\"text-align: right;\">\n",
       "      <th></th>\n",
       "      <th>user_id</th>\n",
       "      <th>category</th>\n",
       "      <th>language</th>\n",
       "      <th>creator_country</th>\n",
       "      <th>comment_text</th>\n",
       "      <th>_c5</th>\n",
       "      <th>_c6</th>\n",
       "      <th>_c7</th>\n",
       "      <th>_c8</th>\n",
       "      <th>_c9</th>\n",
       "      <th>_c10</th>\n",
       "      <th>_c11</th>\n",
       "    </tr>\n",
       "  </thead>\n",
       "  <tbody>\n",
       "    <tr>\n",
       "      <th>0</th>\n",
       "      <td>1445876f62cd03a0d324487913e5d640</td>\n",
       "      <td>Music</td>\n",
       "      <td>en</td>\n",
       "      <td>US</td>\n",
       "      <td>how you hug a puppy? how???!?!���</td>\n",
       "      <td>None</td>\n",
       "      <td>None</td>\n",
       "      <td>None</td>\n",
       "      <td>None</td>\n",
       "      <td>None</td>\n",
       "      <td>None</td>\n",
       "      <td>None</td>\n",
       "    </tr>\n",
       "    <tr>\n",
       "      <th>1</th>\n",
       "      <td>eaadfa19afdb902d0a5197b6316cc0d8</td>\n",
       "      <td>Entertainment</td>\n",
       "      <td>en</td>\n",
       "      <td>GB</td>\n",
       "      <td>First</td>\n",
       "      <td>None</td>\n",
       "      <td>None</td>\n",
       "      <td>None</td>\n",
       "      <td>None</td>\n",
       "      <td>None</td>\n",
       "      <td>None</td>\n",
       "      <td>None</td>\n",
       "    </tr>\n",
       "    <tr>\n",
       "      <th>2</th>\n",
       "      <td>8681d7a8a7306c4cfd2eef2642f0a89b</td>\n",
       "      <td>Entertainment</td>\n",
       "      <td>en</td>\n",
       "      <td>US</td>\n",
       "      <td>I bet its so hot right? Like 70 degrees or som...</td>\n",
       "      <td>None</td>\n",
       "      <td>None</td>\n",
       "      <td>None</td>\n",
       "      <td>None</td>\n",
       "      <td>None</td>\n",
       "      <td>None</td>\n",
       "      <td>None</td>\n",
       "    </tr>\n",
       "    <tr>\n",
       "      <th>3</th>\n",
       "      <td>a57ada75aa391517614027ba5a644560</td>\n",
       "      <td>Gaming</td>\n",
       "      <td>en</td>\n",
       "      <td>CA</td>\n",
       "      <td>Swindlewt is a pirate pokemon, Triburn is gonn...</td>\n",
       "      <td>None</td>\n",
       "      <td>None</td>\n",
       "      <td>None</td>\n",
       "      <td>None</td>\n",
       "      <td>None</td>\n",
       "      <td>None</td>\n",
       "      <td>None</td>\n",
       "    </tr>\n",
       "    <tr>\n",
       "      <th>4</th>\n",
       "      <td>officer with a tricorne hat. Calling it.���\"</td>\n",
       "      <td>None</td>\n",
       "      <td>None</td>\n",
       "      <td>None</td>\n",
       "      <td>None</td>\n",
       "      <td>None</td>\n",
       "      <td>None</td>\n",
       "      <td>None</td>\n",
       "      <td>None</td>\n",
       "      <td>None</td>\n",
       "      <td>None</td>\n",
       "      <td>None</td>\n",
       "    </tr>\n",
       "    <tr>\n",
       "      <th>5</th>\n",
       "      <td>c886447376b8c88c4710dff1161d17b4</td>\n",
       "      <td>News &amp; Politics</td>\n",
       "      <td>en</td>\n",
       "      <td>GB</td>\n",
       "      <td>2:48 I'm pretty sure that's Clinton Romesha, t...</td>\n",
       "      <td>None</td>\n",
       "      <td>None</td>\n",
       "      <td>None</td>\n",
       "      <td>None</td>\n",
       "      <td>None</td>\n",
       "      <td>None</td>\n",
       "      <td>None</td>\n",
       "    </tr>\n",
       "    <tr>\n",
       "      <th>6</th>\n",
       "      <td>1557dac21004c73bbc869e1db0d780ab</td>\n",
       "      <td>Entertainment</td>\n",
       "      <td>en</td>\n",
       "      <td>US</td>\n",
       "      <td>ALARIC PLS BABY NO CRY���</td>\n",
       "      <td>None</td>\n",
       "      <td>None</td>\n",
       "      <td>None</td>\n",
       "      <td>None</td>\n",
       "      <td>None</td>\n",
       "      <td>None</td>\n",
       "      <td>None</td>\n",
       "    </tr>\n",
       "    <tr>\n",
       "      <th>7</th>\n",
       "      <td>ba3c7dfe02bce58178a770f5922ea263</td>\n",
       "      <td>Entertainment</td>\n",
       "      <td>en</td>\n",
       "      <td>US</td>\n",
       "      <td>BEST</td>\n",
       "      <td>None</td>\n",
       "      <td>None</td>\n",
       "      <td>None</td>\n",
       "      <td>None</td>\n",
       "      <td>None</td>\n",
       "      <td>None</td>\n",
       "      <td>None</td>\n",
       "    </tr>\n",
       "    <tr>\n",
       "      <th>8</th>\n",
       "      <td>Superman</td>\n",
       "      <td>None</td>\n",
       "      <td>None</td>\n",
       "      <td>None</td>\n",
       "      <td>None</td>\n",
       "      <td>None</td>\n",
       "      <td>None</td>\n",
       "      <td>None</td>\n",
       "      <td>None</td>\n",
       "      <td>None</td>\n",
       "      <td>None</td>\n",
       "      <td>None</td>\n",
       "    </tr>\n",
       "    <tr>\n",
       "      <th>9</th>\n",
       "      <td>Captain America (Avengers 2 / Captain America 3)</td>\n",
       "      <td>None</td>\n",
       "      <td>None</td>\n",
       "      <td>None</td>\n",
       "      <td>None</td>\n",
       "      <td>None</td>\n",
       "      <td>None</td>\n",
       "      <td>None</td>\n",
       "      <td>None</td>\n",
       "      <td>None</td>\n",
       "      <td>None</td>\n",
       "      <td>None</td>\n",
       "    </tr>\n",
       "  </tbody>\n",
       "</table>\n",
       "</div>"
      ],
      "text/plain": [
       "                                            user_id         category language  \\\n",
       "0                  1445876f62cd03a0d324487913e5d640            Music       en   \n",
       "1                  eaadfa19afdb902d0a5197b6316cc0d8    Entertainment       en   \n",
       "2                  8681d7a8a7306c4cfd2eef2642f0a89b    Entertainment       en   \n",
       "3                  a57ada75aa391517614027ba5a644560           Gaming       en   \n",
       "4      officer with a tricorne hat. Calling it.���\"             None     None   \n",
       "5                  c886447376b8c88c4710dff1161d17b4  News & Politics       en   \n",
       "6                  1557dac21004c73bbc869e1db0d780ab    Entertainment       en   \n",
       "7                  ba3c7dfe02bce58178a770f5922ea263    Entertainment       en   \n",
       "8                                          Superman             None     None   \n",
       "9  Captain America (Avengers 2 / Captain America 3)             None     None   \n",
       "\n",
       "  creator_country                                       comment_text   _c5  \\\n",
       "0              US                  how you hug a puppy? how???!?!���  None   \n",
       "1              GB                                              First  None   \n",
       "2              US  I bet its so hot right? Like 70 degrees or som...  None   \n",
       "3              CA  Swindlewt is a pirate pokemon, Triburn is gonn...  None   \n",
       "4            None                                               None  None   \n",
       "5              GB  2:48 I'm pretty sure that's Clinton Romesha, t...  None   \n",
       "6              US                          ALARIC PLS BABY NO CRY���  None   \n",
       "7              US                                               BEST  None   \n",
       "8            None                                               None  None   \n",
       "9            None                                               None  None   \n",
       "\n",
       "    _c6   _c7   _c8   _c9  _c10  _c11  \n",
       "0  None  None  None  None  None  None  \n",
       "1  None  None  None  None  None  None  \n",
       "2  None  None  None  None  None  None  \n",
       "3  None  None  None  None  None  None  \n",
       "4  None  None  None  None  None  None  \n",
       "5  None  None  None  None  None  None  \n",
       "6  None  None  None  None  None  None  \n",
       "7  None  None  None  None  None  None  \n",
       "8  None  None  None  None  None  None  \n",
       "9  None  None  None  None  None  None  "
      ]
     },
     "execution_count": 13,
     "metadata": {},
     "output_type": "execute_result"
    }
   ],
   "source": [
    "df2.toPandas().head(10)\n",
    "#the user_ids with text probably account for the difference in counts between the two csv files\n",
    "#when joined, it will merge on the \"ID-like\" entries."
   ]
  },
  {
   "cell_type": "code",
   "execution_count": 14,
   "metadata": {
    "collapsed": true
   },
   "outputs": [],
   "source": [
    "df = df1.join(df2, on=\"user_id\")"
   ]
  },
  {
   "cell_type": "code",
   "execution_count": 102,
   "metadata": {
    "collapsed": false
   },
   "outputs": [
    {
     "name": "stdout",
     "output_type": "stream",
     "text": [
      "root\n",
      " |-- user_id: string (nullable = true)\n",
      " |-- gender: string (nullable = true)\n",
      " |-- age_bin: string (nullable = true)\n",
      " |-- country: string (nullable = true)\n",
      " |-- category: string (nullable = true)\n",
      " |-- language: string (nullable = true)\n",
      " |-- creator_country: string (nullable = true)\n",
      " |-- comment_text: string (nullable = true)\n",
      " |-- _c5: string (nullable = true)\n",
      " |-- _c6: string (nullable = true)\n",
      " |-- _c7: string (nullable = true)\n",
      " |-- _c8: string (nullable = true)\n",
      " |-- _c9: string (nullable = true)\n",
      " |-- _c10: string (nullable = true)\n",
      " |-- _c11: string (nullable = true)\n",
      "\n"
     ]
    }
   ],
   "source": [
    "df.printSchema()"
   ]
  },
  {
   "cell_type": "markdown",
   "metadata": {},
   "source": [
    "### Data exploration"
   ]
  },
  {
   "cell_type": "code",
   "execution_count": 30,
   "metadata": {
    "collapsed": true
   },
   "outputs": [],
   "source": [
    "df_pandas = df.toPandas()"
   ]
  },
  {
   "cell_type": "code",
   "execution_count": 31,
   "metadata": {
    "collapsed": false,
    "scrolled": true
   },
   "outputs": [
    {
     "data": {
      "text/html": [
       "<div>\n",
       "<table border=\"1\" class=\"dataframe\">\n",
       "  <thead>\n",
       "    <tr style=\"text-align: right;\">\n",
       "      <th></th>\n",
       "      <th>user_id</th>\n",
       "      <th>gender</th>\n",
       "      <th>age_bin</th>\n",
       "      <th>country</th>\n",
       "      <th>category</th>\n",
       "      <th>language</th>\n",
       "      <th>creator_country</th>\n",
       "      <th>comment_text</th>\n",
       "      <th>_c5</th>\n",
       "      <th>_c6</th>\n",
       "      <th>_c7</th>\n",
       "      <th>_c8</th>\n",
       "      <th>_c9</th>\n",
       "      <th>_c10</th>\n",
       "      <th>_c11</th>\n",
       "    </tr>\n",
       "  </thead>\n",
       "  <tbody>\n",
       "    <tr>\n",
       "      <th>0</th>\n",
       "      <td>1445876f62cd03a0d324487913e5d640</td>\n",
       "      <td>m</td>\n",
       "      <td>35-44</td>\n",
       "      <td>US</td>\n",
       "      <td>Music</td>\n",
       "      <td>en</td>\n",
       "      <td>US</td>\n",
       "      <td>how you hug a puppy? how???!?!���</td>\n",
       "      <td>None</td>\n",
       "      <td>None</td>\n",
       "      <td>None</td>\n",
       "      <td>None</td>\n",
       "      <td>None</td>\n",
       "      <td>None</td>\n",
       "      <td>None</td>\n",
       "    </tr>\n",
       "    <tr>\n",
       "      <th>1</th>\n",
       "      <td>eaadfa19afdb902d0a5197b6316cc0d8</td>\n",
       "      <td>m</td>\n",
       "      <td>25-34</td>\n",
       "      <td>NO</td>\n",
       "      <td>Entertainment</td>\n",
       "      <td>en</td>\n",
       "      <td>GB</td>\n",
       "      <td>First</td>\n",
       "      <td>None</td>\n",
       "      <td>None</td>\n",
       "      <td>None</td>\n",
       "      <td>None</td>\n",
       "      <td>None</td>\n",
       "      <td>None</td>\n",
       "      <td>None</td>\n",
       "    </tr>\n",
       "    <tr>\n",
       "      <th>2</th>\n",
       "      <td>8681d7a8a7306c4cfd2eef2642f0a89b</td>\n",
       "      <td>m</td>\n",
       "      <td>25-34</td>\n",
       "      <td>US</td>\n",
       "      <td>Entertainment</td>\n",
       "      <td>en</td>\n",
       "      <td>US</td>\n",
       "      <td>I bet its so hot right? Like 70 degrees or som...</td>\n",
       "      <td>None</td>\n",
       "      <td>None</td>\n",
       "      <td>None</td>\n",
       "      <td>None</td>\n",
       "      <td>None</td>\n",
       "      <td>None</td>\n",
       "      <td>None</td>\n",
       "    </tr>\n",
       "  </tbody>\n",
       "</table>\n",
       "</div>"
      ],
      "text/plain": [
       "                            user_id gender age_bin country       category  \\\n",
       "0  1445876f62cd03a0d324487913e5d640      m   35-44      US          Music   \n",
       "1  eaadfa19afdb902d0a5197b6316cc0d8      m   25-34      NO  Entertainment   \n",
       "2  8681d7a8a7306c4cfd2eef2642f0a89b      m   25-34      US  Entertainment   \n",
       "\n",
       "  language creator_country                                       comment_text  \\\n",
       "0       en              US                  how you hug a puppy? how???!?!���   \n",
       "1       en              GB                                              First   \n",
       "2       en              US  I bet its so hot right? Like 70 degrees or som...   \n",
       "\n",
       "    _c5   _c6   _c7   _c8   _c9  _c10  _c11  \n",
       "0  None  None  None  None  None  None  None  \n",
       "1  None  None  None  None  None  None  None  \n",
       "2  None  None  None  None  None  None  None  "
      ]
     },
     "execution_count": 31,
     "metadata": {},
     "output_type": "execute_result"
    }
   ],
   "source": [
    "df_pandas.head(3)"
   ]
  },
  {
   "cell_type": "code",
   "execution_count": 615,
   "metadata": {
    "collapsed": false,
    "scrolled": true
   },
   "outputs": [
    {
     "data": {
      "text/html": [
       "<div>\n",
       "<table border=\"1\" class=\"dataframe\">\n",
       "  <thead>\n",
       "    <tr style=\"text-align: right;\">\n",
       "      <th></th>\n",
       "      <th>user_id</th>\n",
       "      <th>gender</th>\n",
       "      <th>age_bin</th>\n",
       "      <th>country</th>\n",
       "      <th>category</th>\n",
       "      <th>language</th>\n",
       "      <th>creator_country</th>\n",
       "      <th>comment_text</th>\n",
       "      <th>_c5</th>\n",
       "      <th>_c6</th>\n",
       "      <th>_c7</th>\n",
       "      <th>_c8</th>\n",
       "      <th>_c9</th>\n",
       "      <th>_c10</th>\n",
       "      <th>_c11</th>\n",
       "    </tr>\n",
       "  </thead>\n",
       "  <tbody>\n",
       "    <tr>\n",
       "      <th>count</th>\n",
       "      <td>1000</td>\n",
       "      <td>1000</td>\n",
       "      <td>1000</td>\n",
       "      <td>998</td>\n",
       "      <td>995</td>\n",
       "      <td>988</td>\n",
       "      <td>989</td>\n",
       "      <td>1000</td>\n",
       "      <td>17</td>\n",
       "      <td>7</td>\n",
       "      <td>4</td>\n",
       "      <td>3</td>\n",
       "      <td>2</td>\n",
       "      <td>2</td>\n",
       "      <td>1</td>\n",
       "    </tr>\n",
       "    <tr>\n",
       "      <th>unique</th>\n",
       "      <td>1000</td>\n",
       "      <td>2</td>\n",
       "      <td>6</td>\n",
       "      <td>79</td>\n",
       "      <td>15</td>\n",
       "      <td>12</td>\n",
       "      <td>29</td>\n",
       "      <td>1000</td>\n",
       "      <td>17</td>\n",
       "      <td>7</td>\n",
       "      <td>4</td>\n",
       "      <td>3</td>\n",
       "      <td>2</td>\n",
       "      <td>2</td>\n",
       "      <td>1</td>\n",
       "    </tr>\n",
       "    <tr>\n",
       "      <th>top</th>\n",
       "      <td>e019065843ce8ef0f62b76a139ff8e97</td>\n",
       "      <td>m</td>\n",
       "      <td>25-34</td>\n",
       "      <td>US</td>\n",
       "      <td>Entertainment</td>\n",
       "      <td>en</td>\n",
       "      <td>US</td>\n",
       "      <td>Dude you don't know how the iDubbbz channel wo...</td>\n",
       "      <td>\"\"\" but again\"</td>\n",
       "      <td>at least he didn't to go from celebrity to pr...</td>\n",
       "      <td>\" and most of all simple\"\". \"</td>\n",
       "      <td>an Wertungen und Beliebtheit des Spieles hat ...</td>\n",
       "      <td>but the atmosphere and style of each game is ...</td>\n",
       "      <td>\" because there IS no \"\"true story\\\"\". And whi...</td>\n",
       "      <td>it's pretty damn genius.\"\"</td>\n",
       "    </tr>\n",
       "    <tr>\n",
       "      <th>freq</th>\n",
       "      <td>1</td>\n",
       "      <td>826</td>\n",
       "      <td>492</td>\n",
       "      <td>542</td>\n",
       "      <td>233</td>\n",
       "      <td>908</td>\n",
       "      <td>723</td>\n",
       "      <td>1</td>\n",
       "      <td>1</td>\n",
       "      <td>1</td>\n",
       "      <td>1</td>\n",
       "      <td>1</td>\n",
       "      <td>1</td>\n",
       "      <td>1</td>\n",
       "      <td>1</td>\n",
       "    </tr>\n",
       "  </tbody>\n",
       "</table>\n",
       "</div>"
      ],
      "text/plain": [
       "                                 user_id gender age_bin country  \\\n",
       "count                               1000   1000    1000     998   \n",
       "unique                              1000      2       6      79   \n",
       "top     e019065843ce8ef0f62b76a139ff8e97      m   25-34      US   \n",
       "freq                                   1    826     492     542   \n",
       "\n",
       "             category language creator_country  \\\n",
       "count             995      988             989   \n",
       "unique             15       12              29   \n",
       "top     Entertainment       en              US   \n",
       "freq              233      908             723   \n",
       "\n",
       "                                             comment_text             _c5  \\\n",
       "count                                                1000              17   \n",
       "unique                                               1000              17   \n",
       "top     Dude you don't know how the iDubbbz channel wo...  \"\"\" but again\"   \n",
       "freq                                                    1               1   \n",
       "\n",
       "                                                      _c6  \\\n",
       "count                                                   7   \n",
       "unique                                                  7   \n",
       "top      at least he didn't to go from celebrity to pr...   \n",
       "freq                                                    1   \n",
       "\n",
       "                                  _c7  \\\n",
       "count                               4   \n",
       "unique                              4   \n",
       "top     \" and most of all simple\"\". \"   \n",
       "freq                                1   \n",
       "\n",
       "                                                      _c8  \\\n",
       "count                                                   3   \n",
       "unique                                                  3   \n",
       "top      an Wertungen und Beliebtheit des Spieles hat ...   \n",
       "freq                                                    1   \n",
       "\n",
       "                                                      _c9  \\\n",
       "count                                                   2   \n",
       "unique                                                  2   \n",
       "top      but the atmosphere and style of each game is ...   \n",
       "freq                                                    1   \n",
       "\n",
       "                                                     _c10  \\\n",
       "count                                                   2   \n",
       "unique                                                  2   \n",
       "top     \" because there IS no \"\"true story\\\"\". And whi...   \n",
       "freq                                                    1   \n",
       "\n",
       "                               _c11  \n",
       "count                             1  \n",
       "unique                            1  \n",
       "top      it's pretty damn genius.\"\"  \n",
       "freq                              1  "
      ]
     },
     "execution_count": 615,
     "metadata": {},
     "output_type": "execute_result"
    }
   ],
   "source": [
    "df_pandas.describe()\n",
    "#sanity check, all the frequencies match from the previous tables: merge worked!"
   ]
  },
  {
   "cell_type": "code",
   "execution_count": 101,
   "metadata": {
    "collapsed": false
   },
   "outputs": [
    {
     "name": "stdout",
     "output_type": "stream",
     "text": [
      "+--------------------+------+-------+-------+--------+--------+---------------+--------------------+--------------------+--------------------+--------------------+--------------------+--------------------+--------------------+--------------------+\n",
      "|             user_id|gender|age_bin|country|category|language|creator_country|        comment_text|                 _c5|                 _c6|                 _c7|                 _c8|                 _c9|                _c10|                _c11|\n",
      "+--------------------+------+-------+-------+--------+--------+---------------+--------------------+--------------------+--------------------+--------------------+--------------------+--------------------+--------------------+--------------------+\n",
      "|dc006b6176f78c202...|     f|  25-34|     US|  Gaming|      en|             US|\"I always really ...| reminds me of ho...| there might not ...| it could have ju...| we found the clu...| but the atmosphe...|\" because there I...| it's pretty damn...|\n",
      "+--------------------+------+-------+-------+--------+--------+---------------+--------------------+--------------------+--------------------+--------------------+--------------------+--------------------+--------------------+--------------------+\n",
      "\n"
     ]
    }
   ],
   "source": [
    "#what's going on with the _c# columns??\n",
    "df.where(df[\"_c11\"].isNotNull()).show()"
   ]
  },
  {
   "cell_type": "code",
   "execution_count": 55,
   "metadata": {
    "collapsed": false
   },
   "outputs": [
    {
     "data": {
      "text/plain": [
       "NoneType"
      ]
     },
     "execution_count": 55,
     "metadata": {},
     "output_type": "execute_result"
    }
   ],
   "source": [
    "#sanity check of random cell\n",
    "type(df_pandas._c5[91])"
   ]
  },
  {
   "cell_type": "code",
   "execution_count": 91,
   "metadata": {
    "collapsed": false
   },
   "outputs": [
    {
     "name": "stdout",
     "output_type": "stream",
     "text": [
      "17\n"
     ]
    },
    {
     "data": {
      "text/html": [
       "<div>\n",
       "<table border=\"1\" class=\"dataframe\">\n",
       "  <thead>\n",
       "    <tr style=\"text-align: right;\">\n",
       "      <th></th>\n",
       "      <th>user_id</th>\n",
       "      <th>gender</th>\n",
       "      <th>age_bin</th>\n",
       "      <th>country</th>\n",
       "      <th>category</th>\n",
       "      <th>language</th>\n",
       "      <th>creator_country</th>\n",
       "      <th>comment_text</th>\n",
       "      <th>_c5</th>\n",
       "      <th>_c6</th>\n",
       "      <th>_c7</th>\n",
       "      <th>_c8</th>\n",
       "      <th>_c9</th>\n",
       "      <th>_c10</th>\n",
       "      <th>_c11</th>\n",
       "    </tr>\n",
       "  </thead>\n",
       "  <tbody>\n",
       "    <tr>\n",
       "      <th>149</th>\n",
       "      <td>d644654f502cf80c2d6fc07f76676487</td>\n",
       "      <td>m</td>\n",
       "      <td>35-44</td>\n",
       "      <td>US</td>\n",
       "      <td>Music</td>\n",
       "      <td>en</td>\n",
       "      <td>AU</td>\n",
       "      <td>1:08 - \\Bilbo</td>\n",
       "      <td>\" what about video?\"\"���\"\"\"</td>\n",
       "      <td>None</td>\n",
       "      <td>None</td>\n",
       "      <td>None</td>\n",
       "      <td>None</td>\n",
       "      <td>None</td>\n",
       "      <td>None</td>\n",
       "    </tr>\n",
       "    <tr>\n",
       "      <th>202</th>\n",
       "      <td>346bccf006da0abe825509a6f4d0e344</td>\n",
       "      <td>m</td>\n",
       "      <td>55-64</td>\n",
       "      <td>US</td>\n",
       "      <td>Gaming</td>\n",
       "      <td>en</td>\n",
       "      <td>US</td>\n",
       "      <td>\\Do what thou wilt shall be the whole of the L...</td>\n",
       "      <td>\" love under will.\"\". .�� AKA: Fuck them fucki...</td>\n",
       "      <td>None</td>\n",
       "      <td>None</td>\n",
       "      <td>None</td>\n",
       "      <td>None</td>\n",
       "      <td>None</td>\n",
       "      <td>None</td>\n",
       "    </tr>\n",
       "    <tr>\n",
       "      <th>267</th>\n",
       "      <td>190cdbd54cc808e7054eaf63c220d182</td>\n",
       "      <td>m</td>\n",
       "      <td>25-34</td>\n",
       "      <td>US</td>\n",
       "      <td>Gaming</td>\n",
       "      <td>un</td>\n",
       "      <td>US</td>\n",
       "      <td>Now, I've never played DS, but that dagger, ma...</td>\n",
       "      <td>makes me think of the sort a duelist uses wit...</td>\n",
       "      <td>\" is it? It looks like it would be useful in t...</td>\n",
       "      <td>None</td>\n",
       "      <td>None</td>\n",
       "      <td>None</td>\n",
       "      <td>None</td>\n",
       "      <td>None</td>\n",
       "    </tr>\n",
       "    <tr>\n",
       "      <th>359</th>\n",
       "      <td>b8235b57617ec03723b3f1b30732fbb9</td>\n",
       "      <td>m</td>\n",
       "      <td>25-34</td>\n",
       "      <td>GB</td>\n",
       "      <td>People &amp; Blogs</td>\n",
       "      <td>en</td>\n",
       "      <td>IE</td>\n",
       "      <td>The Koolaid guy XD \\oh no</td>\n",
       "      <td>oh no</td>\n",
       "      <td>oh no...OH YEAH!\"\"\"\"</td>\n",
       "      <td>None</td>\n",
       "      <td>None</td>\n",
       "      <td>None</td>\n",
       "      <td>None</td>\n",
       "      <td>None</td>\n",
       "    </tr>\n",
       "    <tr>\n",
       "      <th>552</th>\n",
       "      <td>331a0f466c49a6b1478fb10220eb81a3</td>\n",
       "      <td>m</td>\n",
       "      <td>35-44</td>\n",
       "      <td>US</td>\n",
       "      <td>People &amp; Blogs</td>\n",
       "      <td>en</td>\n",
       "      <td>US</td>\n",
       "      <td>\"If the guy with the question is reading the c...</td>\n",
       "      <td>but really used for various types of politica...</td>\n",
       "      <td>None</td>\n",
       "      <td>None</td>\n",
       "      <td>None</td>\n",
       "      <td>None</td>\n",
       "      <td>None</td>\n",
       "      <td>None</td>\n",
       "    </tr>\n",
       "    <tr>\n",
       "      <th>555</th>\n",
       "      <td>3a78e97f1119ec4de3121b20a5906006</td>\n",
       "      <td>m</td>\n",
       "      <td>25-34</td>\n",
       "      <td>US</td>\n",
       "      <td>Gaming</td>\n",
       "      <td>de</td>\n",
       "      <td>DE</td>\n",
       "      <td>\"...wenn man erst einen nicht unerheblichen Gr...</td>\n",
       "      <td>sondern einfach mit T�_uschung der Spieler</td>\n",
       "      <td>au��erdem kann man 3 Jahre nach dem Vorg�_nge...</td>\n",
       "      <td>auch bei Fallout war das ein kleiner Stich</td>\n",
       "      <td>an Wertungen und Beliebtheit des Spieles hat ...</td>\n",
       "      <td>None</td>\n",
       "      <td>None</td>\n",
       "      <td>None</td>\n",
       "    </tr>\n",
       "    <tr>\n",
       "      <th>622</th>\n",
       "      <td>51f5cb8a5d6f4611ecddf348d636233c</td>\n",
       "      <td>m</td>\n",
       "      <td>35-44</td>\n",
       "      <td>US</td>\n",
       "      <td>Film &amp; Animation</td>\n",
       "      <td>en</td>\n",
       "      <td>US</td>\n",
       "      <td>Please say, Sometimes all I want to do is head...</td>\n",
       "      <td>my music</td>\n",
       "      <td>and the road.\"\"</td>\n",
       "      <td>None</td>\n",
       "      <td>None</td>\n",
       "      <td>None</td>\n",
       "      <td>None</td>\n",
       "      <td>None</td>\n",
       "    </tr>\n",
       "    <tr>\n",
       "      <th>680</th>\n",
       "      <td>240e14be306b5f7f75e31cb56eaaf7ec</td>\n",
       "      <td>m</td>\n",
       "      <td>25-34</td>\n",
       "      <td>US</td>\n",
       "      <td>Comedy</td>\n",
       "      <td>en</td>\n",
       "      <td>US</td>\n",
       "      <td>\\Jimmy's hosting is straight up</td>\n",
       "      <td>sarcastic</td>\n",
       "      <td>funny</td>\n",
       "      <td>\" and most of all simple\"\". \"</td>\n",
       "      <td>None</td>\n",
       "      <td>None</td>\n",
       "      <td>None</td>\n",
       "      <td>None</td>\n",
       "    </tr>\n",
       "    <tr>\n",
       "      <th>713</th>\n",
       "      <td>2a387ca25913cc166c5d013476ec7306</td>\n",
       "      <td>m</td>\n",
       "      <td>25-34</td>\n",
       "      <td>GB</td>\n",
       "      <td>People &amp; Blogs</td>\n",
       "      <td>en</td>\n",
       "      <td>US</td>\n",
       "      <td>Grace's version of negging \\you suck a dick......</td>\n",
       "      <td>\" I enjoy you\"\"���\"\"\"</td>\n",
       "      <td>None</td>\n",
       "      <td>None</td>\n",
       "      <td>None</td>\n",
       "      <td>None</td>\n",
       "      <td>None</td>\n",
       "      <td>None</td>\n",
       "    </tr>\n",
       "    <tr>\n",
       "      <th>751</th>\n",
       "      <td>dc006b6176f78c2026df373e61da9edd</td>\n",
       "      <td>f</td>\n",
       "      <td>25-34</td>\n",
       "      <td>US</td>\n",
       "      <td>Gaming</td>\n",
       "      <td>en</td>\n",
       "      <td>US</td>\n",
       "      <td>\"I always really liked this quality about the ...</td>\n",
       "      <td>reminds me of how urban legends are establish...</td>\n",
       "      <td>there might not have even BEEN a serial murde...</td>\n",
       "      <td>it could have just been an old and stinky Chu...</td>\n",
       "      <td>we found the clues in the first place-- in th...</td>\n",
       "      <td>but the atmosphere and style of each game is ...</td>\n",
       "      <td>\" because there IS no \"\"true story\\\"\". And whi...</td>\n",
       "      <td>it's pretty damn genius.\"\"</td>\n",
       "    </tr>\n",
       "    <tr>\n",
       "      <th>848</th>\n",
       "      <td>7c9862268cb445190dcc36ff74ee3942</td>\n",
       "      <td>f</td>\n",
       "      <td>25-34</td>\n",
       "      <td>ES</td>\n",
       "      <td>Entertainment</td>\n",
       "      <td>es</td>\n",
       "      <td>ES</td>\n",
       "      <td>\\Y si tenemos una pistola</td>\n",
       "      <td>vamos a tirar tambi̩n las balas. No vaya a ser</td>\n",
       "      <td>None</td>\n",
       "      <td>None</td>\n",
       "      <td>None</td>\n",
       "      <td>None</td>\n",
       "      <td>None</td>\n",
       "      <td>None</td>\n",
       "    </tr>\n",
       "    <tr>\n",
       "      <th>851</th>\n",
       "      <td>9b58b06778923dee9b70e0a6a60a28d8</td>\n",
       "      <td>f</td>\n",
       "      <td>65-74</td>\n",
       "      <td>US</td>\n",
       "      <td>Entertainment</td>\n",
       "      <td>en</td>\n",
       "      <td>US</td>\n",
       "      <td>Nobody has to take sides\"\"</td>\n",
       "      <td>that ridiculous.\"\"</td>\n",
       "      <td>None</td>\n",
       "      <td>None</td>\n",
       "      <td>None</td>\n",
       "      <td>None</td>\n",
       "      <td>None</td>\n",
       "      <td>None</td>\n",
       "    </tr>\n",
       "    <tr>\n",
       "      <th>857</th>\n",
       "      <td>dab52ff7283f1c5582ea825c0f4a367b</td>\n",
       "      <td>m</td>\n",
       "      <td>25-34</td>\n",
       "      <td>GB</td>\n",
       "      <td>Gaming</td>\n",
       "      <td>en</td>\n",
       "      <td>IE</td>\n",
       "      <td>\\Those old song</td>\n",
       "      <td>\"\"</td>\n",
       "      <td>None</td>\n",
       "      <td>None</td>\n",
       "      <td>None</td>\n",
       "      <td>None</td>\n",
       "      <td>None</td>\n",
       "      <td>None</td>\n",
       "    </tr>\n",
       "    <tr>\n",
       "      <th>870</th>\n",
       "      <td>cce68f24ea4a35f7524cd43f72895710</td>\n",
       "      <td>f</td>\n",
       "      <td>35-44</td>\n",
       "      <td>US</td>\n",
       "      <td>News &amp; Politics</td>\n",
       "      <td>en</td>\n",
       "      <td>US</td>\n",
       "      <td>Reagan was an actor. Not that Trump and Kid Ro...</td>\n",
       "      <td>\"\"\" but again\"</td>\n",
       "      <td>at least he didn't to go from celebrity to pr...</td>\n",
       "      <td>\" I had a good laugh at the idea of \"\"The Rock...</td>\n",
       "      <td>but he actually ended up better than I expect...</td>\n",
       "      <td>but he likely knows more already than both Tr...</td>\n",
       "      <td>\" if he learned policies and went independent ...</td>\n",
       "      <td>None</td>\n",
       "    </tr>\n",
       "    <tr>\n",
       "      <th>896</th>\n",
       "      <td>b2642a59d52b8dffc61e503fc5b18e5b</td>\n",
       "      <td>m</td>\n",
       "      <td>25-34</td>\n",
       "      <td>US</td>\n",
       "      <td>Gaming</td>\n",
       "      <td>en</td>\n",
       "      <td>US</td>\n",
       "      <td>\"If nirvana made a third or fourth album\"\" the...</td>\n",
       "      <td></td>\n",
       "      <td>None</td>\n",
       "      <td>None</td>\n",
       "      <td>None</td>\n",
       "      <td>None</td>\n",
       "      <td>None</td>\n",
       "      <td>None</td>\n",
       "    </tr>\n",
       "    <tr>\n",
       "      <th>920</th>\n",
       "      <td>569412a25aaa112a26d1d8f0032652f6</td>\n",
       "      <td>f</td>\n",
       "      <td>25-34</td>\n",
       "      <td>CH</td>\n",
       "      <td>Howto &amp; Style</td>\n",
       "      <td>fr</td>\n",
       "      <td>FR</td>\n",
       "      <td>\"Le coup de l'anti-cernes: merci !!!! Je faisa...</td>\n",
       "      <td>je pensais que ̤a g̢chait plus le produit qu'...</td>\n",
       "      <td>None</td>\n",
       "      <td>None</td>\n",
       "      <td>None</td>\n",
       "      <td>None</td>\n",
       "      <td>None</td>\n",
       "      <td>None</td>\n",
       "    </tr>\n",
       "    <tr>\n",
       "      <th>991</th>\n",
       "      <td>9e8bf6d64f9a889bf192677d5078fe74</td>\n",
       "      <td>f</td>\n",
       "      <td>18-24</td>\n",
       "      <td>US</td>\n",
       "      <td>Entertainment</td>\n",
       "      <td>en</td>\n",
       "      <td>US</td>\n",
       "      <td>\\Man...If I never murdered that one guy</td>\n",
       "      <td>I would've never became an actor.</td>\n",
       "      <td>None</td>\n",
       "      <td>None</td>\n",
       "      <td>None</td>\n",
       "      <td>None</td>\n",
       "      <td>None</td>\n",
       "      <td>None</td>\n",
       "    </tr>\n",
       "  </tbody>\n",
       "</table>\n",
       "</div>"
      ],
      "text/plain": [
       "                              user_id gender age_bin country  \\\n",
       "149  d644654f502cf80c2d6fc07f76676487      m   35-44      US   \n",
       "202  346bccf006da0abe825509a6f4d0e344      m   55-64      US   \n",
       "267  190cdbd54cc808e7054eaf63c220d182      m   25-34      US   \n",
       "359  b8235b57617ec03723b3f1b30732fbb9      m   25-34      GB   \n",
       "552  331a0f466c49a6b1478fb10220eb81a3      m   35-44      US   \n",
       "555  3a78e97f1119ec4de3121b20a5906006      m   25-34      US   \n",
       "622  51f5cb8a5d6f4611ecddf348d636233c      m   35-44      US   \n",
       "680  240e14be306b5f7f75e31cb56eaaf7ec      m   25-34      US   \n",
       "713  2a387ca25913cc166c5d013476ec7306      m   25-34      GB   \n",
       "751  dc006b6176f78c2026df373e61da9edd      f   25-34      US   \n",
       "848  7c9862268cb445190dcc36ff74ee3942      f   25-34      ES   \n",
       "851  9b58b06778923dee9b70e0a6a60a28d8      f   65-74      US   \n",
       "857  dab52ff7283f1c5582ea825c0f4a367b      m   25-34      GB   \n",
       "870  cce68f24ea4a35f7524cd43f72895710      f   35-44      US   \n",
       "896  b2642a59d52b8dffc61e503fc5b18e5b      m   25-34      US   \n",
       "920  569412a25aaa112a26d1d8f0032652f6      f   25-34      CH   \n",
       "991  9e8bf6d64f9a889bf192677d5078fe74      f   18-24      US   \n",
       "\n",
       "             category language creator_country  \\\n",
       "149             Music       en              AU   \n",
       "202            Gaming       en              US   \n",
       "267            Gaming       un              US   \n",
       "359    People & Blogs       en              IE   \n",
       "552    People & Blogs       en              US   \n",
       "555            Gaming       de              DE   \n",
       "622  Film & Animation       en              US   \n",
       "680            Comedy       en              US   \n",
       "713    People & Blogs       en              US   \n",
       "751            Gaming       en              US   \n",
       "848     Entertainment       es              ES   \n",
       "851     Entertainment       en              US   \n",
       "857            Gaming       en              IE   \n",
       "870   News & Politics       en              US   \n",
       "896            Gaming       en              US   \n",
       "920     Howto & Style       fr              FR   \n",
       "991     Entertainment       en              US   \n",
       "\n",
       "                                          comment_text  \\\n",
       "149                                      1:08 - \\Bilbo   \n",
       "202  \\Do what thou wilt shall be the whole of the L...   \n",
       "267  Now, I've never played DS, but that dagger, ma...   \n",
       "359                          The Koolaid guy XD \\oh no   \n",
       "552  \"If the guy with the question is reading the c...   \n",
       "555  \"...wenn man erst einen nicht unerheblichen Gr...   \n",
       "622  Please say, Sometimes all I want to do is head...   \n",
       "680                    \\Jimmy's hosting is straight up   \n",
       "713  Grace's version of negging \\you suck a dick......   \n",
       "751  \"I always really liked this quality about the ...   \n",
       "848                          \\Y si tenemos una pistola   \n",
       "851                         Nobody has to take sides\"\"   \n",
       "857                                    \\Those old song   \n",
       "870  Reagan was an actor. Not that Trump and Kid Ro...   \n",
       "896  \"If nirvana made a third or fourth album\"\" the...   \n",
       "920  \"Le coup de l'anti-cernes: merci !!!! Je faisa...   \n",
       "991            \\Man...If I never murdered that one guy   \n",
       "\n",
       "                                                   _c5  \\\n",
       "149                        \" what about video?\"\"���\"\"\"   \n",
       "202  \" love under will.\"\". .�� AKA: Fuck them fucki...   \n",
       "267   makes me think of the sort a duelist uses wit...   \n",
       "359                                              oh no   \n",
       "552   but really used for various types of politica...   \n",
       "555         sondern einfach mit T�_uschung der Spieler   \n",
       "622                                           my music   \n",
       "680                                          sarcastic   \n",
       "713                              \" I enjoy you\"\"���\"\"\"   \n",
       "751   reminds me of how urban legends are establish...   \n",
       "848    vamos a tirar tambi̩n las balas. No vaya a ser    \n",
       "851                                 that ridiculous.\"\"   \n",
       "857                                                 \"\"   \n",
       "870                                     \"\"\" but again\"   \n",
       "896                                                      \n",
       "920   je pensais que ̤a g̢chait plus le produit qu'...   \n",
       "991                 I would've never became an actor.    \n",
       "\n",
       "                                                   _c6  \\\n",
       "149                                               None   \n",
       "202                                               None   \n",
       "267  \" is it? It looks like it would be useful in t...   \n",
       "359                               oh no...OH YEAH!\"\"\"\"   \n",
       "552                                               None   \n",
       "555   au��erdem kann man 3 Jahre nach dem Vorg�_nge...   \n",
       "622                                    and the road.\"\"   \n",
       "680                                              funny   \n",
       "713                                               None   \n",
       "751   there might not have even BEEN a serial murde...   \n",
       "848                                               None   \n",
       "851                                               None   \n",
       "857                                               None   \n",
       "870   at least he didn't to go from celebrity to pr...   \n",
       "896                                               None   \n",
       "920                                               None   \n",
       "991                                               None   \n",
       "\n",
       "                                                   _c7  \\\n",
       "149                                               None   \n",
       "202                                               None   \n",
       "267                                               None   \n",
       "359                                               None   \n",
       "552                                               None   \n",
       "555         auch bei Fallout war das ein kleiner Stich   \n",
       "622                                               None   \n",
       "680                      \" and most of all simple\"\". \"   \n",
       "713                                               None   \n",
       "751   it could have just been an old and stinky Chu...   \n",
       "848                                               None   \n",
       "851                                               None   \n",
       "857                                               None   \n",
       "870  \" I had a good laugh at the idea of \"\"The Rock...   \n",
       "896                                               None   \n",
       "920                                               None   \n",
       "991                                               None   \n",
       "\n",
       "                                                   _c8  \\\n",
       "149                                               None   \n",
       "202                                               None   \n",
       "267                                               None   \n",
       "359                                               None   \n",
       "552                                               None   \n",
       "555   an Wertungen und Beliebtheit des Spieles hat ...   \n",
       "622                                               None   \n",
       "680                                               None   \n",
       "713                                               None   \n",
       "751   we found the clues in the first place-- in th...   \n",
       "848                                               None   \n",
       "851                                               None   \n",
       "857                                               None   \n",
       "870   but he actually ended up better than I expect...   \n",
       "896                                               None   \n",
       "920                                               None   \n",
       "991                                               None   \n",
       "\n",
       "                                                   _c9  \\\n",
       "149                                               None   \n",
       "202                                               None   \n",
       "267                                               None   \n",
       "359                                               None   \n",
       "552                                               None   \n",
       "555                                               None   \n",
       "622                                               None   \n",
       "680                                               None   \n",
       "713                                               None   \n",
       "751   but the atmosphere and style of each game is ...   \n",
       "848                                               None   \n",
       "851                                               None   \n",
       "857                                               None   \n",
       "870   but he likely knows more already than both Tr...   \n",
       "896                                               None   \n",
       "920                                               None   \n",
       "991                                               None   \n",
       "\n",
       "                                                  _c10  \\\n",
       "149                                               None   \n",
       "202                                               None   \n",
       "267                                               None   \n",
       "359                                               None   \n",
       "552                                               None   \n",
       "555                                               None   \n",
       "622                                               None   \n",
       "680                                               None   \n",
       "713                                               None   \n",
       "751  \" because there IS no \"\"true story\\\"\". And whi...   \n",
       "848                                               None   \n",
       "851                                               None   \n",
       "857                                               None   \n",
       "870  \" if he learned policies and went independent ...   \n",
       "896                                               None   \n",
       "920                                               None   \n",
       "991                                               None   \n",
       "\n",
       "                            _c11  \n",
       "149                         None  \n",
       "202                         None  \n",
       "267                         None  \n",
       "359                         None  \n",
       "552                         None  \n",
       "555                         None  \n",
       "622                         None  \n",
       "680                         None  \n",
       "713                         None  \n",
       "751   it's pretty damn genius.\"\"  \n",
       "848                         None  \n",
       "851                         None  \n",
       "857                         None  \n",
       "870                         None  \n",
       "896                         None  \n",
       "920                         None  \n",
       "991                         None  "
      ]
     },
     "execution_count": 91,
     "metadata": {},
     "output_type": "execute_result"
    }
   ],
   "source": [
    "print(len(df_pandas[df_pandas._c5.notnull()]))\n",
    "(df_pandas[df_pandas._c5.notnull()])\n",
    "#the extra columns seem to be carried over comments from the original 'comment_text' column."
   ]
  },
  {
   "cell_type": "markdown",
   "metadata": {},
   "source": [
    "## Question 3\n",
    "Compute percentages of categories by gender and report the top 3 categories for each gender as well as the percentages."
   ]
  },
  {
   "cell_type": "code",
   "execution_count": 104,
   "metadata": {
    "collapsed": false
   },
   "outputs": [
    {
     "name": "stdout",
     "output_type": "stream",
     "text": [
      "+--------------------+------+-------+-------+----------------+--------+---------------+--------------------+\n",
      "|             user_id|gender|age_bin|country|        category|language|creator_country|        comment_text|\n",
      "+--------------------+------+-------+-------+----------------+--------+---------------+--------------------+\n",
      "|1445876f62cd03a0d...|     m|  35-44|     US|           Music|      en|             US|how you hug a pup...|\n",
      "|eaadfa19afdb902d0...|     m|  25-34|     NO|   Entertainment|      en|             GB|               First|\n",
      "|8681d7a8a7306c4cf...|     m|  25-34|     US|   Entertainment|      en|             US|I bet its so hot ...|\n",
      "|a57ada75aa3915176...|     m|  18-24|     US|          Gaming|      en|             CA|Swindlewt is a pi...|\n",
      "|c886447376b8c88c4...|     m|  25-34|     US| News & Politics|      en|             GB|2:48 I'm pretty s...|\n",
      "|1557dac21004c73bb...|     f|  25-34|     US|   Entertainment|      en|             US|ALARIC PLS BABY N...|\n",
      "|ba3c7dfe02bce5817...|     m|  35-44|     GB|   Entertainment|      en|             US|                BEST|\n",
      "|ea30cc255d9a7b9dd...|     m|  25-34|     AW| News & Politics|      en|             US|People voting for...|\n",
      "|828cbc262c30348e7...|     m|  25-34|     BR|   Entertainment|      un|             BR|Dislike nesse arr...|\n",
      "|c198e7e01cf67e6f3...|     m|  25-34|     US|   Entertainment|      en|             US|So many great lines!|\n",
      "|778ae71b2e24cd80c...|     m|  25-34|     US|   Entertainment|      en|             US|      best video yet|\n",
      "|f1696e9362e18fe9d...|     m|  25-34|     US|           Music|      en|             US|do an Angra song ...|\n",
      "|ed010606bb87ccff1...|     m|  35-44|     NL|          Gaming|      en|             US|                 meh|\n",
      "|b6a9dfd44aeb33ef3...|     m|  35-44|     ID|Autos & Vehicles|      en|             AU|is that Mike von ...|\n",
      "|d2fe7a0cc932c42f4...|     m|  25-34|     AU|          Gaming|      en|             US|character looks l...|\n",
      "|a5f2acec9fb43bd21...|     m|  25-34|     US|           Music|      en|             US|i think this shit...|\n",
      "|104bb0fb6ed63f734...|     m|  35-44|     GB| News & Politics|      en|             US|Proof of residenc...|\n",
      "|f2d32029f5aebb2cb...|     m|  18-24|     US|   Entertainment|      en|             US|I've never seen t...|\n",
      "|08f73202a5fd94d6e...|     m|  25-34|     US|   Entertainment|      en|             US|written by Donald...|\n",
      "|22d5801db06f203ad...|     m|  35-44|     US|          Gaming|      en|             US|why isnt this a l...|\n",
      "+--------------------+------+-------+-------+----------------+--------+---------------+--------------------+\n",
      "only showing top 20 rows\n",
      "\n"
     ]
    }
   ],
   "source": [
    "#we can filter out the _c# columns \n",
    "dataframe = df.select('user_id', 'gender', 'age_bin', 'country', 'category', \n",
    "          'language', 'creator_country', 'comment_text')\n",
    "dataframe.show()"
   ]
  },
  {
   "cell_type": "code",
   "execution_count": 133,
   "metadata": {
    "collapsed": false
   },
   "outputs": [],
   "source": [
    "male = dataframe.select('gender', 'category').filter(df[\"gender\"] == 'm')"
   ]
  },
  {
   "cell_type": "code",
   "execution_count": 958,
   "metadata": {
    "collapsed": false
   },
   "outputs": [
    {
     "name": "stdout",
     "output_type": "stream",
     "text": [
      "+------+---------------+\n",
      "|gender|       category|\n",
      "+------+---------------+\n",
      "|     m|          Music|\n",
      "|     m|  Entertainment|\n",
      "|     m|  Entertainment|\n",
      "|     m|         Gaming|\n",
      "|     m|News & Politics|\n",
      "|     m|  Entertainment|\n",
      "|     m|News & Politics|\n",
      "|     m|  Entertainment|\n",
      "|     m|  Entertainment|\n",
      "|     m|  Entertainment|\n",
      "+------+---------------+\n",
      "only showing top 10 rows\n",
      "\n"
     ]
    }
   ],
   "source": [
    "male.show(10)"
   ]
  },
  {
   "cell_type": "code",
   "execution_count": 135,
   "metadata": {
    "collapsed": true
   },
   "outputs": [],
   "source": [
    "female = dataframe.select('gender', 'category').filter(df[\"gender\"] == 'f')"
   ]
  },
  {
   "cell_type": "code",
   "execution_count": 959,
   "metadata": {
    "collapsed": false
   },
   "outputs": [
    {
     "name": "stdout",
     "output_type": "stream",
     "text": [
      "+------+----------------+\n",
      "|gender|        category|\n",
      "+------+----------------+\n",
      "|     f|   Entertainment|\n",
      "|     f|          Gaming|\n",
      "|     f|   Entertainment|\n",
      "|     f|Film & Animation|\n",
      "|     f|          Gaming|\n",
      "|     f|   Entertainment|\n",
      "|     f|   Entertainment|\n",
      "|     f|       Education|\n",
      "|     f|  People & Blogs|\n",
      "|     f|  People & Blogs|\n",
      "+------+----------------+\n",
      "only showing top 10 rows\n",
      "\n"
     ]
    }
   ],
   "source": [
    "female.show(10)"
   ]
  },
  {
   "cell_type": "code",
   "execution_count": 616,
   "metadata": {
    "collapsed": false
   },
   "outputs": [
    {
     "name": "stdout",
     "output_type": "stream",
     "text": [
      "+------+-----+\n",
      "|gender|count|\n",
      "+------+-----+\n",
      "|     m|  826|\n",
      "|     f|  174|\n",
      "+------+-----+\n",
      "\n"
     ]
    }
   ],
   "source": [
    "total = dataframe.select('gender', 'category').groupby('gender').count()\n",
    "total.show()"
   ]
  },
  {
   "cell_type": "code",
   "execution_count": 617,
   "metadata": {
    "collapsed": false
   },
   "outputs": [
    {
     "name": "stdout",
     "output_type": "stream",
     "text": [
      "826\n"
     ]
    }
   ],
   "source": [
    "total_male = total.collect()[0][1]\n",
    "print(total_male)"
   ]
  },
  {
   "cell_type": "code",
   "execution_count": 618,
   "metadata": {
    "collapsed": false
   },
   "outputs": [
    {
     "name": "stdout",
     "output_type": "stream",
     "text": [
      "174\n"
     ]
    }
   ],
   "source": [
    "total_female = total.collect()[1][1]\n",
    "print(total_female)"
   ]
  },
  {
   "cell_type": "code",
   "execution_count": 124,
   "metadata": {
    "collapsed": true
   },
   "outputs": [],
   "source": [
    "from pyspark.sql.functions import desc"
   ]
  },
  {
   "cell_type": "code",
   "execution_count": 211,
   "metadata": {
    "collapsed": false
   },
   "outputs": [
    {
     "name": "stdout",
     "output_type": "stream",
     "text": [
      "+--------------------+-----+\n",
      "|            category|count|\n",
      "+--------------------+-----+\n",
      "|              Gaming|  202|\n",
      "|       Entertainment|  196|\n",
      "|     News & Politics|   92|\n",
      "|              Comedy|   61|\n",
      "|              Sports|   51|\n",
      "|               Music|   41|\n",
      "|      People & Blogs|   38|\n",
      "|Science & Technology|   35|\n",
      "|       Howto & Style|   29|\n",
      "|    Film & Animation|   28|\n",
      "|           Education|   20|\n",
      "|    Autos & Vehicles|   17|\n",
      "|      Pets & Animals|    7|\n",
      "|                null|    5|\n",
      "|     Travel & Events|    2|\n",
      "|Nonprofits & Acti...|    2|\n",
      "+--------------------+-----+\n",
      "\n"
     ]
    }
   ],
   "source": [
    "male_count = male.groupBy(\"category\").count().sort(desc(\"count\")).alias(\"count\")\n",
    "male_count.show()"
   ]
  },
  {
   "cell_type": "code",
   "execution_count": 212,
   "metadata": {
    "collapsed": false
   },
   "outputs": [
    {
     "name": "stdout",
     "output_type": "stream",
     "text": [
      "+--------------------+-----+\n",
      "|            category|count|\n",
      "+--------------------+-----+\n",
      "|      People & Blogs|   38|\n",
      "|       Entertainment|   37|\n",
      "|       Howto & Style|   34|\n",
      "|              Gaming|   23|\n",
      "|    Film & Animation|    9|\n",
      "|               Music|    9|\n",
      "|              Comedy|    6|\n",
      "|           Education|    5|\n",
      "|     News & Politics|    4|\n",
      "|              Sports|    3|\n",
      "|Science & Technology|    3|\n",
      "|     Travel & Events|    2|\n",
      "|      Pets & Animals|    1|\n",
      "+--------------------+-----+\n",
      "\n"
     ]
    }
   ],
   "source": [
    "female_count = female.groupBy(\"category\").count().sort(desc(\"count\")).alias(\"count\")\n",
    "female_count.show()"
   ]
  },
  {
   "cell_type": "code",
   "execution_count": 215,
   "metadata": {
    "collapsed": true
   },
   "outputs": [],
   "source": [
    "import pyspark.sql.functions as func"
   ]
  },
  {
   "cell_type": "code",
   "execution_count": 960,
   "metadata": {
    "collapsed": true
   },
   "outputs": [],
   "source": [
    "from pyspark.sql.functions import col"
   ]
  },
  {
   "cell_type": "markdown",
   "metadata": {},
   "source": [
    "### As shown below, these are the top 3 categories with their percentages by gender."
   ]
  },
  {
   "cell_type": "code",
   "execution_count": 221,
   "metadata": {
    "collapsed": false
   },
   "outputs": [
    {
     "name": "stdout",
     "output_type": "stream",
     "text": [
      "+--------------+-----+-------+\n",
      "|      category|count|percent|\n",
      "+--------------+-----+-------+\n",
      "|People & Blogs|   38|   22%\n",
      "|\n",
      "| Entertainment|   37|   21%\n",
      "|\n",
      "| Howto & Style|   34|   20%\n",
      "|\n",
      "+--------------+-----+-------+\n",
      "only showing top 3 rows\n",
      "\n"
     ]
    }
   ],
   "source": [
    "#append a new column with the percentage, and just return the top 3.\n",
    "female_count.withColumn('percent', func.format_string(\"%2.0f%%\\n\", col('count') / \n",
    "                                                      total_female * 100)).show(3)"
   ]
  },
  {
   "cell_type": "code",
   "execution_count": 223,
   "metadata": {
    "collapsed": false
   },
   "outputs": [
    {
     "name": "stdout",
     "output_type": "stream",
     "text": [
      "+---------------+-----+-------+\n",
      "|       category|count|percent|\n",
      "+---------------+-----+-------+\n",
      "|         Gaming|  202|   24%\n",
      "|\n",
      "|  Entertainment|  196|   24%\n",
      "|\n",
      "|News & Politics|   92|   11%\n",
      "|\n",
      "+---------------+-----+-------+\n",
      "only showing top 3 rows\n",
      "\n"
     ]
    }
   ],
   "source": [
    "male_count.withColumn('percent', func.format_string(\"%2.0f%%\\n\", col('count') / \n",
    "                                                      total_male * 100)).show(3)"
   ]
  },
  {
   "cell_type": "markdown",
   "metadata": {},
   "source": [
    "## Question 4\n",
    "Using pyspark.ml.feature.Tokenizer, split the comments into lists of words. Combine the lists of words from all comments into lists of words by gender and category. Report the top 3 most common words for gender='f' and category='People & Blogs', as well as the number of occurrences. "
   ]
  },
  {
   "cell_type": "code",
   "execution_count": 234,
   "metadata": {
    "collapsed": false
   },
   "outputs": [
    {
     "name": "stdout",
     "output_type": "stream",
     "text": [
      "+--------------------+------+-------+-------+----------------+--------+---------------+--------------------+\n",
      "|             user_id|gender|age_bin|country|        category|language|creator_country|        comment_text|\n",
      "+--------------------+------+-------+-------+----------------+--------+---------------+--------------------+\n",
      "|1445876f62cd03a0d...|     m|  35-44|     US|           Music|      en|             US|how you hug a pup...|\n",
      "|eaadfa19afdb902d0...|     m|  25-34|     NO|   Entertainment|      en|             GB|               First|\n",
      "|8681d7a8a7306c4cf...|     m|  25-34|     US|   Entertainment|      en|             US|I bet its so hot ...|\n",
      "|a57ada75aa3915176...|     m|  18-24|     US|          Gaming|      en|             CA|Swindlewt is a pi...|\n",
      "|c886447376b8c88c4...|     m|  25-34|     US| News & Politics|      en|             GB|2:48 I'm pretty s...|\n",
      "|1557dac21004c73bb...|     f|  25-34|     US|   Entertainment|      en|             US|ALARIC PLS BABY N...|\n",
      "|ba3c7dfe02bce5817...|     m|  35-44|     GB|   Entertainment|      en|             US|                BEST|\n",
      "|ea30cc255d9a7b9dd...|     m|  25-34|     AW| News & Politics|      en|             US|People voting for...|\n",
      "|828cbc262c30348e7...|     m|  25-34|     BR|   Entertainment|      un|             BR|Dislike nesse arr...|\n",
      "|c198e7e01cf67e6f3...|     m|  25-34|     US|   Entertainment|      en|             US|So many great lines!|\n",
      "|778ae71b2e24cd80c...|     m|  25-34|     US|   Entertainment|      en|             US|      best video yet|\n",
      "|f1696e9362e18fe9d...|     m|  25-34|     US|           Music|      en|             US|do an Angra song ...|\n",
      "|ed010606bb87ccff1...|     m|  35-44|     NL|          Gaming|      en|             US|                 meh|\n",
      "|b6a9dfd44aeb33ef3...|     m|  35-44|     ID|Autos & Vehicles|      en|             AU|is that Mike von ...|\n",
      "|d2fe7a0cc932c42f4...|     m|  25-34|     AU|          Gaming|      en|             US|character looks l...|\n",
      "|a5f2acec9fb43bd21...|     m|  25-34|     US|           Music|      en|             US|i think this shit...|\n",
      "|104bb0fb6ed63f734...|     m|  35-44|     GB| News & Politics|      en|             US|Proof of residenc...|\n",
      "|f2d32029f5aebb2cb...|     m|  18-24|     US|   Entertainment|      en|             US|I've never seen t...|\n",
      "|08f73202a5fd94d6e...|     m|  25-34|     US|   Entertainment|      en|             US|written by Donald...|\n",
      "|22d5801db06f203ad...|     m|  35-44|     US|          Gaming|      en|             US|why isnt this a l...|\n",
      "+--------------------+------+-------+-------+----------------+--------+---------------+--------------------+\n",
      "only showing top 20 rows\n",
      "\n"
     ]
    }
   ],
   "source": [
    "dataframe.show()"
   ]
  },
  {
   "cell_type": "code",
   "execution_count": 298,
   "metadata": {
    "collapsed": false
   },
   "outputs": [
    {
     "name": "stdout",
     "output_type": "stream",
     "text": [
      "+------+----------------+--------------------+\n",
      "|gender|        category|        comment_text|\n",
      "+------+----------------+--------------------+\n",
      "|     m|           Music|how you hug a pup...|\n",
      "|     m|   Entertainment|               First|\n",
      "|     m|   Entertainment|I bet its so hot ...|\n",
      "|     m|          Gaming|Swindlewt is a pi...|\n",
      "|     m| News & Politics|2:48 I'm pretty s...|\n",
      "|     f|   Entertainment|ALARIC PLS BABY N...|\n",
      "|     m|   Entertainment|                BEST|\n",
      "|     m| News & Politics|People voting for...|\n",
      "|     m|   Entertainment|Dislike nesse arr...|\n",
      "|     m|   Entertainment|So many great lines!|\n",
      "|     m|   Entertainment|      best video yet|\n",
      "|     m|           Music|do an Angra song ...|\n",
      "|     m|          Gaming|                 meh|\n",
      "|     m|Autos & Vehicles|is that Mike von ...|\n",
      "|     m|          Gaming|character looks l...|\n",
      "|     m|           Music|i think this shit...|\n",
      "|     m| News & Politics|Proof of residenc...|\n",
      "|     m|   Entertainment|I've never seen t...|\n",
      "|     m|   Entertainment|written by Donald...|\n",
      "|     m|          Gaming|why isnt this a l...|\n",
      "+------+----------------+--------------------+\n",
      "only showing top 20 rows\n",
      "\n"
     ]
    }
   ],
   "source": [
    "comment_text_df = dataframe.select(\"gender\", \"category\", \"comment_text\")\n",
    "comment_text_df.show()"
   ]
  },
  {
   "cell_type": "markdown",
   "metadata": {},
   "source": [
    "### Tokenize the comments"
   ]
  },
  {
   "cell_type": "code",
   "execution_count": 619,
   "metadata": {
    "collapsed": true
   },
   "outputs": [],
   "source": [
    "from pyspark.ml.feature import Tokenizer"
   ]
  },
  {
   "cell_type": "code",
   "execution_count": 299,
   "metadata": {
    "collapsed": true
   },
   "outputs": [],
   "source": [
    "tokenizer = Tokenizer(inputCol=\"comment_text\", outputCol=\"words\")"
   ]
  },
  {
   "cell_type": "code",
   "execution_count": 302,
   "metadata": {
    "collapsed": false
   },
   "outputs": [
    {
     "name": "stdout",
     "output_type": "stream",
     "text": [
      "+------+----------------+--------------------+\n",
      "|gender|        category|               words|\n",
      "+------+----------------+--------------------+\n",
      "|     m|           Music|[how, you, hug, a...|\n",
      "|     m|   Entertainment|             [first]|\n",
      "|     m|   Entertainment|[i, bet, its, so,...|\n",
      "|     m|          Gaming|[swindlewt, is, a...|\n",
      "|     m| News & Politics|[2:48, i'm, prett...|\n",
      "|     f|   Entertainment|[alaric, pls, bab...|\n",
      "|     m|   Entertainment|              [best]|\n",
      "|     m| News & Politics|[people, voting, ...|\n",
      "|     m|   Entertainment|[dislike, nesse, ...|\n",
      "|     m|   Entertainment|[so, many, great,...|\n",
      "|     m|   Entertainment|  [best, video, yet]|\n",
      "|     m|           Music|[do, an, angra, s...|\n",
      "|     m|          Gaming|               [meh]|\n",
      "|     m|Autos & Vehicles|[is, that, mike, ...|\n",
      "|     m|          Gaming|[character, looks...|\n",
      "|     m|           Music|[i, think, this, ...|\n",
      "|     m| News & Politics|[proof, of, resid...|\n",
      "|     m|   Entertainment|[i've, never, see...|\n",
      "|     m|   Entertainment|[written, by, don...|\n",
      "|     m|          Gaming|[why, isnt, this,...|\n",
      "+------+----------------+--------------------+\n",
      "only showing top 20 rows\n",
      "\n"
     ]
    }
   ],
   "source": [
    "words_df = tokenizer.transform(comment_text_df).drop(\"comment_text\")\n",
    "words_df.show()"
   ]
  },
  {
   "cell_type": "markdown",
   "metadata": {},
   "source": [
    "### Remove Stop Words"
   ]
  },
  {
   "cell_type": "code",
   "execution_count": 381,
   "metadata": {
    "collapsed": true
   },
   "outputs": [],
   "source": [
    "from pyspark.ml.feature import StopWordsRemover"
   ]
  },
  {
   "cell_type": "code",
   "execution_count": 437,
   "metadata": {
    "collapsed": false
   },
   "outputs": [
    {
     "name": "stdout",
     "output_type": "stream",
     "text": [
      "+------+----------------+--------------------+--------------------+\n",
      "|gender|        category|               words|      filtered_words|\n",
      "+------+----------------+--------------------+--------------------+\n",
      "|     m|           Music|[how, you, hug, a...|[hug, puppy?, how...|\n",
      "|     m|   Entertainment|             [first]|             [first]|\n",
      "|     m|   Entertainment|[i, bet, its, so,...|[bet, hot, right?...|\n",
      "|     m|          Gaming|[swindlewt, is, a...|[swindlewt, pirat...|\n",
      "|     m| News & Politics|[2:48, i'm, prett...|[2:48, pretty, su...|\n",
      "|     f|   Entertainment|[alaric, pls, bab...|[alaric, pls, bab...|\n",
      "|     m|   Entertainment|              [best]|              [best]|\n",
      "|     m| News & Politics|[people, voting, ...|[people, voting, ...|\n",
      "|     m|   Entertainment|[dislike, nesse, ...|[dislike, nesse, ...|\n",
      "|     m|   Entertainment|[so, many, great,...|[many, great, lin...|\n",
      "|     m|   Entertainment|  [best, video, yet]|  [best, video, yet]|\n",
      "|     m|           Music|[do, an, angra, s...|[angra, song, ple...|\n",
      "|     m|          Gaming|               [meh]|               [meh]|\n",
      "|     m|Autos & Vehicles|[is, that, mike, ...|[mike, von, koeni...|\n",
      "|     m|          Gaming|[character, looks...|[character, looks...|\n",
      "|     m|           Music|[i, think, this, ...|[think, shit, cla...|\n",
      "|     m| News & Politics|[proof, of, resid...|[proof, residency...|\n",
      "|     m|   Entertainment|[i've, never, see...|[never, seen, mov...|\n",
      "|     m|   Entertainment|[written, by, don...|[written, donald,...|\n",
      "|     m|          Gaming|[why, isnt, this,...| [isnt, lets, play?]|\n",
      "+------+----------------+--------------------+--------------------+\n",
      "only showing top 20 rows\n",
      "\n"
     ]
    }
   ],
   "source": [
    "words_df = StopWordsRemover(inputCol=\"words\", outputCol = \"filtered_words\").transform(words_df)\n",
    "words_df.show()"
   ]
  },
  {
   "cell_type": "code",
   "execution_count": 438,
   "metadata": {
    "collapsed": false
   },
   "outputs": [
    {
     "name": "stdout",
     "output_type": "stream",
     "text": [
      "+----------------+--------------------+------+\n",
      "|        category|      filtered_words|tokens|\n",
      "+----------------+--------------------+------+\n",
      "|           Music|[hug, puppy?, how...|     3|\n",
      "|   Entertainment|             [first]|     1|\n",
      "|   Entertainment|[bet, hot, right?...|    12|\n",
      "|          Gaming|[swindlewt, pirat...|     8|\n",
      "| News & Politics|[2:48, pretty, su...|     8|\n",
      "|   Entertainment|[alaric, pls, bab...|     4|\n",
      "|   Entertainment|              [best]|     1|\n",
      "| News & Politics|[people, voting, ...|     8|\n",
      "|   Entertainment|[dislike, nesse, ...|     3|\n",
      "|   Entertainment|[many, great, lin...|     3|\n",
      "|   Entertainment|  [best, video, yet]|     3|\n",
      "|           Music|[angra, song, ple...|     3|\n",
      "|          Gaming|               [meh]|     1|\n",
      "|Autos & Vehicles|[mike, von, koeni...|     8|\n",
      "|          Gaming|[character, looks...|     5|\n",
      "|           Music|[think, shit, cla...|     7|\n",
      "| News & Politics|[proof, residency...|     7|\n",
      "|   Entertainment|[never, seen, mov...|    11|\n",
      "|   Entertainment|[written, donald,...|     8|\n",
      "|          Gaming| [isnt, lets, play?]|     3|\n",
      "+----------------+--------------------+------+\n",
      "only showing top 20 rows\n",
      "\n"
     ]
    }
   ],
   "source": [
    "#sanity check, to see how many words are in each list\n",
    "words_df.select(\"category\", \"filtered_words\").withColumn(\"tokens\", countTokens(col(\"filtered_words\"))).show()"
   ]
  },
  {
   "cell_type": "code",
   "execution_count": 439,
   "metadata": {
    "collapsed": false
   },
   "outputs": [
    {
     "name": "stdout",
     "output_type": "stream",
     "text": [
      "+----------------+--------------------+------+\n",
      "|        category|               words|tokens|\n",
      "+----------------+--------------------+------+\n",
      "|           Music|[how, you, hug, a...|     6|\n",
      "|   Entertainment|             [first]|     1|\n",
      "|   Entertainment|[i, bet, its, so,...|    18|\n",
      "|          Gaming|[swindlewt, is, a...|    13|\n",
      "| News & Politics|[2:48, i'm, prett...|    12|\n",
      "|   Entertainment|[alaric, pls, bab...|     5|\n",
      "|   Entertainment|              [best]|     1|\n",
      "| News & Politics|[people, voting, ...|    13|\n",
      "|   Entertainment|[dislike, nesse, ...|     3|\n",
      "|   Entertainment|[so, many, great,...|     4|\n",
      "|   Entertainment|  [best, video, yet]|     3|\n",
      "|           Music|[do, an, angra, s...|     5|\n",
      "|          Gaming|               [meh]|     1|\n",
      "|Autos & Vehicles|[is, that, mike, ...|    11|\n",
      "|          Gaming|[character, looks...|     6|\n",
      "|           Music|[i, think, this, ...|    15|\n",
      "| News & Politics|[proof, of, resid...|    11|\n",
      "|   Entertainment|[i've, never, see...|    22|\n",
      "|   Entertainment|[written, by, don...|    11|\n",
      "|          Gaming|[why, isnt, this,...|     6|\n",
      "+----------------+--------------------+------+\n",
      "only showing top 20 rows\n",
      "\n"
     ]
    }
   ],
   "source": [
    "#sanity check, to see that meaningless words were indeed removed!\n",
    "words_df.select(\"category\", \"words\").withColumn(\"tokens\", countTokens(col(\"words\"))).show()"
   ]
  },
  {
   "cell_type": "markdown",
   "metadata": {},
   "source": [
    "### Stop words didn't remove punctuation, and also an issue with ufffd ascii special keys"
   ]
  },
  {
   "cell_type": "code",
   "execution_count": 858,
   "metadata": {
    "collapsed": true
   },
   "outputs": [],
   "source": [
    "from pyspark.sql.functions import collect_list, udf\n",
    "from pyspark.sql.types import ArrayType, StringType, IntegerType, FloatType\n",
    "import string"
   ]
  },
  {
   "cell_type": "code",
   "execution_count": 889,
   "metadata": {
    "collapsed": false
   },
   "outputs": [],
   "source": [
    "#TODO: attempt to remove ascii value issue, by converting unicode "
   ]
  },
  {
   "cell_type": "code",
   "execution_count": 851,
   "metadata": {
    "collapsed": false
   },
   "outputs": [
    {
     "data": {
      "text/plain": [
       "'!\"#$%&\\'()*+,-./:;<=>?@[\\\\]^_`{|}~'"
      ]
     },
     "execution_count": 851,
     "metadata": {},
     "output_type": "execute_result"
    }
   ],
   "source": [
    "string.punctuation"
   ]
  },
  {
   "cell_type": "code",
   "execution_count": 961,
   "metadata": {
    "collapsed": true
   },
   "outputs": [],
   "source": [
    "def remove_punctuation(words_list):\n",
    "    return filter(None, [\"\".join(j for j in i if j not in string.punctuation) for i in words_list])\n",
    "remove_punctuationUDF = udf(remove_punctuation, ArrayType((StringType())))"
   ]
  },
  {
   "cell_type": "code",
   "execution_count": 965,
   "metadata": {
    "collapsed": false
   },
   "outputs": [
    {
     "data": {
      "text/plain": [
       "['party', 'party', 'lolufffdufffdufffd']"
      ]
     },
     "execution_count": 965,
     "metadata": {},
     "output_type": "execute_result"
    }
   ],
   "source": [
    "remove_punctuation(['party', 'party?', 'lol\\ufffd\\ufffd\\ufffd', '\"'])"
   ]
  },
  {
   "cell_type": "code",
   "execution_count": 966,
   "metadata": {
    "collapsed": false
   },
   "outputs": [
    {
     "name": "stdout",
     "output_type": "stream",
     "text": [
      "+------+----------------+--------------------+--------------------+\n",
      "|gender|        category|               words|      filtered_words|\n",
      "+------+----------------+--------------------+--------------------+\n",
      "|     m|           Music|[how, you, hug, a...|[hug, puppy, how���]|\n",
      "|     m|   Entertainment|             [first]|             [first]|\n",
      "|     m|   Entertainment|[i, bet, its, so,...|[bet, hot, right,...|\n",
      "|     m|          Gaming|[swindlewt, is, a...|[swindlewt, pirat...|\n",
      "|     m| News & Politics|[2:48, i'm, prett...|[248, pretty, sur...|\n",
      "|     f|   Entertainment|[alaric, pls, bab...|[alaric, pls, bab...|\n",
      "|     m|   Entertainment|              [best]|              [best]|\n",
      "|     m| News & Politics|[people, voting, ...|[people, voting, ...|\n",
      "|     m|   Entertainment|[dislike, nesse, ...|[dislike, nesse, ...|\n",
      "|     m|   Entertainment|[so, many, great,...|[many, great, lines]|\n",
      "|     m|   Entertainment|  [best, video, yet]|  [best, video, yet]|\n",
      "|     m|           Music|[do, an, angra, s...|[angra, song, ple...|\n",
      "|     m|          Gaming|               [meh]|               [meh]|\n",
      "|     m|Autos & Vehicles|[is, that, mike, ...|[mike, von, koeni...|\n",
      "|     m|          Gaming|[character, looks...|[character, looks...|\n",
      "|     m|           Music|[i, think, this, ...|[think, shit, cla...|\n",
      "|     m| News & Politics|[proof, of, resid...|[proof, residency...|\n",
      "|     m|   Entertainment|[i've, never, see...|[never, seen, mov...|\n",
      "|     m|   Entertainment|[written, by, don...|[written, donald,...|\n",
      "|     m|          Gaming|[why, isnt, this,...|  [isnt, lets, play]|\n",
      "+------+----------------+--------------------+--------------------+\n",
      "only showing top 20 rows\n",
      "\n"
     ]
    }
   ],
   "source": [
    "words_df = words_df.withColumn(\"filtered_words\", remove_punctuationUDF(\"filtered_words\"))\n",
    "words_df.show()"
   ]
  },
  {
   "cell_type": "markdown",
   "metadata": {},
   "source": [
    "### UDF to join the different lists in each category"
   ]
  },
  {
   "cell_type": "code",
   "execution_count": 967,
   "metadata": {
    "collapsed": true
   },
   "outputs": [],
   "source": [
    "#this function allows me to aggregate all lists within a grouped category\n",
    "def join_lists(words_lists):\n",
    "    complete_list = []\n",
    "    for words_list in words_lists:\n",
    "        complete_list += words_list\n",
    "    return complete_list"
   ]
  },
  {
   "cell_type": "code",
   "execution_count": 968,
   "metadata": {
    "collapsed": false
   },
   "outputs": [],
   "source": [
    "#register the list-joining function as a UDF for the groupby function\n",
    "list_joinUDF = udf(join_lists, ArrayType((StringType())))"
   ]
  },
  {
   "cell_type": "markdown",
   "metadata": {},
   "source": [
    "### Select Females, People & Blogs"
   ]
  },
  {
   "cell_type": "code",
   "execution_count": 969,
   "metadata": {
    "collapsed": false
   },
   "outputs": [
    {
     "name": "stdout",
     "output_type": "stream",
     "text": [
      "+--------------------+--------------------+\n",
      "|            category|     collected_words|\n",
      "+--------------------+--------------------+\n",
      "|           Education|[goil, sounds, li...|\n",
      "|              Gaming|[circle, square, ...|\n",
      "|       Entertainment|[alaric, pls, bab...|\n",
      "|     Travel & Events|[this, made, nigh...|\n",
      "|Science & Technology|[interesting, bac...|\n",
      "|              Sports|[���, go, bernie�...|\n",
      "|       Howto & Style|[ugh, brush, eyeb...|\n",
      "|    Film & Animation|[the, baby, part,...|\n",
      "|      People & Blogs|[makeup, prefect�...|\n",
      "|     News & Politics|[omg, kellyanne, ...|\n",
      "|      Pets & Animals| [awwwwwww, nyla���]|\n",
      "|               Music|[bootsy, collins,...|\n",
      "|              Comedy|[walls, preteen, ...|\n",
      "+--------------------+--------------------+\n",
      "\n"
     ]
    }
   ],
   "source": [
    "#for females, combine lists\n",
    "female_words = words_df.filter(words_df[\"gender\"]=='f') \\\n",
    ".groupby(\"category\").agg(func.collect_list(\"filtered_words\") \\\n",
    ".alias(\"collected_words\")) \\\n",
    ".withColumn(\"collected_words\", list_joinUDF(\"collected_words\"))\n",
    "female_words.show()"
   ]
  },
  {
   "cell_type": "code",
   "execution_count": 970,
   "metadata": {
    "collapsed": false
   },
   "outputs": [
    {
     "name": "stdout",
     "output_type": "stream",
     "text": [
      "+--------------+--------------------+\n",
      "|      category|     collected_words|\n",
      "+--------------+--------------------+\n",
      "|People & Blogs|[makeup, prefect�...|\n",
      "+--------------+--------------------+\n",
      "\n"
     ]
    }
   ],
   "source": [
    "#select People & Blogs\n",
    "people_blogs_df = female_words.filter(female_words[\"category\"]==\"People & Blogs\")\n",
    "people_blogs_df.show()"
   ]
  },
  {
   "cell_type": "markdown",
   "metadata": {},
   "source": [
    "### Count words using CountVectorizer"
   ]
  },
  {
   "cell_type": "code",
   "execution_count": 971,
   "metadata": {
    "collapsed": true
   },
   "outputs": [],
   "source": [
    "from pyspark.ml.feature import CountVectorizer"
   ]
  },
  {
   "cell_type": "code",
   "execution_count": 862,
   "metadata": {
    "collapsed": false
   },
   "outputs": [],
   "source": [
    "cv = CountVectorizer(inputCol=\"collected_words\", outputCol=\"features\").fit(people_blogs_df)\n",
    "cv_model = cv.transform(people_blogs_df)"
   ]
  },
  {
   "cell_type": "code",
   "execution_count": 863,
   "metadata": {
    "collapsed": false
   },
   "outputs": [
    {
     "data": {
      "text/plain": [
       "[u'',\n",
       " u'like',\n",
       " u'love',\n",
       " u'kristen',\n",
       " u'ha',\n",
       " u'\\ufffd\\ufffd\\ufffd\\ufffd',\n",
       " u'marathon',\n",
       " u'lol',\n",
       " u'time',\n",
       " u'gorgeous',\n",
       " u'perfect',\n",
       " u'look',\n",
       " u'two',\n",
       " u'3',\n",
       " u'good',\n",
       " u'levi',\n",
       " u'strawbobbies',\n",
       " u'live',\n",
       " u'feel',\n",
       " u'oscar',\n",
       " u'makes',\n",
       " u'older',\n",
       " u'gaines',\n",
       " u'better',\n",
       " u'3\\ufffd\\ufffd\\ufffd',\n",
       " u'came',\n",
       " u'sollefte\\u0334',\n",
       " u'damn',\n",
       " u'ben',\n",
       " u'everywhere\\ufffd\\ufffd\\ufffd\\ufffd\\ufffd\\ufffd\\ufffd\\ufffd',\n",
       " u'worry',\n",
       " u'bonnie',\n",
       " u'seriously',\n",
       " u'learn',\n",
       " u'girl',\n",
       " u'something',\n",
       " u'fucked',\n",
       " u'yum',\n",
       " u'understand',\n",
       " u'burgundy',\n",
       " u'sad',\n",
       " u'vase',\n",
       " u'\\ufffd\\ufffd\\ufffd\\ufffd\\ufffd\\ufffd\\ufffd\\ufffd',\n",
       " u'version',\n",
       " u'mixture',\n",
       " u'fluffy',\n",
       " u'100',\n",
       " u'much',\n",
       " u'probably',\n",
       " u'sjukt',\n",
       " u'easily',\n",
       " u'share',\n",
       " u'tt\\ufffd\\ufffd\\ufffd',\n",
       " u'genauso',\n",
       " u'yyyyaaaayyyyy',\n",
       " u'cory',\n",
       " u'made',\n",
       " u'sure',\n",
       " u'you',\n",
       " u'work',\n",
       " u'button',\n",
       " u'gym',\n",
       " u'cute',\n",
       " u'sitting',\n",
       " u'prefect\\ufffd\\ufffd\\ufffd',\n",
       " u'fucking',\n",
       " u'bad',\n",
       " u'yeah',\n",
       " u'\\ufffd\\ufffd\\ufffd\\u3be3\\ufffd\\u026f\\ufffd\\ufffd\\ufffd\\ufffd\\ufffd',\n",
       " u'gets',\n",
       " u'strawberries',\n",
       " u'workout',\n",
       " u'very',\n",
       " u'make',\n",
       " u'deserve',\n",
       " u'voiiccee',\n",
       " u'\\ufffd\\u2be4\\ufffd\\ufffd',\n",
       " u'die',\n",
       " u'hot',\n",
       " u'dig',\n",
       " u'handle',\n",
       " u'least',\n",
       " u'will\\ufffd\\ufffd\\ufffd',\n",
       " u'belongs',\n",
       " u'back',\n",
       " u'couple',\n",
       " u'idioma',\n",
       " u'white',\n",
       " u'singing',\n",
       " u'queen\\ufffd\\ufffd\\ufffd',\n",
       " u'hat',\n",
       " u'se',\n",
       " u'free',\n",
       " u'coldstone\\ufffd\\ufffd\\ufffd',\n",
       " u'this',\n",
       " u'340',\n",
       " u'her\\ufffd\\ufffd\\ufffd',\n",
       " u'even',\n",
       " u'\\ufffd\\ufffd\\ufffd',\n",
       " u'all',\n",
       " u'playlists',\n",
       " u'pleaassee',\n",
       " u'rap',\n",
       " u'every',\n",
       " u'video',\n",
       " u'alaska',\n",
       " u'us',\n",
       " u'especially',\n",
       " u'ghost',\n",
       " u'me',\n",
       " u'zone',\n",
       " u'avatar\\ufffd\\ufffd\\ufffd',\n",
       " u'kids',\n",
       " u'calls',\n",
       " u'song',\n",
       " u'sell',\n",
       " u'alike',\n",
       " u'past',\n",
       " u'run',\n",
       " u'getting',\n",
       " u'spit',\n",
       " u'happens',\n",
       " u'\\ufffd\\ufffd\\ufffd\\ufffd\\ufffd\\ufffd\\ufffd',\n",
       " u'food',\n",
       " u'pretty',\n",
       " u'baby',\n",
       " u'channeling',\n",
       " u'watchyou',\n",
       " u'isnt',\n",
       " u'scary',\n",
       " u'hop',\n",
       " u'neeej',\n",
       " u'fallen',\n",
       " u'hemstad',\n",
       " u'favorite',\n",
       " u'argument',\n",
       " u'everyone',\n",
       " u'need',\n",
       " u'looked',\n",
       " u'350',\n",
       " u'helen',\n",
       " u'london',\n",
       " u'i',\n",
       " u'cons',\n",
       " u'vad',\n",
       " u'hair\\ufffd\\ufffd\\ufffd',\n",
       " u'jen',\n",
       " u'hip',\n",
       " u'tested',\n",
       " u'boy\\ufffd\\ufffd\\ufffd',\n",
       " u'shocked',\n",
       " u'resemblance',\n",
       " u'min',\n",
       " u'youre',\n",
       " u'loooove\\ufffd\\ufffd\\ufffd\\ufffd\\ufffd\\ufffd\\ufffd\\ufffd\\ufffd',\n",
       " u'hit',\n",
       " u'nela',\n",
       " u'here\\ufffd\\ufffd\\ufffd',\n",
       " u'suspicious',\n",
       " u'mir',\n",
       " u'thing',\n",
       " u'restaurants',\n",
       " u'people',\n",
       " u'parents',\n",
       " u'think',\n",
       " u'really',\n",
       " u'att',\n",
       " u'efficient',\n",
       " u'half',\n",
       " u'guy',\n",
       " u'slime',\n",
       " u'\\ufffd\\ufffd\\ufffd\\ufffd\\ufffd',\n",
       " u'\\ufffd\\ufffd\\ufffd\\ufffd\\ufffd\\ufffd\\ufffd\\ufffd\\ufffd',\n",
       " u'habla',\n",
       " u'more\\ufffd\\ufffd\\ufffd',\n",
       " u'happy',\n",
       " u'makeup',\n",
       " u'forget',\n",
       " u'keep',\n",
       " u'got',\n",
       " u'lol\\ufffd\\ufffd\\ufffd',\n",
       " u'melo',\n",
       " u'skipper',\n",
       " u'sean',\n",
       " u'5ever',\n",
       " u'see',\n",
       " u'restriction',\n",
       " u'\\ufffd\\ufffd\\ufffd\\ufffd\\ufffd\\ufffd\\ufffd\\ufffd\\ufffd\\ufffd\\ufffd\\ufffd',\n",
       " u'swamp',\n",
       " u'kidding',\n",
       " u'dark',\n",
       " u'feels',\n",
       " u'brand',\n",
       " u'bit',\n",
       " u'together',\n",
       " u'land',\n",
       " u'seems',\n",
       " u'morons',\n",
       " u'just',\n",
       " u'chell',\n",
       " u'veganism',\n",
       " u'florida',\n",
       " u'everything',\n",
       " u'recently',\n",
       " u'angel',\n",
       " u'it',\n",
       " u'end',\n",
       " u'might',\n",
       " u'\\ufffd\\ufffd\\ufffd\\ufffd\\ufffd\\u3bfb',\n",
       " u'totally',\n",
       " u'eigentlich',\n",
       " u'guys',\n",
       " u'soup',\n",
       " u'ryan',\n",
       " u'looks',\n",
       " u'trish',\n",
       " u'whole',\n",
       " u'days',\n",
       " u'austrailia',\n",
       " u'usually',\n",
       " u'viewing',\n",
       " u'criminal',\n",
       " u'youth',\n",
       " u'help',\n",
       " u'red',\n",
       " u'angry',\n",
       " u'beauty\\ufffd\\ufffd\\ufffd',\n",
       " u'\\ufffd\\u026f\\ufffd\\ufffd\\ufffd\\ufffd',\n",
       " u'couch',\n",
       " u'indian',\n",
       " u'also',\n",
       " u'ungeschnittene',\n",
       " u'stop',\n",
       " u'hey',\n",
       " u'knew',\n",
       " u'little',\n",
       " u'loving']"
      ]
     },
     "execution_count": 863,
     "metadata": {},
     "output_type": "execute_result"
    }
   ],
   "source": [
    "cv.vocabulary"
   ]
  },
  {
   "cell_type": "code",
   "execution_count": 864,
   "metadata": {
    "collapsed": false
   },
   "outputs": [
    {
     "name": "stdout",
     "output_type": "stream",
     "text": [
      "+--------------+--------------------+--------------------+\n",
      "|      category|     collected_words|            features|\n",
      "+--------------+--------------------+--------------------+\n",
      "|People & Blogs|[makeup, prefect�...|(237,[0,1,2,3,4,5...|\n",
      "+--------------+--------------------+--------------------+\n",
      "\n"
     ]
    }
   ],
   "source": [
    "cv_model.show()"
   ]
  },
  {
   "cell_type": "markdown",
   "metadata": {},
   "source": [
    "### Find the most commonly used words and their frequencies"
   ]
  },
  {
   "cell_type": "code",
   "execution_count": 865,
   "metadata": {
    "collapsed": false
   },
   "outputs": [
    {
     "data": {
      "text/plain": [
       "SparseVector(237, {0: 13.0, 1: 6.0, 2: 4.0, 3: 2.0, 4: 2.0, 5: 2.0, 6: 2.0, 7: 2.0, 8: 2.0, 9: 2.0, 10: 2.0, 11: 2.0, 12: 2.0, 13: 2.0, 14: 2.0, 15: 2.0, 16: 2.0, 17: 2.0, 18: 2.0, 19: 2.0, 20: 2.0, 21: 1.0, 22: 1.0, 23: 1.0, 24: 1.0, 25: 1.0, 26: 1.0, 27: 1.0, 28: 1.0, 29: 1.0, 30: 1.0, 31: 1.0, 32: 1.0, 33: 1.0, 34: 1.0, 35: 1.0, 36: 1.0, 37: 1.0, 38: 1.0, 39: 1.0, 40: 1.0, 41: 1.0, 42: 1.0, 43: 1.0, 44: 1.0, 45: 1.0, 46: 1.0, 47: 1.0, 48: 1.0, 49: 1.0, 50: 1.0, 51: 1.0, 52: 1.0, 53: 1.0, 54: 1.0, 55: 1.0, 56: 1.0, 57: 1.0, 58: 1.0, 59: 1.0, 60: 1.0, 61: 1.0, 62: 1.0, 63: 1.0, 64: 1.0, 65: 1.0, 66: 1.0, 67: 1.0, 68: 1.0, 69: 1.0, 70: 1.0, 71: 1.0, 72: 1.0, 73: 1.0, 74: 1.0, 75: 1.0, 76: 1.0, 77: 1.0, 78: 1.0, 79: 1.0, 80: 1.0, 81: 1.0, 82: 1.0, 83: 1.0, 84: 1.0, 85: 1.0, 86: 1.0, 87: 1.0, 88: 1.0, 89: 1.0, 90: 1.0, 91: 1.0, 92: 1.0, 93: 1.0, 94: 1.0, 95: 1.0, 96: 1.0, 97: 1.0, 98: 1.0, 99: 1.0, 100: 1.0, 101: 1.0, 102: 1.0, 103: 1.0, 104: 1.0, 105: 1.0, 106: 1.0, 107: 1.0, 108: 1.0, 109: 1.0, 110: 1.0, 111: 1.0, 112: 1.0, 113: 1.0, 114: 1.0, 115: 1.0, 116: 1.0, 117: 1.0, 118: 1.0, 119: 1.0, 120: 1.0, 121: 1.0, 122: 1.0, 123: 1.0, 124: 1.0, 125: 1.0, 126: 1.0, 127: 1.0, 128: 1.0, 129: 1.0, 130: 1.0, 131: 1.0, 132: 1.0, 133: 1.0, 134: 1.0, 135: 1.0, 136: 1.0, 137: 1.0, 138: 1.0, 139: 1.0, 140: 1.0, 141: 1.0, 142: 1.0, 143: 1.0, 144: 1.0, 145: 1.0, 146: 1.0, 147: 1.0, 148: 1.0, 149: 1.0, 150: 1.0, 151: 1.0, 152: 1.0, 153: 1.0, 154: 1.0, 155: 1.0, 156: 1.0, 157: 1.0, 158: 1.0, 159: 1.0, 160: 1.0, 161: 1.0, 162: 1.0, 163: 1.0, 164: 1.0, 165: 1.0, 166: 1.0, 167: 1.0, 168: 1.0, 169: 1.0, 170: 1.0, 171: 1.0, 172: 1.0, 173: 1.0, 174: 1.0, 175: 1.0, 176: 1.0, 177: 1.0, 178: 1.0, 179: 1.0, 180: 1.0, 181: 1.0, 182: 1.0, 183: 1.0, 184: 1.0, 185: 1.0, 186: 1.0, 187: 1.0, 188: 1.0, 189: 1.0, 190: 1.0, 191: 1.0, 192: 1.0, 193: 1.0, 194: 1.0, 195: 1.0, 196: 1.0, 197: 1.0, 198: 1.0, 199: 1.0, 200: 1.0, 201: 1.0, 202: 1.0, 203: 1.0, 204: 1.0, 205: 1.0, 206: 1.0, 207: 1.0, 208: 1.0, 209: 1.0, 210: 1.0, 211: 1.0, 212: 1.0, 213: 1.0, 214: 1.0, 215: 1.0, 216: 1.0, 217: 1.0, 218: 1.0, 219: 1.0, 220: 1.0, 221: 1.0, 222: 1.0, 223: 1.0, 224: 1.0, 225: 1.0, 226: 1.0, 227: 1.0, 228: 1.0, 229: 1.0, 230: 1.0, 231: 1.0, 232: 1.0, 233: 1.0, 234: 1.0, 235: 1.0, 236: 1.0})"
      ]
     },
     "execution_count": 865,
     "metadata": {},
     "output_type": "execute_result"
    }
   ],
   "source": [
    "top_words_vector = cv_model.select(\"features\").collect()[0][0]\n",
    "#first item in sparse vector is len, the rest are k/v pairs matching vocab words\n",
    "top_words_vector"
   ]
  },
  {
   "cell_type": "code",
   "execution_count": 866,
   "metadata": {
    "collapsed": false
   },
   "outputs": [
    {
     "data": {
      "text/plain": [
       "[u'', u'like', u'love']"
      ]
     },
     "execution_count": 866,
     "metadata": {},
     "output_type": "execute_result"
    }
   ],
   "source": [
    "cv.vocabulary[0:3]\n",
    "#for some reason, the ' sign was not considered in the StopWordsRemover, \n",
    "#could be changed in the future."
   ]
  },
  {
   "cell_type": "code",
   "execution_count": 896,
   "metadata": {
    "collapsed": false
   },
   "outputs": [
    {
     "name": "stdout",
     "output_type": "stream",
     "text": [
      "[u'like', u'love', u'kristen', u'ha', u'\\ufffd\\ufffd\\ufffd\\ufffd', u'marathon', u'lol', u'time', u'gorgeous', u'perfect', u'look', u'two', u'3', u'good', u'levi', u'strawbobbies', u'live', u'feel', u'oscar', u'makes']\n"
     ]
    }
   ],
   "source": [
    "#the next highest frequency is 2.0, which is a tie among many words\n",
    "key = cv.vocabulary[1:21]\n",
    "print(key)"
   ]
  },
  {
   "cell_type": "code",
   "execution_count": 895,
   "metadata": {
    "collapsed": false
   },
   "outputs": [
    {
     "name": "stdout",
     "output_type": "stream",
     "text": [
      "[ 6.  4.  2.  2.  2.  2.  2.  2.  2.  2.  2.  2.  2.  2.  2.  2.  2.  2.\n",
      "  2.  2.]\n"
     ]
    }
   ],
   "source": [
    "value = DenseVector(top_words_vector)[1:21]\n",
    "print(value)"
   ]
  },
  {
   "cell_type": "markdown",
   "metadata": {},
   "source": [
    "### As shown below, these are the most common words for females in \"People & Blogs\" and their respective frequencies. 'like' and 'love' appear six and four times respectively, and a few other words appear twice."
   ]
  },
  {
   "cell_type": "code",
   "execution_count": 897,
   "metadata": {
    "collapsed": false,
    "scrolled": true
   },
   "outputs": [
    {
     "name": "stdout",
     "output_type": "stream",
     "text": [
      "{u'perfect': 2.0, u'strawbobbies': 2.0, u'live': 2.0, u'good': 2.0, u'love': 4.0, u'like': 6.0, u'look': 2.0, u'feel': 2.0, u'oscar': 2.0, u'gorgeous': 2.0, u'two': 2.0, u'lol': 2.0, u'\\ufffd\\ufffd\\ufffd\\ufffd': 2.0, u'3': 2.0, u'levi': 2.0, u'time': 2.0, u'ha': 2.0, u'makes': 2.0, u'marathon': 2.0, u'kristen': 2.0}\n"
     ]
    }
   ],
   "source": [
    "top_words_frequency = dict(zip(key, value))\n",
    "print(top_words_frequency)"
   ]
  },
  {
   "cell_type": "markdown",
   "metadata": {},
   "source": [
    "## Question 5\n",
    "Compute the frequency of occurrence for each word, normalized by the total number of words for all gender / categories (call this f_all), as well as by the total number of words in each gender / category (call this f_gc). Compute the frequency ratio R = f_gc / f_all. Report the top 3 words ordering by R for gender='f' and category='People & Blogs' after imposing a minimum number of 5 overall occurrences (i.e. in all gender / categories)."
   ]
  },
  {
   "cell_type": "code",
   "execution_count": 972,
   "metadata": {
    "collapsed": false
   },
   "outputs": [
    {
     "name": "stdout",
     "output_type": "stream",
     "text": [
      "+------+----------------+--------------------+--------------------+\n",
      "|gender|        category|               words|      filtered_words|\n",
      "+------+----------------+--------------------+--------------------+\n",
      "|     m|           Music|[how, you, hug, a...|[hug, puppy, how���]|\n",
      "|     m|   Entertainment|             [first]|             [first]|\n",
      "|     m|   Entertainment|[i, bet, its, so,...|[bet, hot, right,...|\n",
      "|     m|          Gaming|[swindlewt, is, a...|[swindlewt, pirat...|\n",
      "|     m| News & Politics|[2:48, i'm, prett...|[248, pretty, sur...|\n",
      "|     f|   Entertainment|[alaric, pls, bab...|[alaric, pls, bab...|\n",
      "|     m|   Entertainment|              [best]|              [best]|\n",
      "|     m| News & Politics|[people, voting, ...|[people, voting, ...|\n",
      "|     m|   Entertainment|[dislike, nesse, ...|[dislike, nesse, ...|\n",
      "|     m|   Entertainment|[so, many, great,...|[many, great, lines]|\n",
      "|     m|   Entertainment|  [best, video, yet]|  [best, video, yet]|\n",
      "|     m|           Music|[do, an, angra, s...|[angra, song, ple...|\n",
      "|     m|          Gaming|               [meh]|               [meh]|\n",
      "|     m|Autos & Vehicles|[is, that, mike, ...|[mike, von, koeni...|\n",
      "|     m|          Gaming|[character, looks...|[character, looks...|\n",
      "|     m|           Music|[i, think, this, ...|[think, shit, cla...|\n",
      "|     m| News & Politics|[proof, of, resid...|[proof, residency...|\n",
      "|     m|   Entertainment|[i've, never, see...|[never, seen, mov...|\n",
      "|     m|   Entertainment|[written, by, don...|[written, donald,...|\n",
      "|     m|          Gaming|[why, isnt, this,...|  [isnt, lets, play]|\n",
      "+------+----------------+--------------------+--------------------+\n",
      "only showing top 20 rows\n",
      "\n"
     ]
    }
   ],
   "source": [
    "words_df.show()"
   ]
  },
  {
   "cell_type": "code",
   "execution_count": 973,
   "metadata": {
    "collapsed": false
   },
   "outputs": [],
   "source": [
    "#must occur in at least five categories\n",
    "CV = CountVectorizer(inputCol=\"filtered_words\", outputCol=\"features\", minDF=5.0).fit(words_df)\n",
    "CV_model = CV.transform(words_df)"
   ]
  },
  {
   "cell_type": "code",
   "execution_count": 974,
   "metadata": {
    "collapsed": false
   },
   "outputs": [
    {
     "name": "stdout",
     "output_type": "stream",
     "text": [
      "+------+----------------+--------------------+--------------------+--------------------+\n",
      "|gender|        category|               words|      filtered_words|            features|\n",
      "+------+----------------+--------------------+--------------------+--------------------+\n",
      "|     m|           Music|[how, you, hug, a...|[hug, puppy, how���]|         (221,[],[])|\n",
      "|     m|   Entertainment|             [first]|             [first]|    (221,[47],[1.0])|\n",
      "|     m|   Entertainment|[i, bet, its, so,...|[bet, hot, right,...|(221,[0,40,71,102...|\n",
      "|     m|          Gaming|[swindlewt, is, a...|[swindlewt, pirat...|(221,[0,86],[1.0,...|\n",
      "|     m| News & Politics|[2:48, i'm, prett...|[248, pretty, sur...|(221,[73,110],[1....|\n",
      "|     f|   Entertainment|[alaric, pls, bab...|[alaric, pls, bab...|   (221,[116],[1.0])|\n",
      "|     m|   Entertainment|              [best]|              [best]|    (221,[49],[1.0])|\n",
      "|     m| News & Politics|[people, voting, ...|[people, voting, ...|(221,[4,9,59],[1....|\n",
      "|     m|   Entertainment|[dislike, nesse, ...|[dislike, nesse, ...|         (221,[],[])|\n",
      "|     m|   Entertainment|[so, many, great,...|[many, great, lines]|(221,[31,65],[1.0...|\n",
      "|     m|   Entertainment|  [best, video, yet]|  [best, video, yet]|(221,[7,49],[1.0,...|\n",
      "|     m|           Music|[do, an, angra, s...|[angra, song, ple...|    (221,[68],[1.0])|\n",
      "|     m|          Gaming|               [meh]|               [meh]|         (221,[],[])|\n",
      "|     m|Autos & Vehicles|[is, that, mike, ...|[mike, von, koeni...|     (221,[5],[1.0])|\n",
      "|     m|          Gaming|[character, looks...|[character, looks...|(221,[0,11,209],[...|\n",
      "|     m|           Music|[i, think, this, ...|[think, shit, cla...|(221,[3,19,38,57]...|\n",
      "|     m| News & Politics|[proof, of, resid...|[proof, residency...|     (221,[3],[1.0])|\n",
      "|     m|   Entertainment|[i've, never, see...|[never, seen, mov...|(221,[12,33,48,17...|\n",
      "|     m|   Entertainment|[written, by, don...|[written, donald,...|         (221,[],[])|\n",
      "|     m|          Gaming|[why, isnt, this,...|  [isnt, lets, play]|    (221,[20],[1.0])|\n",
      "+------+----------------+--------------------+--------------------+--------------------+\n",
      "only showing top 20 rows\n",
      "\n"
     ]
    }
   ],
   "source": [
    "CV_model.show()"
   ]
  },
  {
   "cell_type": "code",
   "execution_count": 977,
   "metadata": {
    "collapsed": false
   },
   "outputs": [
    {
     "data": {
      "text/plain": [
       "[u'like', u'love', u'one', u'think', u'people']"
      ]
     },
     "execution_count": 977,
     "metadata": {},
     "output_type": "execute_result"
    }
   ],
   "source": [
    "CV.vocabulary[0:5] #sample of top words"
   ]
  },
  {
   "cell_type": "code",
   "execution_count": 939,
   "metadata": {
    "collapsed": false
   },
   "outputs": [
    {
     "name": "stdout",
     "output_type": "stream",
     "text": [
      "222\n"
     ]
    }
   ],
   "source": [
    "f_all = len(CV.vocabulary) #total number of words for all gender/categories\n",
    "print(f_all)"
   ]
  },
  {
   "cell_type": "code",
   "execution_count": 982,
   "metadata": {
    "collapsed": false
   },
   "outputs": [
    {
     "name": "stdout",
     "output_type": "stream",
     "text": [
      "+--------------+--------------------+\n",
      "|      category|     collected_words|\n",
      "+--------------+--------------------+\n",
      "|People & Blogs|[makeup, prefect�...|\n",
      "+--------------+--------------------+\n",
      "\n"
     ]
    }
   ],
   "source": [
    "female_words = CV_model.filter((CV_model[\"gender\"]=='f') & (CV_model[\"category\"]=='People & Blogs')) \\\n",
    ".groupby(\"category\").agg(func.collect_list(\"filtered_words\") \\\n",
    ".alias(\"collected_words\")) \\\n",
    ".withColumn(\"collected_words\", list_joinUDF(\"collected_words\"))\n",
    "female_words.show()"
   ]
  },
  {
   "cell_type": "code",
   "execution_count": 994,
   "metadata": {
    "collapsed": false
   },
   "outputs": [],
   "source": [
    "CV_peopleblog = CountVectorizer(inputCol=\"collected_words\", outputCol=\"features\").fit(female_words)\n",
    "CV_peopleblog_model = CV_female.transform(female_words)"
   ]
  },
  {
   "cell_type": "code",
   "execution_count": 995,
   "metadata": {
    "collapsed": false
   },
   "outputs": [
    {
     "name": "stdout",
     "output_type": "stream",
     "text": [
      "+--------------+--------------------+--------------------+\n",
      "|      category|     collected_words|            features|\n",
      "+--------------+--------------------+--------------------+\n",
      "|People & Blogs|[makeup, prefect�...|(236,[0,1,2,3,4,5...|\n",
      "+--------------+--------------------+--------------------+\n",
      "\n"
     ]
    }
   ],
   "source": [
    "CV_peopleblog_model.show()"
   ]
  },
  {
   "cell_type": "code",
   "execution_count": 1042,
   "metadata": {
    "collapsed": false
   },
   "outputs": [
    {
     "data": {
      "text/plain": [
       "[u'like', u'love', u'kristen']"
      ]
     },
     "execution_count": 1042,
     "metadata": {},
     "output_type": "execute_result"
    }
   ],
   "source": [
    "CV_peopleblog.vocabulary[:3]"
   ]
  },
  {
   "cell_type": "code",
   "execution_count": 1037,
   "metadata": {
    "collapsed": false
   },
   "outputs": [],
   "source": [
    "word_freq = DenseVector(CV_peopleblog_model.select(\"features\").collect()[0][0])"
   ]
  },
  {
   "cell_type": "code",
   "execution_count": 1038,
   "metadata": {
    "collapsed": false
   },
   "outputs": [
    {
     "data": {
      "text/plain": [
       "DenseVector([6.0, 4.0, 2.0, 2.0, 2.0, 2.0, 2.0, 2.0, 2.0, 2.0, 2.0, 2.0, 2.0, 2.0, 2.0, 2.0, 2.0, 2.0, 2.0, 2.0, 1.0, 1.0, 1.0, 1.0, 1.0, 1.0, 1.0, 1.0, 1.0, 1.0, 1.0, 1.0, 1.0, 1.0, 1.0, 1.0, 1.0, 1.0, 1.0, 1.0, 1.0, 1.0, 1.0, 1.0, 1.0, 1.0, 1.0, 1.0, 1.0, 1.0, 1.0, 1.0, 1.0, 1.0, 1.0, 1.0, 1.0, 1.0, 1.0, 1.0, 1.0, 1.0, 1.0, 1.0, 1.0, 1.0, 1.0, 1.0, 1.0, 1.0, 1.0, 1.0, 1.0, 1.0, 1.0, 1.0, 1.0, 1.0, 1.0, 1.0, 1.0, 1.0, 1.0, 1.0, 1.0, 1.0, 1.0, 1.0, 1.0, 1.0, 1.0, 1.0, 1.0, 1.0, 1.0, 1.0, 1.0, 1.0, 1.0, 1.0, 1.0, 1.0, 1.0, 1.0, 1.0, 1.0, 1.0, 1.0, 1.0, 1.0, 1.0, 1.0, 1.0, 1.0, 1.0, 1.0, 1.0, 1.0, 1.0, 1.0, 1.0, 1.0, 1.0, 1.0, 1.0, 1.0, 1.0, 1.0, 1.0, 1.0, 1.0, 1.0, 1.0, 1.0, 1.0, 1.0, 1.0, 1.0, 1.0, 1.0, 1.0, 1.0, 1.0, 1.0, 1.0, 1.0, 1.0, 1.0, 1.0, 1.0, 1.0, 1.0, 1.0, 1.0, 1.0, 1.0, 1.0, 1.0, 1.0, 1.0, 1.0, 1.0, 1.0, 1.0, 1.0, 1.0, 1.0, 1.0, 1.0, 1.0, 1.0, 1.0, 1.0, 1.0, 1.0, 1.0, 1.0, 1.0, 1.0, 1.0, 1.0, 1.0, 1.0, 1.0, 1.0, 1.0, 1.0, 1.0, 1.0, 1.0, 1.0, 1.0, 1.0, 1.0, 1.0, 1.0, 1.0, 1.0, 1.0, 1.0, 1.0, 1.0, 1.0, 1.0, 1.0, 1.0, 1.0, 1.0, 1.0, 1.0, 1.0, 1.0, 1.0, 1.0, 1.0, 1.0, 1.0, 1.0, 1.0, 1.0, 1.0, 1.0, 1.0, 1.0, 1.0, 1.0, 1.0, 1.0, 1.0, 1.0, 1.0, 1.0, 1.0, 1.0, 1.0, 1.0])"
      ]
     },
     "execution_count": 1038,
     "metadata": {},
     "output_type": "execute_result"
    }
   ],
   "source": [
    "word_freq"
   ]
  },
  {
   "cell_type": "code",
   "execution_count": 1018,
   "metadata": {
    "collapsed": false
   },
   "outputs": [
    {
     "name": "stdout",
     "output_type": "stream",
     "text": [
      "75\n"
     ]
    }
   ],
   "source": [
    "f_gc = set(CV_peopleblog.vocabulary) & set(CV.vocabulary)\n",
    "#this is the number of words in People & Blogs that also satisfy the minDF==5 across all gender/categories.\n",
    "print(len(f_gc))"
   ]
  },
  {
   "cell_type": "markdown",
   "metadata": {},
   "source": [
    "### R-value for female / People & Blogs"
   ]
  },
  {
   "cell_type": "code",
   "execution_count": 1030,
   "metadata": {
    "collapsed": false
   },
   "outputs": [
    {
     "name": "stdout",
     "output_type": "stream",
     "text": [
      "R-value for female / People & Blogs: 0.337837837838\n"
     ]
    }
   ],
   "source": [
    "R = float(len(f_gc)) / f_all\n",
    "print('R-value for female / People & Blogs: ' + str(R))"
   ]
  },
  {
   "cell_type": "code",
   "execution_count": 1015,
   "metadata": {
    "collapsed": false
   },
   "outputs": [],
   "source": [
    "words_dict = dict(zip(CV_peopleblog.vocabulary, word_freq))\n",
    "#find the frequency of the word by providing the word"
   ]
  },
  {
   "cell_type": "code",
   "execution_count": 1092,
   "metadata": {
    "collapsed": false
   },
   "outputs": [],
   "source": [
    "def top_3_words(category_vocab, shared_vocab, num_words):\n",
    "    answer = []\n",
    "    for word in category_vocab:\n",
    "        if word in shared_vocab and len(answer) < num_words:\n",
    "            answer.append(word)\n",
    "    return answer"
   ]
  },
  {
   "cell_type": "code",
   "execution_count": 1093,
   "metadata": {
    "collapsed": false
   },
   "outputs": [
    {
     "name": "stdout",
     "output_type": "stream",
     "text": [
      "[u'like', u'love', u'\\ufffd\\ufffd\\ufffd\\ufffd']\n",
      "[u'like', u'love', u'\\ufffd\\ufffd\\ufffd\\ufffd', u'lol']\n"
     ]
    }
   ],
   "source": [
    "item = top_3_words(CV_peopleblog.vocabulary, f_gc, 3)\n",
    "item2 = top_3_words(CV_peopleblog.vocabulary, f_gc, 4)\n",
    "\n",
    "print(item)\n",
    "print(item2)"
   ]
  },
  {
   "cell_type": "markdown",
   "metadata": {},
   "source": [
    "### TODO: Make unicode conversion, but for now the top 3 words are like, love, and lol"
   ]
  },
  {
   "cell_type": "code",
   "execution_count": 1102,
   "metadata": {
    "collapsed": false
   },
   "outputs": [
    {
     "name": "stdout",
     "output_type": "stream",
     "text": [
      "like: 6.0\n",
      "love: 4.0\n",
      "lol: 2.0\n"
     ]
    }
   ],
   "source": [
    "top_3 = ['like', 'love', 'lol']\n",
    "def print_top_3(top_3):\n",
    "    for word in top_3:\n",
    "        print word + ': ' + str(words_dict[word])\n",
    "print_top_3(top_3)"
   ]
  }
 ],
 "metadata": {
  "anaconda-cloud": {},
  "kernelspec": {
   "display_name": "Python [conda root]",
   "language": "python",
   "name": "conda-root-py"
  },
  "language_info": {
   "codemirror_mode": {
    "name": "ipython",
    "version": 2
   },
   "file_extension": ".py",
   "mimetype": "text/x-python",
   "name": "python",
   "nbconvert_exporter": "python",
   "pygments_lexer": "ipython2",
   "version": "2.7.12"
  }
 },
 "nbformat": 4,
 "nbformat_minor": 1
}
